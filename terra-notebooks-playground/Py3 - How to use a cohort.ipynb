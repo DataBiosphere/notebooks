{
 "cells": [
  {
   "cell_type": "markdown",
   "metadata": {},
   "source": [
    "# How to use a cohort\n",
    "\n",
    "This notebook shows how to use a cohort saved from Data Explorer.\n",
    "\n",
    "It uses a cohort saved in the [Terra Notebooks Playground workspace](https://app.terra.bio/#workspaces/help-gatk/Terra%20Notebooks%20Playground/data)."
   ]
  },
  {
   "cell_type": "markdown",
   "metadata": {},
   "source": [
    "## Setup\n",
    "\n",
    "First, be sure to run notebook **`Python environment setup`** in this workspace.\n",
    "\n",
    "Then in this section we:\n",
    "\n",
    "1. load the needed python packages\n",
    "2. set the project id of the cloud project to bill for queries to BigQuery"
   ]
  },
  {
   "cell_type": "code",
   "execution_count": 4,
   "metadata": {},
   "outputs": [],
   "source": [
    "import os\n",
    "\n",
    "import pandas as pd\n",
    "import firecloud.api as fapi"
   ]
  },
  {
   "cell_type": "code",
   "execution_count": 7,
   "metadata": {},
   "outputs": [],
   "source": [
    "BILLING_PROJECT_ID = os.environ['GOOGLE_PROJECT']"
   ]
  },
  {
   "cell_type": "markdown",
   "metadata": {},
   "source": [
    "## Retrieve cohort SQL query"
   ]
  },
  {
   "cell_type": "code",
   "execution_count": 8,
   "metadata": {},
   "outputs": [
    {
     "data": {
      "text/plain": [
       "'SELECT DISTINCT t1.participant_id FROM (SELECT participant_id FROM `verily-public-data.human_genome_variants.1000_genomes_participant_info` WHERE  ((Super_Population_Description = \"American\"))) t1'"
      ]
     },
     "execution_count": 8,
     "metadata": {},
     "output_type": "execute_result"
    }
   ],
   "source": [
    "# Hard-code instead of use WORKSPACE_NAMESPACE/WORKSPACE_NAME, since other workspaces\n",
    "# won't have the 1000g_americans cohort.\n",
    "ws_namespace = 'help-gatk'\n",
    "ws_name = 'Terra Notebooks Playground'\n",
    "cohort_query = fapi.get_entity(ws_namespace, ws_name, 'cohort', '1000g_americans').json()['attributes']['query']\n",
    "cohort_query"
   ]
  },
  {
   "cell_type": "markdown",
   "metadata": {},
   "source": [
    "## Create pandas dataframe of cohort participant ids"
   ]
  },
  {
   "cell_type": "code",
   "execution_count": 9,
   "metadata": {},
   "outputs": [
    {
     "data": {
      "text/html": [
       "<div>\n",
       "<style scoped>\n",
       "    .dataframe tbody tr th:only-of-type {\n",
       "        vertical-align: middle;\n",
       "    }\n",
       "\n",
       "    .dataframe tbody tr th {\n",
       "        vertical-align: top;\n",
       "    }\n",
       "\n",
       "    .dataframe thead th {\n",
       "        text-align: right;\n",
       "    }\n",
       "</style>\n",
       "<table border=\"1\" class=\"dataframe\">\n",
       "  <thead>\n",
       "    <tr style=\"text-align: right;\">\n",
       "      <th></th>\n",
       "      <th>participant_id</th>\n",
       "    </tr>\n",
       "  </thead>\n",
       "  <tbody>\n",
       "    <tr>\n",
       "      <th>0</th>\n",
       "      <td>HG01433</td>\n",
       "    </tr>\n",
       "    <tr>\n",
       "      <th>1</th>\n",
       "      <td>HG01445</td>\n",
       "    </tr>\n",
       "    <tr>\n",
       "      <th>2</th>\n",
       "      <td>HG01452</td>\n",
       "    </tr>\n",
       "    <tr>\n",
       "      <th>3</th>\n",
       "      <td>HG01473</td>\n",
       "    </tr>\n",
       "    <tr>\n",
       "      <th>4</th>\n",
       "      <td>HG01482</td>\n",
       "    </tr>\n",
       "  </tbody>\n",
       "</table>\n",
       "</div>"
      ],
      "text/plain": [
       "  participant_id\n",
       "0        HG01433\n",
       "1        HG01445\n",
       "2        HG01452\n",
       "3        HG01473\n",
       "4        HG01482"
      ]
     },
     "execution_count": 9,
     "metadata": {},
     "output_type": "execute_result"
    }
   ],
   "source": [
    "participant_ids = pd.read_gbq(\n",
    "    cohort_query,\n",
    "    dialect='standard')\n",
    "participant_ids.head()"
   ]
  },
  {
   "cell_type": "markdown",
   "metadata": {},
   "source": [
    "## See what tables are available to join against"
   ]
  },
  {
   "cell_type": "code",
   "execution_count": 12,
   "metadata": {},
   "outputs": [
    {
     "data": {
      "text/plain": [
       "['verily-public-data.human_genome_variants.1000_genomes_participant_info',\n",
       " 'verily-public-data.human_genome_variants.1000_genomes_sample_info']"
      ]
     },
     "execution_count": 12,
     "metadata": {},
     "output_type": "execute_result"
    }
   ],
   "source": [
    "bq_table_entities = fapi.get_entities(ws_namespace, ws_name, 'BigQuery_table').json()\n",
    "bq_tables = list(map(lambda e: e['attributes']['table_name'], bq_table_entities))\n",
    "bq_tables"
   ]
  },
  {
   "cell_type": "markdown",
   "metadata": {},
   "source": [
    "## Join cohort participant ids against sample_info table"
   ]
  },
  {
   "cell_type": "code",
   "execution_count": 13,
   "metadata": {},
   "outputs": [
    {
     "name": "stdout",
     "output_type": "stream",
     "text": [
      "sample_info has 3500 rows\n",
      "sample_info_americans has 1092 rows\n",
      "\n"
     ]
    },
    {
     "data": {
      "text/html": [
       "<div>\n",
       "<style scoped>\n",
       "    .dataframe tbody tr th:only-of-type {\n",
       "        vertical-align: middle;\n",
       "    }\n",
       "\n",
       "    .dataframe tbody tr th {\n",
       "        vertical-align: top;\n",
       "    }\n",
       "\n",
       "    .dataframe thead th {\n",
       "        text-align: right;\n",
       "    }\n",
       "</style>\n",
       "<table border=\"1\" class=\"dataframe\">\n",
       "  <thead>\n",
       "    <tr style=\"text-align: right;\">\n",
       "      <th></th>\n",
       "      <th>participant_id_L</th>\n",
       "      <th>sample_id</th>\n",
       "      <th>participant_id_R</th>\n",
       "      <th>In_Low_Coverage_Pilot</th>\n",
       "      <th>LC_Pilot_Platforms</th>\n",
       "      <th>LC_Pilot_Centers</th>\n",
       "      <th>In_High_Coverage_Pilot</th>\n",
       "      <th>HC_Pilot_Platforms</th>\n",
       "      <th>HC_Pilot_Centers</th>\n",
       "      <th>In_Exon_Targetted_Pilot</th>\n",
       "      <th>...</th>\n",
       "      <th>exome_mapped_cram</th>\n",
       "      <th>exome_mapped_crai</th>\n",
       "      <th>exome_mapped_csra</th>\n",
       "      <th>exome_unmapped_bam</th>\n",
       "      <th>exome_unmapped_bai</th>\n",
       "      <th>exome_unmapped_bas</th>\n",
       "      <th>wgs_high_cov_bam</th>\n",
       "      <th>wgs_high_cov_bai</th>\n",
       "      <th>wgs_high_cov_cram</th>\n",
       "      <th>wgs_high_cov_crai</th>\n",
       "    </tr>\n",
       "  </thead>\n",
       "  <tbody>\n",
       "    <tr>\n",
       "      <th>0</th>\n",
       "      <td>HG01433</td>\n",
       "      <td>HG00144</td>\n",
       "      <td>HG00144</td>\n",
       "      <td>None</td>\n",
       "      <td>None</td>\n",
       "      <td>None</td>\n",
       "      <td>None</td>\n",
       "      <td>None</td>\n",
       "      <td>None</td>\n",
       "      <td>None</td>\n",
       "      <td>...</td>\n",
       "      <td>None</td>\n",
       "      <td>None</td>\n",
       "      <td>None</td>\n",
       "      <td>None</td>\n",
       "      <td>None</td>\n",
       "      <td>None</td>\n",
       "      <td>None</td>\n",
       "      <td>None</td>\n",
       "      <td>None</td>\n",
       "      <td>None</td>\n",
       "    </tr>\n",
       "    <tr>\n",
       "      <th>0</th>\n",
       "      <td>HG01433</td>\n",
       "      <td>NA20287</td>\n",
       "      <td>NA20287</td>\n",
       "      <td>None</td>\n",
       "      <td>None</td>\n",
       "      <td>None</td>\n",
       "      <td>None</td>\n",
       "      <td>None</td>\n",
       "      <td>None</td>\n",
       "      <td>None</td>\n",
       "      <td>...</td>\n",
       "      <td>gs://genomics-public-data/ftp-trace.ncbi.nih.g...</td>\n",
       "      <td>gs://genomics-public-data/ftp-trace.ncbi.nih.g...</td>\n",
       "      <td>gs://genomics-public-data/ftp-trace.ncbi.nih.g...</td>\n",
       "      <td>gs://genomics-public-data/ftp-trace.ncbi.nih.g...</td>\n",
       "      <td>gs://genomics-public-data/ftp-trace.ncbi.nih.g...</td>\n",
       "      <td>gs://genomics-public-data/ftp-trace.ncbi.nih.g...</td>\n",
       "      <td>None</td>\n",
       "      <td>None</td>\n",
       "      <td>None</td>\n",
       "      <td>None</td>\n",
       "    </tr>\n",
       "    <tr>\n",
       "      <th>0</th>\n",
       "      <td>HG01433</td>\n",
       "      <td>NA11994</td>\n",
       "      <td>NA11994</td>\n",
       "      <td>True</td>\n",
       "      <td>ABI_SOLID,ILLUMINA</td>\n",
       "      <td>BCM,BI</td>\n",
       "      <td>None</td>\n",
       "      <td>None</td>\n",
       "      <td>None</td>\n",
       "      <td>True</td>\n",
       "      <td>...</td>\n",
       "      <td>gs://genomics-public-data/ftp-trace.ncbi.nih.g...</td>\n",
       "      <td>gs://genomics-public-data/ftp-trace.ncbi.nih.g...</td>\n",
       "      <td>None</td>\n",
       "      <td>gs://genomics-public-data/ftp-trace.ncbi.nih.g...</td>\n",
       "      <td>gs://genomics-public-data/ftp-trace.ncbi.nih.g...</td>\n",
       "      <td>gs://genomics-public-data/ftp-trace.ncbi.nih.g...</td>\n",
       "      <td>None</td>\n",
       "      <td>None</td>\n",
       "      <td>None</td>\n",
       "      <td>None</td>\n",
       "    </tr>\n",
       "    <tr>\n",
       "      <th>1</th>\n",
       "      <td>HG01445</td>\n",
       "      <td>HG00147</td>\n",
       "      <td>HG00147</td>\n",
       "      <td>None</td>\n",
       "      <td>None</td>\n",
       "      <td>None</td>\n",
       "      <td>None</td>\n",
       "      <td>None</td>\n",
       "      <td>None</td>\n",
       "      <td>None</td>\n",
       "      <td>...</td>\n",
       "      <td>None</td>\n",
       "      <td>None</td>\n",
       "      <td>None</td>\n",
       "      <td>None</td>\n",
       "      <td>None</td>\n",
       "      <td>None</td>\n",
       "      <td>None</td>\n",
       "      <td>None</td>\n",
       "      <td>None</td>\n",
       "      <td>None</td>\n",
       "    </tr>\n",
       "    <tr>\n",
       "      <th>1</th>\n",
       "      <td>HG01445</td>\n",
       "      <td>NA20289</td>\n",
       "      <td>NA20289</td>\n",
       "      <td>None</td>\n",
       "      <td>None</td>\n",
       "      <td>None</td>\n",
       "      <td>None</td>\n",
       "      <td>None</td>\n",
       "      <td>None</td>\n",
       "      <td>None</td>\n",
       "      <td>...</td>\n",
       "      <td>gs://genomics-public-data/ftp-trace.ncbi.nih.g...</td>\n",
       "      <td>gs://genomics-public-data/ftp-trace.ncbi.nih.g...</td>\n",
       "      <td>gs://genomics-public-data/ftp-trace.ncbi.nih.g...</td>\n",
       "      <td>gs://genomics-public-data/ftp-trace.ncbi.nih.g...</td>\n",
       "      <td>gs://genomics-public-data/ftp-trace.ncbi.nih.g...</td>\n",
       "      <td>gs://genomics-public-data/ftp-trace.ncbi.nih.g...</td>\n",
       "      <td>None</td>\n",
       "      <td>None</td>\n",
       "      <td>None</td>\n",
       "      <td>None</td>\n",
       "    </tr>\n",
       "  </tbody>\n",
       "</table>\n",
       "<p>5 rows × 107 columns</p>\n",
       "</div>"
      ],
      "text/plain": [
       "  participant_id_L sample_id participant_id_R In_Low_Coverage_Pilot  \\\n",
       "0          HG01433   HG00144          HG00144                  None   \n",
       "0          HG01433   NA20287          NA20287                  None   \n",
       "0          HG01433   NA11994          NA11994                  True   \n",
       "1          HG01445   HG00147          HG00147                  None   \n",
       "1          HG01445   NA20289          NA20289                  None   \n",
       "\n",
       "   LC_Pilot_Platforms LC_Pilot_Centers In_High_Coverage_Pilot  \\\n",
       "0                None             None                   None   \n",
       "0                None             None                   None   \n",
       "0  ABI_SOLID,ILLUMINA           BCM,BI                   None   \n",
       "1                None             None                   None   \n",
       "1                None             None                   None   \n",
       "\n",
       "  HC_Pilot_Platforms HC_Pilot_Centers In_Exon_Targetted_Pilot  ...  \\\n",
       "0               None             None                    None  ...   \n",
       "0               None             None                    None  ...   \n",
       "0               None             None                    True  ...   \n",
       "1               None             None                    None  ...   \n",
       "1               None             None                    None  ...   \n",
       "\n",
       "                                   exome_mapped_cram  \\\n",
       "0                                               None   \n",
       "0  gs://genomics-public-data/ftp-trace.ncbi.nih.g...   \n",
       "0  gs://genomics-public-data/ftp-trace.ncbi.nih.g...   \n",
       "1                                               None   \n",
       "1  gs://genomics-public-data/ftp-trace.ncbi.nih.g...   \n",
       "\n",
       "                                   exome_mapped_crai  \\\n",
       "0                                               None   \n",
       "0  gs://genomics-public-data/ftp-trace.ncbi.nih.g...   \n",
       "0  gs://genomics-public-data/ftp-trace.ncbi.nih.g...   \n",
       "1                                               None   \n",
       "1  gs://genomics-public-data/ftp-trace.ncbi.nih.g...   \n",
       "\n",
       "                                   exome_mapped_csra  \\\n",
       "0                                               None   \n",
       "0  gs://genomics-public-data/ftp-trace.ncbi.nih.g...   \n",
       "0                                               None   \n",
       "1                                               None   \n",
       "1  gs://genomics-public-data/ftp-trace.ncbi.nih.g...   \n",
       "\n",
       "                                  exome_unmapped_bam  \\\n",
       "0                                               None   \n",
       "0  gs://genomics-public-data/ftp-trace.ncbi.nih.g...   \n",
       "0  gs://genomics-public-data/ftp-trace.ncbi.nih.g...   \n",
       "1                                               None   \n",
       "1  gs://genomics-public-data/ftp-trace.ncbi.nih.g...   \n",
       "\n",
       "                                  exome_unmapped_bai  \\\n",
       "0                                               None   \n",
       "0  gs://genomics-public-data/ftp-trace.ncbi.nih.g...   \n",
       "0  gs://genomics-public-data/ftp-trace.ncbi.nih.g...   \n",
       "1                                               None   \n",
       "1  gs://genomics-public-data/ftp-trace.ncbi.nih.g...   \n",
       "\n",
       "                                  exome_unmapped_bas wgs_high_cov_bam  \\\n",
       "0                                               None             None   \n",
       "0  gs://genomics-public-data/ftp-trace.ncbi.nih.g...             None   \n",
       "0  gs://genomics-public-data/ftp-trace.ncbi.nih.g...             None   \n",
       "1                                               None             None   \n",
       "1  gs://genomics-public-data/ftp-trace.ncbi.nih.g...             None   \n",
       "\n",
       "  wgs_high_cov_bai wgs_high_cov_cram wgs_high_cov_crai  \n",
       "0             None              None              None  \n",
       "0             None              None              None  \n",
       "0             None              None              None  \n",
       "1             None              None              None  \n",
       "1             None              None              None  \n",
       "\n",
       "[5 rows x 107 columns]"
      ]
     },
     "execution_count": 13,
     "metadata": {},
     "output_type": "execute_result"
    }
   ],
   "source": [
    "sample_info = pd.read_gbq(\"SELECT * FROM `verily-public-data.human_genome_variants.1000_genomes_sample_info`\",\n",
    "                          dialect=\"standard\")\n",
    "print(\"sample_info has %d rows\" % len(sample_info.index))\n",
    "\n",
    "sample_info_americans = participant_ids.join(sample_info, lsuffix='_L', rsuffix='_R')\n",
    "print(\"sample_info_americans has %d rows\\n\" % len(sample_info_americans.index))\n",
    "\n",
    "sample_info_americans.head()"
   ]
  },
  {
   "cell_type": "markdown",
   "metadata": {},
   "source": [
    "# Provenance"
   ]
  },
  {
   "cell_type": "code",
   "execution_count": null,
   "metadata": {},
   "outputs": [],
   "source": [
    "import datetime\n",
    "print(datetime.datetime.now())\n",
    "!pip3 freeze"
   ]
  },
  {
   "cell_type": "markdown",
   "metadata": {},
   "source": [
    "Copyright 2019 The Broad Institute, Inc., Verily Life Sciences, LLC All rights reserved.\n",
    "\n",
    "This software may be modified and distributed under the terms of the BSD license. See the LICENSE file for details."
   ]
  }
 ],
 "metadata": {
  "kernelspec": {
   "display_name": "Python 3",
   "language": "python",
   "name": "python3"
  },
  "language_info": {
   "codemirror_mode": {
    "name": "ipython",
    "version": 3
   },
   "file_extension": ".py",
   "mimetype": "text/x-python",
   "name": "python",
   "nbconvert_exporter": "python",
   "pygments_lexer": "ipython3",
   "version": "3.6.8"
  },
  "toc": {
   "base_numbering": 1,
   "nav_menu": {},
   "number_sections": true,
   "sideBar": true,
   "skip_h1_title": false,
   "title_cell": "Table of Contents",
   "title_sidebar": "Contents",
   "toc_cell": false,
   "toc_position": {},
   "toc_section_display": true,
   "toc_window_display": false
  }
 },
 "nbformat": 4,
 "nbformat_minor": 2
}
