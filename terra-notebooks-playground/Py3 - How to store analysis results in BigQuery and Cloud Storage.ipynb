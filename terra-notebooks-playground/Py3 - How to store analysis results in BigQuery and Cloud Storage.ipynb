{
 "cells": [
  {
   "cell_type": "markdown",
   "metadata": {},
   "source": [
    "# How to store analysis results in BigQuery and Cloud Storage\n",
    "\n",
    "In this notebook we use public data to perform a simplistic analysis, storing the resulting image file of the plot to Cloud Storage and derivied data as a BigQuery table.\n",
    "\n",
    "<div class=\"alert alert-block alert-info\">\n",
    "<b>Tip:</b> See also the companion Terra Support article <a href='https://support.terra.bio/hc/en-us/articles/360051229072-Accessing-Advanced-GCP-features-in-Terra'>Accessing Advanced GCP features in Terra</a>.\n",
    "</div>"
   ]
  },
  {
   "cell_type": "markdown",
   "metadata": {},
   "source": [
    "# Setup\n",
    "\n",
    "Edit the global variables in your clone of this notebook to refer to a native Google Cloud Platform project to which you have WRITE acces.\n",
    "* **The destination Cloud Storage bucket should already exist. Your pet account must have WRITE access to it.**       \n",
    "[**Click for step-by-step instructions to create a bucket**](https://support.terra.bio/hc/en-us/articles/360051229072#h_01ENRE43JJYSFHNDC02YGWFYWJ)     \n",
    "\n",
    "* **The destination BigQuery dataset should already exist. Your pet account must have WRITE access to it.**       \n",
    "[**Click for step-by-step instructions to create a BQ dataset**](https://support.terra.bio/hc/en-us/articles/360051229072#h_01EPCCS08S69VE4VMT0F0NNDWR)     \n",
    "\n",
    "* Make sure to change to your own project, bucket, and dataset names. The remaining cells can be run as-is."
   ]
  },
  {
   "cell_type": "code",
   "execution_count": 1,
   "metadata": {},
   "outputs": [],
   "source": [
    "import os\n",
    "import pandas as pd\n",
    "import plotnine\n",
    "from plotnine import *\n",
    "import tensorflow as tf\n",
    "import time"
   ]
  },
  {
   "cell_type": "code",
   "execution_count": 2,
   "metadata": {},
   "outputs": [],
   "source": [
    "# Set a default plot size.\n",
    "plotnine.options.figure_size = (10, 6)"
   ]
  },
  {
   "cell_type": "markdown",
   "metadata": {},
   "source": [
    "**Note that you will need to change the variables below to your own values** (expand the tips if you need help finding the variables)"
   ]
  },
  {
   "cell_type": "code",
   "execution_count": 3,
   "metadata": {},
   "outputs": [],
   "source": [
    "# CHANGE THESE VARIABLES\n",
    "PROJECT_ID = 'your_GCP-native_project_ID'\n",
    "BUCKET = 'gs://your-bucket'\n",
    "BQ_DATASET = 'your_BQ_dataset'"
   ]
  },
  {
   "cell_type": "markdown",
   "metadata": {
    "heading_collapsed": true
   },
   "source": [
    "### <font color=\"#FF6600\">(expand for tip) </font> <font color=\"#445555\">How to find your cloud-native project-ID</font><a class=\"tocSkip\">"
   ]
  },
  {
   "cell_type": "markdown",
   "metadata": {
    "hidden": true
   },
   "source": [
    "When logged in with your Terra user-ID, go to billing in the GCP console at [https://console.cloud.google.com/billing](https://console.cloud.google.com/billing)     \n",
    "![finding project ID screen shot](https://storage.googleapis.com/terra-featured-workspaces/QuickStart/Advanced-GCP-features_Find-Project-ID_Step1_Screen%20shot.png)\n",
    "\n",
    "1. Select the Organization you used when creating your cloud-native project    \n",
    "2. Find the Project ID at right  "
   ]
  },
  {
   "cell_type": "markdown",
   "metadata": {
    "heading_collapsed": true
   },
   "source": [
    "### <font color=\"#FF6600\">(expand for tip) </font> <font color=\"#445555\">How to find your cloud-native BigQuery dataset</font><a class=\"tocSkip\">"
   ]
  },
  {
   "cell_type": "markdown",
   "metadata": {
    "hidden": true
   },
   "source": [
    "Go to [https://console.cloud.google.com/bigquery](https://console.cloud.google.com/bigquery)   \n",
    "\n",
    "On the left column, select your cloud-native Project from the drop-down. You should see your BQ dataset listed:   \n",
    "\n",
    "![Find BQ dataset Screen shiot](https://storage.googleapis.com/terra-featured-workspaces/QuickStart/Advanced-GCP-features_Find-BQ-dataset-name_Screen%20shot.png)"
   ]
  },
  {
   "cell_type": "markdown",
   "metadata": {},
   "source": [
    "# Analyze public data\n",
    "\n",
    "## Load data from BigQuery"
   ]
  },
  {
   "cell_type": "code",
   "execution_count": 5,
   "metadata": {},
   "outputs": [
    {
     "data": {
      "text/plain": [
       "(3500, 62)"
      ]
     },
     "execution_count": 5,
     "metadata": {},
     "output_type": "execute_result"
    }
   ],
   "source": [
    "df = pd.io.gbq.read_gbq('''\n",
    "  SELECT\n",
    "    *\n",
    "  FROM\n",
    "    `genomics-public-data.1000_genomes.sample_info`\n",
    "''')\n",
    "\n",
    "df.shape"
   ]
  },
  {
   "cell_type": "code",
   "execution_count": 6,
   "metadata": {},
   "outputs": [
    {
     "data": {
      "text/html": [
       "<div>\n",
       "<style scoped>\n",
       "    .dataframe tbody tr th:only-of-type {\n",
       "        vertical-align: middle;\n",
       "    }\n",
       "\n",
       "    .dataframe tbody tr th {\n",
       "        vertical-align: top;\n",
       "    }\n",
       "\n",
       "    .dataframe thead th {\n",
       "        text-align: right;\n",
       "    }\n",
       "</style>\n",
       "<table border=\"1\" class=\"dataframe\">\n",
       "  <thead>\n",
       "    <tr style=\"text-align: right;\">\n",
       "      <th></th>\n",
       "      <th>Sample</th>\n",
       "      <th>Family_ID</th>\n",
       "      <th>Population</th>\n",
       "      <th>Population_Description</th>\n",
       "      <th>Gender</th>\n",
       "      <th>Relationship</th>\n",
       "      <th>Unexpected_Parent_Child</th>\n",
       "      <th>Non_Paternity</th>\n",
       "      <th>Siblings</th>\n",
       "      <th>Grandparents</th>\n",
       "      <th>...</th>\n",
       "      <th>In_Final_Phase_Variant_Calling</th>\n",
       "      <th>Has_Omni_Genotypes</th>\n",
       "      <th>Has_Axiom_Genotypes</th>\n",
       "      <th>Has_Affy_6_0_Genotypes</th>\n",
       "      <th>Has_Exome_LOF_Genotypes</th>\n",
       "      <th>EBV_Coverage</th>\n",
       "      <th>DNA_Source_from_Coriell</th>\n",
       "      <th>Has_Sequence_from_Blood_in_Index</th>\n",
       "      <th>Super_Population</th>\n",
       "      <th>Super_Population_Description</th>\n",
       "    </tr>\n",
       "  </thead>\n",
       "  <tbody>\n",
       "    <tr>\n",
       "      <th>0</th>\n",
       "      <td>HG00144</td>\n",
       "      <td>GBR001</td>\n",
       "      <td>GBR</td>\n",
       "      <td>British in England and Scotland</td>\n",
       "      <td>female</td>\n",
       "      <td>mother</td>\n",
       "      <td>HG00155</td>\n",
       "      <td></td>\n",
       "      <td></td>\n",
       "      <td></td>\n",
       "      <td>...</td>\n",
       "      <td>None</td>\n",
       "      <td>None</td>\n",
       "      <td>None</td>\n",
       "      <td>None</td>\n",
       "      <td>None</td>\n",
       "      <td>NaN</td>\n",
       "      <td></td>\n",
       "      <td>None</td>\n",
       "      <td>EUR</td>\n",
       "      <td>European</td>\n",
       "    </tr>\n",
       "    <tr>\n",
       "      <th>1</th>\n",
       "      <td>HG00147</td>\n",
       "      <td>GBR002a</td>\n",
       "      <td>GBR</td>\n",
       "      <td>British in England and Scotland</td>\n",
       "      <td>female</td>\n",
       "      <td>child</td>\n",
       "      <td></td>\n",
       "      <td></td>\n",
       "      <td>HG00146</td>\n",
       "      <td></td>\n",
       "      <td>...</td>\n",
       "      <td>None</td>\n",
       "      <td>None</td>\n",
       "      <td>None</td>\n",
       "      <td>None</td>\n",
       "      <td>None</td>\n",
       "      <td>NaN</td>\n",
       "      <td></td>\n",
       "      <td>None</td>\n",
       "      <td>EUR</td>\n",
       "      <td>European</td>\n",
       "    </tr>\n",
       "    <tr>\n",
       "      <th>2</th>\n",
       "      <td>HG00153</td>\n",
       "      <td>GBR003</td>\n",
       "      <td>GBR</td>\n",
       "      <td>British in England and Scotland</td>\n",
       "      <td>female</td>\n",
       "      <td>child</td>\n",
       "      <td></td>\n",
       "      <td></td>\n",
       "      <td></td>\n",
       "      <td></td>\n",
       "      <td>...</td>\n",
       "      <td>None</td>\n",
       "      <td>True</td>\n",
       "      <td>None</td>\n",
       "      <td>None</td>\n",
       "      <td>True</td>\n",
       "      <td>NaN</td>\n",
       "      <td></td>\n",
       "      <td>None</td>\n",
       "      <td>EUR</td>\n",
       "      <td>European</td>\n",
       "    </tr>\n",
       "    <tr>\n",
       "      <th>3</th>\n",
       "      <td>HG00248</td>\n",
       "      <td>GBR004</td>\n",
       "      <td>GBR</td>\n",
       "      <td>British in England and Scotland</td>\n",
       "      <td>female</td>\n",
       "      <td>child</td>\n",
       "      <td>HG00247</td>\n",
       "      <td></td>\n",
       "      <td></td>\n",
       "      <td></td>\n",
       "      <td>...</td>\n",
       "      <td>None</td>\n",
       "      <td>None</td>\n",
       "      <td>None</td>\n",
       "      <td>None</td>\n",
       "      <td>None</td>\n",
       "      <td>NaN</td>\n",
       "      <td></td>\n",
       "      <td>None</td>\n",
       "      <td>EUR</td>\n",
       "      <td>European</td>\n",
       "    </tr>\n",
       "    <tr>\n",
       "      <th>4</th>\n",
       "      <td>HG00377</td>\n",
       "      <td>HG00377</td>\n",
       "      <td>FIN</td>\n",
       "      <td>Finnish in Finland</td>\n",
       "      <td>female</td>\n",
       "      <td></td>\n",
       "      <td></td>\n",
       "      <td></td>\n",
       "      <td></td>\n",
       "      <td></td>\n",
       "      <td>...</td>\n",
       "      <td>None</td>\n",
       "      <td>True</td>\n",
       "      <td>None</td>\n",
       "      <td>None</td>\n",
       "      <td>True</td>\n",
       "      <td>NaN</td>\n",
       "      <td></td>\n",
       "      <td>None</td>\n",
       "      <td>EUR</td>\n",
       "      <td>European</td>\n",
       "    </tr>\n",
       "  </tbody>\n",
       "</table>\n",
       "<p>5 rows × 62 columns</p>\n",
       "</div>"
      ],
      "text/plain": [
       "    Sample Family_ID Population           Population_Description  Gender  \\\n",
       "0  HG00144    GBR001        GBR  British in England and Scotland  female   \n",
       "1  HG00147   GBR002a        GBR  British in England and Scotland  female   \n",
       "2  HG00153    GBR003        GBR  British in England and Scotland  female   \n",
       "3  HG00248    GBR004        GBR  British in England and Scotland  female   \n",
       "4  HG00377   HG00377        FIN               Finnish in Finland  female   \n",
       "\n",
       "  Relationship Unexpected_Parent_Child Non_Paternity Siblings Grandparents  \\\n",
       "0       mother                 HG00155                                       \n",
       "1        child                                        HG00146                \n",
       "2        child                                                               \n",
       "3        child                 HG00247                                       \n",
       "4                                                                            \n",
       "\n",
       "   ... In_Final_Phase_Variant_Calling Has_Omni_Genotypes Has_Axiom_Genotypes  \\\n",
       "0  ...                           None               None                None   \n",
       "1  ...                           None               None                None   \n",
       "2  ...                           None               True                None   \n",
       "3  ...                           None               None                None   \n",
       "4  ...                           None               True                None   \n",
       "\n",
       "  Has_Affy_6_0_Genotypes Has_Exome_LOF_Genotypes EBV_Coverage  \\\n",
       "0                   None                    None          NaN   \n",
       "1                   None                    None          NaN   \n",
       "2                   None                    True          NaN   \n",
       "3                   None                    None          NaN   \n",
       "4                   None                    True          NaN   \n",
       "\n",
       "  DNA_Source_from_Coriell Has_Sequence_from_Blood_in_Index Super_Population  \\\n",
       "0                                                     None              EUR   \n",
       "1                                                     None              EUR   \n",
       "2                                                     None              EUR   \n",
       "3                                                     None              EUR   \n",
       "4                                                     None              EUR   \n",
       "\n",
       "  Super_Population_Description  \n",
       "0                     European  \n",
       "1                     European  \n",
       "2                     European  \n",
       "3                     European  \n",
       "4                     European  \n",
       "\n",
       "[5 rows x 62 columns]"
      ]
     },
     "execution_count": 6,
     "metadata": {},
     "output_type": "execute_result"
    }
   ],
   "source": [
    "df.head()"
   ]
  },
  {
   "cell_type": "markdown",
   "metadata": {},
   "source": [
    "## Plot the data"
   ]
  },
  {
   "cell_type": "code",
   "execution_count": 7,
   "metadata": {},
   "outputs": [
    {
     "name": "stderr",
     "output_type": "stream",
     "text": [
      "/usr/local/lib/python3.7/dist-packages/plotnine/layer.py:324: PlotnineWarning: stat_boxplot : Removed 820 rows containing non-finite values.\n"
     ]
    },
    {
     "data": {
      "image/png": "[encoded data removed]",
      "text/plain": [
       "<Figure size 1000x600 with 1 Axes>"
      ]
     },
     "metadata": {
      "needs_background": "light"
     },
     "output_type": "display_data"
    },
    {
     "data": {
      "text/plain": [
       "<ggplot: (8771568443433)>"
      ]
     },
     "execution_count": 7,
     "metadata": {},
     "output_type": "execute_result"
    }
   ],
   "source": [
    "p = (ggplot(df, aes(x='Main_Project_E_Centers', y='Total_Exome_Sequence')) +\n",
    " geom_boxplot() +\n",
    " theme_minimal()\n",
    ")\n",
    "p"
   ]
  },
  {
   "cell_type": "markdown",
   "metadata": {},
   "source": [
    "## Save the plot to Cloud Storage"
   ]
  },
  {
   "cell_type": "code",
   "execution_count": 8,
   "metadata": {},
   "outputs": [
    {
     "name": "stderr",
     "output_type": "stream",
     "text": [
      "/usr/local/lib/python3.7/dist-packages/plotnine/ggplot.py:721: PlotnineWarning: Saving 10 x 6 in image.\n",
      "/usr/local/lib/python3.7/dist-packages/plotnine/ggplot.py:722: PlotnineWarning: Filename: <tensorflow.python.platform.gfile.GFile object at 0x7fa4a3808c10>\n",
      "/usr/local/lib/python3.7/dist-packages/plotnine/layer.py:324: PlotnineWarning: stat_boxplot : Removed 820 rows containing non-finite values.\n"
     ]
    }
   ],
   "source": [
    "filename = 'plot-from-terra-' + time.strftime(\"%Y%m%d-%H%M%S\") + '.png'\n",
    "with tf.io.gfile.GFile(os.path.join(BUCKET, filename), 'w') as f:\n",
    "  p.save(f, format='png', dpi=150)"
   ]
  },
  {
   "cell_type": "markdown",
   "metadata": {},
   "source": [
    "Fix the content type on the images so that we can view them directly in the Cloud Console."
   ]
  },
  {
   "cell_type": "code",
   "execution_count": 9,
   "metadata": {},
   "outputs": [
    {
     "name": "stdout",
     "output_type": "stream",
     "text": [
      "Setting metadata on gs://ah-native-gcp-project-74939-autodelete-after-one-day/plot-from-terra-20210520-162421.png...\n",
      "/ [1/1 objects] 100% Done                                                       \n",
      "Operation completed over 1 objects.                                              \n"
     ]
    }
   ],
   "source": [
    "!gsutil -m setmeta -h 'Content-Type:image/png' $BUCKET/$filename"
   ]
  },
  {
   "cell_type": "code",
   "execution_count": 10,
   "metadata": {},
   "outputs": [
    {
     "name": "stdout",
     "output_type": "stream",
     "text": [
      "\n",
      "       The plot image can now be viewed at \n",
      "       https://console.cloud.google.com/storage/browser/ah-native-gcp-project-74939-autodelete-after-one-day?project=ah-native-gcp-project-74939\n",
      "       \n"
     ]
    }
   ],
   "source": [
    "print(f\"\"\"\n",
    "       The plot image can now be viewed at \n",
    "       https://console.cloud.google.com/storage/browser/{BUCKET[len('gs://'):]}?project={PROJECT_ID}\n",
    "       \"\"\")"
   ]
  },
  {
   "cell_type": "markdown",
   "metadata": {},
   "source": [
    "## Write the dataframe to BigQuery"
   ]
  },
  {
   "cell_type": "code",
   "execution_count": 11,
   "metadata": {},
   "outputs": [
    {
     "name": "stderr",
     "output_type": "stream",
     "text": [
      "1it [00:02,  2.78s/it]\n"
     ]
    }
   ],
   "source": [
    "df.iloc[:,0:10].to_gbq(\n",
    "    '.'.join([BQ_DATASET, 'dataframe_from_terra_' + time.strftime(\"%Y%m%d_%H%M%S\")]),\n",
    "    project_id=PROJECT_ID)"
   ]
  },
  {
   "cell_type": "code",
   "execution_count": 12,
   "metadata": {},
   "outputs": [
    {
     "name": "stdout",
     "output_type": "stream",
     "text": [
      "\n",
      "       The the BigQuery table can now be viewed at\n",
      "       https://console.cloud.google.com/bigquery?project=ah-native-gcp-project-74939\n",
      "       \n"
     ]
    }
   ],
   "source": [
    "print(f\"\"\"\n",
    "       The the BigQuery table can now be viewed at\n",
    "       https://console.cloud.google.com/bigquery?project={PROJECT_ID}\n",
    "       \"\"\")"
   ]
  },
  {
   "cell_type": "markdown",
   "metadata": {},
   "source": [
    "# Provenance"
   ]
  },
  {
   "cell_type": "code",
   "execution_count": 13,
   "metadata": {},
   "outputs": [
    {
     "name": "stdout",
     "output_type": "stream",
     "text": [
      "2021-05-20 16:24:29.634051\n"
     ]
    }
   ],
   "source": [
    "import datetime\n",
    "print(datetime.datetime.now())"
   ]
  },
  {
   "cell_type": "code",
   "execution_count": 14,
   "metadata": {},
   "outputs": [
    {
     "name": "stdout",
     "output_type": "stream",
     "text": [
      "absl-py==0.12.0\r\n",
      "anyio==3.1.0\r\n",
      "argon2-cffi==20.1.0\r\n",
      "arrow==1.1.0\r\n",
      "arviz==0.11.2\r\n",
      "asn1crypto==0.24.0\r\n",
      "astroid==2.5.6\r\n",
      "astunparse==1.6.3\r\n",
      "async-generator==1.10\r\n",
      "attrs==21.2.0\r\n",
      "backcall==0.2.0\r\n",
      "bagit==1.8.1\r\n",
      "bgzip==0.3.5\r\n",
      "binaryornot==0.4.4\r\n",
      "biopython==1.78\r\n",
      "bleach==3.3.0\r\n",
      "bokeh==2.3.1\r\n",
      "brewer2mpl==1.4.1\r\n",
      "bx-python==0.8.11\r\n",
      "CacheControl==0.11.7\r\n",
      "cachetools==4.2.2\r\n",
      "certifi==2020.12.5\r\n",
      "cffi==1.14.5\r\n",
      "cftime==1.4.1\r\n",
      "chardet==4.0.0\r\n",
      "cli-builder==0.1.5\r\n",
      "click==7.1.2\r\n",
      "colorama==0.4.4\r\n",
      "confuse==1.4.0\r\n",
      "cookiecutter==1.7.2\r\n",
      "crcmod==1.7\r\n",
      "cryptography==3.4.7\r\n",
      "cwltool==1.0.20190228155703\r\n",
      "cycler==0.10.0\r\n",
      "Cython==0.29.23\r\n",
      "decorator==4.4.2\r\n",
      "defusedxml==0.7.1\r\n",
      "descartes==1.1.0\r\n",
      "dill==0.3.3\r\n",
      "entrypoints==0.3\r\n",
      "facets-overview==1.0.0\r\n",
      "fastinterval==0.1.1\r\n",
      "fastprogress==1.0.0\r\n",
      "filelock==3.0.12\r\n",
      "firecloud==0.16.25\r\n",
      "flatbuffers==1.12\r\n",
      "future==0.18.2\r\n",
      "gast==0.3.3\r\n",
      "ggplot==0.11.5\r\n",
      "gitdb==4.0.7\r\n",
      "GitPython==3.1.17\r\n",
      "google-api-core==1.26.3\r\n",
      "google-auth==1.30.0\r\n",
      "google-auth-oauthlib==0.4.4\r\n",
      "google-cloud-bigquery==2.15.0\r\n",
      "google-cloud-bigquery-datatransfer==3.1.1\r\n",
      "google-cloud-core==1.6.0\r\n",
      "google-cloud-datastore==2.1.2\r\n",
      "google-cloud-resource-manager==0.30.3\r\n",
      "google-cloud-storage==1.38.0\r\n",
      "google-crc32c==1.1.2\r\n",
      "google-pasta==0.2.0\r\n",
      "google-resumable-media==1.2.0\r\n",
      "googleapis-common-protos==1.53.0\r\n",
      "grpcio==1.32.0\r\n",
      "gs-chunked-io==0.5.2\r\n",
      "h5py==2.10.0\r\n",
      "html5lib==1.1\r\n",
      "htmlmin==0.1.12\r\n",
      "httplib2==0.19.1\r\n",
      "ibis-framework==1.4.0\r\n",
      "idna==2.10\r\n",
      "ImageHash==4.2.0\r\n",
      "importlib-metadata==4.0.1\r\n",
      "intel-openmp==2021.2.0\r\n",
      "ipykernel==5.5.4\r\n",
      "ipython==7.23.1\r\n",
      "ipython-genutils==0.2.0\r\n",
      "ipywidgets==7.6.3\r\n",
      "isodate==0.6.0\r\n",
      "isort==5.8.0\r\n",
      "jedi==0.18.0\r\n",
      "Jinja2==3.0.1\r\n",
      "jinja2-time==0.2.0\r\n",
      "joblib==1.0.1\r\n",
      "jsonschema==3.2.0\r\n",
      "jupyter==1.0.0\r\n",
      "jupyter-client==6.1.12\r\n",
      "jupyter-console==6.4.0\r\n",
      "jupyter-contrib-core==0.3.3\r\n",
      "jupyter-contrib-nbextensions==0.5.1\r\n",
      "jupyter-core==4.7.1\r\n",
      "jupyter-highlight-selected-word==0.2.0\r\n",
      "jupyter-latex-envs==1.4.6\r\n",
      "jupyter-nbextensions-configurator==0.4.1\r\n",
      "jupyter-server==1.7.0\r\n",
      "jupyter-server-mathjax==0.2.2\r\n",
      "jupyterlab==0.35.4\r\n",
      "jupyterlab-pygments==0.1.2\r\n",
      "jupyterlab-server==0.2.0\r\n",
      "jupyterlab-widgets==1.0.0\r\n",
      "Keras==2.4.3\r\n",
      "Keras-Preprocessing==1.1.2\r\n",
      "keyring==10.6.0\r\n",
      "keyrings.alt==3.0\r\n",
      "kiwisolver==1.3.1\r\n",
      "lazy-object-proxy==1.6.0\r\n",
      "libcst==0.3.18\r\n",
      "lockfile==0.12.2\r\n",
      "lxml==4.6.3\r\n",
      "Mako==1.1.4\r\n",
      "Markdown==3.3.4\r\n",
      "MarkupSafe==2.0.1\r\n",
      "matplotlib==3.4.1\r\n",
      "matplotlib-inline==0.1.2\r\n",
      "matplotlib-venn==0.11.6\r\n",
      "mccabe==0.6.1\r\n",
      "missingno==0.4.2\r\n",
      "mistune==0.8.4\r\n",
      "mizani==0.7.3\r\n",
      "mkl==2021.2.0\r\n",
      "multipledispatch==0.6.0\r\n",
      "mypy-extensions==0.4.3\r\n",
      "nbclient==0.5.3\r\n",
      "nbconvert==6.0.7\r\n",
      "nbdime==3.0.0\r\n",
      "nbformat==5.1.3\r\n",
      "nest-asyncio==1.5.1\r\n",
      "netCDF4==1.5.6\r\n",
      "networkx==2.5.1\r\n",
      "nose==1.3.7\r\n",
      "notebook==6.1.1\r\n",
      "numpy==1.20.3\r\n",
      "oauth2client==4.1.3\r\n",
      "oauthlib==3.1.0\r\n",
      "opt-einsum==3.3.0\r\n",
      "packaging==20.9\r\n",
      "palettable==3.3.0\r\n",
      "pandas==1.2.4\r\n",
      "pandas-gbq==0.15.0\r\n",
      "pandas-profiling==2.12.0\r\n",
      "pandocfilters==1.4.3\r\n",
      "parso==0.8.2\r\n",
      "patsy==0.5.1\r\n",
      "pdoc3==0.9.2\r\n",
      "pexpect==4.8.0\r\n",
      "phik==0.11.2\r\n",
      "pickleshare==0.7.5\r\n",
      "Pillow==8.2.0\r\n",
      "plotnine==0.8.0\r\n",
      "poyo==0.5.0\r\n",
      "prometheus-client==0.10.1\r\n",
      "prompt-toolkit==3.0.18\r\n",
      "proto-plus==1.18.1\r\n",
      "protobuf==3.17.0\r\n",
      "prov==1.5.1\r\n",
      "psutil==5.8.0\r\n",
      "ptyprocess==0.7.0\r\n",
      "py4j==0.10.9.2\r\n",
      "pyarrow==3.0.0\r\n",
      "pyasn1==0.4.8\r\n",
      "pyasn1-modules==0.2.8\r\n",
      "pycparser==2.20\r\n",
      "pycrypto==2.6.1\r\n",
      "pydata-google-auth==1.2.0\r\n",
      "pydot==1.4.2\r\n",
      "pyfasta==0.5.2\r\n",
      "Pygments==2.9.0\r\n",
      "pygobject==3.26.1\r\n",
      "pylint==1.7.2\r\n",
      "pymc3==3.11.2\r\n",
      "pyOpenSSL==20.0.1\r\n",
      "pyparsing==2.4.7\r\n",
      "pyrsistent==0.17.3\r\n",
      "pysam==0.16.0.1\r\n",
      "python-apt==1.6.5+ubuntu0.5\r\n",
      "python-datauri==1.0.0\r\n",
      "python-dateutil==2.8.1\r\n",
      "python-lzo==1.12\r\n",
      "python-slugify==5.0.2\r\n",
      "pytz==2021.1\r\n",
      "PyVCF==0.6.8\r\n",
      "PyWavelets==1.1.1\r\n",
      "pyxdg==0.25\r\n",
      "PyYAML==5.4.1\r\n",
      "pyzmq==22.0.3\r\n",
      "qtconsole==5.1.0\r\n",
      "QtPy==1.9.0\r\n",
      "rdflib==4.2.2\r\n",
      "rdflib-jsonld==0.4.0\r\n",
      "readline==6.2.4.1\r\n",
      "regex==2021.4.4\r\n",
      "requests==2.25.1\r\n",
      "requests-oauthlib==1.3.0\r\n",
      "rsa==4.7.2\r\n",
      "ruamel.yaml==0.15.77\r\n",
      "scandir==1.10.0\r\n",
      "schema-salad==4.5.20191229160203\r\n",
      "scikit-learn==0.24.2\r\n",
      "scipy==1.6.3\r\n",
      "seaborn==0.11.1\r\n",
      "SecretStorage==2.3.1\r\n",
      "semver==2.13.0\r\n",
      "Send2Trash==1.5.0\r\n",
      "shellescape==3.4.1\r\n",
      "six==1.16.0\r\n",
      "smmap==4.0.0\r\n",
      "sniffio==1.2.0\r\n",
      "statsmodels==0.12.2\r\n",
      "tangled-up-in-unicode==0.0.7\r\n",
      "tbb==2021.2.0\r\n",
      "tensorboard==2.5.0\r\n",
      "tensorboard-data-server==0.6.1\r\n",
      "tensorboard-plugin-wit==1.8.0\r\n",
      "tensorflow-cpu==2.4.1\r\n",
      "tensorflow-estimator==2.4.0\r\n",
      "termcolor==1.1.0\r\n",
      "terminado==0.10.0\r\n",
      "terra-notebook-utils==0.7.0\r\n",
      "testpath==0.5.0\r\n",
      "text-unidecode==1.3\r\n",
      "Theano==1.0.5\r\n",
      "Theano-PyMC==1.1.2\r\n",
      "threadpoolctl==2.1.0\r\n",
      "toolz==0.11.1\r\n",
      "tornado==6.1\r\n",
      "tqdm==4.60.0\r\n",
      "traitlets==5.0.5\r\n",
      "typed-ast==1.4.3\r\n",
      "typing-extensions==3.10.0.0\r\n",
      "typing-inspect==0.6.0\r\n",
      "unattended-upgrades==0.1\r\n",
      "urllib3==1.26.4\r\n",
      "visions==0.6.0\r\n",
      "wcwidth==0.2.5\r\n",
      "webencodings==0.5.1\r\n",
      "websocket-client==1.0.0\r\n",
      "Werkzeug==1.0.1\r\n",
      "widgetsnbextension==3.5.1\r\n",
      "wrapt==1.12.1\r\n",
      "xarray==0.17.0\r\n",
      "zipp==3.4.1\r\n"
     ]
    }
   ],
   "source": [
    "!pip3 freeze"
   ]
  },
  {
   "cell_type": "markdown",
   "metadata": {},
   "source": [
    "Copyright 2018 The Broad Institute, Inc., Verily Life Sciences, LLC All rights reserved.\n",
    "\n",
    "This software may be modified and distributed under the terms of the BSD license. See the LICENSE file for details."
   ]
  }
 ],
 "metadata": {
  "environment": {
   "name": "r-cpu.3-6.m56",
   "type": "gcloud",
   "uri": "gcr.io/deeplearning-platform-release/r-cpu.3-6:m56"
  },
  "kernelspec": {
   "display_name": "Python 3",
   "language": "python",
   "name": "python3"
  },
  "language_info": {
   "codemirror_mode": {
    "name": "ipython",
    "version": 3
   },
   "file_extension": ".py",
   "mimetype": "text/x-python",
   "name": "python",
   "nbconvert_exporter": "python",
   "pygments_lexer": "ipython3",
   "version": "3.7.10"
  },
  "toc": {
   "base_numbering": 1,
   "nav_menu": {},
   "number_sections": true,
   "sideBar": true,
   "skip_h1_title": false,
   "title_cell": "Table of Contents",
   "title_sidebar": "Contents",
   "toc_cell": false,
   "toc_position": {
    "height": "calc(100% - 180px)",
    "left": "10px",
    "top": "150px",
    "width": "270px"
   },
   "toc_section_display": true,
   "toc_window_display": true
  }
 },
 "nbformat": 4,
 "nbformat_minor": 4
}
