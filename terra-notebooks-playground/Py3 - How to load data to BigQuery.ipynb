{
 "cells": [
  {
   "cell_type": "markdown",
   "metadata": {},
   "source": [
    "# How to load data to BigQuery\n",
    "\n",
    "Demonstrate a few different ways to load data to BigQuery from a Python 3 notebook.\n",
    "* [bq](https://cloud.google.com/bigquery/docs/bq-command-line-tool) command line tool\n",
    "* [gcloud python client](https://googleapis.github.io/google-cloud-python/latest/bigquery/usage/index.html#bigquery-basics)\n",
    "* [pandas-gbq](https://pandas-gbq.readthedocs.io/en/latest/)\n",
    "\n",
    "For files, the `bq` tool or the gcloud-python-client are great and work the same. Choose whichever one you like more.\n",
    "\n",
    "For dataframes in memory, the pandas-gbq client is a great way to go (no need to write it out to a file first)."
   ]
  },
  {
   "cell_type": "markdown",
   "metadata": {},
   "source": [
    "# Setup"
   ]
  },
  {
   "cell_type": "code",
   "execution_count": 1,
   "metadata": {},
   "outputs": [],
   "source": [
    "from google.cloud import bigquery\n",
    "from google.cloud.bigquery import LoadJobConfig\n",
    "from google.cloud.bigquery import SchemaField\n",
    "\n",
    "import os\n",
    "import numpy as np\n",
    "import pandas as pd\n",
    "import time"
   ]
  },
  {
   "cell_type": "markdown",
   "metadata": {},
   "source": [
    "Edit these global variables in your clone of this notebook if you do not have permission to WRITE data to this native Google Cloud Platform project.\n",
    "* The destination BigQuery dataset should already exist. Your pet account must have WRITE access to it.\n",
    "* The remaining cells can be run as-is."
   ]
  },
  {
   "cell_type": "code",
   "execution_count": 2,
   "metadata": {},
   "outputs": [],
   "source": [
    "# CHANGE THESE VARIABLES, IF NEEDED\n",
    "DESTINATION_PROJECT_ID = 'terra-resources'\n",
    "DESTINATION_DATASET = 'autodelete_after_one_day'"
   ]
  },
  {
   "cell_type": "code",
   "execution_count": 3,
   "metadata": {},
   "outputs": [],
   "source": [
    "BILLING_PROJECT_ID = os.environ['GOOGLE_PROJECT']\n",
    "CSV_PATH = 'gs://genomics-public-data/platinum-genomes/other/platinum_genomes_sample_info.csv'\n",
    "# Also try this CSV which will yield some autodetect errors.\n",
    "# gs://genomics-public-data/1000-genomes/other/sample_info/sample_info.csv"
   ]
  },
  {
   "cell_type": "markdown",
   "metadata": {},
   "source": [
    "# Load data to BigQuery from a CSV"
   ]
  },
  {
   "cell_type": "markdown",
   "metadata": {},
   "source": [
    "## Via the `bq` command line tool"
   ]
  },
  {
   "cell_type": "code",
   "execution_count": 4,
   "metadata": {},
   "outputs": [],
   "source": [
    "DESTINATION_TABLE = 'py3_bq_' + time.strftime(\"%Y%m%d_%H%M%S\")"
   ]
  },
  {
   "cell_type": "code",
   "execution_count": 5,
   "metadata": {},
   "outputs": [
    {
     "name": "stderr",
     "output_type": "stream",
     "text": [
      "\r",
      "Waiting on bqjob_r6484e458e29b0fe1_00000173923090dd_1 ... (0s) Current status: RUNNING\r",
      "                                                                                      \r",
      "Waiting on bqjob_r6484e458e29b0fe1_00000173923090dd_1 ... (1s) Current status: RUNNING\r",
      "                                                                                      \r",
      "Waiting on bqjob_r6484e458e29b0fe1_00000173923090dd_1 ... (1s) Current status: DONE   \n"
     ]
    }
   ],
   "source": [
    "%%bash -s \"$DESTINATION_PROJECT_ID\" \"$DESTINATION_DATASET\" \"$DESTINATION_TABLE\" \"$CSV_PATH\"\n",
    "\n",
    "bq --project_id ${1} load --autodetect ${2}.${3} ${4}"
   ]
  },
  {
   "cell_type": "markdown",
   "metadata": {},
   "source": [
    "Show the table schema."
   ]
  },
  {
   "cell_type": "code",
   "execution_count": 6,
   "metadata": {},
   "outputs": [
    {
     "name": "stdout",
     "output_type": "stream",
     "text": [
      "Table terra-resources:autodelete_after_one_day.py3_bq_20200727_213202\n",
      "\n",
      "   Last modified                  Schema                 Total Rows   Total Bytes     Expiration      Time Partitioning   Clustered Fields   Labels  \n",
      " ----------------- ------------------------------------ ------------ ------------- ----------------- ------------------- ------------------ -------- \n",
      "  27 Jul 21:32:05   |- Catalog_ID: string                17           1441          03 Aug 21:32:05                                                  \n",
      "                    |- Description: string                                                                                                           \n",
      "                    |- Gender: string                                                                                                                \n",
      "                    |- Race: string                                                                                                                  \n",
      "                    |- Family_Member: integer                                                                                                        \n",
      "                    |- Relationship_to_Proband: string                                                                                               \n",
      "                    |- CT_Desc: string                                                                                                               \n",
      "                    |- Cum_Pdl: string                                                                                                               \n",
      "\n"
     ]
    }
   ],
   "source": [
    "%%bash -s \"$DESTINATION_PROJECT_ID\" \"$DESTINATION_DATASET\" \"$DESTINATION_TABLE\"\n",
    "\n",
    "bq --project_id ${1} show ${2}.${3}"
   ]
  },
  {
   "cell_type": "markdown",
   "metadata": {},
   "source": [
    "## Via the gcloud Python client\n",
    "\n",
    "https://googlecloudplatform.github.io/google-cloud-python/latest/bigquery/generated/google.cloud.bigquery.job.LoadJobConfig.html"
   ]
  },
  {
   "cell_type": "code",
   "execution_count": 7,
   "metadata": {},
   "outputs": [],
   "source": [
    "client = bigquery.Client(project=os.environ['GOOGLE_PROJECT'])\n",
    "DESTINATION_TABLE = 'py3_gcloud_py_client_' + time.strftime(\"%Y%m%d_%H%M%S\")"
   ]
  },
  {
   "cell_type": "code",
   "execution_count": 8,
   "metadata": {},
   "outputs": [
    {
     "name": "stdout",
     "output_type": "stream",
     "text": [
      "Loading py3_gcloud_py_client_20200727_213207, starting job 67adfc47-0cf4-4a8e-b550-5b50185a637b\n"
     ]
    }
   ],
   "source": [
    "table_ref = client.dataset(DESTINATION_DATASET,\n",
    "                           project=DESTINATION_PROJECT_ID).table(DESTINATION_TABLE)\n",
    "\n",
    "# https://googlecloudplatform.github.io/google-cloud-python/latest/bigquery/generated/google.cloud.bigquery.job.LoadJobConfig.html\n",
    "job_config = LoadJobConfig()\n",
    "job_config.source_format = bigquery.SourceFormat.CSV\n",
    "job_config.autodetect = True\n",
    "\n",
    "load_job = client.load_table_from_uri(CSV_PATH, table_ref, job_config=job_config)\n",
    "print('Loading {}, starting job {}'.format(DESTINATION_TABLE, load_job.job_id))"
   ]
  },
  {
   "cell_type": "code",
   "execution_count": 9,
   "metadata": {},
   "outputs": [
    {
     "name": "stdout",
     "output_type": "stream",
     "text": [
      "Job finished.\n"
     ]
    }
   ],
   "source": [
    "# Waits for table load to complete.\n",
    "load_job.result()\n",
    "print('Job finished.')"
   ]
  },
  {
   "cell_type": "code",
   "execution_count": 10,
   "metadata": {},
   "outputs": [],
   "source": [
    "load_job.errors"
   ]
  },
  {
   "cell_type": "code",
   "execution_count": 11,
   "metadata": {},
   "outputs": [
    {
     "name": "stdout",
     "output_type": "stream",
     "text": [
      "[SchemaField('Catalog_ID', 'STRING', 'NULLABLE', None, ()), SchemaField('Description', 'STRING', 'NULLABLE', None, ()), SchemaField('Gender', 'STRING', 'NULLABLE', None, ()), SchemaField('Race', 'STRING', 'NULLABLE', None, ()), SchemaField('Family_Member', 'INTEGER', 'NULLABLE', None, ()), SchemaField('Relationship_to_Proband', 'STRING', 'NULLABLE', None, ()), SchemaField('CT_Desc', 'STRING', 'NULLABLE', None, ()), SchemaField('Cum_Pdl', 'STRING', 'NULLABLE', None, ())]\n"
     ]
    }
   ],
   "source": [
    "table = client.get_table(table_ref)  # API Request\n",
    "print(table.schema)"
   ]
  },
  {
   "cell_type": "code",
   "execution_count": 12,
   "metadata": {},
   "outputs": [
    {
     "name": "stdout",
     "output_type": "stream",
     "text": [
      "None\n"
     ]
    }
   ],
   "source": [
    "print(table.description)"
   ]
  },
  {
   "cell_type": "code",
   "execution_count": 13,
   "metadata": {},
   "outputs": [
    {
     "name": "stdout",
     "output_type": "stream",
     "text": [
      "17\n"
     ]
    }
   ],
   "source": [
    "print(table.num_rows)"
   ]
  },
  {
   "cell_type": "markdown",
   "metadata": {},
   "source": [
    "# Load data to BigQuery from a dataframe"
   ]
  },
  {
   "cell_type": "markdown",
   "metadata": {},
   "source": [
    "## Via pandas-gbq"
   ]
  },
  {
   "cell_type": "code",
   "execution_count": 14,
   "metadata": {},
   "outputs": [],
   "source": [
    "DESTINATION_TABLE = 'py3_pandas_gbq_' + time.strftime(\"%Y%m%d_%H%M%S\")"
   ]
  },
  {
   "cell_type": "code",
   "execution_count": 15,
   "metadata": {},
   "outputs": [],
   "source": [
    "df = pd.DataFrame(np.random.randint(low=0, high=10, size=(5, 5)),\n",
    "                  columns=['a', 'b', 'c', 'd', 'e'])"
   ]
  },
  {
   "cell_type": "code",
   "execution_count": 16,
   "metadata": {},
   "outputs": [
    {
     "name": "stderr",
     "output_type": "stream",
     "text": [
      "1it [00:05,  5.50s/it]\n"
     ]
    }
   ],
   "source": [
    "df.to_gbq(destination_table='.'.join([DESTINATION_DATASET, DESTINATION_TABLE]),\n",
    "          project_id=DESTINATION_PROJECT_ID)"
   ]
  },
  {
   "cell_type": "code",
   "execution_count": 17,
   "metadata": {},
   "outputs": [
    {
     "name": "stderr",
     "output_type": "stream",
     "text": [
      "Downloading: 100%|██████████| 1/1 [00:00<00:00,  7.41rows/s]\n"
     ]
    },
    {
     "data": {
      "text/html": [
       "<div>\n",
       "<style scoped>\n",
       "    .dataframe tbody tr th:only-of-type {\n",
       "        vertical-align: middle;\n",
       "    }\n",
       "\n",
       "    .dataframe tbody tr th {\n",
       "        vertical-align: top;\n",
       "    }\n",
       "\n",
       "    .dataframe thead th {\n",
       "        text-align: right;\n",
       "    }\n",
       "</style>\n",
       "<table border=\"1\" class=\"dataframe\">\n",
       "  <thead>\n",
       "    <tr style=\"text-align: right;\">\n",
       "      <th></th>\n",
       "      <th>cnt</th>\n",
       "    </tr>\n",
       "  </thead>\n",
       "  <tbody>\n",
       "    <tr>\n",
       "      <th>0</th>\n",
       "      <td>5</td>\n",
       "    </tr>\n",
       "  </tbody>\n",
       "</table>\n",
       "</div>"
      ],
      "text/plain": [
       "   cnt\n",
       "0    5"
      ]
     },
     "execution_count": 17,
     "metadata": {},
     "output_type": "execute_result"
    }
   ],
   "source": [
    "pd.io.gbq.read_gbq('SELECT COUNT(*) AS cnt FROM `{}.{}.{}`'.format(DESTINATION_PROJECT_ID,\n",
    "                                                                   DESTINATION_DATASET,\n",
    "                                                                   DESTINATION_TABLE),\n",
    "                   project_id=BILLING_PROJECT_ID,\n",
    "                   dialect='standard')"
   ]
  },
  {
   "cell_type": "markdown",
   "metadata": {},
   "source": [
    "# Provenance"
   ]
  },
  {
   "cell_type": "code",
   "execution_count": 18,
   "metadata": {},
   "outputs": [
    {
     "name": "stdout",
     "output_type": "stream",
     "text": [
      "2020-07-27 21:32:19.163267\n"
     ]
    }
   ],
   "source": [
    "import datetime\n",
    "print(datetime.datetime.now())"
   ]
  },
  {
   "cell_type": "code",
   "execution_count": 19,
   "metadata": {},
   "outputs": [
    {
     "name": "stdout",
     "output_type": "stream",
     "text": [
      "absl-py==0.9.0\r\n",
      "arrow==0.15.7\r\n",
      "asgiref==3.2.10\r\n",
      "asn1crypto==0.24.0\r\n",
      "astor==0.8.1\r\n",
      "astroid==2.4.2\r\n",
      "astropy==4.0.1.post1\r\n",
      "attrs==19.3.0\r\n",
      "backcall==0.2.0\r\n",
      "bagit==1.7.0\r\n",
      "bgzip==0.3.5\r\n",
      "binaryornot==0.4.4\r\n",
      "biopython==1.72\r\n",
      "bleach==3.1.5\r\n",
      "bokeh==1.0.0\r\n",
      "brewer2mpl==1.4.1\r\n",
      "bx-python==0.8.2\r\n",
      "CacheControl==0.11.7\r\n",
      "cachetools==4.1.0\r\n",
      "certifi==2020.6.20\r\n",
      "chardet==3.0.4\r\n",
      "cli-builder==0.0.1\r\n",
      "click==7.1.2\r\n",
      "confuse==1.1.0\r\n",
      "cookiecutter==1.7.2\r\n",
      "cryptography==2.1.4\r\n",
      "cwltool==1.0.20190228155703\r\n",
      "cycler==0.10.0\r\n",
      "Cython==0.29.20\r\n",
      "decorator==4.4.2\r\n",
      "defusedxml==0.6.0\r\n",
      "Django==3.0.8\r\n",
      "entrypoints==0.3\r\n",
      "enum34==1.1.6\r\n",
      "facets==1.1.0\r\n",
      "facets-overview==1.0.0\r\n",
      "fastinterval==0.1.1\r\n",
      "firecloud==0.16.25\r\n",
      "future==0.18.2\r\n",
      "gast==0.3.3\r\n",
      "ggplot==0.11.5\r\n",
      "google-api-core==1.21.0\r\n",
      "google-auth==1.18.0\r\n",
      "google-auth-oauthlib==0.4.1\r\n",
      "google-cloud-bigquery==1.23.1\r\n",
      "google-cloud-bigquery-datatransfer==0.4.1\r\n",
      "google-cloud-core==1.3.0\r\n",
      "google-cloud-datastore==1.10.0\r\n",
      "google-cloud-resource-manager==0.30.0\r\n",
      "google-cloud-storage==1.29.0\r\n",
      "google-pasta==0.2.0\r\n",
      "google-resumable-media==0.5.1\r\n",
      "googleapis-common-protos==1.52.0\r\n",
      "grpcio==1.30.0\r\n",
      "gs-chunked-io==0.3.3\r\n",
      "h5py==2.7.1\r\n",
      "html5lib==1.1\r\n",
      "htmlmin==0.1.12\r\n",
      "ibis-framework==1.3.0\r\n",
      "idna==2.6\r\n",
      "importlib-metadata==1.6.1\r\n",
      "intel-openmp==2018.0.3\r\n",
      "ipykernel==5.3.0\r\n",
      "ipython==7.15.0\r\n",
      "ipython-genutils==0.2.0\r\n",
      "ipywidgets==7.5.1\r\n",
      "isodate==0.6.0\r\n",
      "isort==4.3.21\r\n",
      "jedi==0.17.1\r\n",
      "Jinja2==2.11.2\r\n",
      "jinja2-time==0.2.0\r\n",
      "joblib==0.15.1\r\n",
      "jsonschema==3.2.0\r\n",
      "jupyter==1.0.0\r\n",
      "jupyter-client==6.1.3\r\n",
      "jupyter-console==6.1.0\r\n",
      "jupyter-contrib-core==0.3.3\r\n",
      "jupyter-contrib-nbextensions==0.5.1\r\n",
      "jupyter-core==4.6.3\r\n",
      "jupyter-highlight-selected-word==0.2.0\r\n",
      "jupyter-latex-envs==1.4.6\r\n",
      "jupyter-nbextensions-configurator==0.4.1\r\n",
      "jupyterlab==0.35.4\r\n",
      "jupyterlab-server==0.2.0\r\n",
      "Keras==2.1.6\r\n",
      "Keras-Applications==1.0.8\r\n",
      "Keras-Preprocessing==1.1.2\r\n",
      "keyring==10.6.0\r\n",
      "keyrings.alt==3.0\r\n",
      "kiwisolver==1.2.0\r\n",
      "lazy-object-proxy==1.4.3\r\n",
      "llvmlite==0.33.0\r\n",
      "lockfile==0.12.2\r\n",
      "lxml==4.5.1\r\n",
      "Mako==1.1.3\r\n",
      "Markdown==3.2.2\r\n",
      "MarkupSafe==1.1.1\r\n",
      "matplotlib==3.0.0\r\n",
      "matplotlib-venn==0.11.5\r\n",
      "mccabe==0.6.1\r\n",
      "missingno==0.4.2\r\n",
      "mistune==0.8.4\r\n",
      "mkl==2018.0.3\r\n",
      "multipledispatch==0.6.0\r\n",
      "mypy-extensions==0.4.3\r\n",
      "nbconvert==5.6.1\r\n",
      "nbformat==5.0.7\r\n",
      "networkx==2.4\r\n",
      "nose==1.3.7\r\n",
      "notebook==5.7.8\r\n",
      "numba==0.50.0\r\n",
      "numpy==1.19.1\r\n",
      "oauthlib==3.1.0\r\n",
      "packaging==20.4\r\n",
      "pandas==1.0.5\r\n",
      "pandas-gbq==0.12.0\r\n",
      "pandas-profiling==2.4.0\r\n",
      "pandocfilters==1.4.2\r\n",
      "parso==0.7.0\r\n",
      "patsy==0.4.1\r\n",
      "pdoc3==0.7.2\r\n",
      "pexpect==4.8.0\r\n",
      "phik==0.10.0\r\n",
      "pickleshare==0.7.5\r\n",
      "Pillow==7.1.2\r\n",
      "poyo==0.5.0\r\n",
      "prometheus-client==0.8.0\r\n",
      "prompt-toolkit==3.0.5\r\n",
      "protobuf==3.12.2\r\n",
      "prov==1.5.1\r\n",
      "psutil==5.7.0\r\n",
      "ptyprocess==0.6.0\r\n",
      "py4j==0.10.7\r\n",
      "pyasn1==0.4.8\r\n",
      "pyasn1-modules==0.2.8\r\n",
      "pycrypto==2.6.1\r\n",
      "pydata-google-auth==1.1.0\r\n",
      "pydot==1.4.1\r\n",
      "pyfasta==0.5.2\r\n",
      "Pygments==2.6.1\r\n",
      "pygobject==3.26.1\r\n",
      "pylint==1.7.2\r\n",
      "pymc3==3.1\r\n",
      "pyOpenSSL==19.1.0\r\n",
      "pyparsing==2.4.7\r\n",
      "pyrsistent==0.16.0\r\n",
      "pysam==0.15.4\r\n",
      "python-apt==1.6.5+ubuntu0.3\r\n",
      "python-datauri==0.2.8\r\n",
      "python-dateutil==2.8.1\r\n",
      "python-lzo==1.12\r\n",
      "python-slugify==4.0.0\r\n",
      "pytz==2020.1\r\n",
      "PyVCF==0.6.8\r\n",
      "pyxdg==0.25\r\n",
      "PyYAML==5.3.1\r\n",
      "pyzmq==19.0.1\r\n",
      "qtconsole==4.7.5\r\n",
      "QtPy==1.9.0\r\n",
      "rdflib==4.2.2\r\n",
      "rdflib-jsonld==0.4.0\r\n",
      "readline==6.2.0\r\n",
      "regex==2020.7.14\r\n",
      "requests==2.24.0\r\n",
      "requests-oauthlib==1.3.0\r\n",
      "rsa==4.6\r\n",
      "ruamel.yaml==0.15.77\r\n",
      "scandir==1.10.0\r\n",
      "schema-salad==4.5.20191229160203\r\n",
      "scikit-learn==0.21.3\r\n",
      "scipy==1.5.0\r\n",
      "seaborn==0.9.0\r\n",
      "SecretStorage==2.3.1\r\n",
      "Send2Trash==1.5.0\r\n",
      "shellescape==3.4.1\r\n",
      "six==1.15.0\r\n",
      "sqlparse==0.3.1\r\n",
      "statsmodels==0.9.0\r\n",
      "tb-nightly==1.14.0a20190301\r\n",
      "tensorflow==2.0.0a0\r\n",
      "termcolor==1.1.0\r\n",
      "terminado==0.8.3\r\n",
      "terra-notebook-utils==0.2.1\r\n",
      "testpath==0.4.4\r\n",
      "text-unidecode==1.3\r\n",
      "tf-estimator-nightly==1.14.0.dev2019030115\r\n",
      "Theano==0.9.0\r\n",
      "toolz==0.10.0\r\n",
      "tornado==4.5.3\r\n",
      "tqdm==4.19.4\r\n",
      "traitlets==4.3.3\r\n",
      "typed-ast==1.4.1\r\n",
      "typing-extensions==3.7.4.2\r\n",
      "unattended-upgrades==0.1\r\n",
      "urllib3==1.25.9\r\n",
      "wcwidth==0.2.5\r\n",
      "webencodings==0.5.1\r\n",
      "Werkzeug==0.12.2\r\n",
      "widgetsnbextension==3.5.1\r\n",
      "wrapt==1.12.1\r\n",
      "zipp==3.1.0\r\n"
     ]
    }
   ],
   "source": [
    "!pip3 freeze"
   ]
  },
  {
   "cell_type": "markdown",
   "metadata": {},
   "source": [
    "Copyright 2018 The Broad Institute, Inc., Verily Life Sciences, LLC All rights reserved.\n",
    "\n",
    "This software may be modified and distributed under the terms of the BSD license. See the LICENSE file for details."
   ]
  }
 ],
 "metadata": {
  "kernelspec": {
   "display_name": "Python 3",
   "language": "python",
   "name": "python3"
  },
  "language_info": {
   "codemirror_mode": {
    "name": "ipython",
    "version": 3
   },
   "file_extension": ".py",
   "mimetype": "text/x-python",
   "name": "python",
   "nbconvert_exporter": "python",
   "pygments_lexer": "ipython3",
   "version": "3.7.8"
  },
  "toc": {
   "base_numbering": 1,
   "nav_menu": {},
   "number_sections": true,
   "sideBar": true,
   "skip_h1_title": false,
   "title_cell": "Table of Contents",
   "title_sidebar": "Contents",
   "toc_cell": false,
   "toc_position": {},
   "toc_section_display": true,
   "toc_window_display": true
  }
 },
 "nbformat": 4,
 "nbformat_minor": 2
}
