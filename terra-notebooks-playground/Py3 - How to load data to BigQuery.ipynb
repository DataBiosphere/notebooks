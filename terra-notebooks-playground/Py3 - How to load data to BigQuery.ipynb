{
 "cells": [
  {
   "cell_type": "markdown",
   "metadata": {},
   "source": [
    "# How to load data to BigQuery\n",
    "\n",
    "This notebook demonstrates a few different ways to load data to BigQuery from a Python 3 notebook\n",
    "* [bq](https://cloud.google.com/bigquery/docs/bq-command-line-tool) command line tool\n",
    "* [gcloud python client](https://googleapis.github.io/google-cloud-python/latest/bigquery/usage/index.html#bigquery-basics)\n",
    "* [pandas-gbq](https://pandas-gbq.readthedocs.io/en/latest/)\n",
    "\n",
    "For files, the `bq` tool or the gcloud-python-client are great and work the same. Choose whichever one you like more.\n",
    "\n",
    "For dataframes in memory, the pandas-gbq client is a great way to go (no need to write it out to a file first).\n",
    "\n",
    "See also the companion Terra Support article [Accessing Advanced GCP features in Terra](https://support.terra.bio/hc/en-us/articles/360051229072-Accessing-Advanced-GCP-features-in-Terra)."
   ]
  },
  {
   "cell_type": "markdown",
   "metadata": {},
   "source": [
    "# Setup\n",
    "Edit these global variables in your clone of this notebook if you do not have permission to WRITE data to this native Google Cloud Platform project.\n",
    "* **The destination BigQuery dataset should already exist. Your pet account must have WRITE access to it.**       \n",
    "[**Click for step-by-step instructions to create a BQ dataset**](https://support.terra.bio/hc/en-us/articles/360051229072#h_01EPCCS08S69VE4VMT0F0NNDWR)     \n",
    "\n",
    "\n",
    "* Make sure to change to your own project and dataset names. The remaining cells can be run as-is."
   ]
  },
  {
   "cell_type": "code",
   "execution_count": 1,
   "metadata": {},
   "outputs": [],
   "source": [
    "from google.cloud import bigquery\n",
    "from google.cloud.bigquery import LoadJobConfig\n",
    "from google.cloud.bigquery import SchemaField\n",
    "\n",
    "import os\n",
    "import numpy as np\n",
    "import pandas as pd\n",
    "import time"
   ]
  },
  {
   "cell_type": "code",
   "execution_count": 2,
   "metadata": {},
   "outputs": [],
   "source": [
    "BILLING_PROJECT_ID = os.environ['GOOGLE_PROJECT']\n",
    "CSV_PATH = 'gs://genomics-public-data/platinum-genomes/other/platinum_genomes_sample_info.csv'\n",
    "# Also try this CSV which will yield some autodetect errors.\n",
    "# gs://genomics-public-data/1000-genomes/other/sample_info/sample_info.csv"
   ]
  },
  {
   "cell_type": "markdown",
   "metadata": {},
   "source": [
    "**Note that you will need to change the variables below to your own values** (expand the tips if you need help finding the variables)"
   ]
  },
  {
   "cell_type": "code",
   "execution_count": 3,
   "metadata": {},
   "outputs": [],
   "source": [
    "# CHANGE THESE VARIABLES\n",
    "DESTINATION_PROJECT_ID = 'your_GCP-native_project_ID'\n",
    "DESTINATION_DATASET = 'your_BQ_dataset'"
   ]
  },
  {
   "cell_type": "code",
   "execution_count": 4,
   "metadata": {},
   "outputs": [],
   "source": [
    "DESTINATION_PROJECT_ID = 'ah-native-gcp-project-74939'\n",
    "DESTINATION_DATASET = 'BQ_dataset_autodelete_after_one_day'"
   ]
  },
  {
   "cell_type": "markdown",
   "metadata": {
    "heading_collapsed": true
   },
   "source": [
    "### <font color=\"#FF6600\">(expand for tip) </font> <font color=\"#445555\">How to find your cloud-native project-ID</font><a class=\"tocSkip\">"
   ]
  },
  {
   "cell_type": "markdown",
   "metadata": {
    "hidden": true
   },
   "source": [
    "When logged in with your Terra user-ID, go to billing in the GCP console at [https://console.cloud.google.com/billing](https://console.cloud.google.com/billing)     \n",
    "![finding project ID screen shot](https://storage.googleapis.com/terra-featured-workspaces/QuickStart/Advanced-GCP-features_Find-Project-ID_Step1_Screen%20shot.png)\n",
    "\n",
    "1. Select the Organization you used when creating your cloud-native project    \n",
    "2. Find the Project ID at right    "
   ]
  },
  {
   "cell_type": "markdown",
   "metadata": {
    "heading_collapsed": true
   },
   "source": [
    "### <font color=\"#FF6600\">(expand for tip) </font> <font color=\"#445555\">How to find your cloud-native Big Query dataset</font><a class=\"tocSkip\">"
   ]
  },
  {
   "cell_type": "markdown",
   "metadata": {
    "hidden": true
   },
   "source": [
    "Go to [https://console.cloud.google.com/bigquery](https://console.cloud.google.com/bigquery)   \n",
    "\n",
    "On the left column, select your cloud-native Project from the drop-down. You should see your BQ dataset listed:   \n",
    "\n",
    "![Find BQ dataset Screen shiot](https://storage.googleapis.com/terra-featured-workspaces/QuickStart/Advanced-GCP-features_Find-BQ-dataset-name_Screen%20shot.png)"
   ]
  },
  {
   "cell_type": "markdown",
   "metadata": {},
   "source": [
    "# Load data to BigQuery from a CSV"
   ]
  },
  {
   "cell_type": "markdown",
   "metadata": {},
   "source": [
    "## Via the `bq` command line tool"
   ]
  },
  {
   "cell_type": "code",
   "execution_count": 5,
   "metadata": {},
   "outputs": [],
   "source": [
    "DESTINATION_TABLE = 'py3_bq_' + time.strftime(\"%Y%m%d_%H%M%S\")"
   ]
  },
  {
   "cell_type": "code",
   "execution_count": 6,
   "metadata": {},
   "outputs": [
    {
     "name": "stderr",
     "output_type": "stream",
     "text": [
      "\r",
      "Waiting on bqjob_ra89468b846fea74_0000017986eb53b3_1 ... (0s) Current status: RUNNING\r",
      "                                                                                     \r",
      "Waiting on bqjob_ra89468b846fea74_0000017986eb53b3_1 ... (1s) Current status: RUNNING\r",
      "                                                                                     \r",
      "Waiting on bqjob_ra89468b846fea74_0000017986eb53b3_1 ... (1s) Current status: DONE   \n"
     ]
    }
   ],
   "source": [
    "%%bash -s \"$DESTINATION_PROJECT_ID\" \"$DESTINATION_DATASET\" \"$DESTINATION_TABLE\" \"$CSV_PATH\"\n",
    "\n",
    "bq --project_id ${1} load --autodetect ${2}.${3} ${4}"
   ]
  },
  {
   "cell_type": "markdown",
   "metadata": {},
   "source": [
    "Show the table schema."
   ]
  },
  {
   "cell_type": "code",
   "execution_count": 7,
   "metadata": {},
   "outputs": [
    {
     "name": "stdout",
     "output_type": "stream",
     "text": [
      "Table ah-native-gcp-project-74939:BQ_dataset_autodelete_after_one_day.py3_bq_20210519_231717\n",
      "\n",
      "   Last modified                  Schema                 Total Rows   Total Bytes     Expiration      Time Partitioning   Clustered Fields   Labels  \n",
      " ----------------- ------------------------------------ ------------ ------------- ----------------- ------------------- ------------------ -------- \n",
      "  19 May 23:17:22   |- Catalog_ID: string                17           1441          20 May 23:17:22                                                  \n",
      "                    |- Description: string                                                                                                           \n",
      "                    |- Gender: string                                                                                                                \n",
      "                    |- Race: string                                                                                                                  \n",
      "                    |- Family_Member: integer                                                                                                        \n",
      "                    |- Relationship_to_Proband: string                                                                                               \n",
      "                    |- CT_Desc: string                                                                                                               \n",
      "                    |- Cum_Pdl: string                                                                                                               \n",
      "\n"
     ]
    }
   ],
   "source": [
    "%%bash -s \"$DESTINATION_PROJECT_ID\" \"$DESTINATION_DATASET\" \"$DESTINATION_TABLE\"\n",
    "\n",
    "bq --project_id ${1} show ${2}.${3}"
   ]
  },
  {
   "cell_type": "markdown",
   "metadata": {},
   "source": [
    "## Via the gcloud Python client\n",
    "\n",
    "https://googlecloudplatform.github.io/google-cloud-python/latest/bigquery/generated/google.cloud.bigquery.job.LoadJobConfig.html"
   ]
  },
  {
   "cell_type": "code",
   "execution_count": 8,
   "metadata": {},
   "outputs": [],
   "source": [
    "client = bigquery.Client(project=os.environ['GOOGLE_PROJECT'])\n",
    "DESTINATION_TABLE = 'py3_gcloud_py_client_' + time.strftime(\"%Y%m%d_%H%M%S\")"
   ]
  },
  {
   "cell_type": "code",
   "execution_count": 9,
   "metadata": {},
   "outputs": [
    {
     "name": "stdout",
     "output_type": "stream",
     "text": [
      "Loading py3_gcloud_py_client_20210519_231725, starting job 1019ddda-3ca0-4e3b-9b13-8a8701fc2aab\n"
     ]
    }
   ],
   "source": [
    "table_ref = client.dataset(DESTINATION_DATASET,\n",
    "                           project=DESTINATION_PROJECT_ID).table(DESTINATION_TABLE)\n",
    "\n",
    "# https://googlecloudplatform.github.io/google-cloud-python/latest/bigquery/generated/google.cloud.bigquery.job.LoadJobConfig.html\n",
    "job_config = LoadJobConfig()\n",
    "job_config.source_format = bigquery.SourceFormat.CSV\n",
    "job_config.autodetect = True\n",
    "\n",
    "load_job = client.load_table_from_uri(CSV_PATH, table_ref, job_config=job_config)\n",
    "print('Loading {}, starting job {}'.format(DESTINATION_TABLE, load_job.job_id))"
   ]
  },
  {
   "cell_type": "code",
   "execution_count": 10,
   "metadata": {},
   "outputs": [
    {
     "name": "stdout",
     "output_type": "stream",
     "text": [
      "Job finished.\n"
     ]
    }
   ],
   "source": [
    "# Waits for table load to complete.\n",
    "load_job.result()\n",
    "print('Job finished.')"
   ]
  },
  {
   "cell_type": "code",
   "execution_count": 11,
   "metadata": {},
   "outputs": [],
   "source": [
    "load_job.errors"
   ]
  },
  {
   "cell_type": "code",
   "execution_count": 12,
   "metadata": {},
   "outputs": [
    {
     "name": "stdout",
     "output_type": "stream",
     "text": [
      "[SchemaField('Catalog_ID', 'STRING', 'NULLABLE', None, (), None), SchemaField('Description', 'STRING', 'NULLABLE', None, (), None), SchemaField('Gender', 'STRING', 'NULLABLE', None, (), None), SchemaField('Race', 'STRING', 'NULLABLE', None, (), None), SchemaField('Family_Member', 'INTEGER', 'NULLABLE', None, (), None), SchemaField('Relationship_to_Proband', 'STRING', 'NULLABLE', None, (), None), SchemaField('CT_Desc', 'STRING', 'NULLABLE', None, (), None), SchemaField('Cum_Pdl', 'STRING', 'NULLABLE', None, (), None)]\n"
     ]
    }
   ],
   "source": [
    "table = client.get_table(table_ref)  # API Request\n",
    "print(table.schema)"
   ]
  },
  {
   "cell_type": "code",
   "execution_count": 13,
   "metadata": {},
   "outputs": [
    {
     "name": "stdout",
     "output_type": "stream",
     "text": [
      "None\n"
     ]
    }
   ],
   "source": [
    "print(table.description)"
   ]
  },
  {
   "cell_type": "code",
   "execution_count": 14,
   "metadata": {},
   "outputs": [
    {
     "name": "stdout",
     "output_type": "stream",
     "text": [
      "17\n"
     ]
    }
   ],
   "source": [
    "print(table.num_rows)"
   ]
  },
  {
   "cell_type": "markdown",
   "metadata": {},
   "source": [
    "# Load data to BigQuery from a dataframe"
   ]
  },
  {
   "cell_type": "markdown",
   "metadata": {},
   "source": [
    "## Via pandas-gbq"
   ]
  },
  {
   "cell_type": "code",
   "execution_count": 15,
   "metadata": {},
   "outputs": [],
   "source": [
    "DESTINATION_TABLE = 'py3_pandas_gbq_' + time.strftime(\"%Y%m%d_%H%M%S\")"
   ]
  },
  {
   "cell_type": "code",
   "execution_count": 16,
   "metadata": {},
   "outputs": [],
   "source": [
    "df = pd.DataFrame(np.random.randint(low=0, high=10, size=(5, 5)),\n",
    "                  columns=['a', 'b', 'c', 'd', 'e'])"
   ]
  },
  {
   "cell_type": "code",
   "execution_count": 17,
   "metadata": {},
   "outputs": [
    {
     "name": "stderr",
     "output_type": "stream",
     "text": [
      "1it [00:04,  4.37s/it]\n"
     ]
    }
   ],
   "source": [
    "df.to_gbq(destination_table='.'.join([DESTINATION_DATASET, DESTINATION_TABLE]),\n",
    "          project_id=DESTINATION_PROJECT_ID)"
   ]
  },
  {
   "cell_type": "code",
   "execution_count": 18,
   "metadata": {},
   "outputs": [
    {
     "data": {
      "text/html": [
       "<div>\n",
       "<style scoped>\n",
       "    .dataframe tbody tr th:only-of-type {\n",
       "        vertical-align: middle;\n",
       "    }\n",
       "\n",
       "    .dataframe tbody tr th {\n",
       "        vertical-align: top;\n",
       "    }\n",
       "\n",
       "    .dataframe thead th {\n",
       "        text-align: right;\n",
       "    }\n",
       "</style>\n",
       "<table border=\"1\" class=\"dataframe\">\n",
       "  <thead>\n",
       "    <tr style=\"text-align: right;\">\n",
       "      <th></th>\n",
       "      <th>cnt</th>\n",
       "    </tr>\n",
       "  </thead>\n",
       "  <tbody>\n",
       "    <tr>\n",
       "      <th>0</th>\n",
       "      <td>5</td>\n",
       "    </tr>\n",
       "  </tbody>\n",
       "</table>\n",
       "</div>"
      ],
      "text/plain": [
       "   cnt\n",
       "0    5"
      ]
     },
     "execution_count": 18,
     "metadata": {},
     "output_type": "execute_result"
    }
   ],
   "source": [
    "pd.io.gbq.read_gbq(\n",
    "    f'SELECT COUNT(*) AS cnt FROM `{DESTINATION_PROJECT_ID}.{DESTINATION_DATASET}.{DESTINATION_TABLE}`')"
   ]
  },
  {
   "cell_type": "markdown",
   "metadata": {
    "heading_collapsed": true
   },
   "source": [
    "### <font color=\"#FF6600\">(expand for tip) </font> <font color=\"#445555\">What to expect</font><a class=\"tocSkip\">"
   ]
  },
  {
   "cell_type": "markdown",
   "metadata": {
    "hidden": true
   },
   "source": [
    "After running the cells above, you should see three new BQ datasets available under your cloud-native project. Note that if you set the dataset up to autodelete, they will disappear after the set time (so you will not be charged for storage costs)         \n",
    "![BQ datasets_Screen shot](https://storage.googleapis.com/terra-featured-workspaces/QuickStart/Advanced-GCP-features_BQ-datasets_Screen%20shot.png)"
   ]
  },
  {
   "cell_type": "markdown",
   "metadata": {},
   "source": [
    "# Provenance"
   ]
  },
  {
   "cell_type": "code",
   "execution_count": 19,
   "metadata": {},
   "outputs": [
    {
     "name": "stdout",
     "output_type": "stream",
     "text": [
      "2021-05-19 23:17:36.387711\n"
     ]
    }
   ],
   "source": [
    "import datetime\n",
    "print(datetime.datetime.now())"
   ]
  },
  {
   "cell_type": "code",
   "execution_count": 20,
   "metadata": {},
   "outputs": [
    {
     "name": "stdout",
     "output_type": "stream",
     "text": [
      "absl-py==0.12.0\r\n",
      "anyio==3.1.0\r\n",
      "argon2-cffi==20.1.0\r\n",
      "arrow==1.1.0\r\n",
      "arviz==0.11.2\r\n",
      "asn1crypto==0.24.0\r\n",
      "astroid==2.5.6\r\n",
      "astunparse==1.6.3\r\n",
      "async-generator==1.10\r\n",
      "attrs==21.2.0\r\n",
      "backcall==0.2.0\r\n",
      "bagit==1.8.1\r\n",
      "bgzip==0.3.5\r\n",
      "binaryornot==0.4.4\r\n",
      "biopython==1.78\r\n",
      "bleach==3.3.0\r\n",
      "bokeh==2.3.1\r\n",
      "brewer2mpl==1.4.1\r\n",
      "bx-python==0.8.11\r\n",
      "CacheControl==0.11.7\r\n",
      "cachetools==4.2.2\r\n",
      "certifi==2020.12.5\r\n",
      "cffi==1.14.5\r\n",
      "cftime==1.4.1\r\n",
      "chardet==4.0.0\r\n",
      "cli-builder==0.1.5\r\n",
      "click==7.1.2\r\n",
      "colorama==0.4.4\r\n",
      "confuse==1.4.0\r\n",
      "cookiecutter==1.7.2\r\n",
      "crcmod==1.7\r\n",
      "cryptography==3.4.7\r\n",
      "cwltool==1.0.20190228155703\r\n",
      "cycler==0.10.0\r\n",
      "Cython==0.29.23\r\n",
      "decorator==4.4.2\r\n",
      "defusedxml==0.7.1\r\n",
      "descartes==1.1.0\r\n",
      "dill==0.3.3\r\n",
      "entrypoints==0.3\r\n",
      "facets-overview==1.0.0\r\n",
      "fastinterval==0.1.1\r\n",
      "fastprogress==1.0.0\r\n",
      "filelock==3.0.12\r\n",
      "firecloud==0.16.25\r\n",
      "flatbuffers==1.12\r\n",
      "future==0.18.2\r\n",
      "gast==0.3.3\r\n",
      "ggplot==0.11.5\r\n",
      "gitdb==4.0.7\r\n",
      "GitPython==3.1.17\r\n",
      "google-api-core==1.26.3\r\n",
      "google-auth==1.30.0\r\n",
      "google-auth-oauthlib==0.4.4\r\n",
      "google-cloud-bigquery==2.15.0\r\n",
      "google-cloud-bigquery-datatransfer==3.1.1\r\n",
      "google-cloud-core==1.6.0\r\n",
      "google-cloud-datastore==2.1.2\r\n",
      "google-cloud-resource-manager==0.30.3\r\n",
      "google-cloud-storage==1.38.0\r\n",
      "google-crc32c==1.1.2\r\n",
      "google-pasta==0.2.0\r\n",
      "google-resumable-media==1.2.0\r\n",
      "googleapis-common-protos==1.53.0\r\n",
      "grpcio==1.32.0\r\n",
      "gs-chunked-io==0.5.2\r\n",
      "h5py==2.10.0\r\n",
      "html5lib==1.1\r\n",
      "htmlmin==0.1.12\r\n",
      "httplib2==0.19.1\r\n",
      "ibis-framework==1.4.0\r\n",
      "idna==2.10\r\n",
      "ImageHash==4.2.0\r\n",
      "importlib-metadata==4.0.1\r\n",
      "intel-openmp==2021.2.0\r\n",
      "ipykernel==5.5.4\r\n",
      "ipython==7.23.1\r\n",
      "ipython-genutils==0.2.0\r\n",
      "ipywidgets==7.6.3\r\n",
      "isodate==0.6.0\r\n",
      "isort==5.8.0\r\n",
      "jedi==0.18.0\r\n",
      "Jinja2==3.0.1\r\n",
      "jinja2-time==0.2.0\r\n",
      "joblib==1.0.1\r\n",
      "jsonschema==3.2.0\r\n",
      "jupyter==1.0.0\r\n",
      "jupyter-client==6.1.12\r\n",
      "jupyter-console==6.4.0\r\n",
      "jupyter-contrib-core==0.3.3\r\n",
      "jupyter-contrib-nbextensions==0.5.1\r\n",
      "jupyter-core==4.7.1\r\n",
      "jupyter-highlight-selected-word==0.2.0\r\n",
      "jupyter-latex-envs==1.4.6\r\n",
      "jupyter-nbextensions-configurator==0.4.1\r\n",
      "jupyter-server==1.7.0\r\n",
      "jupyter-server-mathjax==0.2.2\r\n",
      "jupyterlab==0.35.4\r\n",
      "jupyterlab-pygments==0.1.2\r\n",
      "jupyterlab-server==0.2.0\r\n",
      "jupyterlab-widgets==1.0.0\r\n",
      "Keras==2.4.3\r\n",
      "Keras-Preprocessing==1.1.2\r\n",
      "keyring==10.6.0\r\n",
      "keyrings.alt==3.0\r\n",
      "kiwisolver==1.3.1\r\n",
      "lazy-object-proxy==1.6.0\r\n",
      "libcst==0.3.18\r\n",
      "lockfile==0.12.2\r\n",
      "lxml==4.6.3\r\n",
      "Mako==1.1.4\r\n",
      "Markdown==3.3.4\r\n",
      "MarkupSafe==2.0.1\r\n",
      "matplotlib==3.4.1\r\n",
      "matplotlib-inline==0.1.2\r\n",
      "matplotlib-venn==0.11.6\r\n",
      "mccabe==0.6.1\r\n",
      "missingno==0.4.2\r\n",
      "mistune==0.8.4\r\n",
      "mizani==0.7.3\r\n",
      "mkl==2021.2.0\r\n",
      "multipledispatch==0.6.0\r\n",
      "mypy-extensions==0.4.3\r\n",
      "nbclient==0.5.3\r\n",
      "nbconvert==6.0.7\r\n",
      "nbdime==3.0.0\r\n",
      "nbformat==5.1.3\r\n",
      "nest-asyncio==1.5.1\r\n",
      "netCDF4==1.5.6\r\n",
      "networkx==2.5.1\r\n",
      "nose==1.3.7\r\n",
      "notebook==6.1.1\r\n",
      "numpy==1.20.3\r\n",
      "oauth2client==4.1.3\r\n",
      "oauthlib==3.1.0\r\n",
      "opt-einsum==3.3.0\r\n",
      "packaging==20.9\r\n",
      "palettable==3.3.0\r\n",
      "pandas==1.2.4\r\n",
      "pandas-gbq==0.15.0\r\n",
      "pandas-profiling==2.12.0\r\n",
      "pandocfilters==1.4.3\r\n",
      "parso==0.8.2\r\n",
      "patsy==0.5.1\r\n",
      "pdoc3==0.9.2\r\n",
      "pexpect==4.8.0\r\n",
      "phik==0.11.2\r\n",
      "pickleshare==0.7.5\r\n",
      "Pillow==8.2.0\r\n",
      "plotnine==0.8.0\r\n",
      "poyo==0.5.0\r\n",
      "prometheus-client==0.10.1\r\n",
      "prompt-toolkit==3.0.18\r\n",
      "proto-plus==1.18.1\r\n",
      "protobuf==3.17.0\r\n",
      "prov==1.5.1\r\n",
      "psutil==5.8.0\r\n",
      "ptyprocess==0.7.0\r\n",
      "py4j==0.10.9.2\r\n",
      "pyarrow==3.0.0\r\n",
      "pyasn1==0.4.8\r\n",
      "pyasn1-modules==0.2.8\r\n",
      "pycparser==2.20\r\n",
      "pycrypto==2.6.1\r\n",
      "pydata-google-auth==1.2.0\r\n",
      "pydot==1.4.2\r\n",
      "pyfasta==0.5.2\r\n",
      "Pygments==2.9.0\r\n",
      "pygobject==3.26.1\r\n",
      "pylint==1.7.2\r\n",
      "pymc3==3.11.2\r\n",
      "pyOpenSSL==20.0.1\r\n",
      "pyparsing==2.4.7\r\n",
      "pyrsistent==0.17.3\r\n",
      "pysam==0.16.0.1\r\n",
      "python-apt==1.6.5+ubuntu0.5\r\n",
      "python-datauri==1.0.0\r\n",
      "python-dateutil==2.8.1\r\n",
      "python-lzo==1.12\r\n",
      "python-slugify==5.0.2\r\n",
      "pytz==2021.1\r\n",
      "PyVCF==0.6.8\r\n",
      "PyWavelets==1.1.1\r\n",
      "pyxdg==0.25\r\n",
      "PyYAML==5.4.1\r\n",
      "pyzmq==22.0.3\r\n",
      "qtconsole==5.1.0\r\n",
      "QtPy==1.9.0\r\n",
      "rdflib==4.2.2\r\n",
      "rdflib-jsonld==0.4.0\r\n",
      "readline==6.2.4.1\r\n",
      "regex==2021.4.4\r\n",
      "requests==2.25.1\r\n",
      "requests-oauthlib==1.3.0\r\n",
      "rsa==4.7.2\r\n",
      "ruamel.yaml==0.15.77\r\n",
      "scandir==1.10.0\r\n",
      "schema-salad==4.5.20191229160203\r\n",
      "scikit-learn==0.24.2\r\n",
      "scipy==1.6.3\r\n",
      "seaborn==0.11.1\r\n",
      "SecretStorage==2.3.1\r\n",
      "semver==2.13.0\r\n",
      "Send2Trash==1.5.0\r\n",
      "shellescape==3.4.1\r\n",
      "six==1.16.0\r\n",
      "smmap==4.0.0\r\n",
      "sniffio==1.2.0\r\n",
      "statsmodels==0.12.2\r\n",
      "tangled-up-in-unicode==0.0.7\r\n",
      "tbb==2021.2.0\r\n",
      "tensorboard==2.5.0\r\n",
      "tensorboard-data-server==0.6.1\r\n",
      "tensorboard-plugin-wit==1.8.0\r\n",
      "tensorflow-cpu==2.4.1\r\n",
      "tensorflow-estimator==2.4.0\r\n",
      "termcolor==1.1.0\r\n",
      "terminado==0.10.0\r\n",
      "terra-notebook-utils==0.7.0\r\n",
      "testpath==0.5.0\r\n",
      "text-unidecode==1.3\r\n",
      "Theano==1.0.5\r\n",
      "Theano-PyMC==1.1.2\r\n",
      "threadpoolctl==2.1.0\r\n",
      "toolz==0.11.1\r\n",
      "tornado==6.1\r\n",
      "tqdm==4.60.0\r\n",
      "traitlets==5.0.5\r\n",
      "typed-ast==1.4.3\r\n",
      "typing-extensions==3.10.0.0\r\n",
      "typing-inspect==0.6.0\r\n",
      "unattended-upgrades==0.1\r\n",
      "urllib3==1.26.4\r\n",
      "visions==0.6.0\r\n",
      "wcwidth==0.2.5\r\n",
      "webencodings==0.5.1\r\n",
      "websocket-client==1.0.0\r\n",
      "Werkzeug==1.0.1\r\n",
      "widgetsnbextension==3.5.1\r\n",
      "wrapt==1.12.1\r\n",
      "xarray==0.17.0\r\n",
      "zipp==3.4.1\r\n"
     ]
    }
   ],
   "source": [
    "!pip3 freeze"
   ]
  },
  {
   "cell_type": "markdown",
   "metadata": {},
   "source": [
    "Copyright 2018 The Broad Institute, Inc., Verily Life Sciences, LLC All rights reserved.\n",
    "\n",
    "This software may be modified and distributed under the terms of the BSD license. See the LICENSE file for details."
   ]
  }
 ],
 "metadata": {
  "environment": {
   "name": "r-cpu.3-6.m56",
   "type": "gcloud",
   "uri": "gcr.io/deeplearning-platform-release/r-cpu.3-6:m56"
  },
  "kernelspec": {
   "display_name": "Python 3",
   "language": "python",
   "name": "python3"
  },
  "language_info": {
   "codemirror_mode": {
    "name": "ipython",
    "version": 3
   },
   "file_extension": ".py",
   "mimetype": "text/x-python",
   "name": "python",
   "nbconvert_exporter": "python",
   "pygments_lexer": "ipython3",
   "version": "3.7.10"
  },
  "toc": {
   "base_numbering": 1,
   "nav_menu": {},
   "number_sections": true,
   "sideBar": true,
   "skip_h1_title": false,
   "title_cell": "Table of Contents",
   "title_sidebar": "Contents",
   "toc_cell": false,
   "toc_position": {},
   "toc_section_display": true,
   "toc_window_display": true
  }
 },
 "nbformat": 4,
 "nbformat_minor": 4
}
