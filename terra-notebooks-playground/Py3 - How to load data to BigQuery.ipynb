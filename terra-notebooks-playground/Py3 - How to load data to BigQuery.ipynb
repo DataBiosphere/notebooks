{
 "cells": [
  {
   "cell_type": "markdown",
   "metadata": {},
   "source": [
    "# How to load data to BigQuery\n",
    "\n",
    "This notebook demonstrates a few different ways to load data to BigQuery from a Python 3 notebook\n",
    "* [bq](https://cloud.google.com/bigquery/docs/bq-command-line-tool) command line tool\n",
    "* [gcloud python client](https://googleapis.github.io/google-cloud-python/latest/bigquery/usage/index.html#bigquery-basics)\n",
    "* [pandas-gbq](https://pandas-gbq.readthedocs.io/en/latest/)\n",
    "\n",
    "For files, the `bq` tool or the gcloud-python-client are great and work the same. Choose whichever one you like more.\n",
    "\n",
    "For dataframes in memory, the pandas-gbq client is a great way to go (no need to write it out to a file first).\n",
    "\n",
    "See also the companion Terra Support article [Accessing Advanced GCP features in Terra](https://support.terra.bio/hc/en-us/articles/360051229072-Accessing-Advanced-GCP-features-in-Terra)."
   ]
  },
  {
   "cell_type": "markdown",
   "metadata": {},
   "source": [
    "# Setup\n",
    "Edit these global variables in your clone of this notebook if you do not have permission to WRITE data to this native Google Cloud Platform project.\n",
    "* **The destination BigQuery dataset should already exist. Your pet account must have WRITE access to it.**       \n",
    "[**Click for step-by-step instructions to create a BQ dataset**](https://support.terra.bio/hc/en-us/articles/360051229072#h_01EPCCS08S69VE4VMT0F0NNDWR)     \n",
    "\n",
    "\n",
    "* Make sure to change to your own project and dataset names. The remaining cells can be run as-is."
   ]
  },
  {
   "cell_type": "code",
   "execution_count": 1,
   "metadata": {},
   "outputs": [],
   "source": [
    "from google.cloud import bigquery\n",
    "from google.cloud.bigquery import LoadJobConfig\n",
    "from google.cloud.bigquery import SchemaField\n",
    "\n",
    "import os\n",
    "import numpy as np\n",
    "import pandas as pd\n",
    "import time"
   ]
  },
  {
   "cell_type": "code",
   "execution_count": 2,
   "metadata": {},
   "outputs": [],
   "source": [
    "BILLING_PROJECT_ID = os.environ['GOOGLE_PROJECT']\n",
    "CSV_PATH = 'gs://genomics-public-data/platinum-genomes/other/platinum_genomes_sample_info.csv'\n",
    "# Also try this CSV which will yield some autodetect errors.\n",
    "# gs://genomics-public-data/1000-genomes/other/sample_info/sample_info.csv"
   ]
  },
  {
   "cell_type": "markdown",
   "metadata": {},
   "source": [
    "**Note that you will need to change the variables below to your own values** (expand the tips if you need help finding the variables)"
   ]
  },
  {
   "cell_type": "code",
   "execution_count": 3,
   "metadata": {},
   "outputs": [],
   "source": [
    "# CHANGE THESE VARIABLES\n",
    "DESTINATION_PROJECT_ID = 'your_GCP-native_project_ID'\n",
    "DESTINATION_DATASET = 'your_BQ_dataset'"
   ]
  },
  {
   "cell_type": "code",
   "execution_count": 4,
   "metadata": {},
   "outputs": [],
   "source": [
    "DESTINATION_PROJECT_ID = 'ah-native-gcp-project-74939'\n",
    "DESTINATION_DATASET = 'BQ_dataset_autodelete_after_one_day'"
   ]
  },
  {
   "cell_type": "markdown",
   "metadata": {
    "heading_collapsed": true
   },
   "source": [
    "### <font color=\"#FF6600\">(expand for tip) </font> <font color=\"#445555\">How to find your cloud-native project-ID</font><a class=\"tocSkip\">"
   ]
  },
  {
   "cell_type": "markdown",
   "metadata": {
    "hidden": true
   },
   "source": [
    "When logged in with your Terra user-ID, go to billing in the GCP console at [https://console.cloud.google.com/billing](https://console.cloud.google.com/billing)     \n",
    "![finding project ID screen shot](https://storage.googleapis.com/terra-featured-workspaces/QuickStart/Advanced-GCP-features_Find-Project-ID_Step1_Screen%20shot.png)\n",
    "\n",
    "1. Select the Organization you used when creating your cloud-native project    \n",
    "2. Find the Project ID at right    "
   ]
  },
  {
   "cell_type": "markdown",
   "metadata": {
    "heading_collapsed": true
   },
   "source": [
    "### <font color=\"#FF6600\">(expand for tip) </font> <font color=\"#445555\">How to find your cloud-native Big Query dataset</font><a class=\"tocSkip\">"
   ]
  },
  {
   "cell_type": "markdown",
   "metadata": {
    "hidden": true
   },
   "source": [
    "Go to [https://console.cloud.google.com/bigquery](https://console.cloud.google.com/bigquery)   \n",
    "\n",
    "On the left column, select your cloud-native Project from the drop-down. You should see your BQ dataset listed:   \n",
    "\n",
    "![Find BQ dataset Screen shiot](https://storage.googleapis.com/terra-featured-workspaces/QuickStart/Advanced-GCP-features_Find-BQ-dataset-name_Screen%20shot.png)"
   ]
  },
  {
   "cell_type": "markdown",
   "metadata": {},
   "source": [
    "# Load data to BigQuery from a CSV"
   ]
  },
  {
   "cell_type": "markdown",
   "metadata": {},
   "source": [
    "## Via the `bq` command line tool"
   ]
  },
  {
   "cell_type": "code",
   "execution_count": 5,
   "metadata": {},
   "outputs": [],
   "source": [
    "DESTINATION_TABLE = 'py3_bq_' + time.strftime(\"%Y%m%d_%H%M%S\")"
   ]
  },
  {
   "cell_type": "code",
   "execution_count": 6,
   "metadata": {},
   "outputs": [
    {
     "name": "stderr",
     "output_type": "stream",
     "text": [
      "Waiting on bqjob_r16bab677d0bc5f3c_00000175dd508607_1 ... (1s) Current status: DONE   \n"
     ]
    }
   ],
   "source": [
    "%%bash -s \"$DESTINATION_PROJECT_ID\" \"$DESTINATION_DATASET\" \"$DESTINATION_TABLE\" \"$CSV_PATH\"\n",
    "\n",
    "bq --project_id ${1} load --autodetect ${2}.${3} ${4}"
   ]
  },
  {
   "cell_type": "markdown",
   "metadata": {},
   "source": [
    "Show the table schema."
   ]
  },
  {
   "cell_type": "code",
   "execution_count": 7,
   "metadata": {},
   "outputs": [
    {
     "name": "stdout",
     "output_type": "stream",
     "text": [
      "Table ah-native-gcp-project-74939:BQ_dataset_autodelete_after_one_day.py3_bq_20201118_214401\n",
      "\n",
      "   Last modified                  Schema                 Total Rows   Total Bytes     Expiration      Time Partitioning   Clustered Fields   Labels  \n",
      " ----------------- ------------------------------------ ------------ ------------- ----------------- ------------------- ------------------ -------- \n",
      "  18 Nov 21:44:05   |- Catalog_ID: string                17           1441          19 Nov 21:44:05                                                  \n",
      "                    |- Description: string                                                                                                           \n",
      "                    |- Gender: string                                                                                                                \n",
      "                    |- Race: string                                                                                                                  \n",
      "                    |- Family_Member: integer                                                                                                        \n",
      "                    |- Relationship_to_Proband: string                                                                                               \n",
      "                    |- CT_Desc: string                                                                                                               \n",
      "                    |- Cum_Pdl: string                                                                                                               \n",
      "\n"
     ]
    }
   ],
   "source": [
    "%%bash -s \"$DESTINATION_PROJECT_ID\" \"$DESTINATION_DATASET\" \"$DESTINATION_TABLE\"\n",
    "\n",
    "bq --project_id ${1} show ${2}.${3}"
   ]
  },
  {
   "cell_type": "markdown",
   "metadata": {},
   "source": [
    "## Via the gcloud Python client\n",
    "\n",
    "https://googlecloudplatform.github.io/google-cloud-python/latest/bigquery/generated/google.cloud.bigquery.job.LoadJobConfig.html"
   ]
  },
  {
   "cell_type": "code",
   "execution_count": 8,
   "metadata": {},
   "outputs": [],
   "source": [
    "client = bigquery.Client(project=os.environ['GOOGLE_PROJECT'])\n",
    "DESTINATION_TABLE = 'py3_gcloud_py_client_' + time.strftime(\"%Y%m%d_%H%M%S\")"
   ]
  },
  {
   "cell_type": "code",
   "execution_count": 9,
   "metadata": {},
   "outputs": [
    {
     "name": "stdout",
     "output_type": "stream",
     "text": [
      "Loading py3_gcloud_py_client_20201118_214408, starting job 62f72fd6-b37f-475e-b772-a69b7868f0f2\n"
     ]
    }
   ],
   "source": [
    "table_ref = client.dataset(DESTINATION_DATASET,\n",
    "                           project=DESTINATION_PROJECT_ID).table(DESTINATION_TABLE)\n",
    "\n",
    "# https://googlecloudplatform.github.io/google-cloud-python/latest/bigquery/generated/google.cloud.bigquery.job.LoadJobConfig.html\n",
    "job_config = LoadJobConfig()\n",
    "job_config.source_format = bigquery.SourceFormat.CSV\n",
    "job_config.autodetect = True\n",
    "\n",
    "load_job = client.load_table_from_uri(CSV_PATH, table_ref, job_config=job_config)\n",
    "print('Loading {}, starting job {}'.format(DESTINATION_TABLE, load_job.job_id))"
   ]
  },
  {
   "cell_type": "code",
   "execution_count": 10,
   "metadata": {},
   "outputs": [
    {
     "name": "stdout",
     "output_type": "stream",
     "text": [
      "Job finished.\n"
     ]
    }
   ],
   "source": [
    "# Waits for table load to complete.\n",
    "load_job.result()\n",
    "print('Job finished.')"
   ]
  },
  {
   "cell_type": "code",
   "execution_count": 11,
   "metadata": {},
   "outputs": [],
   "source": [
    "load_job.errors"
   ]
  },
  {
   "cell_type": "code",
   "execution_count": 12,
   "metadata": {},
   "outputs": [
    {
     "name": "stdout",
     "output_type": "stream",
     "text": [
      "[SchemaField('Catalog_ID', 'STRING', 'NULLABLE', None, ()), SchemaField('Description', 'STRING', 'NULLABLE', None, ()), SchemaField('Gender', 'STRING', 'NULLABLE', None, ()), SchemaField('Race', 'STRING', 'NULLABLE', None, ()), SchemaField('Family_Member', 'INTEGER', 'NULLABLE', None, ()), SchemaField('Relationship_to_Proband', 'STRING', 'NULLABLE', None, ()), SchemaField('CT_Desc', 'STRING', 'NULLABLE', None, ()), SchemaField('Cum_Pdl', 'STRING', 'NULLABLE', None, ())]\n"
     ]
    }
   ],
   "source": [
    "table = client.get_table(table_ref)  # API Request\n",
    "print(table.schema)"
   ]
  },
  {
   "cell_type": "code",
   "execution_count": 13,
   "metadata": {},
   "outputs": [
    {
     "name": "stdout",
     "output_type": "stream",
     "text": [
      "None\n"
     ]
    }
   ],
   "source": [
    "print(table.description)"
   ]
  },
  {
   "cell_type": "code",
   "execution_count": 14,
   "metadata": {},
   "outputs": [
    {
     "name": "stdout",
     "output_type": "stream",
     "text": [
      "17\n"
     ]
    }
   ],
   "source": [
    "print(table.num_rows)"
   ]
  },
  {
   "cell_type": "markdown",
   "metadata": {},
   "source": [
    "# Load data to BigQuery from a dataframe"
   ]
  },
  {
   "cell_type": "markdown",
   "metadata": {},
   "source": [
    "## Via pandas-gbq"
   ]
  },
  {
   "cell_type": "code",
   "execution_count": 15,
   "metadata": {},
   "outputs": [],
   "source": [
    "DESTINATION_TABLE = 'py3_pandas_gbq_' + time.strftime(\"%Y%m%d_%H%M%S\")"
   ]
  },
  {
   "cell_type": "code",
   "execution_count": 16,
   "metadata": {},
   "outputs": [],
   "source": [
    "df = pd.DataFrame(np.random.randint(low=0, high=10, size=(5, 5)),\n",
    "                  columns=['a', 'b', 'c', 'd', 'e'])"
   ]
  },
  {
   "cell_type": "code",
   "execution_count": 17,
   "metadata": {},
   "outputs": [
    {
     "name": "stderr",
     "output_type": "stream",
     "text": [
      "1it [00:02,  2.25s/it]\n"
     ]
    }
   ],
   "source": [
    "df.to_gbq(destination_table='.'.join([DESTINATION_DATASET, DESTINATION_TABLE]),\n",
    "          project_id=DESTINATION_PROJECT_ID)"
   ]
  },
  {
   "cell_type": "code",
   "execution_count": 18,
   "metadata": {},
   "outputs": [
    {
     "data": {
      "text/html": [
       "<div>\n",
       "<style scoped>\n",
       "    .dataframe tbody tr th:only-of-type {\n",
       "        vertical-align: middle;\n",
       "    }\n",
       "\n",
       "    .dataframe tbody tr th {\n",
       "        vertical-align: top;\n",
       "    }\n",
       "\n",
       "    .dataframe thead th {\n",
       "        text-align: right;\n",
       "    }\n",
       "</style>\n",
       "<table border=\"1\" class=\"dataframe\">\n",
       "  <thead>\n",
       "    <tr style=\"text-align: right;\">\n",
       "      <th></th>\n",
       "      <th>cnt</th>\n",
       "    </tr>\n",
       "  </thead>\n",
       "  <tbody>\n",
       "    <tr>\n",
       "      <th>0</th>\n",
       "      <td>5</td>\n",
       "    </tr>\n",
       "  </tbody>\n",
       "</table>\n",
       "</div>"
      ],
      "text/plain": [
       "   cnt\n",
       "0    5"
      ]
     },
     "execution_count": 18,
     "metadata": {},
     "output_type": "execute_result"
    }
   ],
   "source": [
    "pd.io.gbq.read_gbq('SELECT COUNT(*) AS cnt FROM `{}.{}.{}`'.format(DESTINATION_PROJECT_ID,\n",
    "                                                                   DESTINATION_DATASET,\n",
    "                                                                   DESTINATION_TABLE),\n",
    "                   project_id=BILLING_PROJECT_ID,\n",
    "                   dialect='standard')"
   ]
  },
  {
   "cell_type": "markdown",
   "metadata": {
    "heading_collapsed": true
   },
   "source": [
    "### <font color=\"#FF6600\">(expand for tip) </font> <font color=\"#445555\">What to expect</font><a class=\"tocSkip\">"
   ]
  },
  {
   "cell_type": "markdown",
   "metadata": {
    "hidden": true
   },
   "source": [
    "After running the cells above, you should see three new BQ datasets available under your cloud-native project. Note that if you set the dataset up to autodelete, they will disappear after the set time (so you will not be charged for storage costs)         \n",
    "![BQ datasets_Screen shot](https://storage.googleapis.com/terra-featured-workspaces/QuickStart/Advanced-GCP-features_BQ-datasets_Screen%20shot.png)"
   ]
  },
  {
   "cell_type": "markdown",
   "metadata": {},
   "source": [
    "# Provenance"
   ]
  },
  {
   "cell_type": "code",
   "execution_count": 19,
   "metadata": {},
   "outputs": [
    {
     "name": "stdout",
     "output_type": "stream",
     "text": [
      "2020-11-18 21:44:16.158171\n"
     ]
    }
   ],
   "source": [
    "import datetime\n",
    "print(datetime.datetime.now())"
   ]
  },
  {
   "cell_type": "code",
   "execution_count": 20,
   "metadata": {},
   "outputs": [
    {
     "name": "stdout",
     "output_type": "stream",
     "text": [
      "absl-py==0.10.0\n",
      "argon2-cffi==20.1.0\n",
      "arrow==0.17.0\n",
      "asn1crypto==0.24.0\n",
      "astor==0.8.1\n",
      "astroid==2.4.2\n",
      "astropy==4.1\n",
      "async-generator==1.10\n",
      "attrs==20.2.0\n",
      "backcall==0.2.0\n",
      "bagit==1.7.0\n",
      "bgzip==0.3.5\n",
      "binaryornot==0.4.4\n",
      "biopython==1.72\n",
      "bleach==3.2.1\n",
      "bokeh==1.0.0\n",
      "brewer2mpl==1.4.1\n",
      "bx-python==0.8.2\n",
      "CacheControl==0.11.7\n",
      "cachetools==4.1.1\n",
      "certifi==2020.6.20\n",
      "cffi==1.14.3\n",
      "chardet==3.0.4\n",
      "cli-builder==0.1.4\n",
      "click==7.1.2\n",
      "confuse==1.3.0\n",
      "cookiecutter==1.7.2\n",
      "cryptography==2.1.4\n",
      "cwltool==1.0.20190228155703\n",
      "cycler==0.10.0\n",
      "Cython==0.29.21\n",
      "decorator==4.4.2\n",
      "defusedxml==0.6.0\n",
      "descartes==1.1.0\n",
      "entrypoints==0.3\n",
      "enum34==1.1.6\n",
      "fastinterval==0.1.1\n",
      "firecloud==0.16.25\n",
      "future==0.18.2\n",
      "gast==0.4.0\n",
      "ggplot==0.11.5\n",
      "google-api-core==1.23.0\n",
      "google-auth==1.22.1\n",
      "google-auth-oauthlib==0.4.1\n",
      "google-cloud-bigquery==1.23.1\n",
      "google-cloud-bigquery-datatransfer==0.4.1\n",
      "google-cloud-core==1.4.3\n",
      "google-cloud-datastore==1.10.0\n",
      "google-cloud-resource-manager==0.30.0\n",
      "google-cloud-storage==1.32.0\n",
      "google-crc32c==1.0.0\n",
      "google-pasta==0.2.0\n",
      "google-resumable-media==1.1.0\n",
      "googleapis-common-protos==1.52.0\n",
      "grpcio==1.33.1\n",
      "gs-chunked-io==0.5.2\n",
      "h5py==2.7.1\n",
      "html5lib==0.9999999\n",
      "htmlmin==0.1.12\n",
      "idna==2.6\n",
      "importlib-metadata==2.0.0\n",
      "intel-openmp==2018.0.3\n",
      "ipykernel==5.3.4\n",
      "ipython==7.18.1\n",
      "ipython-genutils==0.2.0\n",
      "ipywidgets==7.5.1\n",
      "isodate==0.6.0\n",
      "isort==5.6.4\n",
      "jedi==0.17.2\n",
      "Jinja2==2.11.2\n",
      "jinja2-time==0.2.0\n",
      "joblib==0.17.0\n",
      "jsonschema==3.2.0\n",
      "jupyter==1.0.0\n",
      "jupyter-client==6.1.7\n",
      "jupyter-console==6.2.0\n",
      "jupyter-contrib-core==0.3.3\n",
      "jupyter-contrib-nbextensions==0.5.1\n",
      "jupyter-core==4.6.3\n",
      "jupyter-highlight-selected-word==0.2.0\n",
      "jupyter-latex-envs==1.4.6\n",
      "jupyter-nbextensions-configurator==0.4.1\n",
      "jupyterlab==0.35.4\n",
      "jupyterlab-pygments==0.1.2\n",
      "jupyterlab-server==0.2.0\n",
      "Keras==2.1.6\n",
      "Keras-Applications==1.0.8\n",
      "Keras-Preprocessing==1.1.2\n",
      "keyring==10.6.0\n",
      "keyrings.alt==3.0\n",
      "kiwisolver==1.3.1\n",
      "lazy-object-proxy==1.4.3\n",
      "llvmlite==0.34.0\n",
      "lockfile==0.12.2\n",
      "lxml==4.6.1\n",
      "Mako==1.1.3\n",
      "Markdown==3.3.3\n",
      "MarkupSafe==1.1.1\n",
      "matplotlib==3.3.3\n",
      "matplotlib-venn==0.11.5\n",
      "mccabe==0.6.1\n",
      "missingno==0.4.2\n",
      "mistune==0.8.4\n",
      "mizani==0.7.2\n",
      "mkl==2018.0.3\n",
      "mypy-extensions==0.4.3\n",
      "nbclient==0.5.1\n",
      "nbconvert==6.0.7\n",
      "nbformat==5.0.8\n",
      "nest-asyncio==1.4.2\n",
      "networkx==2.5\n",
      "nose==1.3.7\n",
      "notebook==6.1.1\n",
      "numba==0.51.2\n",
      "numpy==1.19.4\n",
      "oauthlib==3.1.0\n",
      "packaging==20.4\n",
      "palettable==3.3.0\n",
      "pandas==1.1.4\n",
      "pandas-gbq==0.12.0\n",
      "pandas-profiling==2.4.0\n",
      "pandocfilters==1.4.3\n",
      "parso==0.7.1\n",
      "patsy==0.5.1\n",
      "pdoc3==0.7.2\n",
      "pexpect==4.8.0\n",
      "phik==0.10.0\n",
      "pickleshare==0.7.5\n",
      "Pillow==8.0.1\n",
      "plotnine==0.7.1\n",
      "poyo==0.5.0\n",
      "prometheus-client==0.8.0\n",
      "prompt-toolkit==3.0.8\n",
      "proto-plus==1.11.0\n",
      "protobuf==3.13.0\n",
      "prov==1.5.1\n",
      "psutil==5.7.3\n",
      "ptyprocess==0.6.0\n",
      "py4j==0.10.7\n",
      "pyasn1==0.4.8\n",
      "pyasn1-modules==0.2.8\n",
      "pycparser==2.20\n",
      "pycrypto==2.6.1\n",
      "pydata-google-auth==1.1.0\n",
      "pydot==1.4.1\n",
      "pyfasta==0.5.2\n",
      "Pygments==2.7.2\n",
      "pygobject==3.26.1\n",
      "pylint==1.7.2\n",
      "pymc3==3.1\n",
      "pyOpenSSL==19.1.0\n",
      "pyparsing==2.4.7\n",
      "pyrsistent==0.17.3\n",
      "pysam==0.15.4\n",
      "python-apt==1.6.5+ubuntu0.3\n",
      "python-datauri==0.2.9\n",
      "python-dateutil==2.8.1\n",
      "python-lzo==1.12\n",
      "python-slugify==4.0.1\n",
      "pytz==2020.4\n",
      "PyVCF==0.6.8\n",
      "pyxdg==0.25\n",
      "PyYAML==5.3.1\n",
      "pyzmq==19.0.2\n",
      "qtconsole==4.7.7\n",
      "QtPy==1.9.0\n",
      "rdflib==4.2.2\n",
      "rdflib-jsonld==0.4.0\n",
      "readline==6.2.0\n",
      "requests==2.24.0\n",
      "requests-oauthlib==1.3.0\n",
      "rsa==4.6\n",
      "ruamel.yaml==0.15.77\n",
      "scandir==1.10.0\n",
      "schema-salad==4.5.20191229160203\n",
      "scikit-learn==0.21.3\n",
      "scipy==1.5.4\n",
      "seaborn==0.9.0\n",
      "SecretStorage==2.3.1\n",
      "Send2Trash==1.5.0\n",
      "shellescape==3.4.1\n",
      "six==1.15.0\n",
      "statsmodels==0.12.1\n",
      "tb-nightly==1.14.0a20190301\n",
      "tensorflow==2.0.0a0\n",
      "termcolor==1.1.0\n",
      "terminado==0.9.1\n",
      "terra-notebook-utils==0.2.1\n",
      "testpath==0.4.4\n",
      "text-unidecode==1.3\n",
      "tf-estimator-nightly==1.14.0.dev2019030115\n",
      "Theano==0.9.0\n",
      "tornado==5.1.1\n",
      "tqdm==4.19.4\n",
      "traitlets==5.0.5\n",
      "typed-ast==1.4.1\n",
      "typing-extensions==3.7.4.3\n",
      "unattended-upgrades==0.1\n",
      "urllib3==1.25.11\n",
      "wcwidth==0.2.5\n",
      "webencodings==0.5.1\n",
      "Werkzeug==0.12.2\n",
      "widgetsnbextension==3.5.1\n",
      "wrapt==1.12.1\n",
      "zipp==3.4.0\n"
     ]
    }
   ],
   "source": [
    "!pip3 freeze"
   ]
  },
  {
   "cell_type": "markdown",
   "metadata": {},
   "source": [
    "Copyright 2018 The Broad Institute, Inc., Verily Life Sciences, LLC All rights reserved.\n",
    "\n",
    "This software may be modified and distributed under the terms of the BSD license. See the LICENSE file for details."
   ]
  }
 ],
 "metadata": {
  "environment": {
   "name": "r-cpu.3-6.m56",
   "type": "gcloud",
   "uri": "gcr.io/deeplearning-platform-release/r-cpu.3-6:m56"
  },
  "kernelspec": {
   "display_name": "Python 3",
   "language": "python",
   "name": "python3"
  },
  "language_info": {
   "codemirror_mode": {
    "name": "ipython",
    "version": 3
   },
   "file_extension": ".py",
   "mimetype": "text/x-python",
   "name": "python",
   "nbconvert_exporter": "python",
   "pygments_lexer": "ipython3",
   "version": "3.7.8"
  },
  "toc": {
   "base_numbering": 1,
   "nav_menu": {},
   "number_sections": true,
   "sideBar": true,
   "skip_h1_title": false,
   "title_cell": "Table of Contents",
   "title_sidebar": "Contents",
   "toc_cell": false,
   "toc_position": {},
   "toc_section_display": true,
   "toc_window_display": true
  }
 },
 "nbformat": 4,
 "nbformat_minor": 4
}
