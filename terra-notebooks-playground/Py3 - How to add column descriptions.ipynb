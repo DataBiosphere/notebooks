{
 "cells": [
  {
   "cell_type": "markdown",
   "metadata": {},
   "source": [
    "# **MAKE A COPY IF YOU WANT TO RUN THIS NOTEBOOK**\n",
    "Please don't change this copy of the notebook unless you intend to update/improve the code.\n",
    "\n",
    "# Cohort Examples\n",
    "This notebook provides an example of how to add column descriptions to a bigquery table."
   ]
  },
  {
   "cell_type": "markdown",
   "metadata": {},
   "source": [
    "## Setup\n",
    "\n",
    "First, be sure to run the [**`Python Environment Setup notebook`**](https://app.terra.bio/#workspaces/fc-product-demo/Baseline%20Health%20Study/notebooks/launch/Python%20Environment%20Setup.ipynb) in this workspace."
   ]
  },
  {
   "cell_type": "code",
   "execution_count": 1,
   "metadata": {},
   "outputs": [],
   "source": [
    "import os\n",
    "from google.cloud import bigquery"
   ]
  },
  {
   "cell_type": "code",
   "execution_count": null,
   "metadata": {},
   "outputs": [],
   "source": [
    "PROJECT = 'PROJECT-NAME-HERE'\n",
    "DATASET_IDS = ['DATASET-1-HERE', 'DATASET-2-HERE']\n",
    "\n",
    "# Step 1: Parse the spreadsheets and create dict of table.column_name -> description\n",
    "\n",
    "# Assuming the csv files containing descriptions are in directory 'source_csvs'\n",
    "source_directory = 'source_csvs'\n",
    "\n",
    "# Optional: Mark some files to skip\n",
    "files_to_skip = ['FILE1.csv', 'FILE2.csv']\n",
    "\n",
    "descriptions = {}\n",
    "for file in os.listdir(source_directory):\n",
    "  if file in files_to_skip:\n",
    "    continue\n",
    "  with open(os.path.join(source_directory, file), 'r') as f:\n",
    "    lines = f.read().splitlines()\n",
    "    # skip header\n",
    "    lines = lines[1:]\n",
    "    for line in lines:\n",
    "      column_name = line.split(',')[0]\n",
    "      if not column_name:\n",
    "        continue\n",
    "      try:\n",
    "        description = line.split(',')[2]\n",
    "      except Exception as e:\n",
    "        description = ''\n",
    "        continue\n",
    "      if not description:\n",
    "          continue\n",
    "            \n",
    "      descriptions[column_name] = description.strip('\\\"')\n",
    "\n",
    "\n"
   ]
  },
  {
   "cell_type": "code",
   "execution_count": null,
   "metadata": {},
   "outputs": [],
   "source": [
    "# Step 2: Fetch the baseline tables, and change their column descriptions if we have it\n",
    "\n",
    "client = bigquery.Client(project=PROJECT)\n",
    "\n",
    "for dataset_id in DATASET_IDS:\n",
    "  dataset_ref = client.dataset(dataset_id)\n",
    "\n",
    "  dataset = client.get_dataset(dataset_ref)\n",
    "\n",
    "  full_dataset_id = \"{}.{}\".format(dataset.project, dataset.dataset_id)\n",
    "\n",
    "  tables = list(client.list_tables(dataset))  # API request(s)\n",
    "  table_to_column_name = {}\n",
    "  for table in tables:\n",
    "    table_ref = dataset_ref.table(table.table_id)\n",
    "    table_obj = client.get_table(table_ref)\n",
    "    new_schema = []\n",
    "    for schema_field in table_obj.schema:\n",
    "      column_name = schema_field.name\n",
    "      new_description = descriptions.get(column_name, '')\n",
    "      new_schema_field = bigquery.SchemaField(schema_field.name,\n",
    "        schema_field.field_type, \n",
    "        schema_field.mode,\n",
    "        new_description,\n",
    "        schema_field.fields\n",
    "      )\n",
    "      new_schema.append(new_schema_field)\n",
    "    table_obj.schema = new_schema\n",
    "    client.update_table(table_obj, ['schema'])\n",
    "    print('Updated table {}'.format(table.table_id))"
   ]
  }
 ],
 "metadata": {
  "kernelspec": {
   "display_name": "Python 3",
   "language": "python",
   "name": "python3"
  },
  "language_info": {
   "codemirror_mode": {
    "name": "ipython",
    "version": 3
   },
   "file_extension": ".py",
   "mimetype": "text/x-python",
   "name": "python",
   "nbconvert_exporter": "python",
   "pygments_lexer": "ipython3",
   "version": "3.6.8"
  },
  "toc": {
   "base_numbering": 1,
   "nav_menu": {},
   "number_sections": true,
   "sideBar": true,
   "skip_h1_title": false,
   "title_cell": "Table of Contents",
   "title_sidebar": "Contents",
   "toc_cell": false,
   "toc_position": {},
   "toc_section_display": true,
   "toc_window_display": false
  }
 },
 "nbformat": 4,
 "nbformat_minor": 2
}
