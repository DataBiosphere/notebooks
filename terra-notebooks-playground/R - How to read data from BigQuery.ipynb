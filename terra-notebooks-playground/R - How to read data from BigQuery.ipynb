{
 "cells": [
  {
   "cell_type": "markdown",
   "metadata": {},
   "source": [
    "# How to read data from BigQuery\n",
    "\n",
    "This notebook demonstrates two ways to use BigQuery with R\n",
    "1. by using SQL\n",
    "2. by using only R code to extract the data of interest from BigQuery"
   ]
  },
  {
   "cell_type": "markdown",
   "metadata": {},
   "source": [
    "## Setup\n",
    "\n",
    "First, be sure to run notebook **`R environment setup`** in this workspace.\n",
    "\n",
    "Then in this section we:\n",
    "\n",
    "1. load the needed R packages\n",
    "2. set the project id of the cloud project to bill for queries to BigQuery\n",
    "3. authorize our bigquery client library to issue requests"
   ]
  },
  {
   "cell_type": "code",
   "execution_count": 1,
   "metadata": {},
   "outputs": [
    {
     "name": "stderr",
     "output_type": "stream",
     "text": [
      "\n",
      "Attaching package: ‘dplyr’\n",
      "\n",
      "\n",
      "The following objects are masked from ‘package:stats’:\n",
      "\n",
      "    filter, lag\n",
      "\n",
      "\n",
      "The following objects are masked from ‘package:base’:\n",
      "\n",
      "    intersect, setdiff, setequal, union\n",
      "\n",
      "\n"
     ]
    }
   ],
   "source": [
    "# Load the libraries into memory\n",
    "library(bigrquery)\n",
    "library(dplyr)\n",
    "library(skimr)\n",
    "library(ggplot2)"
   ]
  },
  {
   "cell_type": "code",
   "execution_count": 2,
   "metadata": {},
   "outputs": [],
   "source": [
    "# Authorize bigrquery client\n",
    "BILLING_PROJECT_ID <- Sys.getenv('GOOGLE_PROJECT')"
   ]
  },
  {
   "cell_type": "markdown",
   "metadata": {},
   "source": [
    "## Retrieve filtered data.\n",
    "Let’s retrieve a subset of fields and samples in metadata for [1000 Genomes](http://www.internationalgenome.org/data \"1000 Genomes\").\n",
    "\n",
    "We can do this in two different ways and they both return the exact same results\n",
    "\n",
    "1. using SQL and bigrquery\n",
    "2. using dplyr and dbplyr\n",
    "\n",
    "### Option 1: Retrieve filtered data from BigQuery using bigrquery.\n",
    "To learn more about SQL syntax see the [BigQuery standard SQL reference](https://cloud.google.com/bigquery/docs/reference/standard-sql/)."
   ]
  },
  {
   "cell_type": "code",
   "execution_count": 3,
   "metadata": {},
   "outputs": [],
   "source": [
    "# Run a query \n",
    "phase1_samples_tbl <- bigrquery::bq_project_query(\n",
    "    BILLING_PROJECT_ID,\n",
    "    query = '\n",
    "SELECT\n",
    "  Sample,\n",
    "  Gender,\n",
    "  Relationship,\n",
    "  Population,\n",
    "  Population_Description,\n",
    "  Super_Population,\n",
    "  Super_Population_Description,\n",
    "  Total_Exome_Sequence,\n",
    "  Main_Project_E_Platform,\n",
    "  Main_Project_E_Centers\n",
    "FROM\n",
    "  `bigquery-public-data.human_genome_variants.1000_genomes_sample_info`\n",
    "WHERE\n",
    "  -- Only include information for samples in phase 1.\n",
    "  In_Phase1_Integrated_Variant_Set = TRUE\n",
    "  -- Only include information for samples with these relationships.\n",
    "  AND Relationship IN (\"\", \"unrel\", \"child\", \"father\", \"mother\",\n",
    "  \"mat grandmother\", \"pat grandmother\",\n",
    "  \"mat grandfather\", \"pat grandfather\")\n",
    "')\n",
    "\n",
    "phase1_samples <- bigrquery::bq_table_download(phase1_samples_tbl)"
   ]
  },
  {
   "cell_type": "code",
   "execution_count": 4,
   "metadata": {},
   "outputs": [
    {
     "data": {
      "text/html": [
       "<ol class=list-inline>\n",
       "\t<li>1086</li>\n",
       "\t<li>10</li>\n",
       "</ol>\n"
      ],
      "text/latex": [
       "\\begin{enumerate*}\n",
       "\\item 1086\n",
       "\\item 10\n",
       "\\end{enumerate*}\n"
      ],
      "text/markdown": [
       "1. 1086\n",
       "2. 10\n",
       "\n",
       "\n"
      ],
      "text/plain": [
       "[1] 1086   10"
      ]
     },
     "metadata": {},
     "output_type": "display_data"
    }
   ],
   "source": [
    "dim(phase1_samples)"
   ]
  },
  {
   "cell_type": "code",
   "execution_count": 5,
   "metadata": {},
   "outputs": [
    {
     "name": "stdout",
     "output_type": "stream",
     "text": [
      "── Data Summary ────────────────────────\n",
      "                           Values        \n",
      "Name                       phase1_samples\n",
      "Number of rows             1086          \n",
      "Number of columns          10            \n",
      "_______________________                  \n",
      "Column type frequency:                   \n",
      "  character                9             \n",
      "  numeric                  1             \n",
      "________________________                 \n",
      "Group variables            None          \n",
      "\n",
      "── Variable type: character ────────────────────────────────────────────────────\n",
      "\n",
      "\n",
      "── Variable type: numeric ──────────────────────────────────────────────────────\n",
      "\n"
     ]
    }
   ],
   "source": [
    "print(skim(phase1_samples))"
   ]
  },
  {
   "cell_type": "code",
   "execution_count": 6,
   "metadata": {},
   "outputs": [
    {
     "data": {
      "image/png": "[encoded data removed]",
      "text/plain": [
       "plot without title"
      ]
     },
     "metadata": {
      "image/png": {
       "height": 420,
       "width": 420
      },
      "text/plain": {
       "height": 420,
       "width": 420
      }
     },
     "output_type": "display_data"
    }
   ],
   "source": [
    "ggplot(data = phase1_samples,\n",
    "       aes(x=Relationship, fill=Relationship)) +\n",
    "  geom_bar() +\n",
    "  theme(axis.text.x = element_text(angle = 50, hjust = 1, vjust = 1))"
   ]
  },
  {
   "cell_type": "markdown",
   "metadata": {},
   "source": [
    "### Option 2: Retrieve filtered data from BigQuery using dplyr.\n",
    "To learn more about dplyr see [R for Data Science Chapter 5 Data transformation](http://r4ds.had.co.nz/transform.html \"Chapter 5\")."
   ]
  },
  {
   "cell_type": "code",
   "execution_count": 7,
   "metadata": {},
   "outputs": [],
   "source": [
    "# Create a \"connection\" to a public BigQuery dataset.\n",
    "dbcon <- bigrquery::src_bigquery(project = 'bigquery-public-data',\n",
    "                                 dataset = 'human_genome_variants',\n",
    "                                 billing = BILLING_PROJECT_ID)\n",
    "\n",
    "# Create a 'virtual dataframe' backed by a BigQuery table.\n",
    "sample_info <- dplyr::tbl(dbcon, '1000_genomes_sample_info')"
   ]
  },
  {
   "cell_type": "code",
   "execution_count": 8,
   "metadata": {},
   "outputs": [],
   "source": [
    "phase1_only <- sample_info %>% filter(\n",
    "    In_Phase1_Integrated_Variant_Set == TRUE,\n",
    "    Relationship %in% c(\n",
    "      '', 'unrel', 'child', 'father', 'mother',\n",
    "      'mat grandmother', 'pat grandmother',\n",
    "      'mat grandfather', 'pat grandfather')\n",
    "  )\n",
    "# Nothing is computed on BigQuery yet."
   ]
  },
  {
   "cell_type": "code",
   "execution_count": 9,
   "metadata": {},
   "outputs": [],
   "source": [
    "sample_fields <- phase1_only %>% select(\n",
    "  Sample,\n",
    "  Gender,\n",
    "  Relationship,\n",
    "  Population,\n",
    "  Population_Description,\n",
    "  Super_Population,\n",
    "  Super_Population_Description,\n",
    "  Total_Exome_Sequence,\n",
    "  Main_Project_E_Platform,\n",
    "  Main_Project_E_Centers\n",
    "  )\n",
    "# Still nothing computed on BigQuery."
   ]
  },
  {
   "cell_type": "code",
   "execution_count": 10,
   "metadata": {},
   "outputs": [
    {
     "name": "stdout",
     "output_type": "stream",
     "text": [
      "<SQL>\n",
      "SELECT `Sample`, `Gender`, `Relationship`, `Population`, `Population_Description`, `Super_Population`, `Super_Population_Description`, `Total_Exome_Sequence`, `Main_Project_E_Platform`, `Main_Project_E_Centers`\n",
      "FROM `1000_genomes_sample_info`\n",
      "WHERE ((`In_Phase1_Integrated_Variant_Set` = TRUE) AND (`Relationship` IN ('', 'unrel', 'child', 'father', 'mother', 'mat grandmother', 'pat grandmother', 'mat grandfather', 'pat grandfather')))\n"
     ]
    }
   ],
   "source": [
    "# Optional: take a look at the SQL.\n",
    "dplyr::show_query(sample_fields)"
   ]
  },
  {
   "cell_type": "code",
   "execution_count": 11,
   "metadata": {},
   "outputs": [
    {
     "data": {
      "text/html": [
       "<table>\n",
       "<caption>A tibble: 1 × 1</caption>\n",
       "<thead>\n",
       "\t<tr><th scope=col>cnt</th></tr>\n",
       "\t<tr><th scope=col>&lt;int&gt;</th></tr>\n",
       "</thead>\n",
       "<tbody>\n",
       "\t<tr><td>1086</td></tr>\n",
       "</tbody>\n",
       "</table>\n"
      ],
      "text/latex": [
       "A tibble: 1 × 1\n",
       "\\begin{tabular}{r|l}\n",
       " cnt\\\\\n",
       " <int>\\\\\n",
       "\\hline\n",
       "\t 1086\\\\\n",
       "\\end{tabular}\n"
      ],
      "text/markdown": [
       "\n",
       "A tibble: 1 × 1\n",
       "\n",
       "| cnt &lt;int&gt; |\n",
       "|---|\n",
       "| 1086 |\n",
       "\n"
      ],
      "text/plain": [
       "  cnt \n",
       "1 1086"
      ]
     },
     "metadata": {},
     "output_type": "display_data"
    }
   ],
   "source": [
    "# Optional: See how much data this will return.\n",
    "sample_fields %>% summarize(cnt = n()) %>% collect()"
   ]
  },
  {
   "cell_type": "code",
   "execution_count": 12,
   "metadata": {},
   "outputs": [],
   "source": [
    "# Execute the query and return all results into an in-memory table in R.\n",
    "phase1_samples <- sample_fields %>% collect()"
   ]
  },
  {
   "cell_type": "code",
   "execution_count": 13,
   "metadata": {},
   "outputs": [
    {
     "data": {
      "text/html": [
       "<ol class=list-inline>\n",
       "\t<li>1086</li>\n",
       "\t<li>10</li>\n",
       "</ol>\n"
      ],
      "text/latex": [
       "\\begin{enumerate*}\n",
       "\\item 1086\n",
       "\\item 10\n",
       "\\end{enumerate*}\n"
      ],
      "text/markdown": [
       "1. 1086\n",
       "2. 10\n",
       "\n",
       "\n"
      ],
      "text/plain": [
       "[1] 1086   10"
      ]
     },
     "metadata": {},
     "output_type": "display_data"
    }
   ],
   "source": [
    "dim(phase1_samples)"
   ]
  },
  {
   "cell_type": "code",
   "execution_count": 14,
   "metadata": {},
   "outputs": [
    {
     "data": {
      "image/png": "[encoded data removed]",
      "text/plain": [
       "plot without title"
      ]
     },
     "metadata": {
      "image/png": {
       "height": 420,
       "width": 420
      },
      "text/plain": {
       "height": 420,
       "width": 420
      }
     },
     "output_type": "display_data"
    }
   ],
   "source": [
    "ggplot(data = phase1_samples,\n",
    "       aes(x=Relationship, fill=Relationship)) +\n",
    "  geom_bar() +\n",
    "  theme(axis.text.x = element_text(angle = 50, hjust = 1, vjust = 1))"
   ]
  },
  {
   "cell_type": "markdown",
   "metadata": {},
   "source": [
    "# Provenance"
   ]
  },
  {
   "cell_type": "code",
   "execution_count": 15,
   "metadata": {},
   "outputs": [
    {
     "data": {
      "text/plain": [
       "─ Session info ───────────────────────────────────────────────────────────────\n",
       " setting  value                       \n",
       " version  R version 3.5.2 (2018-12-20)\n",
       " os       Debian GNU/Linux 9 (stretch)\n",
       " system   x86_64, linux-gnu           \n",
       " ui       X11                         \n",
       " language (EN)                        \n",
       " collate  en_US.UTF-8                 \n",
       " ctype    en_US.UTF-8                 \n",
       " tz       Etc/UTC                     \n",
       " date     2020-01-13                  \n",
       "\n",
       "─ Packages ───────────────────────────────────────────────────────────────────\n",
       " package     * version    date       lib source                            \n",
       " assertthat    0.2.1      2019-03-21 [2] CRAN (R 3.5.2)                    \n",
       " backports     1.1.4      2019-04-10 [2] CRAN (R 3.5.2)                    \n",
       " base64enc     0.1-3      2015-07-28 [2] CRAN (R 3.5.2)                    \n",
       " bigrquery   * 1.2.0      2019-07-02 [2] CRAN (R 3.5.2)                    \n",
       " bit           1.1-14     2018-05-29 [2] CRAN (R 3.5.2)                    \n",
       " bit64         0.9-7      2017-05-08 [2] CRAN (R 3.5.2)                    \n",
       " callr         3.3.1      2019-07-18 [2] CRAN (R 3.5.2)                    \n",
       " cli           1.1.0      2019-03-19 [2] CRAN (R 3.5.2)                    \n",
       " colorspace    1.4-1      2019-03-18 [2] CRAN (R 3.5.2)                    \n",
       " crayon        1.3.4      2017-09-16 [2] CRAN (R 3.5.2)                    \n",
       " curl          4.0        2019-07-22 [2] CRAN (R 3.5.2)                    \n",
       " DBI           1.0.0      2018-05-02 [2] CRAN (R 3.5.2)                    \n",
       " dbplyr        1.4.2      2019-06-17 [2] CRAN (R 3.5.2)                    \n",
       " desc          1.2.0      2018-05-01 [2] CRAN (R 3.5.2)                    \n",
       " devtools      2.1.0      2019-07-06 [2] CRAN (R 3.5.2)                    \n",
       " digest        0.6.20     2019-07-04 [2] CRAN (R 3.5.2)                    \n",
       " dplyr       * 0.8.3      2019-07-04 [2] CRAN (R 3.5.2)                    \n",
       " evaluate      0.14       2019-05-28 [2] CRAN (R 3.5.2)                    \n",
       " fansi         0.4.0      2018-10-05 [2] CRAN (R 3.5.2)                    \n",
       " fs            1.3.1      2019-05-06 [2] CRAN (R 3.5.2)                    \n",
       " gargle        0.3.1      2019-07-26 [2] CRAN (R 3.5.2)                    \n",
       " ggplot2     * 3.2.1      2019-08-10 [2] CRAN (R 3.5.2)                    \n",
       " glue          1.3.1      2019-03-12 [2] CRAN (R 3.5.2)                    \n",
       " gtable        0.3.0      2019-03-25 [2] CRAN (R 3.5.2)                    \n",
       " htmltools     0.3.6      2017-04-28 [2] CRAN (R 3.5.2)                    \n",
       " httr          1.4.1      2019-08-05 [2] CRAN (R 3.5.2)                    \n",
       " IRdisplay     0.7.0      2018-11-29 [2] CRAN (R 3.5.2)                    \n",
       " IRkernel      1.0.2.9000 2019-08-23 [2] Github (IRkernel/IRkernel@d7f0b08)\n",
       " jsonlite      1.6        2018-12-07 [2] CRAN (R 3.5.2)                    \n",
       " knitr         1.24       2019-08-08 [2] CRAN (R 3.5.2)                    \n",
       " labeling      0.3        2014-08-23 [2] CRAN (R 3.5.2)                    \n",
       " lazyeval      0.2.2      2019-03-15 [2] CRAN (R 3.5.2)                    \n",
       " lifecycle     0.1.0      2019-08-01 [1] CRAN (R 3.5.2)                    \n",
       " magrittr      1.5        2014-11-22 [2] CRAN (R 3.5.2)                    \n",
       " memoise       1.1.0      2017-04-21 [2] CRAN (R 3.5.2)                    \n",
       " munsell       0.5.0      2018-06-12 [2] CRAN (R 3.5.2)                    \n",
       " pbdZMQ        0.3-3      2018-05-05 [2] CRAN (R 3.5.2)                    \n",
       " pillar        1.4.2      2019-06-29 [2] CRAN (R 3.5.2)                    \n",
       " pkgbuild      1.0.4      2019-08-05 [2] CRAN (R 3.5.2)                    \n",
       " pkgconfig     2.0.2      2018-08-16 [2] CRAN (R 3.5.2)                    \n",
       " pkgload       1.0.2      2018-10-29 [2] CRAN (R 3.5.2)                    \n",
       " prettyunits   1.0.2      2015-07-13 [2] CRAN (R 3.5.2)                    \n",
       " processx      3.4.1      2019-07-18 [2] CRAN (R 3.5.2)                    \n",
       " ps            1.3.0      2018-12-21 [2] CRAN (R 3.5.2)                    \n",
       " purrr         0.3.2      2019-03-15 [2] CRAN (R 3.5.2)                    \n",
       " R6            2.4.0      2019-02-14 [2] CRAN (R 3.5.2)                    \n",
       " Rcpp          1.0.2      2019-07-25 [2] CRAN (R 3.5.2)                    \n",
       " remotes       2.1.0      2019-06-24 [2] CRAN (R 3.5.2)                    \n",
       " repr          1.0.1      2019-05-14 [2] CRAN (R 3.5.2)                    \n",
       " rlang         0.4.0      2019-06-25 [2] CRAN (R 3.5.2)                    \n",
       " rprojroot     1.3-2      2018-01-03 [2] CRAN (R 3.5.2)                    \n",
       " scales        1.0.0      2018-08-09 [2] CRAN (R 3.5.2)                    \n",
       " sessioninfo   1.1.1      2018-11-05 [2] CRAN (R 3.5.2)                    \n",
       " skimr       * 2.0.2      2019-11-26 [1] CRAN (R 3.5.2)                    \n",
       " stringi       1.4.3      2019-03-12 [2] CRAN (R 3.5.2)                    \n",
       " stringr       1.4.0      2019-02-10 [2] CRAN (R 3.5.2)                    \n",
       " testthat      2.2.1      2019-07-25 [2] CRAN (R 3.5.2)                    \n",
       " tibble        2.1.3      2019-06-06 [2] CRAN (R 3.5.2)                    \n",
       " tidyr         1.0.0      2019-09-11 [1] CRAN (R 3.5.2)                    \n",
       " tidyselect    0.2.5      2018-10-11 [2] CRAN (R 3.5.2)                    \n",
       " usethis       1.5.1      2019-07-04 [2] CRAN (R 3.5.2)                    \n",
       " utf8          1.1.4      2018-05-24 [2] CRAN (R 3.5.2)                    \n",
       " uuid          0.1-2      2015-07-28 [2] CRAN (R 3.5.2)                    \n",
       " vctrs         0.2.0      2019-07-05 [2] CRAN (R 3.5.2)                    \n",
       " withr         2.1.2      2018-03-15 [2] CRAN (R 3.5.2)                    \n",
       " xfun          0.9        2019-08-21 [2] CRAN (R 3.5.2)                    \n",
       " zeallot       0.1.0      2018-01-28 [2] CRAN (R 3.5.2)                    \n",
       "\n",
       "[1] /home/jupyter-user/.rpackages\n",
       "[2] /usr/local/lib/R/site-library\n",
       "[3] /usr/lib/R/site-library\n",
       "[4] /usr/lib/R/library"
      ]
     },
     "metadata": {},
     "output_type": "display_data"
    }
   ],
   "source": [
    "devtools::session_info()"
   ]
  },
  {
   "cell_type": "markdown",
   "metadata": {},
   "source": [
    "Copyright 2018 The Broad Institute, Inc., Verily Life Sciences, LLC All rights reserved.\n",
    "\n",
    "This software may be modified and distributed under the terms of the BSD license. See the LICENSE file for details."
   ]
  }
 ],
 "metadata": {
  "kernelspec": {
   "display_name": "R",
   "language": "R",
   "name": "ir"
  },
  "language_info": {
   "codemirror_mode": "r",
   "file_extension": ".r",
   "mimetype": "text/x-r-source",
   "name": "R",
   "pygments_lexer": "r",
   "version": "3.5.2"
  },
  "toc": {
   "base_numbering": 1,
   "nav_menu": {},
   "number_sections": true,
   "sideBar": true,
   "skip_h1_title": false,
   "title_cell": "Table of Contents",
   "title_sidebar": "Contents",
   "toc_cell": false,
   "toc_position": {
    "height": "calc(100% - 180px)",
    "left": "10px",
    "top": "150px",
    "width": "311.516px"
   },
   "toc_section_display": true,
   "toc_window_display": true
  }
 },
 "nbformat": 4,
 "nbformat_minor": 2
}
