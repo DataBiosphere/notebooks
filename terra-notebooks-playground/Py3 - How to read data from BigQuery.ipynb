{
 "cells": [
  {
   "cell_type": "markdown",
   "metadata": {},
   "source": [
    "# How to read data from BigQuery\n",
    "\n",
    "This notebook demonstrates two ways to use BigQuery with Python\n",
    "1. by using SQL via [pandas-gbq](https://pandas-gbq.readthedocs.io/en/latest/)\n",
    "2. by using only Python code to extract the data of interest from BigQuery via [Ibis](https://docs.ibis-project.org/)"
   ]
  },
  {
   "cell_type": "markdown",
   "metadata": {},
   "source": [
    "## Setup\n",
    "\n",
    "First, be sure to run notebook **`Python environment setup`** in this workspace.\n",
    "\n",
    "Then in this section we:\n",
    "\n",
    "1. load the needed python packages\n",
    "2. set the project id of the cloud project to bill for queries to BigQuery"
   ]
  },
  {
   "cell_type": "code",
   "execution_count": 1,
   "metadata": {},
   "outputs": [],
   "source": [
    "import pandas as pd\n",
    "import pandas_gbq\n",
    "import ibis\n",
    "import os"
   ]
  },
  {
   "cell_type": "code",
   "execution_count": 2,
   "metadata": {},
   "outputs": [],
   "source": [
    "BILLING_PROJECT_ID = os.environ['GOOGLE_PROJECT']"
   ]
  },
  {
   "cell_type": "markdown",
   "metadata": {},
   "source": [
    "## Option 1: Retrieve filtered data from BigQuery using SQL.\n",
    "\n",
    "The following SQL will read a subset of columns and subset of rows from a BigQuery table into a Pandas dataframe.\n",
    "* [Pandas](http://pandas.pydata.org/pandas-docs/stable/) is a popular Python package for data manipulation.\n",
    "* To learn more about SQL syntax see the [BigQuery standard SQL reference](https://cloud.google.com/bigquery/docs/reference/standard-sql/)."
   ]
  },
  {
   "cell_type": "code",
   "execution_count": 3,
   "metadata": {},
   "outputs": [],
   "source": [
    "sample_info = pd.read_gbq(\"\"\"\n",
    "SELECT\n",
    "  Sample,\n",
    "  Gender,\n",
    "  Relationship,\n",
    "  Population,\n",
    "  Population_Description,\n",
    "  Super_Population,\n",
    "  Super_Population_Description,\n",
    "  Total_Exome_Sequence,\n",
    "  Main_Project_E_Platform,\n",
    "  Main_Project_E_Centers\n",
    "FROM\n",
    "  `bigquery-public-data.human_genome_variants.1000_genomes_sample_info`\n",
    "WHERE\n",
    "  -- Only include information for samples in phase 1.\n",
    "  In_Phase1_Integrated_Variant_Set = TRUE\n",
    "\"\"\",\n",
    "    project_id=BILLING_PROJECT_ID,\n",
    "    dialect='standard')"
   ]
  },
  {
   "cell_type": "code",
   "execution_count": 4,
   "metadata": {},
   "outputs": [
    {
     "name": "stdout",
     "output_type": "stream",
     "text": [
      "<class 'pandas.core.frame.DataFrame'>\n",
      "RangeIndex: 1092 entries, 0 to 1091\n",
      "Data columns (total 10 columns):\n",
      "Sample                          1092 non-null object\n",
      "Gender                          1092 non-null object\n",
      "Relationship                    1092 non-null object\n",
      "Population                      1092 non-null object\n",
      "Population_Description          1092 non-null object\n",
      "Super_Population                1092 non-null object\n",
      "Super_Population_Description    1092 non-null object\n",
      "Total_Exome_Sequence            1069 non-null float64\n",
      "Main_Project_E_Platform         1092 non-null object\n",
      "Main_Project_E_Centers          1092 non-null object\n",
      "dtypes: float64(1), object(9)\n",
      "memory usage: 85.4+ KB\n"
     ]
    }
   ],
   "source": [
    "sample_info.info()"
   ]
  },
  {
   "cell_type": "code",
   "execution_count": 5,
   "metadata": {},
   "outputs": [
    {
     "data": {
      "text/html": [
       "<div>\n",
       "<style scoped>\n",
       "    .dataframe tbody tr th:only-of-type {\n",
       "        vertical-align: middle;\n",
       "    }\n",
       "\n",
       "    .dataframe tbody tr th {\n",
       "        vertical-align: top;\n",
       "    }\n",
       "\n",
       "    .dataframe thead th {\n",
       "        text-align: right;\n",
       "    }\n",
       "</style>\n",
       "<table border=\"1\" class=\"dataframe\">\n",
       "  <thead>\n",
       "    <tr style=\"text-align: right;\">\n",
       "      <th></th>\n",
       "      <th>Total_Exome_Sequence</th>\n",
       "    </tr>\n",
       "  </thead>\n",
       "  <tbody>\n",
       "    <tr>\n",
       "      <th>count</th>\n",
       "      <td>1.069000e+03</td>\n",
       "    </tr>\n",
       "    <tr>\n",
       "      <th>mean</th>\n",
       "      <td>1.028243e+10</td>\n",
       "    </tr>\n",
       "    <tr>\n",
       "      <th>std</th>\n",
       "      <td>3.845551e+09</td>\n",
       "    </tr>\n",
       "    <tr>\n",
       "      <th>min</th>\n",
       "      <td>2.477265e+09</td>\n",
       "    </tr>\n",
       "    <tr>\n",
       "      <th>25%</th>\n",
       "      <td>8.078811e+09</td>\n",
       "    </tr>\n",
       "    <tr>\n",
       "      <th>50%</th>\n",
       "      <td>9.730942e+09</td>\n",
       "    </tr>\n",
       "    <tr>\n",
       "      <th>75%</th>\n",
       "      <td>1.142406e+10</td>\n",
       "    </tr>\n",
       "    <tr>\n",
       "      <th>max</th>\n",
       "      <td>3.511709e+10</td>\n",
       "    </tr>\n",
       "  </tbody>\n",
       "</table>\n",
       "</div>"
      ],
      "text/plain": [
       "       Total_Exome_Sequence\n",
       "count          1.069000e+03\n",
       "mean           1.028243e+10\n",
       "std            3.845551e+09\n",
       "min            2.477265e+09\n",
       "25%            8.078811e+09\n",
       "50%            9.730942e+09\n",
       "75%            1.142406e+10\n",
       "max            3.511709e+10"
      ]
     },
     "execution_count": 5,
     "metadata": {},
     "output_type": "execute_result"
    }
   ],
   "source": [
    "sample_info.describe()"
   ]
  },
  {
   "cell_type": "code",
   "execution_count": 6,
   "metadata": {},
   "outputs": [
    {
     "data": {
      "text/html": [
       "<div>\n",
       "<style scoped>\n",
       "    .dataframe tbody tr th:only-of-type {\n",
       "        vertical-align: middle;\n",
       "    }\n",
       "\n",
       "    .dataframe tbody tr th {\n",
       "        vertical-align: top;\n",
       "    }\n",
       "\n",
       "    .dataframe thead th {\n",
       "        text-align: right;\n",
       "    }\n",
       "</style>\n",
       "<table border=\"1\" class=\"dataframe\">\n",
       "  <thead>\n",
       "    <tr style=\"text-align: right;\">\n",
       "      <th></th>\n",
       "      <th>Sample</th>\n",
       "      <th>Gender</th>\n",
       "      <th>Relationship</th>\n",
       "      <th>Population</th>\n",
       "      <th>Population_Description</th>\n",
       "      <th>Super_Population</th>\n",
       "      <th>Super_Population_Description</th>\n",
       "      <th>Total_Exome_Sequence</th>\n",
       "      <th>Main_Project_E_Platform</th>\n",
       "      <th>Main_Project_E_Centers</th>\n",
       "    </tr>\n",
       "  </thead>\n",
       "  <tbody>\n",
       "    <tr>\n",
       "      <th>0</th>\n",
       "      <td>HG00377</td>\n",
       "      <td>female</td>\n",
       "      <td></td>\n",
       "      <td>FIN</td>\n",
       "      <td>Finnish in Finland</td>\n",
       "      <td>EUR</td>\n",
       "      <td>European</td>\n",
       "      <td>4.105720e+09</td>\n",
       "      <td>ILLUMINA</td>\n",
       "      <td>BI</td>\n",
       "    </tr>\n",
       "    <tr>\n",
       "      <th>1</th>\n",
       "      <td>HG01278</td>\n",
       "      <td>female</td>\n",
       "      <td>mother</td>\n",
       "      <td>CLM</td>\n",
       "      <td>Colombian in Medellin, Colombia</td>\n",
       "      <td>AMR</td>\n",
       "      <td>American</td>\n",
       "      <td>7.717205e+09</td>\n",
       "      <td>ILLUMINA</td>\n",
       "      <td>BCM</td>\n",
       "    </tr>\n",
       "    <tr>\n",
       "      <th>2</th>\n",
       "      <td>NA18527</td>\n",
       "      <td>female</td>\n",
       "      <td></td>\n",
       "      <td>CHB</td>\n",
       "      <td>Han Chinese in Bejing, China</td>\n",
       "      <td>EAS</td>\n",
       "      <td>East Asian</td>\n",
       "      <td>5.811252e+09</td>\n",
       "      <td>ILLUMINA</td>\n",
       "      <td>BCM</td>\n",
       "    </tr>\n",
       "    <tr>\n",
       "      <th>3</th>\n",
       "      <td>NA19672</td>\n",
       "      <td>female</td>\n",
       "      <td>mother</td>\n",
       "      <td>MXL</td>\n",
       "      <td>Mexican Ancestry in Los Angeles, California</td>\n",
       "      <td>AMR</td>\n",
       "      <td>American</td>\n",
       "      <td>NaN</td>\n",
       "      <td></td>\n",
       "      <td></td>\n",
       "    </tr>\n",
       "    <tr>\n",
       "      <th>4</th>\n",
       "      <td>NA20363</td>\n",
       "      <td>female</td>\n",
       "      <td>mother</td>\n",
       "      <td>ASW</td>\n",
       "      <td>African Ancestry in Southwest US</td>\n",
       "      <td>AFR</td>\n",
       "      <td>African</td>\n",
       "      <td>NaN</td>\n",
       "      <td></td>\n",
       "      <td></td>\n",
       "    </tr>\n",
       "  </tbody>\n",
       "</table>\n",
       "</div>"
      ],
      "text/plain": [
       "    Sample  Gender Relationship Population  \\\n",
       "0  HG00377  female                     FIN   \n",
       "1  HG01278  female       mother        CLM   \n",
       "2  NA18527  female                     CHB   \n",
       "3  NA19672  female       mother        MXL   \n",
       "4  NA20363  female       mother        ASW   \n",
       "\n",
       "                        Population_Description Super_Population  \\\n",
       "0                           Finnish in Finland              EUR   \n",
       "1              Colombian in Medellin, Colombia              AMR   \n",
       "2                 Han Chinese in Bejing, China              EAS   \n",
       "3  Mexican Ancestry in Los Angeles, California              AMR   \n",
       "4             African Ancestry in Southwest US              AFR   \n",
       "\n",
       "  Super_Population_Description  Total_Exome_Sequence Main_Project_E_Platform  \\\n",
       "0                     European          4.105720e+09                ILLUMINA   \n",
       "1                     American          7.717205e+09                ILLUMINA   \n",
       "2                   East Asian          5.811252e+09                ILLUMINA   \n",
       "3                     American                   NaN                           \n",
       "4                      African                   NaN                           \n",
       "\n",
       "  Main_Project_E_Centers  \n",
       "0                     BI  \n",
       "1                    BCM  \n",
       "2                    BCM  \n",
       "3                         \n",
       "4                         "
      ]
     },
     "execution_count": 6,
     "metadata": {},
     "output_type": "execute_result"
    }
   ],
   "source": [
    "sample_info.head()"
   ]
  },
  {
   "cell_type": "markdown",
   "metadata": {},
   "source": [
    "## Option 2: Retrieve filtered data from BigQuery using Python.\n",
    "\n",
    "The following Python code will read a BigQuery table into a Pandas dataframe.\n",
    "\n",
    "From https://cloud.google.com/community/tutorials/bigquery-ibis\n",
    "\n",
    "*[Ibis](http://ibis-project.org/) is a Python library for doing data analysis. It offers a Pandas-like environment for executing data analysis in big data processing systems such as Google BigQuery. Ibis's primary goals are to be a type safe, expressive, composable, and familiar replacement for SQL.*"
   ]
  },
  {
   "cell_type": "code",
   "execution_count": 7,
   "metadata": {},
   "outputs": [],
   "source": [
    "conn = ibis.bigquery.connect(\n",
    "    project_id=BILLING_PROJECT_ID,\n",
    "    dataset_id='bigquery-public-data.human_genome_variants')"
   ]
  },
  {
   "cell_type": "code",
   "execution_count": 8,
   "metadata": {},
   "outputs": [
    {
     "name": "stdout",
     "output_type": "stream",
     "text": [
      "ibis version: 1.0.0\n"
     ]
    }
   ],
   "source": [
    "print('ibis version: %s' % ibis.__version__)"
   ]
  },
  {
   "cell_type": "code",
   "execution_count": 9,
   "metadata": {},
   "outputs": [
    {
     "data": {
      "text/plain": [
       "BigQueryTable[table]\n",
       "  name: bigquery-public-data.human_genome_variants.1000_genomes_sample_info\n",
       "  schema:\n",
       "    Sample : string\n",
       "    Family_ID : string\n",
       "    Population : string\n",
       "    Population_Description : string\n",
       "    Gender : string\n",
       "    Relationship : string\n",
       "    Unexpected_Parent_Child : string\n",
       "    Non_Paternity : string\n",
       "    Siblings : string\n",
       "    Grandparents : string\n",
       "    Avuncular : string\n",
       "    Half_Siblings : string\n",
       "    Unknown_Second_Order : string\n",
       "    Third_Order : string\n",
       "    In_Low_Coverage_Pilot : boolean\n",
       "    LC_Pilot_Platforms : string\n",
       "    LC_Pilot_Centers : string\n",
       "    In_High_Coverage_Pilot : boolean\n",
       "    HC_Pilot_Platforms : string\n",
       "    HC_Pilot_Centers : string\n",
       "    In_Exon_Targetted_Pilot : boolean\n",
       "    ET_Pilot_Platforms : string\n",
       "    ET_Pilot_Centers : string\n",
       "    Has_Sequence_in_Phase1 : boolean\n",
       "    Phase1_LC_Platform : string\n",
       "    Phase1_LC_Centers : string\n",
       "    Phase1_E_Platform : string\n",
       "    Phase1_E_Centers : string\n",
       "    In_Phase1_Integrated_Variant_Set : boolean\n",
       "    Has_Phase1_chrY_SNPS : boolean\n",
       "    Has_phase1_chrY_Deletions : boolean\n",
       "    Has_phase1_chrMT_SNPs : boolean\n",
       "    Main_project_LC_Centers : string\n",
       "    Main_project_LC_platform : string\n",
       "    Total_LC_Sequence : float64\n",
       "    LC_Non_Duplicated_Aligned_Coverage : float64\n",
       "    Main_Project_E_Centers : string\n",
       "    Main_Project_E_Platform : string\n",
       "    Total_Exome_Sequence : float64\n",
       "    X_Targets_Covered_to_20x_or_greater : float64\n",
       "    VerifyBam_E_Omni_Free : float64\n",
       "    VerifyBam_E_Affy_Free : float64\n",
       "    VerifyBam_E_Omni_Chip : float64\n",
       "    VerifyBam_E_Affy_Chip : float64\n",
       "    VerifyBam_LC_Omni_Free : float64\n",
       "    VerifyBam_LC_Affy_Free : float64\n",
       "    VerifyBam_LC_Omni_Chip : float64\n",
       "    VerifyBam_LC_Affy_Chip : float64\n",
       "    LC_Indel_Ratio : float64\n",
       "    E_Indel_Ratio : float64\n",
       "    LC_Passed_QC : boolean\n",
       "    E_Passed_QC : boolean\n",
       "    In_Final_Phase_Variant_Calling : boolean\n",
       "    Has_Omni_Genotypes : boolean\n",
       "    Has_Axiom_Genotypes : boolean\n",
       "    Has_Affy_6_0_Genotypes : boolean\n",
       "    Has_Exome_LOF_Genotypes : boolean\n",
       "    EBV_Coverage : float64\n",
       "    DNA_Source_from_Coriell : string\n",
       "    Has_Sequence_from_Blood_in_Index : boolean\n",
       "    Super_Population : string\n",
       "    Super_Population_Description : string"
      ]
     },
     "execution_count": 9,
     "metadata": {},
     "output_type": "execute_result"
    }
   ],
   "source": [
    "sample_info_tbl = conn.table('1000_genomes_sample_info')\n",
    "sample_info_tbl"
   ]
  },
  {
   "cell_type": "code",
   "execution_count": 10,
   "metadata": {},
   "outputs": [],
   "source": [
    "# Define the filter criteria.\n",
    "phase_1_only = sample_info_tbl.In_Phase1_Integrated_Variant_Set == True\n",
    "\n",
    "# Apply the filter and choose the columns to return.\n",
    "phase_1_sample_info_tbl = sample_info_tbl.filter(phase_1_only)['Sample', 'Gender', 'Relationship', 'Population', 'Population_Description',\n",
    "                'Super_Population', 'Super_Population_Description', 'Total_Exome_Sequence',\n",
    "                'Main_Project_E_Platform', 'Main_Project_E_Centers']"
   ]
  },
  {
   "cell_type": "code",
   "execution_count": 11,
   "metadata": {},
   "outputs": [
    {
     "name": "stdout",
     "output_type": "stream",
     "text": [
      "SELECT `Sample`, `Gender`, `Relationship`, `Population`,\n",
      "       `Population_Description`, `Super_Population`,\n",
      "       `Super_Population_Description`, `Total_Exome_Sequence`,\n",
      "       `Main_Project_E_Platform`, `Main_Project_E_Centers`\n",
      "FROM (\n",
      "  SELECT *\n",
      "  FROM `bigquery-public-data.human_genome_variants.1000_genomes_sample_info`\n",
      "  WHERE `In_Phase1_Integrated_Variant_Set` = TRUE\n",
      ") t0\n"
     ]
    }
   ],
   "source": [
    "# Optional: take a look at the SQL.\n",
    "print(phase_1_sample_info_tbl.compile())"
   ]
  },
  {
   "cell_type": "code",
   "execution_count": 12,
   "metadata": {},
   "outputs": [
    {
     "data": {
      "text/plain": [
       "1092"
      ]
     },
     "execution_count": 12,
     "metadata": {},
     "output_type": "execute_result"
    }
   ],
   "source": [
    "# Optional: See how much data this will return.\n",
    "phase_1_sample_info_tbl.count().execute()"
   ]
  },
  {
   "cell_type": "code",
   "execution_count": 13,
   "metadata": {},
   "outputs": [
    {
     "data": {
      "text/plain": [
       "(1092, 10)"
      ]
     },
     "execution_count": 13,
     "metadata": {},
     "output_type": "execute_result"
    }
   ],
   "source": [
    "# Go ahead and retrieve the data.\n",
    "phase_1_sample_info_df = phase_1_sample_info_tbl.limit(1000000).execute()\n",
    "phase_1_sample_info_df.shape"
   ]
  },
  {
   "cell_type": "code",
   "execution_count": 14,
   "metadata": {},
   "outputs": [
    {
     "data": {
      "text/html": [
       "<div>\n",
       "<style scoped>\n",
       "    .dataframe tbody tr th:only-of-type {\n",
       "        vertical-align: middle;\n",
       "    }\n",
       "\n",
       "    .dataframe tbody tr th {\n",
       "        vertical-align: top;\n",
       "    }\n",
       "\n",
       "    .dataframe thead th {\n",
       "        text-align: right;\n",
       "    }\n",
       "</style>\n",
       "<table border=\"1\" class=\"dataframe\">\n",
       "  <thead>\n",
       "    <tr style=\"text-align: right;\">\n",
       "      <th></th>\n",
       "      <th>Sample</th>\n",
       "      <th>Gender</th>\n",
       "      <th>Relationship</th>\n",
       "      <th>Population</th>\n",
       "      <th>Population_Description</th>\n",
       "      <th>Super_Population</th>\n",
       "      <th>Super_Population_Description</th>\n",
       "      <th>Total_Exome_Sequence</th>\n",
       "      <th>Main_Project_E_Platform</th>\n",
       "      <th>Main_Project_E_Centers</th>\n",
       "    </tr>\n",
       "  </thead>\n",
       "  <tbody>\n",
       "    <tr>\n",
       "      <th>0</th>\n",
       "      <td>HG00377</td>\n",
       "      <td>female</td>\n",
       "      <td></td>\n",
       "      <td>FIN</td>\n",
       "      <td>Finnish in Finland</td>\n",
       "      <td>EUR</td>\n",
       "      <td>European</td>\n",
       "      <td>4.105720e+09</td>\n",
       "      <td>ILLUMINA</td>\n",
       "      <td>BI</td>\n",
       "    </tr>\n",
       "    <tr>\n",
       "      <th>1</th>\n",
       "      <td>HG01278</td>\n",
       "      <td>female</td>\n",
       "      <td>mother</td>\n",
       "      <td>CLM</td>\n",
       "      <td>Colombian in Medellin, Colombia</td>\n",
       "      <td>AMR</td>\n",
       "      <td>American</td>\n",
       "      <td>7.717205e+09</td>\n",
       "      <td>ILLUMINA</td>\n",
       "      <td>BCM</td>\n",
       "    </tr>\n",
       "    <tr>\n",
       "      <th>2</th>\n",
       "      <td>NA18527</td>\n",
       "      <td>female</td>\n",
       "      <td></td>\n",
       "      <td>CHB</td>\n",
       "      <td>Han Chinese in Bejing, China</td>\n",
       "      <td>EAS</td>\n",
       "      <td>East Asian</td>\n",
       "      <td>5.811252e+09</td>\n",
       "      <td>ILLUMINA</td>\n",
       "      <td>BCM</td>\n",
       "    </tr>\n",
       "    <tr>\n",
       "      <th>3</th>\n",
       "      <td>NA19672</td>\n",
       "      <td>female</td>\n",
       "      <td>mother</td>\n",
       "      <td>MXL</td>\n",
       "      <td>Mexican Ancestry in Los Angeles, California</td>\n",
       "      <td>AMR</td>\n",
       "      <td>American</td>\n",
       "      <td>NaN</td>\n",
       "      <td></td>\n",
       "      <td></td>\n",
       "    </tr>\n",
       "    <tr>\n",
       "      <th>4</th>\n",
       "      <td>NA20363</td>\n",
       "      <td>female</td>\n",
       "      <td>mother</td>\n",
       "      <td>ASW</td>\n",
       "      <td>African Ancestry in Southwest US</td>\n",
       "      <td>AFR</td>\n",
       "      <td>African</td>\n",
       "      <td>NaN</td>\n",
       "      <td></td>\n",
       "      <td></td>\n",
       "    </tr>\n",
       "  </tbody>\n",
       "</table>\n",
       "</div>"
      ],
      "text/plain": [
       "    Sample  Gender Relationship Population  \\\n",
       "0  HG00377  female                     FIN   \n",
       "1  HG01278  female       mother        CLM   \n",
       "2  NA18527  female                     CHB   \n",
       "3  NA19672  female       mother        MXL   \n",
       "4  NA20363  female       mother        ASW   \n",
       "\n",
       "                        Population_Description Super_Population  \\\n",
       "0                           Finnish in Finland              EUR   \n",
       "1              Colombian in Medellin, Colombia              AMR   \n",
       "2                 Han Chinese in Bejing, China              EAS   \n",
       "3  Mexican Ancestry in Los Angeles, California              AMR   \n",
       "4             African Ancestry in Southwest US              AFR   \n",
       "\n",
       "  Super_Population_Description  Total_Exome_Sequence Main_Project_E_Platform  \\\n",
       "0                     European          4.105720e+09                ILLUMINA   \n",
       "1                     American          7.717205e+09                ILLUMINA   \n",
       "2                   East Asian          5.811252e+09                ILLUMINA   \n",
       "3                     American                   NaN                           \n",
       "4                      African                   NaN                           \n",
       "\n",
       "  Main_Project_E_Centers  \n",
       "0                     BI  \n",
       "1                    BCM  \n",
       "2                    BCM  \n",
       "3                         \n",
       "4                         "
      ]
     },
     "execution_count": 14,
     "metadata": {},
     "output_type": "execute_result"
    }
   ],
   "source": [
    "phase_1_sample_info_df.head()"
   ]
  },
  {
   "cell_type": "markdown",
   "metadata": {},
   "source": [
    "# Provenance"
   ]
  },
  {
   "cell_type": "code",
   "execution_count": 15,
   "metadata": {},
   "outputs": [
    {
     "name": "stdout",
     "output_type": "stream",
     "text": [
      "2019-04-30 22:26:00.744489\n"
     ]
    }
   ],
   "source": [
    "import datetime\n",
    "print(datetime.datetime.now())"
   ]
  },
  {
   "cell_type": "code",
   "execution_count": 16,
   "metadata": {},
   "outputs": [
    {
     "name": "stdout",
     "output_type": "stream",
     "text": [
      "absl-py==0.7.1\r\n",
      "astor==0.7.1\r\n",
      "descartes==1.1.0\r\n",
      "firecloud==0.16.22\r\n",
      "gast==0.2.2\r\n",
      "google-api-core==1.10.0\r\n",
      "google-auth-oauthlib==0.3.0\r\n",
      "google-cloud-bigquery==1.11.2\r\n",
      "google-cloud-core==0.29.1\r\n",
      "h5py==2.9.0\r\n",
      "ibis-framework==1.0.0\r\n",
      "Keras-Applications==1.0.7\r\n",
      "Keras-Preprocessing==1.0.9\r\n",
      "Markdown==3.1\r\n",
      "mizani==0.5.4\r\n",
      "mock==2.0.0\r\n",
      "multipledispatch==0.6.0\r\n",
      "oauthlib==3.0.1\r\n",
      "palettable==3.1.1\r\n",
      "pandas==0.24.2\r\n",
      "pandas-gbq==0.10.0\r\n",
      "pbr==5.2.0\r\n",
      "plotnine==0.5.1\r\n",
      "pydata-google-auth==0.1.3\r\n",
      "regex==2019.4.14\r\n",
      "requests-oauthlib==1.2.0\r\n",
      "tensorboard==1.13.1\r\n",
      "tensorflow==1.13.1\r\n",
      "tensorflow-estimator==1.13.0\r\n",
      "termcolor==1.1.0\r\n",
      "toolz==0.9.0\r\n",
      "Werkzeug==0.15.2\r\n"
     ]
    }
   ],
   "source": [
    "!pip3 freeze"
   ]
  },
  {
   "cell_type": "markdown",
   "metadata": {},
   "source": [
    "Copyright 2018 The Broad Institute, Inc., Verily Life Sciences, LLC All rights reserved.\n",
    "\n",
    "This software may be modified and distributed under the terms of the BSD license. See the LICENSE file for details."
   ]
  }
 ],
 "metadata": {
  "kernelspec": {
   "display_name": "Python 3",
   "language": "python",
   "name": "python3"
  },
  "language_info": {
   "codemirror_mode": {
    "name": "ipython",
    "version": 3
   },
   "file_extension": ".py",
   "mimetype": "text/x-python",
   "name": "python",
   "nbconvert_exporter": "python",
   "pygments_lexer": "ipython3",
   "version": "3.6.8"
  },
  "toc": {
   "base_numbering": 1,
   "nav_menu": {},
   "number_sections": true,
   "sideBar": true,
   "skip_h1_title": false,
   "title_cell": "Table of Contents",
   "title_sidebar": "Contents",
   "toc_cell": false,
   "toc_position": {
    "height": "calc(100% - 180px)",
    "left": "10px",
    "top": "150px",
    "width": "336px"
   },
   "toc_section_display": true,
   "toc_window_display": true
  }
 },
 "nbformat": 4,
 "nbformat_minor": 2
}
