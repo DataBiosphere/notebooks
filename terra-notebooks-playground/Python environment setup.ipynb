{
 "cells": [
  {
   "cell_type": "markdown",
   "metadata": {},
   "source": [
    "# Setup notebooks\n",
    "\n",
    "If you don't already have a setup notebook in your workspace, copy this notebook to your workspace.\n",
    "\n",
    "In your workspace, run this notebook before running any other Python notebooks.\n",
    "\n",
    "This notebook needs to be rerun when your cluster is recreated. (This is rare -- when you stop using a notebook, your VM is paused, not deleted. Your cluster only recreates after you click the \"Delete cluster\" button.)"
   ]
  },
  {
   "cell_type": "markdown",
   "metadata": {},
   "source": [
    "# Python environment setup\n",
    "\n",
    "In this notebook we install a collection of Python packages above and beyond what is installed by default on Leonardo. These are packages used in one or more of the notebooks in this workspace.\n",
    "\n",
    "We specficially do this for Python 3. We recommend that you use Python 3 unless you have a specific reason to use Python 2.7."
   ]
  },
  {
   "cell_type": "markdown",
   "metadata": {},
   "source": [
    "## Install/update packages"
   ]
  },
  {
   "cell_type": "code",
   "execution_count": 1,
   "metadata": {},
   "outputs": [
    {
     "name": "stdout",
     "output_type": "stream",
     "text": [
      "\u001b[33mThe directory '/home/jupyter-user/.cache/pip/http' or its parent directory is not owned by the current user and the cache has been disabled. Please check the permissions and owner of that directory. If executing pip with sudo, you may want sudo's -H flag.\u001b[0m\n",
      "\u001b[33mThe directory '/home/jupyter-user/.cache/pip' or its parent directory is not owned by the current user and caching wheels has been disabled. check the permissions and owner of that directory. If executing pip with sudo, you may want sudo's -H flag.\u001b[0m\n",
      "Requirement already up-to-date: google-cloud-bigquery in /home/jupyter-user/.local/lib/python3.6/site-packages (1.23.1)\n",
      "Requirement already satisfied, skipping upgrade: google-resumable-media!=0.4.0,<0.6.0dev,>=0.3.1 in /usr/local/lib/python3.6/site-packages (from google-cloud-bigquery) (0.3.2)\n",
      "Requirement already satisfied, skipping upgrade: protobuf>=3.6.0 in /usr/local/lib/python3.6/site-packages (from google-cloud-bigquery) (3.7.1)\n",
      "Requirement already satisfied, skipping upgrade: google-cloud-core<2.0dev,>=1.0.3 in /home/jupyter-user/.local/lib/python3.6/site-packages (from google-cloud-bigquery) (1.1.0)\n",
      "Requirement already satisfied, skipping upgrade: six<2.0.0dev,>=1.13.0 in /home/jupyter-user/.local/lib/python3.6/site-packages (from google-cloud-bigquery) (1.13.0)\n",
      "Requirement already satisfied, skipping upgrade: setuptools in /usr/local/lib/python3.6/site-packages (from protobuf>=3.6.0->google-cloud-bigquery) (36.4.0)\n",
      "Requirement already satisfied, skipping upgrade: google-api-core<2.0.0dev,>=1.14.0 in /home/jupyter-user/.local/lib/python3.6/site-packages (from google-cloud-core<2.0dev,>=1.0.3->google-cloud-bigquery) (1.15.0)\n",
      "Requirement already satisfied, skipping upgrade: google-auth<2.0dev,>=0.4.0 in /usr/local/lib/python3.6/site-packages (from google-api-core<2.0.0dev,>=1.14.0->google-cloud-core<2.0dev,>=1.0.3->google-cloud-bigquery) (1.6.3)\n",
      "Requirement already satisfied, skipping upgrade: googleapis-common-protos<2.0dev,>=1.6.0 in /usr/local/lib/python3.6/site-packages (from google-api-core<2.0.0dev,>=1.14.0->google-cloud-core<2.0dev,>=1.0.3->google-cloud-bigquery) (1.6.0)\n",
      "Requirement already satisfied, skipping upgrade: requests<3.0.0dev,>=2.18.0 in /usr/local/lib/python3.6/site-packages (from google-api-core<2.0.0dev,>=1.14.0->google-cloud-core<2.0dev,>=1.0.3->google-cloud-bigquery) (2.22.0)\n",
      "Requirement already satisfied, skipping upgrade: pytz in /usr/local/lib/python3.6/site-packages (from google-api-core<2.0.0dev,>=1.14.0->google-cloud-core<2.0dev,>=1.0.3->google-cloud-bigquery) (2017.3)\n",
      "Requirement already satisfied, skipping upgrade: rsa>=3.1.4 in /usr/local/lib/python3.6/site-packages (from google-auth<2.0dev,>=0.4.0->google-api-core<2.0.0dev,>=1.14.0->google-cloud-core<2.0dev,>=1.0.3->google-cloud-bigquery) (4.0)\n",
      "Requirement already satisfied, skipping upgrade: cachetools>=2.0.0 in /usr/local/lib/python3.6/site-packages (from google-auth<2.0dev,>=0.4.0->google-api-core<2.0.0dev,>=1.14.0->google-cloud-core<2.0dev,>=1.0.3->google-cloud-bigquery) (3.1.1)\n",
      "Requirement already satisfied, skipping upgrade: pyasn1-modules>=0.2.1 in /usr/local/lib/python3.6/site-packages (from google-auth<2.0dev,>=0.4.0->google-api-core<2.0.0dev,>=1.14.0->google-cloud-core<2.0dev,>=1.0.3->google-cloud-bigquery) (0.2.6)\n",
      "Requirement already satisfied, skipping upgrade: certifi>=2017.4.17 in /usr/local/lib/python3.6/site-packages (from requests<3.0.0dev,>=2.18.0->google-api-core<2.0.0dev,>=1.14.0->google-cloud-core<2.0dev,>=1.0.3->google-cloud-bigquery) (2019.6.16)\n",
      "Requirement already satisfied, skipping upgrade: urllib3!=1.25.0,!=1.25.1,<1.26,>=1.21.1 in /usr/local/lib/python3.6/site-packages (from requests<3.0.0dev,>=2.18.0->google-api-core<2.0.0dev,>=1.14.0->google-cloud-core<2.0dev,>=1.0.3->google-cloud-bigquery) (1.25.3)\n",
      "Requirement already satisfied, skipping upgrade: chardet<3.1.0,>=3.0.2 in /usr/local/lib/python3.6/site-packages (from requests<3.0.0dev,>=2.18.0->google-api-core<2.0.0dev,>=1.14.0->google-cloud-core<2.0dev,>=1.0.3->google-cloud-bigquery) (3.0.4)\n",
      "Requirement already satisfied, skipping upgrade: idna<2.9,>=2.5 in /usr/local/lib/python3.6/site-packages (from requests<3.0.0dev,>=2.18.0->google-api-core<2.0.0dev,>=1.14.0->google-cloud-core<2.0dev,>=1.0.3->google-cloud-bigquery) (2.8)\n",
      "Requirement already satisfied, skipping upgrade: pyasn1>=0.1.3 in /usr/local/lib/python3.6/site-packages (from rsa>=3.1.4->google-auth<2.0dev,>=0.4.0->google-api-core<2.0.0dev,>=1.14.0->google-cloud-core<2.0dev,>=1.0.3->google-cloud-bigquery) (0.4.6)\n",
      "\u001b[33mYou are using pip version 19.0.1, however version 19.3.1 is available.\n",
      "You should consider upgrading via the 'pip install --upgrade pip' command.\u001b[0m\n"
     ]
    }
   ],
   "source": [
    "!pip3 install --upgrade google-cloud-bigquery"
   ]
  },
  {
   "cell_type": "code",
   "execution_count": 2,
   "metadata": {},
   "outputs": [
    {
     "name": "stdout",
     "output_type": "stream",
     "text": [
      "\u001b[33mThe directory '/home/jupyter-user/.cache/pip/http' or its parent directory is not owned by the current user and the cache has been disabled. Please check the permissions and owner of that directory. If executing pip with sudo, you may want sudo's -H flag.\u001b[0m\n",
      "\u001b[33mThe directory '/home/jupyter-user/.cache/pip' or its parent directory is not owned by the current user and caching wheels has been disabled. check the permissions and owner of that directory. If executing pip with sudo, you may want sudo's -H flag.\u001b[0m\n",
      "Requirement already up-to-date: pandas in /home/jupyter-user/.local/lib/python3.6/site-packages (0.25.3)\n",
      "Requirement already up-to-date: pandas-gbq in /home/jupyter-user/.local/lib/python3.6/site-packages (0.13.0)\n",
      "Requirement already satisfied, skipping upgrade: python-dateutil>=2.6.1 in /usr/local/lib/python3.6/site-packages (from pandas) (2.6.1)\n",
      "Requirement already satisfied, skipping upgrade: numpy>=1.13.3 in /usr/local/lib/python3.6/site-packages (from pandas) (1.15.2)\n",
      "Requirement already satisfied, skipping upgrade: pytz>=2017.2 in /usr/local/lib/python3.6/site-packages (from pandas) (2017.3)\n",
      "Requirement already satisfied, skipping upgrade: google-cloud-bigquery>=1.11.1 in /home/jupyter-user/.local/lib/python3.6/site-packages (from pandas-gbq) (1.23.1)\n",
      "Requirement already satisfied, skipping upgrade: pydata-google-auth in /home/jupyter-user/.local/lib/python3.6/site-packages (from pandas-gbq) (0.2.1)\n",
      "Requirement already satisfied, skipping upgrade: google-auth in /usr/local/lib/python3.6/site-packages (from pandas-gbq) (1.6.3)\n",
      "Requirement already satisfied, skipping upgrade: google-auth-oauthlib in /home/jupyter-user/.local/lib/python3.6/site-packages (from pandas-gbq) (0.4.1)\n",
      "Requirement already satisfied, skipping upgrade: setuptools in /usr/local/lib/python3.6/site-packages (from pandas-gbq) (36.4.0)\n",
      "Requirement already satisfied, skipping upgrade: six>=1.5 in /home/jupyter-user/.local/lib/python3.6/site-packages (from python-dateutil>=2.6.1->pandas) (1.13.0)\n",
      "Requirement already satisfied, skipping upgrade: protobuf>=3.6.0 in /usr/local/lib/python3.6/site-packages (from google-cloud-bigquery>=1.11.1->pandas-gbq) (3.7.1)\n",
      "Requirement already satisfied, skipping upgrade: google-resumable-media!=0.4.0,<0.6.0dev,>=0.3.1 in /usr/local/lib/python3.6/site-packages (from google-cloud-bigquery>=1.11.1->pandas-gbq) (0.3.2)\n",
      "Requirement already satisfied, skipping upgrade: google-cloud-core<2.0dev,>=1.0.3 in /home/jupyter-user/.local/lib/python3.6/site-packages (from google-cloud-bigquery>=1.11.1->pandas-gbq) (1.1.0)\n",
      "Requirement already satisfied, skipping upgrade: pyasn1-modules>=0.2.1 in /usr/local/lib/python3.6/site-packages (from google-auth->pandas-gbq) (0.2.6)\n",
      "Requirement already satisfied, skipping upgrade: rsa>=3.1.4 in /usr/local/lib/python3.6/site-packages (from google-auth->pandas-gbq) (4.0)\n",
      "Requirement already satisfied, skipping upgrade: cachetools>=2.0.0 in /usr/local/lib/python3.6/site-packages (from google-auth->pandas-gbq) (3.1.1)\n",
      "Requirement already satisfied, skipping upgrade: requests-oauthlib>=0.7.0 in /home/jupyter-user/.local/lib/python3.6/site-packages (from google-auth-oauthlib->pandas-gbq) (1.3.0)\n",
      "Requirement already satisfied, skipping upgrade: google-api-core<2.0.0dev,>=1.14.0 in /home/jupyter-user/.local/lib/python3.6/site-packages (from google-cloud-core<2.0dev,>=1.0.3->google-cloud-bigquery>=1.11.1->pandas-gbq) (1.15.0)\n",
      "Requirement already satisfied, skipping upgrade: pyasn1<0.5.0,>=0.4.6 in /usr/local/lib/python3.6/site-packages (from pyasn1-modules>=0.2.1->google-auth->pandas-gbq) (0.4.6)\n",
      "Requirement already satisfied, skipping upgrade: oauthlib>=3.0.0 in /home/jupyter-user/.local/lib/python3.6/site-packages (from requests-oauthlib>=0.7.0->google-auth-oauthlib->pandas-gbq) (3.1.0)\n",
      "Requirement already satisfied, skipping upgrade: requests>=2.0.0 in /usr/local/lib/python3.6/site-packages (from requests-oauthlib>=0.7.0->google-auth-oauthlib->pandas-gbq) (2.22.0)\n",
      "Requirement already satisfied, skipping upgrade: googleapis-common-protos<2.0dev,>=1.6.0 in /usr/local/lib/python3.6/site-packages (from google-api-core<2.0.0dev,>=1.14.0->google-cloud-core<2.0dev,>=1.0.3->google-cloud-bigquery>=1.11.1->pandas-gbq) (1.6.0)\n",
      "Requirement already satisfied, skipping upgrade: urllib3!=1.25.0,!=1.25.1,<1.26,>=1.21.1 in /usr/local/lib/python3.6/site-packages (from requests>=2.0.0->requests-oauthlib>=0.7.0->google-auth-oauthlib->pandas-gbq) (1.25.3)\n",
      "Requirement already satisfied, skipping upgrade: chardet<3.1.0,>=3.0.2 in /usr/local/lib/python3.6/site-packages (from requests>=2.0.0->requests-oauthlib>=0.7.0->google-auth-oauthlib->pandas-gbq) (3.0.4)\n",
      "Requirement already satisfied, skipping upgrade: idna<2.9,>=2.5 in /usr/local/lib/python3.6/site-packages (from requests>=2.0.0->requests-oauthlib>=0.7.0->google-auth-oauthlib->pandas-gbq) (2.8)\n",
      "Requirement already satisfied, skipping upgrade: certifi>=2017.4.17 in /usr/local/lib/python3.6/site-packages (from requests>=2.0.0->requests-oauthlib>=0.7.0->google-auth-oauthlib->pandas-gbq) (2019.6.16)\n",
      "\u001b[33mYou are using pip version 19.0.1, however version 19.3.1 is available.\n",
      "You should consider upgrading via the 'pip install --upgrade pip' command.\u001b[0m\n"
     ]
    }
   ],
   "source": [
    "!pip3 install --upgrade pandas pandas-gbq"
   ]
  },
  {
   "cell_type": "code",
   "execution_count": 3,
   "metadata": {},
   "outputs": [
    {
     "name": "stdout",
     "output_type": "stream",
     "text": [
      "\u001b[33mThe directory '/home/jupyter-user/.cache/pip/http' or its parent directory is not owned by the current user and the cache has been disabled. Please check the permissions and owner of that directory. If executing pip with sudo, you may want sudo's -H flag.\u001b[0m\n",
      "\u001b[33mThe directory '/home/jupyter-user/.cache/pip' or its parent directory is not owned by the current user and caching wheels has been disabled. check the permissions and owner of that directory. If executing pip with sudo, you may want sudo's -H flag.\u001b[0m\n",
      "Requirement already up-to-date: ibis-framework in /home/jupyter-user/.local/lib/python3.6/site-packages (1.2.0)\n",
      "Requirement already satisfied, skipping upgrade: regex in /home/jupyter-user/.local/lib/python3.6/site-packages (from ibis-framework) (2020.1.8)\n",
      "Requirement already satisfied, skipping upgrade: numpy>=1.11 in /usr/local/lib/python3.6/site-packages (from ibis-framework) (1.15.2)\n",
      "Requirement already satisfied, skipping upgrade: multipledispatch>=0.6.0 in /home/jupyter-user/.local/lib/python3.6/site-packages (from ibis-framework) (0.6.0)\n",
      "Requirement already satisfied, skipping upgrade: pandas>=0.21 in /home/jupyter-user/.local/lib/python3.6/site-packages (from ibis-framework) (0.25.3)\n",
      "Requirement already satisfied, skipping upgrade: toolz in /home/jupyter-user/.local/lib/python3.6/site-packages (from ibis-framework) (0.10.0)\n",
      "Requirement already satisfied, skipping upgrade: pytz in /usr/local/lib/python3.6/site-packages (from ibis-framework) (2017.3)\n",
      "Requirement already satisfied, skipping upgrade: six in /home/jupyter-user/.local/lib/python3.6/site-packages (from multipledispatch>=0.6.0->ibis-framework) (1.13.0)\n",
      "Requirement already satisfied, skipping upgrade: python-dateutil>=2.6.1 in /usr/local/lib/python3.6/site-packages (from pandas>=0.21->ibis-framework) (2.6.1)\n",
      "\u001b[33mYou are using pip version 19.0.1, however version 19.3.1 is available.\n",
      "You should consider upgrading via the 'pip install --upgrade pip' command.\u001b[0m\n"
     ]
    }
   ],
   "source": [
    "!pip3 install --upgrade ibis-framework"
   ]
  },
  {
   "cell_type": "markdown",
   "metadata": {},
   "source": [
    "[Plotnine](https://plotnine.readthedocs.io/en/stable/) is a library that provides ggplot2-like syntax on top of matplotlib. Its great!"
   ]
  },
  {
   "cell_type": "code",
   "execution_count": 4,
   "metadata": {},
   "outputs": [
    {
     "name": "stdout",
     "output_type": "stream",
     "text": [
      "\u001b[33mThe directory '/home/jupyter-user/.cache/pip/http' or its parent directory is not owned by the current user and the cache has been disabled. Please check the permissions and owner of that directory. If executing pip with sudo, you may want sudo's -H flag.\u001b[0m\n",
      "\u001b[33mThe directory '/home/jupyter-user/.cache/pip' or its parent directory is not owned by the current user and caching wheels has been disabled. check the permissions and owner of that directory. If executing pip with sudo, you may want sudo's -H flag.\u001b[0m\n",
      "Collecting plotnine\n",
      "\u001b[?25l  Downloading https://files.pythonhosted.org/packages/19/da/4d2f68e7436e76a3c26ccd804e1bfc5c58fca7a6cba06c71bab68b25e825/plotnine-0.6.0-py3-none-any.whl (4.1MB)\n",
      "\u001b[K    100% |████████████████████████████████| 4.1MB 10.1MB/s ta 0:00:01\n",
      "\u001b[?25hCollecting scipy>=1.2.0 (from plotnine)\n",
      "\u001b[?25l  Downloading https://files.pythonhosted.org/packages/dc/29/162476fd44203116e7980cfbd9352eef9db37c49445d1fec35509022f6aa/scipy-1.4.1-cp36-cp36m-manylinux1_x86_64.whl (26.1MB)\n",
      "\u001b[K    100% |████████████████████████████████| 26.1MB 2.2MB/s eta 0:00:01\n",
      "\u001b[?25hCollecting numpy>=1.16.0 (from plotnine)\n",
      "\u001b[?25l  Downloading https://files.pythonhosted.org/packages/62/20/4d43e141b5bc426ba38274933ef8e76e85c7adea2c321ecf9ebf7421cedf/numpy-1.18.1-cp36-cp36m-manylinux1_x86_64.whl (20.1MB)\n",
      "\u001b[K    100% |████████████████████████████████| 20.2MB 3.3MB/s eta 0:00:01\n",
      "\u001b[?25hRequirement already satisfied, skipping upgrade: patsy>=0.4.1 in /usr/local/lib/python3.6/site-packages (from plotnine) (0.4.1)\n",
      "Requirement already satisfied, skipping upgrade: pandas>=0.25.0 in /home/jupyter-user/.local/lib/python3.6/site-packages (from plotnine) (0.25.3)\n",
      "Collecting mizani>=0.6.0 (from plotnine)\n",
      "\u001b[?25l  Downloading https://files.pythonhosted.org/packages/e3/76/7a2c9094547ee592f9f43f651ab824aa6599af5e1456250c3f4cc162aece/mizani-0.6.0-py2.py3-none-any.whl (61kB)\n",
      "\u001b[K    100% |████████████████████████████████| 71kB 28.1MB/s ta 0:00:01\n",
      "\u001b[?25hRequirement already satisfied, skipping upgrade: statsmodels>=0.9.0 in /usr/local/lib/python3.6/site-packages (from plotnine) (0.9.0)\n",
      "Collecting matplotlib>=3.1.1 (from plotnine)\n",
      "\u001b[?25l  Downloading https://files.pythonhosted.org/packages/4e/11/06958a2b895a3853206dea1fb2a5b11bf044f626f90745987612af9c8f2c/matplotlib-3.1.2-cp36-cp36m-manylinux1_x86_64.whl (13.1MB)\n",
      "\u001b[K    100% |████████████████████████████████| 13.1MB 4.7MB/s eta 0:00:01\n",
      "\u001b[?25hCollecting descartes>=1.1.0 (from plotnine)\n",
      "  Downloading https://files.pythonhosted.org/packages/e5/b6/1ed2eb03989ae574584664985367ba70cd9cf8b32ee8cad0e8aaeac819f3/descartes-1.1.0-py3-none-any.whl\n",
      "Requirement already satisfied, skipping upgrade: six in /home/jupyter-user/.local/lib/python3.6/site-packages (from patsy>=0.4.1->plotnine) (1.13.0)\n",
      "Requirement already satisfied, skipping upgrade: python-dateutil>=2.6.1 in /usr/local/lib/python3.6/site-packages (from pandas>=0.25.0->plotnine) (2.6.1)\n",
      "Requirement already satisfied, skipping upgrade: pytz>=2017.2 in /usr/local/lib/python3.6/site-packages (from pandas>=0.25.0->plotnine) (2017.3)\n",
      "Collecting palettable (from mizani>=0.6.0->plotnine)\n",
      "\u001b[?25l  Downloading https://files.pythonhosted.org/packages/ca/46/5198aa24e61bb7eef28d06cb69e56bfa1942f4b6807d95a0b5ce361fe09b/palettable-3.3.0-py2.py3-none-any.whl (111kB)\n",
      "\u001b[K    100% |████████████████████████████████| 112kB 34.6MB/s ta 0:00:01\n",
      "\u001b[?25hRequirement already satisfied, skipping upgrade: pyparsing!=2.0.4,!=2.1.2,!=2.1.6,>=2.0.1 in /usr/local/lib/python3.6/site-packages (from matplotlib>=3.1.1->plotnine) (2.2.0)\n",
      "Requirement already satisfied, skipping upgrade: cycler>=0.10 in /usr/local/lib/python3.6/site-packages (from matplotlib>=3.1.1->plotnine) (0.10.0)\n",
      "Requirement already satisfied, skipping upgrade: kiwisolver>=1.0.1 in /usr/local/lib/python3.6/site-packages (from matplotlib>=3.1.1->plotnine) (1.1.0)\n",
      "Requirement already satisfied, skipping upgrade: setuptools in /usr/local/lib/python3.6/site-packages (from kiwisolver>=1.0.1->matplotlib>=3.1.1->plotnine) (36.4.0)\n",
      "Installing collected packages: numpy, scipy, matplotlib, palettable, mizani, descartes, plotnine\n",
      "\u001b[33m  The scripts f2py, f2py3 and f2py3.6 are installed in '/home/jupyter-user/.local/bin' which is not on PATH.\n",
      "  Consider adding this directory to PATH or, if you prefer to suppress this warning, use --no-warn-script-location.\u001b[0m\n",
      "Successfully installed descartes-1.1.0 matplotlib-3.1.2 mizani-0.6.0 numpy-1.18.1 palettable-3.3.0 plotnine-0.6.0 scipy-1.4.1\n",
      "\u001b[33mYou are using pip version 19.0.1, however version 19.3.1 is available.\n",
      "You should consider upgrading via the 'pip install --upgrade pip' command.\u001b[0m\n"
     ]
    }
   ],
   "source": [
    "!pip3 install --upgrade plotnine"
   ]
  },
  {
   "cell_type": "markdown",
   "metadata": {},
   "source": [
    "# Provenance"
   ]
  },
  {
   "cell_type": "code",
   "execution_count": 5,
   "metadata": {},
   "outputs": [
    {
     "name": "stdout",
     "output_type": "stream",
     "text": [
      "2020-01-13 22:28:40.332353\n"
     ]
    }
   ],
   "source": [
    "import datetime\n",
    "print(datetime.datetime.now())"
   ]
  },
  {
   "cell_type": "code",
   "execution_count": 6,
   "metadata": {
    "scrolled": true
   },
   "outputs": [
    {
     "name": "stdout",
     "output_type": "stream",
     "text": [
      "descartes==1.1.0\r\n",
      "google-api-core==1.15.0\r\n",
      "google-auth-oauthlib==0.4.1\r\n",
      "google-cloud-bigquery==1.23.1\r\n",
      "google-cloud-core==1.1.0\r\n",
      "ibis-framework==1.2.0\r\n",
      "matplotlib==3.1.2\r\n",
      "mizani==0.6.0\r\n",
      "multipledispatch==0.6.0\r\n",
      "numpy==1.18.1\r\n",
      "oauthlib==3.1.0\r\n",
      "palettable==3.3.0\r\n",
      "pandas==0.25.3\r\n",
      "pandas-gbq==0.13.0\r\n",
      "plotnine==0.6.0\r\n",
      "pydata-google-auth==0.2.1\r\n",
      "regex==2020.1.8\r\n",
      "requests-oauthlib==1.3.0\r\n",
      "scipy==1.4.1\r\n",
      "six==1.13.0\r\n",
      "toolz==0.10.0\r\n"
     ]
    }
   ],
   "source": [
    "!pip3 freeze"
   ]
  },
  {
   "cell_type": "markdown",
   "metadata": {},
   "source": [
    "Copyright 2019 The Broad Institute, Inc., Verily Life Sciences, LLC All rights reserved.\n",
    "\n",
    "This software may be modified and distributed under the terms of the BSD license. See the LICENSE file for details."
   ]
  }
 ],
 "metadata": {
  "kernelspec": {
   "display_name": "Python 3",
   "language": "python",
   "name": "python3"
  },
  "language_info": {
   "codemirror_mode": {
    "name": "ipython",
    "version": 3
   },
   "file_extension": ".py",
   "mimetype": "text/x-python",
   "name": "python",
   "nbconvert_exporter": "python",
   "pygments_lexer": "ipython3",
   "version": "3.6.8"
  },
  "toc": {
   "base_numbering": 1,
   "nav_menu": {},
   "number_sections": true,
   "sideBar": true,
   "skip_h1_title": false,
   "title_cell": "Table of Contents",
   "title_sidebar": "Contents",
   "toc_cell": false,
   "toc_position": {
    "height": "1028px",
    "left": "291px",
    "top": "110px",
    "width": "254.391px"
   },
   "toc_section_display": true,
   "toc_window_display": true
  }
 },
 "nbformat": 4,
 "nbformat_minor": 2
}
