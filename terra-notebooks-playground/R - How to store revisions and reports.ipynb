{
 "cells": [
  {
   "cell_type": "markdown",
   "metadata": {},
   "source": [
    "# How to store revisions and reports\n",
    "\n",
    "In this notebook we render to HTML notebooks on the harddrive of our instance and store them to dated subdirectories in our workspace bucket so that we can have revisions.\n",
    "\n",
    "See also [Notebooks 101 - How not to lose data output files or collaborator edits](https://broadinstitute.zendesk.com/hc/en-us/articles/360027300571-Notebooks-101-How-not-to-lose-data-output-files-or-collaborator-edits)."
   ]
  },
  {
   "cell_type": "markdown",
   "metadata": {},
   "source": [
    "# Setup"
   ]
  },
  {
   "cell_type": "code",
   "execution_count": 1,
   "metadata": {},
   "outputs": [
    {
     "name": "stderr",
     "output_type": "stream",
     "text": [
      "\n",
      "Attaching package: ‘lubridate’\n",
      "\n",
      "\n",
      "The following objects are masked from ‘package:base’:\n",
      "\n",
      "    date, intersect, setdiff, union\n",
      "\n",
      "\n",
      "── \u001b[1mAttaching packages\u001b[22m ─────────────────────────────────────── tidyverse 1.3.1 ──\n",
      "\n",
      "\u001b[32m✔\u001b[39m \u001b[34mggplot2\u001b[39m 3.3.3     \u001b[32m✔\u001b[39m \u001b[34mpurrr  \u001b[39m 0.3.4\n",
      "\u001b[32m✔\u001b[39m \u001b[34mtibble \u001b[39m 3.1.1     \u001b[32m✔\u001b[39m \u001b[34mdplyr  \u001b[39m 1.0.6\n",
      "\u001b[32m✔\u001b[39m \u001b[34mtidyr  \u001b[39m 1.1.3     \u001b[32m✔\u001b[39m \u001b[34mstringr\u001b[39m 1.4.0\n",
      "\u001b[32m✔\u001b[39m \u001b[34mreadr  \u001b[39m 1.4.0     \u001b[32m✔\u001b[39m \u001b[34mforcats\u001b[39m 0.5.1\n",
      "\n",
      "── \u001b[1mConflicts\u001b[22m ────────────────────────────────────────── tidyverse_conflicts() ──\n",
      "\u001b[31m✖\u001b[39m \u001b[34mlubridate\u001b[39m::\u001b[32mas.difftime()\u001b[39m masks \u001b[34mbase\u001b[39m::as.difftime()\n",
      "\u001b[31m✖\u001b[39m \u001b[34mlubridate\u001b[39m::\u001b[32mdate()\u001b[39m        masks \u001b[34mbase\u001b[39m::date()\n",
      "\u001b[31m✖\u001b[39m \u001b[34mdplyr\u001b[39m::\u001b[32mfilter()\u001b[39m          masks \u001b[34mstats\u001b[39m::filter()\n",
      "\u001b[31m✖\u001b[39m \u001b[34mlubridate\u001b[39m::\u001b[32mintersect()\u001b[39m   masks \u001b[34mbase\u001b[39m::intersect()\n",
      "\u001b[31m✖\u001b[39m \u001b[34mdplyr\u001b[39m::\u001b[32mlag()\u001b[39m             masks \u001b[34mstats\u001b[39m::lag()\n",
      "\u001b[31m✖\u001b[39m \u001b[34mlubridate\u001b[39m::\u001b[32msetdiff()\u001b[39m     masks \u001b[34mbase\u001b[39m::setdiff()\n",
      "\u001b[31m✖\u001b[39m \u001b[34mlubridate\u001b[39m::\u001b[32munion()\u001b[39m       masks \u001b[34mbase\u001b[39m::union()\n",
      "\n"
     ]
    }
   ],
   "source": [
    "library(lubridate)\n",
    "library(tidyverse)"
   ]
  },
  {
   "cell_type": "markdown",
   "metadata": {},
   "source": [
    "Get the Cloud Storage bucket associated with this workspace."
   ]
  },
  {
   "cell_type": "code",
   "execution_count": 2,
   "metadata": {},
   "outputs": [
    {
     "data": {
      "text/html": [
       "'gs://fc-ce0a87d7-b388-489d-9169-79ad4aa2e58d'"
      ],
      "text/latex": [
       "'gs://fc-ce0a87d7-b388-489d-9169-79ad4aa2e58d'"
      ],
      "text/markdown": [
       "'gs://fc-ce0a87d7-b388-489d-9169-79ad4aa2e58d'"
      ],
      "text/plain": [
       "[1] \"gs://fc-ce0a87d7-b388-489d-9169-79ad4aa2e58d\""
      ]
     },
     "metadata": {},
     "output_type": "display_data"
    }
   ],
   "source": [
    "(WORKSPACE_BUCKET <- Sys.getenv('WORKSPACE_BUCKET'))"
   ]
  },
  {
   "cell_type": "markdown",
   "metadata": {},
   "source": [
    "Since we cannot programmatically get a username that would look decent in a URL instead use a stamp with resolution in seconds to hopefully avoid collisions between multiple users creating revisions at the same time."
   ]
  },
  {
   "cell_type": "code",
   "execution_count": 3,
   "metadata": {},
   "outputs": [
    {
     "data": {
      "text/html": [
       "'20210519/234227'"
      ],
      "text/latex": [
       "'20210519/234227'"
      ],
      "text/markdown": [
       "'20210519/234227'"
      ],
      "text/plain": [
       "[1] \"20210519/234227\""
      ]
     },
     "metadata": {},
     "output_type": "display_data"
    }
   ],
   "source": [
    "# Create a timestamp for folder of results generated today.\n",
    "(TIMESTAMP <- strftime(now(), '%Y%m%d/%H%M%S'))"
   ]
  },
  {
   "cell_type": "code",
   "execution_count": 4,
   "metadata": {},
   "outputs": [
    {
     "data": {
      "text/html": [
       "'deflaux@google.com'"
      ],
      "text/latex": [
       "'deflaux@google.com'"
      ],
      "text/markdown": [
       "'deflaux@google.com'"
      ],
      "text/plain": [
       "[1] \"deflaux@google.com\""
      ]
     },
     "metadata": {},
     "output_type": "display_data"
    }
   ],
   "source": [
    "(OWNER_EMAIL <- Sys.getenv('OWNER_EMAIL'))"
   ]
  },
  {
   "cell_type": "code",
   "execution_count": 5,
   "metadata": {},
   "outputs": [
    {
     "data": {
      "text/html": [
       "'gs://fc-ce0a87d7-b388-489d-9169-79ad4aa2e58d/reports/deflaux@google.com/20210519/234227/'"
      ],
      "text/latex": [
       "'gs://fc-ce0a87d7-b388-489d-9169-79ad4aa2e58d/reports/deflaux@google.com/20210519/234227/'"
      ],
      "text/markdown": [
       "'gs://fc-ce0a87d7-b388-489d-9169-79ad4aa2e58d/reports/deflaux@google.com/20210519/234227/'"
      ],
      "text/plain": [
       "gs://fc-ce0a87d7-b388-489d-9169-79ad4aa2e58d/reports/deflaux@google.com/20210519/234227/"
      ]
     },
     "metadata": {},
     "output_type": "display_data"
    }
   ],
   "source": [
    "(REPORT_DESTINATION <- str_glue('{WORKSPACE_BUCKET}/reports/{OWNER_EMAIL}/{TIMESTAMP}/'))"
   ]
  },
  {
   "cell_type": "markdown",
   "metadata": {},
   "source": [
    "# Permissions check"
   ]
  },
  {
   "cell_type": "markdown",
   "metadata": {},
   "source": [
    "Check that you can write to the workspace bucket.\n",
    "\n",
    "This also serves as a way to figure out who wrote the files to the subdirectories.\n",
    "\n",
    "**Optional** update the message below to include some comments about this revision."
   ]
  },
  {
   "cell_type": "code",
   "execution_count": 6,
   "metadata": {},
   "outputs": [
    {
     "data": {
      "text/html": [],
      "text/latex": [],
      "text/markdown": [],
      "text/plain": [
       "character(0)"
      ]
     },
     "metadata": {},
     "output_type": "display_data"
    }
   ],
   "source": [
    "system(str_glue(\n",
    "    'echo {OWNER_EMAIL} about to save copies of work from {TIMESTAMP} | gsutil cp - {REPORT_DESTINATION}comment.txt'),\n",
    "       intern = TRUE)"
   ]
  },
  {
   "cell_type": "code",
   "execution_count": 7,
   "metadata": {},
   "outputs": [
    {
     "data": {
      "text/html": [
       "'deflaux@google.com about to save copies of work from 20210519/234227'"
      ],
      "text/latex": [
       "'deflaux@google.com about to save copies of work from 20210519/234227'"
      ],
      "text/markdown": [
       "'deflaux@google.com about to save copies of work from 20210519/234227'"
      ],
      "text/plain": [
       "[1] \"deflaux@google.com about to save copies of work from 20210519/234227\""
      ]
     },
     "metadata": {},
     "output_type": "display_data"
    }
   ],
   "source": [
    "system(str_glue('gsutil cat {REPORT_DESTINATION}comment.txt'), intern = TRUE)"
   ]
  },
  {
   "cell_type": "markdown",
   "metadata": {},
   "source": [
    "# Save copies\n",
    "\n",
    "This notebook is currently written to only create revisions for notebooks that have been delocalized to this particular Leonardo VM. (e.g., only the notebooks I worked on recently)."
   ]
  },
  {
   "cell_type": "code",
   "execution_count": 8,
   "metadata": {},
   "outputs": [
    {
     "data": {
      "text/html": [
       "<style>\n",
       ".list-inline {list-style: none; margin:0; padding: 0}\n",
       ".list-inline>li {display: inline-block}\n",
       ".list-inline>li:not(:last-child)::after {content: \"\\00b7\"; padding: 0 .5ex}\n",
       "</style>\n",
       "<ol class=list-inline><li>'facets-jupyter.html'</li><li>'Py3 - How to load data to BigQuery.ipynb'</li><li>'Py3 - How to read data from BigQuery.ipynb'</li><li>'Py3 - How to read data from Cloud Storage.ipynb'</li><li>'Py3 - How to store analysis results in BigQuery and Cloud Storage.ipynb'</li><li>'Py3 - How to use a cohort.ipynb'</li><li>'Py3 - How to use Facets for interactive visualization of data.ipynb'</li><li>'R - Analysis example for exploring power law distributions.ipynb'</li><li>'R - How to emit markdown from code cells.ipynb'</li><li>'R - How to load data to BigQuery.ipynb'</li><li>'R - How to pull in reusable code from source control.ipynb'</li><li>'R - How to read data from BigQuery.ipynb'</li><li>'R - How to save and load R objects from the workspace bucket.ipynb'</li><li>'R - How to save images and tables to files.ipynb'</li><li>'R - How to store revisions and reports.ipynb'</li><li>'R - How to use a cohort.ipynb'</li><li>'R - Plotting example for Boston 311 data.ipynb'</li><li>'rterra'</li><li>'thousand_genomes_20210519-234220.rda'</li><li>'webcomponents-lite.js'</li></ol>\n"
      ],
      "text/latex": [
       "\\begin{enumerate*}\n",
       "\\item 'facets-jupyter.html'\n",
       "\\item 'Py3 - How to load data to BigQuery.ipynb'\n",
       "\\item 'Py3 - How to read data from BigQuery.ipynb'\n",
       "\\item 'Py3 - How to read data from Cloud Storage.ipynb'\n",
       "\\item 'Py3 - How to store analysis results in BigQuery and Cloud Storage.ipynb'\n",
       "\\item 'Py3 - How to use a cohort.ipynb'\n",
       "\\item 'Py3 - How to use Facets for interactive visualization of data.ipynb'\n",
       "\\item 'R - Analysis example for exploring power law distributions.ipynb'\n",
       "\\item 'R - How to emit markdown from code cells.ipynb'\n",
       "\\item 'R - How to load data to BigQuery.ipynb'\n",
       "\\item 'R - How to pull in reusable code from source control.ipynb'\n",
       "\\item 'R - How to read data from BigQuery.ipynb'\n",
       "\\item 'R - How to save and load R objects from the workspace bucket.ipynb'\n",
       "\\item 'R - How to save images and tables to files.ipynb'\n",
       "\\item 'R - How to store revisions and reports.ipynb'\n",
       "\\item 'R - How to use a cohort.ipynb'\n",
       "\\item 'R - Plotting example for Boston 311 data.ipynb'\n",
       "\\item 'rterra'\n",
       "\\item 'thousand\\_genomes\\_20210519-234220.rda'\n",
       "\\item 'webcomponents-lite.js'\n",
       "\\end{enumerate*}\n"
      ],
      "text/markdown": [
       "1. 'facets-jupyter.html'\n",
       "2. 'Py3 - How to load data to BigQuery.ipynb'\n",
       "3. 'Py3 - How to read data from BigQuery.ipynb'\n",
       "4. 'Py3 - How to read data from Cloud Storage.ipynb'\n",
       "5. 'Py3 - How to store analysis results in BigQuery and Cloud Storage.ipynb'\n",
       "6. 'Py3 - How to use a cohort.ipynb'\n",
       "7. 'Py3 - How to use Facets for interactive visualization of data.ipynb'\n",
       "8. 'R - Analysis example for exploring power law distributions.ipynb'\n",
       "9. 'R - How to emit markdown from code cells.ipynb'\n",
       "10. 'R - How to load data to BigQuery.ipynb'\n",
       "11. 'R - How to pull in reusable code from source control.ipynb'\n",
       "12. 'R - How to read data from BigQuery.ipynb'\n",
       "13. 'R - How to save and load R objects from the workspace bucket.ipynb'\n",
       "14. 'R - How to save images and tables to files.ipynb'\n",
       "15. 'R - How to store revisions and reports.ipynb'\n",
       "16. 'R - How to use a cohort.ipynb'\n",
       "17. 'R - Plotting example for Boston 311 data.ipynb'\n",
       "18. 'rterra'\n",
       "19. 'thousand_genomes_20210519-234220.rda'\n",
       "20. 'webcomponents-lite.js'\n",
       "\n",
       "\n"
      ],
      "text/plain": [
       " [1] \"facets-jupyter.html\"                                                    \n",
       " [2] \"Py3 - How to load data to BigQuery.ipynb\"                               \n",
       " [3] \"Py3 - How to read data from BigQuery.ipynb\"                             \n",
       " [4] \"Py3 - How to read data from Cloud Storage.ipynb\"                        \n",
       " [5] \"Py3 - How to store analysis results in BigQuery and Cloud Storage.ipynb\"\n",
       " [6] \"Py3 - How to use a cohort.ipynb\"                                        \n",
       " [7] \"Py3 - How to use Facets for interactive visualization of data.ipynb\"    \n",
       " [8] \"R - Analysis example for exploring power law distributions.ipynb\"       \n",
       " [9] \"R - How to emit markdown from code cells.ipynb\"                         \n",
       "[10] \"R - How to load data to BigQuery.ipynb\"                                 \n",
       "[11] \"R - How to pull in reusable code from source control.ipynb\"             \n",
       "[12] \"R - How to read data from BigQuery.ipynb\"                               \n",
       "[13] \"R - How to save and load R objects from the workspace bucket.ipynb\"     \n",
       "[14] \"R - How to save images and tables to files.ipynb\"                       \n",
       "[15] \"R - How to store revisions and reports.ipynb\"                           \n",
       "[16] \"R - How to use a cohort.ipynb\"                                          \n",
       "[17] \"R - Plotting example for Boston 311 data.ipynb\"                         \n",
       "[18] \"rterra\"                                                                 \n",
       "[19] \"thousand_genomes_20210519-234220.rda\"                                   \n",
       "[20] \"webcomponents-lite.js\"                                                  "
      ]
     },
     "metadata": {},
     "output_type": "display_data"
    }
   ],
   "source": [
    "list.files()"
   ]
  },
  {
   "cell_type": "markdown",
   "metadata": {},
   "source": [
    "## Render notebooks to HTML\n",
    "\n",
    "**Note**: this does not re-run them, it merely takes the currently autosaved version and converts it to HTML."
   ]
  },
  {
   "cell_type": "code",
   "execution_count": 9,
   "metadata": {},
   "outputs": [
    {
     "name": "stdout",
     "output_type": "stream",
     "text": [
      "character(0)\n",
      "character(0)\n",
      "character(0)\n",
      "character(0)\n",
      "character(0)\n",
      "character(0)\n",
      "character(0)\n",
      "character(0)\n",
      "character(0)\n",
      "character(0)\n",
      "character(0)\n",
      "character(0)\n",
      "character(0)\n",
      "character(0)\n",
      "character(0)\n",
      "character(0)\n"
     ]
    },
    {
     "data": {
      "text/html": [
       "<ol>\n",
       "\t<li></li>\n",
       "\t<li></li>\n",
       "\t<li></li>\n",
       "\t<li></li>\n",
       "\t<li></li>\n",
       "\t<li></li>\n",
       "\t<li></li>\n",
       "\t<li></li>\n",
       "\t<li></li>\n",
       "\t<li></li>\n",
       "\t<li></li>\n",
       "\t<li></li>\n",
       "\t<li></li>\n",
       "\t<li></li>\n",
       "\t<li></li>\n",
       "\t<li></li>\n",
       "</ol>\n"
      ],
      "text/latex": [
       "\\begin{enumerate}\n",
       "\\item \n",
       "\\item \n",
       "\\item \n",
       "\\item \n",
       "\\item \n",
       "\\item \n",
       "\\item \n",
       "\\item \n",
       "\\item \n",
       "\\item \n",
       "\\item \n",
       "\\item \n",
       "\\item \n",
       "\\item \n",
       "\\item \n",
       "\\item \n",
       "\\end{enumerate}\n"
      ],
      "text/markdown": [
       "1. \n",
       "2. \n",
       "3. \n",
       "4. \n",
       "5. \n",
       "6. \n",
       "7. \n",
       "8. \n",
       "9. \n",
       "10. \n",
       "11. \n",
       "12. \n",
       "13. \n",
       "14. \n",
       "15. \n",
       "16. \n",
       "\n",
       "\n"
      ],
      "text/plain": [
       "[[1]]\n",
       "character(0)\n",
       "\n",
       "[[2]]\n",
       "character(0)\n",
       "\n",
       "[[3]]\n",
       "character(0)\n",
       "\n",
       "[[4]]\n",
       "character(0)\n",
       "\n",
       "[[5]]\n",
       "character(0)\n",
       "\n",
       "[[6]]\n",
       "character(0)\n",
       "\n",
       "[[7]]\n",
       "character(0)\n",
       "\n",
       "[[8]]\n",
       "character(0)\n",
       "\n",
       "[[9]]\n",
       "character(0)\n",
       "\n",
       "[[10]]\n",
       "character(0)\n",
       "\n",
       "[[11]]\n",
       "character(0)\n",
       "\n",
       "[[12]]\n",
       "character(0)\n",
       "\n",
       "[[13]]\n",
       "character(0)\n",
       "\n",
       "[[14]]\n",
       "character(0)\n",
       "\n",
       "[[15]]\n",
       "character(0)\n",
       "\n",
       "[[16]]\n",
       "character(0)\n"
      ]
     },
     "metadata": {},
     "output_type": "display_data"
    }
   ],
   "source": [
    "map(list.files(pattern = '*.ipynb'),\n",
    "   function(nb) {\n",
    "       print(system(str_glue('jupyter nbconvert --to html \\'{nb}\\''), intern = TRUE))\n",
    "   })"
   ]
  },
  {
   "cell_type": "code",
   "execution_count": 10,
   "metadata": {},
   "outputs": [
    {
     "data": {
      "text/html": [
       "<style>\n",
       ".list-inline {list-style: none; margin:0; padding: 0}\n",
       ".list-inline>li {display: inline-block}\n",
       ".list-inline>li:not(:last-child)::after {content: \"\\00b7\"; padding: 0 .5ex}\n",
       "</style>\n",
       "<ol class=list-inline><li>'facets-jupyter.html'</li><li>'Py3 - How to load data to BigQuery.html'</li><li>'Py3 - How to read data from BigQuery.html'</li><li>'Py3 - How to read data from Cloud Storage.html'</li><li>'Py3 - How to store analysis results in BigQuery and Cloud Storage.html'</li><li>'Py3 - How to use a cohort.html'</li><li>'Py3 - How to use Facets for interactive visualization of data.html'</li><li>'R - Analysis example for exploring power law distributions.html'</li><li>'R - How to emit markdown from code cells.html'</li><li>'R - How to load data to BigQuery.html'</li><li>'R - How to pull in reusable code from source control.html'</li><li>'R - How to read data from BigQuery.html'</li><li>'R - How to save and load R objects from the workspace bucket.html'</li><li>'R - How to save images and tables to files.html'</li><li>'R - How to store revisions and reports.html'</li><li>'R - How to use a cohort.html'</li><li>'R - Plotting example for Boston 311 data.html'</li></ol>\n"
      ],
      "text/latex": [
       "\\begin{enumerate*}\n",
       "\\item 'facets-jupyter.html'\n",
       "\\item 'Py3 - How to load data to BigQuery.html'\n",
       "\\item 'Py3 - How to read data from BigQuery.html'\n",
       "\\item 'Py3 - How to read data from Cloud Storage.html'\n",
       "\\item 'Py3 - How to store analysis results in BigQuery and Cloud Storage.html'\n",
       "\\item 'Py3 - How to use a cohort.html'\n",
       "\\item 'Py3 - How to use Facets for interactive visualization of data.html'\n",
       "\\item 'R - Analysis example for exploring power law distributions.html'\n",
       "\\item 'R - How to emit markdown from code cells.html'\n",
       "\\item 'R - How to load data to BigQuery.html'\n",
       "\\item 'R - How to pull in reusable code from source control.html'\n",
       "\\item 'R - How to read data from BigQuery.html'\n",
       "\\item 'R - How to save and load R objects from the workspace bucket.html'\n",
       "\\item 'R - How to save images and tables to files.html'\n",
       "\\item 'R - How to store revisions and reports.html'\n",
       "\\item 'R - How to use a cohort.html'\n",
       "\\item 'R - Plotting example for Boston 311 data.html'\n",
       "\\end{enumerate*}\n"
      ],
      "text/markdown": [
       "1. 'facets-jupyter.html'\n",
       "2. 'Py3 - How to load data to BigQuery.html'\n",
       "3. 'Py3 - How to read data from BigQuery.html'\n",
       "4. 'Py3 - How to read data from Cloud Storage.html'\n",
       "5. 'Py3 - How to store analysis results in BigQuery and Cloud Storage.html'\n",
       "6. 'Py3 - How to use a cohort.html'\n",
       "7. 'Py3 - How to use Facets for interactive visualization of data.html'\n",
       "8. 'R - Analysis example for exploring power law distributions.html'\n",
       "9. 'R - How to emit markdown from code cells.html'\n",
       "10. 'R - How to load data to BigQuery.html'\n",
       "11. 'R - How to pull in reusable code from source control.html'\n",
       "12. 'R - How to read data from BigQuery.html'\n",
       "13. 'R - How to save and load R objects from the workspace bucket.html'\n",
       "14. 'R - How to save images and tables to files.html'\n",
       "15. 'R - How to store revisions and reports.html'\n",
       "16. 'R - How to use a cohort.html'\n",
       "17. 'R - Plotting example for Boston 311 data.html'\n",
       "\n",
       "\n"
      ],
      "text/plain": [
       " [1] \"facets-jupyter.html\"                                                   \n",
       " [2] \"Py3 - How to load data to BigQuery.html\"                               \n",
       " [3] \"Py3 - How to read data from BigQuery.html\"                             \n",
       " [4] \"Py3 - How to read data from Cloud Storage.html\"                        \n",
       " [5] \"Py3 - How to store analysis results in BigQuery and Cloud Storage.html\"\n",
       " [6] \"Py3 - How to use a cohort.html\"                                        \n",
       " [7] \"Py3 - How to use Facets for interactive visualization of data.html\"    \n",
       " [8] \"R - Analysis example for exploring power law distributions.html\"       \n",
       " [9] \"R - How to emit markdown from code cells.html\"                         \n",
       "[10] \"R - How to load data to BigQuery.html\"                                 \n",
       "[11] \"R - How to pull in reusable code from source control.html\"             \n",
       "[12] \"R - How to read data from BigQuery.html\"                               \n",
       "[13] \"R - How to save and load R objects from the workspace bucket.html\"     \n",
       "[14] \"R - How to save images and tables to files.html\"                       \n",
       "[15] \"R - How to store revisions and reports.html\"                           \n",
       "[16] \"R - How to use a cohort.html\"                                          \n",
       "[17] \"R - Plotting example for Boston 311 data.html\"                         "
      ]
     },
     "metadata": {},
     "output_type": "display_data"
    }
   ],
   "source": [
    "list.files(pattern = '*.html')"
   ]
  },
  {
   "cell_type": "code",
   "execution_count": 11,
   "metadata": {},
   "outputs": [
    {
     "data": {
      "text/html": [],
      "text/latex": [],
      "text/markdown": [],
      "text/plain": [
       "character(0)"
      ]
     },
     "metadata": {},
     "output_type": "display_data"
    }
   ],
   "source": [
    "system(str_glue('gsutil -m cp *.html {REPORT_DESTINATION}'), intern = TRUE)"
   ]
  },
  {
   "cell_type": "markdown",
   "metadata": {},
   "source": [
    "# Provenance"
   ]
  },
  {
   "cell_type": "code",
   "execution_count": 12,
   "metadata": {},
   "outputs": [
    {
     "data": {
      "text/plain": [
       "─ Session info ───────────────────────────────────────────────────────────────\n",
       " setting  value                       \n",
       " version  R version 4.0.5 (2021-03-31)\n",
       " os       Ubuntu 18.04.5 LTS          \n",
       " system   x86_64, linux-gnu           \n",
       " ui       X11                         \n",
       " language (EN)                        \n",
       " collate  en_US.UTF-8                 \n",
       " ctype    en_US.UTF-8                 \n",
       " tz       Etc/UTC                     \n",
       " date     2021-05-19                  \n",
       "\n",
       "─ Packages ───────────────────────────────────────────────────────────────────\n",
       " package     * version date       lib source        \n",
       " assertthat    0.2.1   2019-03-21 [2] CRAN (R 4.0.5)\n",
       " backports     1.2.1   2020-12-09 [2] CRAN (R 4.0.5)\n",
       " base64enc     0.1-3   2015-07-28 [2] CRAN (R 4.0.5)\n",
       " broom         0.7.6   2021-04-05 [2] CRAN (R 4.0.5)\n",
       " cachem        1.0.4   2021-02-13 [2] CRAN (R 4.0.5)\n",
       " callr         3.7.0   2021-04-20 [2] CRAN (R 4.0.5)\n",
       " cellranger    1.1.0   2016-07-27 [2] CRAN (R 4.0.5)\n",
       " cli           2.5.0   2021-04-26 [2] CRAN (R 4.0.5)\n",
       " colorspace    2.0-1   2021-05-04 [2] CRAN (R 4.0.5)\n",
       " crayon        1.4.1   2021-02-08 [2] CRAN (R 4.0.5)\n",
       " DBI           1.1.1   2021-01-15 [2] CRAN (R 4.0.5)\n",
       " dbplyr        2.1.1   2021-04-06 [2] CRAN (R 4.0.5)\n",
       " desc          1.3.0   2021-03-05 [2] CRAN (R 4.0.5)\n",
       " devtools      2.4.1   2021-05-05 [2] CRAN (R 4.0.5)\n",
       " digest        0.6.27  2020-10-24 [2] CRAN (R 4.0.5)\n",
       " dplyr       * 1.0.6   2021-05-05 [2] CRAN (R 4.0.5)\n",
       " ellipsis      0.3.2   2021-04-29 [2] CRAN (R 4.0.5)\n",
       " evaluate      0.14    2019-05-28 [2] CRAN (R 4.0.5)\n",
       " fansi         0.4.2   2021-01-15 [2] CRAN (R 4.0.5)\n",
       " fastmap       1.1.0   2021-01-25 [2] CRAN (R 4.0.5)\n",
       " forcats     * 0.5.1   2021-01-27 [2] CRAN (R 4.0.5)\n",
       " fs            1.5.0   2020-07-31 [2] CRAN (R 4.0.5)\n",
       " generics      0.1.0   2020-10-31 [2] CRAN (R 4.0.5)\n",
       " ggplot2     * 3.3.3   2020-12-30 [2] CRAN (R 4.0.5)\n",
       " glue          1.4.2   2020-08-27 [2] CRAN (R 4.0.5)\n",
       " gtable        0.3.0   2019-03-25 [2] CRAN (R 4.0.5)\n",
       " haven         2.4.1   2021-04-23 [2] CRAN (R 4.0.5)\n",
       " hms           1.0.0   2021-01-13 [2] CRAN (R 4.0.5)\n",
       " htmltools     0.5.1.1 2021-01-22 [2] CRAN (R 4.0.5)\n",
       " httr          1.4.2   2020-07-20 [2] CRAN (R 4.0.5)\n",
       " IRdisplay     1.0     2021-01-20 [2] CRAN (R 4.0.5)\n",
       " IRkernel      1.1.1   2020-07-20 [2] CRAN (R 4.0.5)\n",
       " jsonlite      1.7.2   2020-12-09 [2] CRAN (R 4.0.5)\n",
       " lifecycle     1.0.0   2021-02-15 [2] CRAN (R 4.0.5)\n",
       " lubridate   * 1.7.10  2021-02-26 [2] CRAN (R 4.0.5)\n",
       " magrittr      2.0.1   2020-11-17 [2] CRAN (R 4.0.5)\n",
       " memoise       2.0.0   2021-01-26 [2] CRAN (R 4.0.5)\n",
       " modelr        0.1.8   2020-05-19 [2] CRAN (R 4.0.5)\n",
       " munsell       0.5.0   2018-06-12 [2] CRAN (R 4.0.5)\n",
       " pbdZMQ        0.3-5   2021-02-10 [2] CRAN (R 4.0.5)\n",
       " pillar        1.6.0   2021-04-13 [2] CRAN (R 4.0.5)\n",
       " pkgbuild      1.2.0   2020-12-15 [2] CRAN (R 4.0.5)\n",
       " pkgconfig     2.0.3   2019-09-22 [2] CRAN (R 4.0.5)\n",
       " pkgload       1.2.1   2021-04-06 [2] CRAN (R 4.0.5)\n",
       " prettyunits   1.1.1   2020-01-24 [2] CRAN (R 4.0.5)\n",
       " processx      3.5.2   2021-04-30 [2] CRAN (R 4.0.5)\n",
       " ps            1.6.0   2021-02-28 [2] CRAN (R 4.0.5)\n",
       " purrr       * 0.3.4   2020-04-17 [2] CRAN (R 4.0.5)\n",
       " R6            2.5.0   2020-10-28 [2] CRAN (R 4.0.5)\n",
       " Rcpp          1.0.6   2021-01-15 [2] CRAN (R 4.0.5)\n",
       " readr       * 1.4.0   2020-10-05 [2] CRAN (R 4.0.5)\n",
       " readxl        1.3.1   2019-03-13 [2] CRAN (R 4.0.5)\n",
       " remotes       2.3.0   2021-04-01 [2] CRAN (R 4.0.5)\n",
       " repr          1.1.3   2021-01-21 [2] CRAN (R 4.0.5)\n",
       " reprex        2.0.0   2021-04-02 [2] CRAN (R 4.0.5)\n",
       " rlang         0.4.11  2021-04-30 [2] CRAN (R 4.0.5)\n",
       " rprojroot     2.0.2   2020-11-15 [2] CRAN (R 4.0.5)\n",
       " rstudioapi    0.13    2020-11-12 [2] CRAN (R 4.0.5)\n",
       " rvest         1.0.0   2021-03-09 [2] CRAN (R 4.0.5)\n",
       " scales        1.1.1   2020-05-11 [2] CRAN (R 4.0.5)\n",
       " sessioninfo   1.1.1   2018-11-05 [2] CRAN (R 4.0.5)\n",
       " stringi       1.5.3   2020-09-09 [2] CRAN (R 4.0.5)\n",
       " stringr     * 1.4.0   2019-02-10 [2] CRAN (R 4.0.5)\n",
       " testthat      3.0.2   2021-02-14 [2] CRAN (R 4.0.5)\n",
       " tibble      * 3.1.1   2021-04-18 [2] CRAN (R 4.0.5)\n",
       " tidyr       * 1.1.3   2021-03-03 [2] CRAN (R 4.0.5)\n",
       " tidyselect    1.1.1   2021-04-30 [2] CRAN (R 4.0.5)\n",
       " tidyverse   * 1.3.1   2021-04-15 [2] CRAN (R 4.0.5)\n",
       " usethis       2.0.1   2021-02-10 [2] CRAN (R 4.0.5)\n",
       " utf8          1.2.1   2021-03-12 [2] CRAN (R 4.0.5)\n",
       " uuid          0.1-4   2020-02-26 [2] CRAN (R 4.0.5)\n",
       " vctrs         0.3.8   2021-04-29 [2] CRAN (R 4.0.5)\n",
       " withr         2.4.2   2021-04-18 [2] CRAN (R 4.0.5)\n",
       " xml2          1.3.2   2020-04-23 [2] CRAN (R 4.0.5)\n",
       "\n",
       "[1] /home/jupyter-user/notebooks/packages\n",
       "[2] /usr/local/lib/R/site-library\n",
       "[3] /usr/lib/R/site-library\n",
       "[4] /usr/lib/R/library"
      ]
     },
     "metadata": {},
     "output_type": "display_data"
    }
   ],
   "source": [
    "devtools::session_info()"
   ]
  },
  {
   "cell_type": "markdown",
   "metadata": {},
   "source": [
    "Copyright 2019 The Broad Institute, Inc., Verily Life Sciences, LLC\n",
    "All rights reserved.\n",
    "\n",
    "This software may be modified and distributed under the terms of the BSD license.  See the LICENSE file for details."
   ]
  }
 ],
 "metadata": {
  "kernelspec": {
   "display_name": "R",
   "language": "R",
   "name": "ir"
  },
  "language_info": {
   "codemirror_mode": "r",
   "file_extension": ".r",
   "mimetype": "text/x-r-source",
   "name": "R",
   "pygments_lexer": "r",
   "version": "4.0.5"
  },
  "toc": {
   "base_numbering": 1,
   "nav_menu": {},
   "number_sections": true,
   "sideBar": true,
   "skip_h1_title": false,
   "title_cell": "Table of Contents",
   "title_sidebar": "Contents",
   "toc_cell": false,
   "toc_position": {},
   "toc_section_display": true,
   "toc_window_display": true
  }
 },
 "nbformat": 4,
 "nbformat_minor": 2
}
