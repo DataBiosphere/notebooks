{
 "cells": [
  {
   "cell_type": "markdown",
   "metadata": {},
   "source": [
    "# How to store revisions and reports\n",
    "\n",
    "In this notebook we render to HTML notebooks downloaded to our Leo instance and store them to dated subdirectories in our workspace bucket so that we can have revisions.\n",
    "\n",
    "See also [Notebooks 101 - How not to lose data output files or collaborator edits](https://broadinstitute.zendesk.com/hc/en-us/articles/360027300571-Notebooks-101-How-not-to-lose-data-output-files-or-collaborator-edits)."
   ]
  },
  {
   "cell_type": "markdown",
   "metadata": {},
   "source": [
    "# Setup\n",
    "\n",
    "First, be sure to run notebook **`R environment setup`** in this workspace."
   ]
  },
  {
   "cell_type": "code",
   "execution_count": 1,
   "metadata": {},
   "outputs": [
    {
     "name": "stderr",
     "output_type": "stream",
     "text": [
      "\n",
      "Attaching package: ‘lubridate’\n",
      "\n",
      "\n",
      "The following object is masked from ‘package:base’:\n",
      "\n",
      "    date\n",
      "\n",
      "\n",
      "── \u001b[1mAttaching packages\u001b[22m ─────────────────────────────────────── tidyverse 1.2.1 ──\n",
      "\n",
      "\u001b[32m✔\u001b[39m \u001b[34mggplot2\u001b[39m 3.2.1     \u001b[32m✔\u001b[39m \u001b[34mpurrr  \u001b[39m 0.3.2\n",
      "\u001b[32m✔\u001b[39m \u001b[34mtibble \u001b[39m 2.1.3     \u001b[32m✔\u001b[39m \u001b[34mdplyr  \u001b[39m 0.8.3\n",
      "\u001b[32m✔\u001b[39m \u001b[34mtidyr  \u001b[39m 1.0.0     \u001b[32m✔\u001b[39m \u001b[34mstringr\u001b[39m 1.4.0\n",
      "\u001b[32m✔\u001b[39m \u001b[34mreadr  \u001b[39m 1.3.1     \u001b[32m✔\u001b[39m \u001b[34mforcats\u001b[39m 0.4.0\n",
      "\n",
      "── \u001b[1mConflicts\u001b[22m ────────────────────────────────────────── tidyverse_conflicts() ──\n",
      "\u001b[31m✖\u001b[39m \u001b[34mlubridate\u001b[39m::\u001b[32mas.difftime()\u001b[39m masks \u001b[34mbase\u001b[39m::as.difftime()\n",
      "\u001b[31m✖\u001b[39m \u001b[34mlubridate\u001b[39m::\u001b[32mdate()\u001b[39m        masks \u001b[34mbase\u001b[39m::date()\n",
      "\u001b[31m✖\u001b[39m \u001b[34mdplyr\u001b[39m::\u001b[32mfilter()\u001b[39m          masks \u001b[34mstats\u001b[39m::filter()\n",
      "\u001b[31m✖\u001b[39m \u001b[34mlubridate\u001b[39m::\u001b[32mintersect()\u001b[39m   masks \u001b[34mbase\u001b[39m::intersect()\n",
      "\u001b[31m✖\u001b[39m \u001b[34mdplyr\u001b[39m::\u001b[32mlag()\u001b[39m             masks \u001b[34mstats\u001b[39m::lag()\n",
      "\u001b[31m✖\u001b[39m \u001b[34mlubridate\u001b[39m::\u001b[32msetdiff()\u001b[39m     masks \u001b[34mbase\u001b[39m::setdiff()\n",
      "\u001b[31m✖\u001b[39m \u001b[34mlubridate\u001b[39m::\u001b[32munion()\u001b[39m       masks \u001b[34mbase\u001b[39m::union()\n",
      "\n"
     ]
    }
   ],
   "source": [
    "library(lubridate)\n",
    "library(tidyverse)"
   ]
  },
  {
   "cell_type": "markdown",
   "metadata": {},
   "source": [
    "Get the Cloud Storage bucket associated with this workspace."
   ]
  },
  {
   "cell_type": "code",
   "execution_count": 2,
   "metadata": {},
   "outputs": [
    {
     "data": {
      "text/html": [
       "'gs://fc-9b460d40-2985-49b5-a228-cdcf639e8c40'"
      ],
      "text/latex": [
       "'gs://fc-9b460d40-2985-49b5-a228-cdcf639e8c40'"
      ],
      "text/markdown": [
       "'gs://fc-9b460d40-2985-49b5-a228-cdcf639e8c40'"
      ],
      "text/plain": [
       "[1] \"gs://fc-9b460d40-2985-49b5-a228-cdcf639e8c40\""
      ]
     },
     "metadata": {},
     "output_type": "display_data"
    }
   ],
   "source": [
    "(WORKSPACE_BUCKET <- Sys.getenv('WORKSPACE_BUCKET'))"
   ]
  },
  {
   "cell_type": "markdown",
   "metadata": {},
   "source": [
    "Since we cannot programmatically get a username that would look decent in a URL instead use a stamp with resolution in seconds to hopefully avoid collisions between multiple users creating revisions at the same time."
   ]
  },
  {
   "cell_type": "code",
   "execution_count": 3,
   "metadata": {},
   "outputs": [
    {
     "data": {
      "text/html": [
       "'20200113/224036'"
      ],
      "text/latex": [
       "'20200113/224036'"
      ],
      "text/markdown": [
       "'20200113/224036'"
      ],
      "text/plain": [
       "[1] \"20200113/224036\""
      ]
     },
     "metadata": {},
     "output_type": "display_data"
    }
   ],
   "source": [
    "# Create a timestamp for folder of results generated today.\n",
    "(TIMESTAMP <- strftime(now(), '%Y%m%d/%H%M%S'))"
   ]
  },
  {
   "cell_type": "code",
   "execution_count": 4,
   "metadata": {},
   "outputs": [
    {
     "data": {
      "text/html": [
       "'gs://fc-9b460d40-2985-49b5-a228-cdcf639e8c40/reports/20200113/224036/'"
      ],
      "text/latex": [
       "'gs://fc-9b460d40-2985-49b5-a228-cdcf639e8c40/reports/20200113/224036/'"
      ],
      "text/markdown": [
       "'gs://fc-9b460d40-2985-49b5-a228-cdcf639e8c40/reports/20200113/224036/'"
      ],
      "text/plain": [
       "gs://fc-9b460d40-2985-49b5-a228-cdcf639e8c40/reports/20200113/224036/"
      ]
     },
     "metadata": {},
     "output_type": "display_data"
    }
   ],
   "source": [
    "(REPORT_DESTINATION <- str_glue('{WORKSPACE_BUCKET}/reports/{TIMESTAMP}/'))"
   ]
  },
  {
   "cell_type": "code",
   "execution_count": 5,
   "metadata": {},
   "outputs": [
    {
     "data": {
      "text/html": [
       "'deflaux@google.com'"
      ],
      "text/latex": [
       "'deflaux@google.com'"
      ],
      "text/markdown": [
       "'deflaux@google.com'"
      ],
      "text/plain": [
       "[1] \"deflaux@google.com\""
      ]
     },
     "metadata": {},
     "output_type": "display_data"
    }
   ],
   "source": [
    "(OWNER_EMAIL <- Sys.getenv('OWNER_EMAIL'))"
   ]
  },
  {
   "cell_type": "markdown",
   "metadata": {},
   "source": [
    "# Permissions check"
   ]
  },
  {
   "cell_type": "markdown",
   "metadata": {},
   "source": [
    "Check that you can write to the workspace bucket.\n",
    "\n",
    "This also serves as a way to figure out who wrote the files to the subdirectories."
   ]
  },
  {
   "cell_type": "code",
   "execution_count": 6,
   "metadata": {},
   "outputs": [
    {
     "data": {
      "text/html": [],
      "text/latex": [],
      "text/markdown": [],
      "text/plain": [
       "character(0)"
      ]
     },
     "metadata": {},
     "output_type": "display_data"
    }
   ],
   "source": [
    "system(str_glue(\n",
    "    'echo {OWNER_EMAIL} about to save copies of work from {TIMESTAMP} | gsutil cp - {REPORT_DESTINATION}status.txt'),\n",
    "       intern = TRUE)"
   ]
  },
  {
   "cell_type": "code",
   "execution_count": 7,
   "metadata": {},
   "outputs": [
    {
     "data": {
      "text/html": [
       "'deflaux@google.com about to save copies of work from 20200113/224036'"
      ],
      "text/latex": [
       "'deflaux@google.com about to save copies of work from 20200113/224036'"
      ],
      "text/markdown": [
       "'deflaux@google.com about to save copies of work from 20200113/224036'"
      ],
      "text/plain": [
       "[1] \"deflaux@google.com about to save copies of work from 20200113/224036\""
      ]
     },
     "metadata": {},
     "output_type": "display_data"
    }
   ],
   "source": [
    "system(str_glue('gsutil cat {REPORT_DESTINATION}status.txt'), intern = TRUE)"
   ]
  },
  {
   "cell_type": "markdown",
   "metadata": {},
   "source": [
    "# Save copies\n",
    "\n",
    "This notebook is currently written to only create revisions for notebooks that have been delocalized to this particular Leonardo VM. (e.g., only the notebooks I worked on recently)."
   ]
  },
  {
   "cell_type": "code",
   "execution_count": 8,
   "metadata": {},
   "outputs": [
    {
     "data": {
      "text/html": [
       "<ol class=list-inline>\n",
       "\t<li>'Py3 - How to load data to BigQuery.html'</li>\n",
       "\t<li>'Py3 - How to load data to BigQuery.ipynb'</li>\n",
       "\t<li>'Py3 - How to read data from BigQuery.html'</li>\n",
       "\t<li>'Py3 - How to read data from BigQuery.ipynb'</li>\n",
       "\t<li>'Py3 - How to read data from Cloud Storage.html'</li>\n",
       "\t<li>'Py3 - How to read data from Cloud Storage.ipynb'</li>\n",
       "\t<li>'Py3 - How to retrieve a cohort.html'</li>\n",
       "\t<li>'Py3 - How to retrieve a cohort.ipynb'</li>\n",
       "\t<li>'Py3 - How to use Facets for interactive visualization of data.html'</li>\n",
       "\t<li>'Py3 - How to use Facets for interactive visualization of data.ipynb'</li>\n",
       "\t<li>'Python environment setup.html'</li>\n",
       "\t<li>'Python environment setup.ipynb'</li>\n",
       "\t<li>'R - Analysis example for exploring power law distributions.html'</li>\n",
       "\t<li>'R - Analysis example for exploring power law distributions.ipynb'</li>\n",
       "\t<li>'R - How to emit markdown from code cells.html'</li>\n",
       "\t<li>'R - How to emit markdown from code cells.ipynb'</li>\n",
       "\t<li>'R - How to load data to BigQuery.html'</li>\n",
       "\t<li>'R - How to load data to BigQuery.ipynb'</li>\n",
       "\t<li>'R - How to pull in reusable code from source control.html'</li>\n",
       "\t<li>'R - How to pull in reusable code from source control.ipynb'</li>\n",
       "\t<li>'R - How to read data from BigQuery.html'</li>\n",
       "\t<li>'R - How to read data from BigQuery.ipynb'</li>\n",
       "\t<li>'R - How to save and load R objects from the workspace bucket.html'</li>\n",
       "\t<li>'R - How to save and load R objects from the workspace bucket.ipynb'</li>\n",
       "\t<li>'R - How to save images and tables to files.html'</li>\n",
       "\t<li>'R - How to save images and tables to files.ipynb'</li>\n",
       "\t<li>'R - How to store revisions and reports.html'</li>\n",
       "\t<li>'R - How to store revisions and reports.ipynb'</li>\n",
       "\t<li>'R - How to use a cohort.html'</li>\n",
       "\t<li>'R - How to use a cohort.ipynb'</li>\n",
       "\t<li>'R - Plotting example for Boston 311 data.html'</li>\n",
       "\t<li>'R - Plotting example for Boston 311 data.ipynb'</li>\n",
       "\t<li>'R environment setup .html'</li>\n",
       "\t<li>'R environment setup .ipynb'</li>\n",
       "\t<li>'temp - Update Terra Notebooks Playground.html'</li>\n",
       "\t<li>'temp - Update Terra Notebooks Playground.ipynb'</li>\n",
       "\t<li>'thousand_genomes_20200113-223621.rda'</li>\n",
       "</ol>\n"
      ],
      "text/latex": [
       "\\begin{enumerate*}\n",
       "\\item 'Py3 - How to load data to BigQuery.html'\n",
       "\\item 'Py3 - How to load data to BigQuery.ipynb'\n",
       "\\item 'Py3 - How to read data from BigQuery.html'\n",
       "\\item 'Py3 - How to read data from BigQuery.ipynb'\n",
       "\\item 'Py3 - How to read data from Cloud Storage.html'\n",
       "\\item 'Py3 - How to read data from Cloud Storage.ipynb'\n",
       "\\item 'Py3 - How to retrieve a cohort.html'\n",
       "\\item 'Py3 - How to retrieve a cohort.ipynb'\n",
       "\\item 'Py3 - How to use Facets for interactive visualization of data.html'\n",
       "\\item 'Py3 - How to use Facets for interactive visualization of data.ipynb'\n",
       "\\item 'Python environment setup.html'\n",
       "\\item 'Python environment setup.ipynb'\n",
       "\\item 'R - Analysis example for exploring power law distributions.html'\n",
       "\\item 'R - Analysis example for exploring power law distributions.ipynb'\n",
       "\\item 'R - How to emit markdown from code cells.html'\n",
       "\\item 'R - How to emit markdown from code cells.ipynb'\n",
       "\\item 'R - How to load data to BigQuery.html'\n",
       "\\item 'R - How to load data to BigQuery.ipynb'\n",
       "\\item 'R - How to pull in reusable code from source control.html'\n",
       "\\item 'R - How to pull in reusable code from source control.ipynb'\n",
       "\\item 'R - How to read data from BigQuery.html'\n",
       "\\item 'R - How to read data from BigQuery.ipynb'\n",
       "\\item 'R - How to save and load R objects from the workspace bucket.html'\n",
       "\\item 'R - How to save and load R objects from the workspace bucket.ipynb'\n",
       "\\item 'R - How to save images and tables to files.html'\n",
       "\\item 'R - How to save images and tables to files.ipynb'\n",
       "\\item 'R - How to store revisions and reports.html'\n",
       "\\item 'R - How to store revisions and reports.ipynb'\n",
       "\\item 'R - How to use a cohort.html'\n",
       "\\item 'R - How to use a cohort.ipynb'\n",
       "\\item 'R - Plotting example for Boston 311 data.html'\n",
       "\\item 'R - Plotting example for Boston 311 data.ipynb'\n",
       "\\item 'R environment setup .html'\n",
       "\\item 'R environment setup .ipynb'\n",
       "\\item 'temp - Update Terra Notebooks Playground.html'\n",
       "\\item 'temp - Update Terra Notebooks Playground.ipynb'\n",
       "\\item 'thousand\\_genomes\\_20200113-223621.rda'\n",
       "\\end{enumerate*}\n"
      ],
      "text/markdown": [
       "1. 'Py3 - How to load data to BigQuery.html'\n",
       "2. 'Py3 - How to load data to BigQuery.ipynb'\n",
       "3. 'Py3 - How to read data from BigQuery.html'\n",
       "4. 'Py3 - How to read data from BigQuery.ipynb'\n",
       "5. 'Py3 - How to read data from Cloud Storage.html'\n",
       "6. 'Py3 - How to read data from Cloud Storage.ipynb'\n",
       "7. 'Py3 - How to retrieve a cohort.html'\n",
       "8. 'Py3 - How to retrieve a cohort.ipynb'\n",
       "9. 'Py3 - How to use Facets for interactive visualization of data.html'\n",
       "10. 'Py3 - How to use Facets for interactive visualization of data.ipynb'\n",
       "11. 'Python environment setup.html'\n",
       "12. 'Python environment setup.ipynb'\n",
       "13. 'R - Analysis example for exploring power law distributions.html'\n",
       "14. 'R - Analysis example for exploring power law distributions.ipynb'\n",
       "15. 'R - How to emit markdown from code cells.html'\n",
       "16. 'R - How to emit markdown from code cells.ipynb'\n",
       "17. 'R - How to load data to BigQuery.html'\n",
       "18. 'R - How to load data to BigQuery.ipynb'\n",
       "19. 'R - How to pull in reusable code from source control.html'\n",
       "20. 'R - How to pull in reusable code from source control.ipynb'\n",
       "21. 'R - How to read data from BigQuery.html'\n",
       "22. 'R - How to read data from BigQuery.ipynb'\n",
       "23. 'R - How to save and load R objects from the workspace bucket.html'\n",
       "24. 'R - How to save and load R objects from the workspace bucket.ipynb'\n",
       "25. 'R - How to save images and tables to files.html'\n",
       "26. 'R - How to save images and tables to files.ipynb'\n",
       "27. 'R - How to store revisions and reports.html'\n",
       "28. 'R - How to store revisions and reports.ipynb'\n",
       "29. 'R - How to use a cohort.html'\n",
       "30. 'R - How to use a cohort.ipynb'\n",
       "31. 'R - Plotting example for Boston 311 data.html'\n",
       "32. 'R - Plotting example for Boston 311 data.ipynb'\n",
       "33. 'R environment setup .html'\n",
       "34. 'R environment setup .ipynb'\n",
       "35. 'temp - Update Terra Notebooks Playground.html'\n",
       "36. 'temp - Update Terra Notebooks Playground.ipynb'\n",
       "37. 'thousand_genomes_20200113-223621.rda'\n",
       "\n",
       "\n"
      ],
      "text/plain": [
       " [1] \"Py3 - How to load data to BigQuery.html\"                            \n",
       " [2] \"Py3 - How to load data to BigQuery.ipynb\"                           \n",
       " [3] \"Py3 - How to read data from BigQuery.html\"                          \n",
       " [4] \"Py3 - How to read data from BigQuery.ipynb\"                         \n",
       " [5] \"Py3 - How to read data from Cloud Storage.html\"                     \n",
       " [6] \"Py3 - How to read data from Cloud Storage.ipynb\"                    \n",
       " [7] \"Py3 - How to retrieve a cohort.html\"                                \n",
       " [8] \"Py3 - How to retrieve a cohort.ipynb\"                               \n",
       " [9] \"Py3 - How to use Facets for interactive visualization of data.html\" \n",
       "[10] \"Py3 - How to use Facets for interactive visualization of data.ipynb\"\n",
       "[11] \"Python environment setup.html\"                                      \n",
       "[12] \"Python environment setup.ipynb\"                                     \n",
       "[13] \"R - Analysis example for exploring power law distributions.html\"    \n",
       "[14] \"R - Analysis example for exploring power law distributions.ipynb\"   \n",
       "[15] \"R - How to emit markdown from code cells.html\"                      \n",
       "[16] \"R - How to emit markdown from code cells.ipynb\"                     \n",
       "[17] \"R - How to load data to BigQuery.html\"                              \n",
       "[18] \"R - How to load data to BigQuery.ipynb\"                             \n",
       "[19] \"R - How to pull in reusable code from source control.html\"          \n",
       "[20] \"R - How to pull in reusable code from source control.ipynb\"         \n",
       "[21] \"R - How to read data from BigQuery.html\"                            \n",
       "[22] \"R - How to read data from BigQuery.ipynb\"                           \n",
       "[23] \"R - How to save and load R objects from the workspace bucket.html\"  \n",
       "[24] \"R - How to save and load R objects from the workspace bucket.ipynb\" \n",
       "[25] \"R - How to save images and tables to files.html\"                    \n",
       "[26] \"R - How to save images and tables to files.ipynb\"                   \n",
       "[27] \"R - How to store revisions and reports.html\"                        \n",
       "[28] \"R - How to store revisions and reports.ipynb\"                       \n",
       "[29] \"R - How to use a cohort.html\"                                       \n",
       "[30] \"R - How to use a cohort.ipynb\"                                      \n",
       "[31] \"R - Plotting example for Boston 311 data.html\"                      \n",
       "[32] \"R - Plotting example for Boston 311 data.ipynb\"                     \n",
       "[33] \"R environment setup .html\"                                          \n",
       "[34] \"R environment setup .ipynb\"                                         \n",
       "[35] \"temp - Update Terra Notebooks Playground.html\"                      \n",
       "[36] \"temp - Update Terra Notebooks Playground.ipynb\"                     \n",
       "[37] \"thousand_genomes_20200113-223621.rda\"                               "
      ]
     },
     "metadata": {},
     "output_type": "display_data"
    }
   ],
   "source": [
    "list.files()"
   ]
  },
  {
   "cell_type": "markdown",
   "metadata": {},
   "source": [
    "## Render notebooks to HTML\n",
    "\n",
    "**Note**: this does not re-run them, it merely takes the currently autosaved version and converts it to HTML."
   ]
  },
  {
   "cell_type": "code",
   "execution_count": 9,
   "metadata": {},
   "outputs": [
    {
     "name": "stdout",
     "output_type": "stream",
     "text": [
      "character(0)\n",
      "character(0)\n",
      "character(0)\n",
      "character(0)\n",
      "character(0)\n",
      "character(0)\n",
      "character(0)\n",
      "character(0)\n",
      "character(0)\n",
      "character(0)\n",
      "character(0)\n",
      "character(0)\n",
      "character(0)\n",
      "character(0)\n",
      "character(0)\n",
      "character(0)\n",
      "character(0)\n",
      "character(0)\n"
     ]
    },
    {
     "data": {
      "text/html": [
       "<ol>\n",
       "\t<li></li>\n",
       "\t<li></li>\n",
       "\t<li></li>\n",
       "\t<li></li>\n",
       "\t<li></li>\n",
       "\t<li></li>\n",
       "\t<li></li>\n",
       "\t<li></li>\n",
       "\t<li></li>\n",
       "\t<li></li>\n",
       "\t<li></li>\n",
       "\t<li></li>\n",
       "\t<li></li>\n",
       "\t<li></li>\n",
       "\t<li></li>\n",
       "\t<li></li>\n",
       "\t<li></li>\n",
       "\t<li></li>\n",
       "</ol>\n"
      ],
      "text/latex": [
       "\\begin{enumerate}\n",
       "\\item \n",
       "\\item \n",
       "\\item \n",
       "\\item \n",
       "\\item \n",
       "\\item \n",
       "\\item \n",
       "\\item \n",
       "\\item \n",
       "\\item \n",
       "\\item \n",
       "\\item \n",
       "\\item \n",
       "\\item \n",
       "\\item \n",
       "\\item \n",
       "\\item \n",
       "\\item \n",
       "\\end{enumerate}\n"
      ],
      "text/markdown": [
       "1. \n",
       "2. \n",
       "3. \n",
       "4. \n",
       "5. \n",
       "6. \n",
       "7. \n",
       "8. \n",
       "9. \n",
       "10. \n",
       "11. \n",
       "12. \n",
       "13. \n",
       "14. \n",
       "15. \n",
       "16. \n",
       "17. \n",
       "18. \n",
       "\n",
       "\n"
      ],
      "text/plain": [
       "[[1]]\n",
       "character(0)\n",
       "\n",
       "[[2]]\n",
       "character(0)\n",
       "\n",
       "[[3]]\n",
       "character(0)\n",
       "\n",
       "[[4]]\n",
       "character(0)\n",
       "\n",
       "[[5]]\n",
       "character(0)\n",
       "\n",
       "[[6]]\n",
       "character(0)\n",
       "\n",
       "[[7]]\n",
       "character(0)\n",
       "\n",
       "[[8]]\n",
       "character(0)\n",
       "\n",
       "[[9]]\n",
       "character(0)\n",
       "\n",
       "[[10]]\n",
       "character(0)\n",
       "\n",
       "[[11]]\n",
       "character(0)\n",
       "\n",
       "[[12]]\n",
       "character(0)\n",
       "\n",
       "[[13]]\n",
       "character(0)\n",
       "\n",
       "[[14]]\n",
       "character(0)\n",
       "\n",
       "[[15]]\n",
       "character(0)\n",
       "\n",
       "[[16]]\n",
       "character(0)\n",
       "\n",
       "[[17]]\n",
       "character(0)\n",
       "\n",
       "[[18]]\n",
       "character(0)\n"
      ]
     },
     "metadata": {},
     "output_type": "display_data"
    }
   ],
   "source": [
    "map(list.files(pattern = '*.ipynb'),\n",
    "   function(nb) {\n",
    "       print(system(str_glue('jupyter nbconvert --to html_toc \\'{nb}\\''), intern = TRUE))\n",
    "   })"
   ]
  },
  {
   "cell_type": "code",
   "execution_count": 10,
   "metadata": {},
   "outputs": [
    {
     "data": {
      "text/html": [
       "<ol class=list-inline>\n",
       "\t<li>'Py3 - How to load data to BigQuery.html'</li>\n",
       "\t<li>'Py3 - How to read data from BigQuery.html'</li>\n",
       "\t<li>'Py3 - How to read data from Cloud Storage.html'</li>\n",
       "\t<li>'Py3 - How to retrieve a cohort.html'</li>\n",
       "\t<li>'Py3 - How to use Facets for interactive visualization of data.html'</li>\n",
       "\t<li>'Python environment setup.html'</li>\n",
       "\t<li>'R - Analysis example for exploring power law distributions.html'</li>\n",
       "\t<li>'R - How to emit markdown from code cells.html'</li>\n",
       "\t<li>'R - How to load data to BigQuery.html'</li>\n",
       "\t<li>'R - How to pull in reusable code from source control.html'</li>\n",
       "\t<li>'R - How to read data from BigQuery.html'</li>\n",
       "\t<li>'R - How to save and load R objects from the workspace bucket.html'</li>\n",
       "\t<li>'R - How to save images and tables to files.html'</li>\n",
       "\t<li>'R - How to store revisions and reports.html'</li>\n",
       "\t<li>'R - How to use a cohort.html'</li>\n",
       "\t<li>'R - Plotting example for Boston 311 data.html'</li>\n",
       "\t<li>'R environment setup .html'</li>\n",
       "\t<li>'temp - Update Terra Notebooks Playground.html'</li>\n",
       "</ol>\n"
      ],
      "text/latex": [
       "\\begin{enumerate*}\n",
       "\\item 'Py3 - How to load data to BigQuery.html'\n",
       "\\item 'Py3 - How to read data from BigQuery.html'\n",
       "\\item 'Py3 - How to read data from Cloud Storage.html'\n",
       "\\item 'Py3 - How to retrieve a cohort.html'\n",
       "\\item 'Py3 - How to use Facets for interactive visualization of data.html'\n",
       "\\item 'Python environment setup.html'\n",
       "\\item 'R - Analysis example for exploring power law distributions.html'\n",
       "\\item 'R - How to emit markdown from code cells.html'\n",
       "\\item 'R - How to load data to BigQuery.html'\n",
       "\\item 'R - How to pull in reusable code from source control.html'\n",
       "\\item 'R - How to read data from BigQuery.html'\n",
       "\\item 'R - How to save and load R objects from the workspace bucket.html'\n",
       "\\item 'R - How to save images and tables to files.html'\n",
       "\\item 'R - How to store revisions and reports.html'\n",
       "\\item 'R - How to use a cohort.html'\n",
       "\\item 'R - Plotting example for Boston 311 data.html'\n",
       "\\item 'R environment setup .html'\n",
       "\\item 'temp - Update Terra Notebooks Playground.html'\n",
       "\\end{enumerate*}\n"
      ],
      "text/markdown": [
       "1. 'Py3 - How to load data to BigQuery.html'\n",
       "2. 'Py3 - How to read data from BigQuery.html'\n",
       "3. 'Py3 - How to read data from Cloud Storage.html'\n",
       "4. 'Py3 - How to retrieve a cohort.html'\n",
       "5. 'Py3 - How to use Facets for interactive visualization of data.html'\n",
       "6. 'Python environment setup.html'\n",
       "7. 'R - Analysis example for exploring power law distributions.html'\n",
       "8. 'R - How to emit markdown from code cells.html'\n",
       "9. 'R - How to load data to BigQuery.html'\n",
       "10. 'R - How to pull in reusable code from source control.html'\n",
       "11. 'R - How to read data from BigQuery.html'\n",
       "12. 'R - How to save and load R objects from the workspace bucket.html'\n",
       "13. 'R - How to save images and tables to files.html'\n",
       "14. 'R - How to store revisions and reports.html'\n",
       "15. 'R - How to use a cohort.html'\n",
       "16. 'R - Plotting example for Boston 311 data.html'\n",
       "17. 'R environment setup .html'\n",
       "18. 'temp - Update Terra Notebooks Playground.html'\n",
       "\n",
       "\n"
      ],
      "text/plain": [
       " [1] \"Py3 - How to load data to BigQuery.html\"                           \n",
       " [2] \"Py3 - How to read data from BigQuery.html\"                         \n",
       " [3] \"Py3 - How to read data from Cloud Storage.html\"                    \n",
       " [4] \"Py3 - How to retrieve a cohort.html\"                               \n",
       " [5] \"Py3 - How to use Facets for interactive visualization of data.html\"\n",
       " [6] \"Python environment setup.html\"                                     \n",
       " [7] \"R - Analysis example for exploring power law distributions.html\"   \n",
       " [8] \"R - How to emit markdown from code cells.html\"                     \n",
       " [9] \"R - How to load data to BigQuery.html\"                             \n",
       "[10] \"R - How to pull in reusable code from source control.html\"         \n",
       "[11] \"R - How to read data from BigQuery.html\"                           \n",
       "[12] \"R - How to save and load R objects from the workspace bucket.html\" \n",
       "[13] \"R - How to save images and tables to files.html\"                   \n",
       "[14] \"R - How to store revisions and reports.html\"                       \n",
       "[15] \"R - How to use a cohort.html\"                                      \n",
       "[16] \"R - Plotting example for Boston 311 data.html\"                     \n",
       "[17] \"R environment setup .html\"                                         \n",
       "[18] \"temp - Update Terra Notebooks Playground.html\"                     "
      ]
     },
     "metadata": {},
     "output_type": "display_data"
    }
   ],
   "source": [
    "list.files(pattern = '*.html')"
   ]
  },
  {
   "cell_type": "code",
   "execution_count": 11,
   "metadata": {},
   "outputs": [
    {
     "data": {
      "text/html": [],
      "text/latex": [],
      "text/markdown": [],
      "text/plain": [
       "character(0)"
      ]
     },
     "metadata": {},
     "output_type": "display_data"
    }
   ],
   "source": [
    "system(str_glue('gsutil -m cp *.html {REPORT_DESTINATION}'), intern = TRUE)"
   ]
  },
  {
   "cell_type": "markdown",
   "metadata": {},
   "source": [
    "# Provenance"
   ]
  },
  {
   "cell_type": "code",
   "execution_count": 12,
   "metadata": {},
   "outputs": [
    {
     "data": {
      "text/plain": [
       "─ Session info ───────────────────────────────────────────────────────────────\n",
       " setting  value                       \n",
       " version  R version 3.5.2 (2018-12-20)\n",
       " os       Debian GNU/Linux 9 (stretch)\n",
       " system   x86_64, linux-gnu           \n",
       " ui       X11                         \n",
       " language (EN)                        \n",
       " collate  en_US.UTF-8                 \n",
       " ctype    en_US.UTF-8                 \n",
       " tz       Etc/UTC                     \n",
       " date     2020-01-13                  \n",
       "\n",
       "─ Packages ───────────────────────────────────────────────────────────────────\n",
       " package     * version    date       lib source                            \n",
       " assertthat    0.2.1      2019-03-21 [2] CRAN (R 3.5.2)                    \n",
       " backports     1.1.5      2019-10-02 [1] CRAN (R 3.5.2)                    \n",
       " base64enc     0.1-3      2015-07-28 [2] CRAN (R 3.5.2)                    \n",
       " broom         0.5.2      2019-04-07 [2] CRAN (R 3.5.2)                    \n",
       " callr         3.3.1      2019-07-18 [2] CRAN (R 3.5.2)                    \n",
       " cellranger    1.1.0      2016-07-27 [2] CRAN (R 3.5.2)                    \n",
       " cli           1.1.0      2019-03-19 [2] CRAN (R 3.5.2)                    \n",
       " colorspace    1.4-1      2019-03-18 [2] CRAN (R 3.5.2)                    \n",
       " crayon        1.3.4      2017-09-16 [2] CRAN (R 3.5.2)                    \n",
       " desc          1.2.0      2018-05-01 [2] CRAN (R 3.5.2)                    \n",
       " devtools      2.1.0      2019-07-06 [2] CRAN (R 3.5.2)                    \n",
       " digest        0.6.20     2019-07-04 [2] CRAN (R 3.5.2)                    \n",
       " dplyr       * 0.8.3      2019-07-04 [2] CRAN (R 3.5.2)                    \n",
       " evaluate      0.14       2019-05-28 [2] CRAN (R 3.5.2)                    \n",
       " forcats     * 0.4.0      2019-02-17 [2] CRAN (R 3.5.2)                    \n",
       " fs            1.3.1      2019-05-06 [2] CRAN (R 3.5.2)                    \n",
       " generics      0.0.2      2018-11-29 [2] CRAN (R 3.5.2)                    \n",
       " ggplot2     * 3.2.1      2019-08-10 [2] CRAN (R 3.5.2)                    \n",
       " glue          1.3.1      2019-03-12 [2] CRAN (R 3.5.2)                    \n",
       " gtable        0.3.0      2019-03-25 [2] CRAN (R 3.5.2)                    \n",
       " haven         2.1.1      2019-07-04 [2] CRAN (R 3.5.2)                    \n",
       " hms           0.5.0      2019-07-09 [2] CRAN (R 3.5.2)                    \n",
       " htmltools     0.3.6      2017-04-28 [2] CRAN (R 3.5.2)                    \n",
       " httr          1.4.1      2019-08-05 [2] CRAN (R 3.5.2)                    \n",
       " IRdisplay     0.7.0      2018-11-29 [2] CRAN (R 3.5.2)                    \n",
       " IRkernel      1.0.2.9000 2019-08-23 [2] Github (IRkernel/IRkernel@d7f0b08)\n",
       " jsonlite      1.6        2018-12-07 [2] CRAN (R 3.5.2)                    \n",
       " lattice       0.20-38    2018-11-04 [2] CRAN (R 3.5.2)                    \n",
       " lazyeval      0.2.2      2019-03-15 [2] CRAN (R 3.5.2)                    \n",
       " lifecycle     0.1.0      2019-08-01 [1] CRAN (R 3.5.2)                    \n",
       " lubridate   * 1.7.4      2018-04-11 [2] CRAN (R 3.5.2)                    \n",
       " magrittr      1.5        2014-11-22 [2] CRAN (R 3.5.2)                    \n",
       " memoise       1.1.0      2017-04-21 [2] CRAN (R 3.5.2)                    \n",
       " modelr        0.1.5      2019-08-08 [2] CRAN (R 3.5.2)                    \n",
       " munsell       0.5.0      2018-06-12 [2] CRAN (R 3.5.2)                    \n",
       " nlme          3.1-141    2019-08-01 [2] CRAN (R 3.5.2)                    \n",
       " pbdZMQ        0.3-3      2018-05-05 [2] CRAN (R 3.5.2)                    \n",
       " pillar        1.4.2      2019-06-29 [2] CRAN (R 3.5.2)                    \n",
       " pkgbuild      1.0.4      2019-08-05 [2] CRAN (R 3.5.2)                    \n",
       " pkgconfig     2.0.2      2018-08-16 [2] CRAN (R 3.5.2)                    \n",
       " pkgload       1.0.2      2018-10-29 [2] CRAN (R 3.5.2)                    \n",
       " prettyunits   1.0.2      2015-07-13 [2] CRAN (R 3.5.2)                    \n",
       " processx      3.4.1      2019-07-18 [2] CRAN (R 3.5.2)                    \n",
       " ps            1.3.0      2018-12-21 [2] CRAN (R 3.5.2)                    \n",
       " purrr       * 0.3.2      2019-03-15 [2] CRAN (R 3.5.2)                    \n",
       " R6            2.4.1      2019-11-12 [1] CRAN (R 3.5.2)                    \n",
       " Rcpp          1.0.2      2019-07-25 [2] CRAN (R 3.5.2)                    \n",
       " readr       * 1.3.1      2018-12-21 [2] CRAN (R 3.5.2)                    \n",
       " readxl        1.3.1      2019-03-13 [2] CRAN (R 3.5.2)                    \n",
       " remotes       2.1.0      2019-06-24 [2] CRAN (R 3.5.2)                    \n",
       " repr          1.0.1      2019-05-14 [2] CRAN (R 3.5.2)                    \n",
       " rlang         0.4.0      2019-06-25 [2] CRAN (R 3.5.2)                    \n",
       " rprojroot     1.3-2      2018-01-03 [2] CRAN (R 3.5.2)                    \n",
       " rstudioapi    0.10       2019-03-19 [2] CRAN (R 3.5.2)                    \n",
       " rvest         0.3.4      2019-05-15 [2] CRAN (R 3.5.2)                    \n",
       " scales        1.0.0      2018-08-09 [2] CRAN (R 3.5.2)                    \n",
       " sessioninfo   1.1.1      2018-11-05 [2] CRAN (R 3.5.2)                    \n",
       " stringi       1.4.3      2019-03-12 [2] CRAN (R 3.5.2)                    \n",
       " stringr     * 1.4.0      2019-02-10 [2] CRAN (R 3.5.2)                    \n",
       " testthat      2.2.1      2019-07-25 [2] CRAN (R 3.5.2)                    \n",
       " tibble      * 2.1.3      2019-06-06 [2] CRAN (R 3.5.2)                    \n",
       " tidyr       * 1.0.0      2019-09-11 [1] CRAN (R 3.5.2)                    \n",
       " tidyselect    0.2.5      2018-10-11 [2] CRAN (R 3.5.2)                    \n",
       " tidyverse   * 1.2.1      2017-11-14 [2] CRAN (R 3.5.2)                    \n",
       " usethis       1.5.1      2019-07-04 [2] CRAN (R 3.5.2)                    \n",
       " uuid          0.1-2      2015-07-28 [2] CRAN (R 3.5.2)                    \n",
       " vctrs         0.2.0      2019-07-05 [2] CRAN (R 3.5.2)                    \n",
       " withr         2.1.2      2018-03-15 [2] CRAN (R 3.5.2)                    \n",
       " xml2          1.2.2      2019-08-09 [2] CRAN (R 3.5.2)                    \n",
       " zeallot       0.1.0      2018-01-28 [2] CRAN (R 3.5.2)                    \n",
       "\n",
       "[1] /home/jupyter-user/.rpackages\n",
       "[2] /usr/local/lib/R/site-library\n",
       "[3] /usr/lib/R/site-library\n",
       "[4] /usr/lib/R/library"
      ]
     },
     "metadata": {},
     "output_type": "display_data"
    }
   ],
   "source": [
    "devtools::session_info()"
   ]
  },
  {
   "cell_type": "markdown",
   "metadata": {},
   "source": [
    "Copyright 2019 The Broad Institute, Inc., Verily Life Sciences, LLC\n",
    "All rights reserved.\n",
    "\n",
    "This software may be modified and distributed under the terms of the BSD license.  See the LICENSE file for details."
   ]
  }
 ],
 "metadata": {
  "kernelspec": {
   "display_name": "R",
   "language": "R",
   "name": "ir"
  },
  "language_info": {
   "codemirror_mode": "r",
   "file_extension": ".r",
   "mimetype": "text/x-r-source",
   "name": "R",
   "pygments_lexer": "r",
   "version": "3.5.2"
  },
  "toc": {
   "base_numbering": 1,
   "nav_menu": {},
   "number_sections": true,
   "sideBar": true,
   "skip_h1_title": false,
   "title_cell": "Table of Contents",
   "title_sidebar": "Contents",
   "toc_cell": false,
   "toc_position": {},
   "toc_section_display": true,
   "toc_window_display": true
  }
 },
 "nbformat": 4,
 "nbformat_minor": 2
}
