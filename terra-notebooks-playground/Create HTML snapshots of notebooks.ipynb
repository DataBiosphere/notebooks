{
 "cells": [
  {
   "cell_type": "markdown",
   "metadata": {},
   "source": [
    "# HTML snapshots of notebooks\n",
    "\n",
    "This notebook displays a notebook-based user interface that allows notebook users to track how results in our notebooks change over time.\n",
    "\n",
    "To do this, it renders the notebook of interest to an HTML file (without re-running the notebook) and then copies that HTML file to folder underneath the workspace bucket."
   ]
  },
  {
   "cell_type": "markdown",
   "metadata": {},
   "source": [
    "# Display the UI "
   ]
  },
  {
   "cell_type": "code",
   "execution_count": 1,
   "metadata": {},
   "outputs": [],
   "source": [
    "from terra_widgets.html_snapshots import display_html_snapshots_widget"
   ]
  },
  {
   "cell_type": "markdown",
   "metadata": {},
   "source": [
    "<div class=\"alert alert-block alert-info\">\n",
    "    <b>Give it a try!</b>\n",
    "    <ol>\n",
    "        <li>Run the setup section below. <b>Then</b> come back up here to play with the UI.</li>\n",
    "        <li>First try 'Create' at least once. (Or as much as you like!)</li>\n",
    "        <li>Then try 'View all' to see your comments.</li>\n",
    "        <li>Lastly, try 'View one' to view the HTML snapshot inline within this notebook.</li>\n",
    "    </ol>\n",
    "</div>\n"
   ]
  },
  {
   "cell_type": "code",
   "execution_count": 2,
   "metadata": {
    "scrolled": false
   },
   "outputs": [
    {
     "data": {
      "application/javascript": [
       "// Display cell outputs to full height (no vertical scroll bar)\n",
       "         IPython.OutputArea.auto_scroll_threshold = 9999;"
      ],
      "text/plain": [
       "<IPython.core.display.Javascript object>"
      ]
     },
     "metadata": {},
     "output_type": "display_data"
    },
    {
     "data": {
      "application/vnd.jupyter.widget-view+json": {
       "model_id": "014a7a00d62c4b169c4f795c6c01e8df",
       "version_major": 2,
       "version_minor": 0
      },
      "text/plain": [
       "Tab(children=(VBox(children=(HTML(value='\\n       <h3>Create an HTML snapshot of a notebook</h3>\\n       <p>Us…"
      ]
     },
     "metadata": {},
     "output_type": "display_data"
    },
    {
     "data": {
      "application/vnd.jupyter.widget-view+json": {
       "model_id": "fd663b164de04b6e9c6b88d3b28b0321",
       "version_major": 2,
       "version_minor": 0
      },
      "text/plain": [
       "Output()"
      ]
     },
     "metadata": {},
     "output_type": "display_data"
    }
   ],
   "source": [
    "display_html_snapshots_widget()"
   ]
  },
  {
   "cell_type": "markdown",
   "metadata": {},
   "source": [
    "# Setup - only need to run this once\n",
    "\n",
    "This section installs the Python package for the 'HTML snapshots' functionality."
   ]
  },
  {
   "cell_type": "markdown",
   "metadata": {},
   "source": [
    "## Get the code "
   ]
  },
  {
   "cell_type": "code",
   "execution_count": 3,
   "metadata": {},
   "outputs": [
    {
     "name": "stdout",
     "output_type": "stream",
     "text": [
      "Your branch is up to date with 'origin/master'.\n",
      "Already up to date.\n",
      "commit bb9f74cf4f1ef2414bbfa1b4a1e09d7483eca5e1\n",
      "Author: rfrancis1 <57016786+rfrancis1@users.noreply.github.com>\n",
      "Date:   Tue Apr 27 11:37:19 2021 -0500\n",
      "\n",
      "    Print output from gsutil when copying file or data to the bucket (#64)\n",
      "    \n",
      "    * Output info from gsutil when copying data over to the bucket\n",
      "    \n",
      "    * Add comments\n",
      "    \n",
      "On branch master\n",
      "Your branch is up to date with 'origin/master'.\n",
      "\n",
      "nothing to commit, working tree clean\n"
     ]
    },
    {
     "name": "stderr",
     "output_type": "stream",
     "text": [
      "Already on 'master'\n"
     ]
    }
   ],
   "source": [
    "%%bash \n",
    "if [ -d \"./workbench-snippets\" ] ; then\n",
    "    cd workbench-snippets\n",
    "    git checkout master\n",
    "    git pull\n",
    "    git log | head\n",
    "    git status\n",
    "else\n",
    "    git clone https://github.com/all-of-us/workbench-snippets.git\n",
    "    cd workbench-snippets\n",
    "    git checkout master\n",
    "    git log | head\n",
    "fi"
   ]
  },
  {
   "cell_type": "markdown",
   "metadata": {},
   "source": [
    "## Install the code in the Python path "
   ]
  },
  {
   "cell_type": "code",
   "execution_count": 4,
   "metadata": {
    "scrolled": false
   },
   "outputs": [
    {
     "name": "stdout",
     "output_type": "stream",
     "text": [
      "Processing /home/jupyter-user/notebooks/Terra Notebooks Playground - deflaux 20210519/edit/workbench-snippets/py\n",
      "Building wheels for collected packages: terra-widgets\n",
      "  Building wheel for terra-widgets (setup.py): started\n",
      "  Building wheel for terra-widgets (setup.py): finished with status 'done'\n",
      "  Created wheel for terra-widgets: filename=terra_widgets-0.0.1-py3-none-any.whl size=10532 sha256=ef5a4db68c0fac6c73f881110efbe4e7b9f45353a988a4e087de4963c3378b57\n",
      "  Stored in directory: /tmp/pip-ephem-wheel-cache-f5f8200y/wheels/d4/88/a7/27da1314a5e587274b1cfdc3c1766866c8bfd78c8139c13a4e\n",
      "Successfully built terra-widgets\n",
      "Installing collected packages: terra-widgets\n",
      "Successfully installed terra-widgets-0.0.1\n"
     ]
    },
    {
     "name": "stderr",
     "output_type": "stream",
     "text": [
      "  DEPRECATION: A future pip version will change local packages to be built in-place without first copying to a temporary directory. We recommend you use --use-feature=in-tree-build to test your packages with this new behavior before it becomes the default.\n",
      "   pip 21.3 will remove support for this functionality. You can find discussion regarding this at https://github.com/pypa/pip/issues/7555.\n"
     ]
    }
   ],
   "source": [
    "%%bash\n",
    "\n",
    "cd workbench-snippets/py\n",
    "pip3 install -U --no-deps ."
   ]
  },
  {
   "cell_type": "markdown",
   "metadata": {},
   "source": [
    "Copyright 2020 The Broad Institute, Inc., Verily Life Sciences, LLC All rights reserved.\n",
    "\n",
    "This software may be modified and distributed under the terms of the BSD license. See the LICENSE file for details."
   ]
  }
 ],
 "metadata": {
  "kernelspec": {
   "display_name": "Python 3",
   "language": "python",
   "name": "python3"
  },
  "language_info": {
   "codemirror_mode": {
    "name": "ipython",
    "version": 3
   },
   "file_extension": ".py",
   "mimetype": "text/x-python",
   "name": "python",
   "nbconvert_exporter": "python",
   "pygments_lexer": "ipython3",
   "version": "3.7.10"
  },
  "toc": {
   "base_numbering": 1,
   "nav_menu": {},
   "number_sections": true,
   "sideBar": true,
   "skip_h1_title": false,
   "title_cell": "Table of Contents",
   "title_sidebar": "Contents",
   "toc_cell": false,
   "toc_position": {
    "height": "calc(100% - 180px)",
    "left": "10px",
    "top": "150px",
    "width": "236.889px"
   },
   "toc_section_display": true,
   "toc_window_display": true
  }
 },
 "nbformat": 4,
 "nbformat_minor": 2
}
