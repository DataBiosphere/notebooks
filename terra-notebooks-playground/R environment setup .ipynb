{
 "cells": [
  {
   "cell_type": "markdown",
   "metadata": {},
   "source": [
    "# Setup notebooks\n",
    "\n",
    "If you don't already have a setup notebook in your workspace, copy this notebook to your workspace.\n",
    "\n",
    "In your workspace, run this notebook before running any other R notebooks.\n",
    "\n",
    "This notebook needs to be rerun when your cluster is recreated. (This is rare -- when you stop using a notebook, your VM is paused, not deleted. Your cluster only recreates after you click the \"Delete cluster\" button.)"
   ]
  },
  {
   "cell_type": "markdown",
   "metadata": {},
   "source": [
    "# R environment setup\n",
    "\n",
    "In this notebook we install a collection of R packages and Jupyter extensions above and beyond what is installed by default on Leonardo. These are packages used in one or more of the notebooks in this workspace."
   ]
  },
  {
   "cell_type": "markdown",
   "metadata": {},
   "source": [
    "# Install R packages"
   ]
  },
  {
   "cell_type": "code",
   "execution_count": 1,
   "metadata": {},
   "outputs": [],
   "source": [
    "install_if_missing <- function(packages) {\n",
    "    if (length(setdiff(packages, rownames(installed.packages()))) > 0) {\n",
    "        install.packages(setdiff(packages, rownames(installed.packages())))\n",
    "    }\n",
    "}"
   ]
  },
  {
   "cell_type": "markdown",
   "metadata": {},
   "source": [
    "## Generally useful R packages"
   ]
  },
  {
   "cell_type": "code",
   "execution_count": 2,
   "metadata": {},
   "outputs": [
    {
     "name": "stderr",
     "output_type": "stream",
     "text": [
      "Installing packages into ‘/home/jupyter-user/.rpackages’\n",
      "(as ‘lib’ is unspecified)\n",
      "\n",
      "also installing the dependencies ‘gridExtra’, ‘codetools’\n",
      "\n",
      "\n"
     ]
    }
   ],
   "source": [
    "install_if_missing(c('tidyverse', 'viridis', 'ggthemes', 'qwraps2', 'pryr', 'skimr',\n",
    "                     'testthat', 'reticulate', 'data.table', 'RCurl', 'stringr'))"
   ]
  },
  {
   "cell_type": "markdown",
   "metadata": {},
   "source": [
    "# Install notebook extensions"
   ]
  },
  {
   "cell_type": "code",
   "execution_count": 3,
   "metadata": {},
   "outputs": [
    {
     "data": {
      "text/html": [
       "<ol class=list-inline>\n",
       "\t<li>'The directory \\'/home/jupyter-user/.cache/pip/http\\' or its parent directory is not owned by the current user and the cache has been disabled. Please check the permissions and owner of that directory. If executing pip with sudo, you may want sudo\\'s -H flag.'</li>\n",
       "\t<li>'The directory \\'/home/jupyter-user/.cache/pip\\' or its parent directory is not owned by the current user and caching wheels has been disabled. check the permissions and owner of that directory. If executing pip with sudo, you may want sudo\\'s -H flag.'</li>\n",
       "\t<li>'Requirement already satisfied: jupyter_contrib_nbextensions in /usr/local/lib/python3.6/site-packages (0.5.1)'</li>\n",
       "\t<li>'Requirement already satisfied: jupyter-contrib-core&gt;=0.3.3 in /usr/local/lib/python3.6/site-packages (from jupyter_contrib_nbextensions) (0.3.3)'</li>\n",
       "\t<li>'Requirement already satisfied: pyyaml in /usr/local/lib/python3.6/site-packages (from jupyter_contrib_nbextensions) (3.12)'</li>\n",
       "\t<li>'Requirement already satisfied: nbconvert&gt;=4.2 in /usr/local/lib/python3.6/site-packages (from jupyter_contrib_nbextensions) (5.6.0)'</li>\n",
       "\t<li>'Requirement already satisfied: traitlets&gt;=4.1 in /usr/local/lib/python3.6/site-packages (from jupyter_contrib_nbextensions) (4.3.2)'</li>\n",
       "\t<li>'Requirement already satisfied: jupyter-highlight-selected-word&gt;=0.1.1 in /usr/local/lib/python3.6/site-packages (from jupyter_contrib_nbextensions) (0.2.0)'</li>\n",
       "\t<li>'Requirement already satisfied: ipython-genutils in /usr/local/lib/python3.6/site-packages (from jupyter_contrib_nbextensions) (0.2.0)'</li>\n",
       "\t<li>'Requirement already satisfied: jupyter-core in /usr/local/lib/python3.6/site-packages (from jupyter_contrib_nbextensions) (4.5.0)'</li>\n",
       "\t<li>'Requirement already satisfied: tornado in /usr/local/lib/python3.6/site-packages (from jupyter_contrib_nbextensions) (4.5.3)'</li>\n",
       "\t<li>'Requirement already satisfied: lxml in /usr/local/lib/python3.6/site-packages (from jupyter_contrib_nbextensions) (4.4.1)'</li>\n",
       "\t<li>'Requirement already satisfied: jupyter-latex-envs&gt;=1.3.8 in /usr/local/lib/python3.6/site-packages (from jupyter_contrib_nbextensions) (1.4.6)'</li>\n",
       "\t<li>'Requirement already satisfied: jupyter-nbextensions-configurator&gt;=0.4.0 in /usr/local/lib/python3.6/site-packages (from jupyter_contrib_nbextensions) (0.4.1)'</li>\n",
       "\t<li>'Requirement already satisfied: notebook&gt;=4.0 in /usr/local/lib/python3.6/site-packages (from jupyter_contrib_nbextensions) (5.7.8)'</li>\n",
       "\t<li>'Requirement already satisfied: setuptools in /usr/local/lib/python3.6/site-packages (from jupyter-contrib-core&gt;=0.3.3-&gt;jupyter_contrib_nbextensions) (36.4.0)'</li>\n",
       "\t<li>'Requirement already satisfied: pygments in /usr/local/lib/python3.6/site-packages (from nbconvert&gt;=4.2-&gt;jupyter_contrib_nbextensions) (2.4.2)'</li>\n",
       "\t<li>'Requirement already satisfied: pandocfilters&gt;=1.4.1 in /usr/local/lib/python3.6/site-packages (from nbconvert&gt;=4.2-&gt;jupyter_contrib_nbextensions) (1.4.2)'</li>\n",
       "\t<li>'Requirement already satisfied: defusedxml in /usr/local/lib/python3.6/site-packages (from nbconvert&gt;=4.2-&gt;jupyter_contrib_nbextensions) (0.6.0)'</li>\n",
       "\t<li>'Requirement already satisfied: entrypoints&gt;=0.2.2 in /usr/local/lib/python3.6/site-packages (from nbconvert&gt;=4.2-&gt;jupyter_contrib_nbextensions) (0.3)'</li>\n",
       "\t<li>'Requirement already satisfied: jinja2&gt;=2.4 in /usr/local/lib/python3.6/site-packages (from nbconvert&gt;=4.2-&gt;jupyter_contrib_nbextensions) (2.10.1)'</li>\n",
       "\t<li>'Requirement already satisfied: bleach in /usr/local/lib/python3.6/site-packages (from nbconvert&gt;=4.2-&gt;jupyter_contrib_nbextensions) (1.5.0)'</li>\n",
       "\t<li>'Requirement already satisfied: nbformat&gt;=4.4 in /usr/local/lib/python3.6/site-packages (from nbconvert&gt;=4.2-&gt;jupyter_contrib_nbextensions) (4.4.0)'</li>\n",
       "\t<li>'Requirement already satisfied: testpath in /usr/local/lib/python3.6/site-packages (from nbconvert&gt;=4.2-&gt;jupyter_contrib_nbextensions) (0.4.2)'</li>\n",
       "\t<li>'Requirement already satisfied: mistune&lt;2,&gt;=0.8.1 in /usr/local/lib/python3.6/site-packages (from nbconvert&gt;=4.2-&gt;jupyter_contrib_nbextensions) (0.8.4)'</li>\n",
       "\t<li>'Requirement already satisfied: six in /home/jupyter-user/.local/lib/python3.6/site-packages (from traitlets&gt;=4.1-&gt;jupyter_contrib_nbextensions) (1.13.0)'</li>\n",
       "\t<li>'Requirement already satisfied: decorator in /usr/local/lib/python3.6/site-packages (from traitlets&gt;=4.1-&gt;jupyter_contrib_nbextensions) (4.3.0)'</li>\n",
       "\t<li>'Requirement already satisfied: ipython in /usr/local/lib/python3.6/site-packages (from jupyter-latex-envs&gt;=1.3.8-&gt;jupyter_contrib_nbextensions) (7.7.0)'</li>\n",
       "\t<li>'Requirement already satisfied: prometheus-client in /usr/local/lib/python3.6/site-packages (from notebook&gt;=4.0-&gt;jupyter_contrib_nbextensions) (0.7.1)'</li>\n",
       "\t<li>'Requirement already satisfied: pyzmq&gt;=17 in /usr/local/lib/python3.6/site-packages (from notebook&gt;=4.0-&gt;jupyter_contrib_nbextensions) (18.1.0)'</li>\n",
       "\t<li>'Requirement already satisfied: jupyter-client&gt;=5.2.0 in /usr/local/lib/python3.6/site-packages (from notebook&gt;=4.0-&gt;jupyter_contrib_nbextensions) (5.3.1)'</li>\n",
       "\t<li>'Requirement already satisfied: ipykernel in /usr/local/lib/python3.6/site-packages (from notebook&gt;=4.0-&gt;jupyter_contrib_nbextensions) (5.1.2)'</li>\n",
       "\t<li>'Requirement already satisfied: terminado&gt;=0.8.1 in /usr/local/lib/python3.6/site-packages (from notebook&gt;=4.0-&gt;jupyter_contrib_nbextensions) (0.8.2)'</li>\n",
       "\t<li>'Requirement already satisfied: Send2Trash in /usr/local/lib/python3.6/site-packages (from notebook&gt;=4.0-&gt;jupyter_contrib_nbextensions) (1.5.0)'</li>\n",
       "\t<li>'Requirement already satisfied: MarkupSafe&gt;=0.23 in /usr/local/lib/python3.6/site-packages (from jinja2&gt;=2.4-&gt;nbconvert&gt;=4.2-&gt;jupyter_contrib_nbextensions) (1.1.1)'</li>\n",
       "\t<li>'Requirement already satisfied: html5lib!=0.9999,!=0.99999,&lt;0.99999999,&gt;=0.999 in /usr/local/lib/python3.6/site-packages (from bleach-&gt;nbconvert&gt;=4.2-&gt;jupyter_contrib_nbextensions) (0.9999999)'</li>\n",
       "\t<li>'Requirement already satisfied: jsonschema!=2.5.0,&gt;=2.4 in /usr/local/lib/python3.6/site-packages (from nbformat&gt;=4.4-&gt;nbconvert&gt;=4.2-&gt;jupyter_contrib_nbextensions) (3.0.2)'</li>\n",
       "\t<li>'Requirement already satisfied: backcall in /usr/local/lib/python3.6/site-packages (from ipython-&gt;jupyter-latex-envs&gt;=1.3.8-&gt;jupyter_contrib_nbextensions) (0.1.0)'</li>\n",
       "\t<li>'Requirement already satisfied: jedi&gt;=0.10 in /usr/local/lib/python3.6/site-packages (from ipython-&gt;jupyter-latex-envs&gt;=1.3.8-&gt;jupyter_contrib_nbextensions) (0.15.1)'</li>\n",
       "\t<li>'Requirement already satisfied: pickleshare in /usr/local/lib/python3.6/site-packages (from ipython-&gt;jupyter-latex-envs&gt;=1.3.8-&gt;jupyter_contrib_nbextensions) (0.7.5)'</li>\n",
       "\t<li>'Requirement already satisfied: pexpect; sys_platform != \"win32\" in /usr/local/lib/python3.6/site-packages (from ipython-&gt;jupyter-latex-envs&gt;=1.3.8-&gt;jupyter_contrib_nbextensions) (4.7.0)'</li>\n",
       "\t<li>'Requirement already satisfied: prompt-toolkit&lt;2.1.0,&gt;=2.0.0 in /usr/local/lib/python3.6/site-packages (from ipython-&gt;jupyter-latex-envs&gt;=1.3.8-&gt;jupyter_contrib_nbextensions) (2.0.9)'</li>\n",
       "\t<li>'Requirement already satisfied: python-dateutil&gt;=2.1 in /usr/local/lib/python3.6/site-packages (from jupyter-client&gt;=5.2.0-&gt;notebook&gt;=4.0-&gt;jupyter_contrib_nbextensions) (2.6.1)'</li>\n",
       "\t<li>'Requirement already satisfied: ptyprocess; os_name != \"nt\" in /usr/local/lib/python3.6/site-packages (from terminado&gt;=0.8.1-&gt;notebook&gt;=4.0-&gt;jupyter_contrib_nbextensions) (0.6.0)'</li>\n",
       "\t<li>'Requirement already satisfied: pyrsistent&gt;=0.14.0 in /usr/local/lib/python3.6/site-packages (from jsonschema!=2.5.0,&gt;=2.4-&gt;nbformat&gt;=4.4-&gt;nbconvert&gt;=4.2-&gt;jupyter_contrib_nbextensions) (0.15.4)'</li>\n",
       "\t<li>'Requirement already satisfied: attrs&gt;=17.4.0 in /usr/local/lib/python3.6/site-packages (from jsonschema!=2.5.0,&gt;=2.4-&gt;nbformat&gt;=4.4-&gt;nbconvert&gt;=4.2-&gt;jupyter_contrib_nbextensions) (19.1.0)'</li>\n",
       "\t<li>'Requirement already satisfied: parso&gt;=0.5.0 in /usr/local/lib/python3.6/site-packages (from jedi&gt;=0.10-&gt;ipython-&gt;jupyter-latex-envs&gt;=1.3.8-&gt;jupyter_contrib_nbextensions) (0.5.1)'</li>\n",
       "\t<li>'Requirement already satisfied: wcwidth in /usr/local/lib/python3.6/site-packages (from prompt-toolkit&lt;2.1.0,&gt;=2.0.0-&gt;ipython-&gt;jupyter-latex-envs&gt;=1.3.8-&gt;jupyter_contrib_nbextensions) (0.1.7)'</li>\n",
       "\t<li>'You are using pip version 19.0.1, however version 19.3.1 is available.'</li>\n",
       "\t<li>'You should consider upgrading via the \\'pip install --upgrade pip\\' command.'</li>\n",
       "</ol>\n"
      ],
      "text/latex": [
       "\\begin{enumerate*}\n",
       "\\item 'The directory \\textbackslash{}'/home/jupyter-user/.cache/pip/http\\textbackslash{}' or its parent directory is not owned by the current user and the cache has been disabled. Please check the permissions and owner of that directory. If executing pip with sudo, you may want sudo\\textbackslash{}'s -H flag.'\n",
       "\\item 'The directory \\textbackslash{}'/home/jupyter-user/.cache/pip\\textbackslash{}' or its parent directory is not owned by the current user and caching wheels has been disabled. check the permissions and owner of that directory. If executing pip with sudo, you may want sudo\\textbackslash{}'s -H flag.'\n",
       "\\item 'Requirement already satisfied: jupyter\\_contrib\\_nbextensions in /usr/local/lib/python3.6/site-packages (0.5.1)'\n",
       "\\item 'Requirement already satisfied: jupyter-contrib-core>=0.3.3 in /usr/local/lib/python3.6/site-packages (from jupyter\\_contrib\\_nbextensions) (0.3.3)'\n",
       "\\item 'Requirement already satisfied: pyyaml in /usr/local/lib/python3.6/site-packages (from jupyter\\_contrib\\_nbextensions) (3.12)'\n",
       "\\item 'Requirement already satisfied: nbconvert>=4.2 in /usr/local/lib/python3.6/site-packages (from jupyter\\_contrib\\_nbextensions) (5.6.0)'\n",
       "\\item 'Requirement already satisfied: traitlets>=4.1 in /usr/local/lib/python3.6/site-packages (from jupyter\\_contrib\\_nbextensions) (4.3.2)'\n",
       "\\item 'Requirement already satisfied: jupyter-highlight-selected-word>=0.1.1 in /usr/local/lib/python3.6/site-packages (from jupyter\\_contrib\\_nbextensions) (0.2.0)'\n",
       "\\item 'Requirement already satisfied: ipython-genutils in /usr/local/lib/python3.6/site-packages (from jupyter\\_contrib\\_nbextensions) (0.2.0)'\n",
       "\\item 'Requirement already satisfied: jupyter-core in /usr/local/lib/python3.6/site-packages (from jupyter\\_contrib\\_nbextensions) (4.5.0)'\n",
       "\\item 'Requirement already satisfied: tornado in /usr/local/lib/python3.6/site-packages (from jupyter\\_contrib\\_nbextensions) (4.5.3)'\n",
       "\\item 'Requirement already satisfied: lxml in /usr/local/lib/python3.6/site-packages (from jupyter\\_contrib\\_nbextensions) (4.4.1)'\n",
       "\\item 'Requirement already satisfied: jupyter-latex-envs>=1.3.8 in /usr/local/lib/python3.6/site-packages (from jupyter\\_contrib\\_nbextensions) (1.4.6)'\n",
       "\\item 'Requirement already satisfied: jupyter-nbextensions-configurator>=0.4.0 in /usr/local/lib/python3.6/site-packages (from jupyter\\_contrib\\_nbextensions) (0.4.1)'\n",
       "\\item 'Requirement already satisfied: notebook>=4.0 in /usr/local/lib/python3.6/site-packages (from jupyter\\_contrib\\_nbextensions) (5.7.8)'\n",
       "\\item 'Requirement already satisfied: setuptools in /usr/local/lib/python3.6/site-packages (from jupyter-contrib-core>=0.3.3->jupyter\\_contrib\\_nbextensions) (36.4.0)'\n",
       "\\item 'Requirement already satisfied: pygments in /usr/local/lib/python3.6/site-packages (from nbconvert>=4.2->jupyter\\_contrib\\_nbextensions) (2.4.2)'\n",
       "\\item 'Requirement already satisfied: pandocfilters>=1.4.1 in /usr/local/lib/python3.6/site-packages (from nbconvert>=4.2->jupyter\\_contrib\\_nbextensions) (1.4.2)'\n",
       "\\item 'Requirement already satisfied: defusedxml in /usr/local/lib/python3.6/site-packages (from nbconvert>=4.2->jupyter\\_contrib\\_nbextensions) (0.6.0)'\n",
       "\\item 'Requirement already satisfied: entrypoints>=0.2.2 in /usr/local/lib/python3.6/site-packages (from nbconvert>=4.2->jupyter\\_contrib\\_nbextensions) (0.3)'\n",
       "\\item 'Requirement already satisfied: jinja2>=2.4 in /usr/local/lib/python3.6/site-packages (from nbconvert>=4.2->jupyter\\_contrib\\_nbextensions) (2.10.1)'\n",
       "\\item 'Requirement already satisfied: bleach in /usr/local/lib/python3.6/site-packages (from nbconvert>=4.2->jupyter\\_contrib\\_nbextensions) (1.5.0)'\n",
       "\\item 'Requirement already satisfied: nbformat>=4.4 in /usr/local/lib/python3.6/site-packages (from nbconvert>=4.2->jupyter\\_contrib\\_nbextensions) (4.4.0)'\n",
       "\\item 'Requirement already satisfied: testpath in /usr/local/lib/python3.6/site-packages (from nbconvert>=4.2->jupyter\\_contrib\\_nbextensions) (0.4.2)'\n",
       "\\item 'Requirement already satisfied: mistune<2,>=0.8.1 in /usr/local/lib/python3.6/site-packages (from nbconvert>=4.2->jupyter\\_contrib\\_nbextensions) (0.8.4)'\n",
       "\\item 'Requirement already satisfied: six in /home/jupyter-user/.local/lib/python3.6/site-packages (from traitlets>=4.1->jupyter\\_contrib\\_nbextensions) (1.13.0)'\n",
       "\\item 'Requirement already satisfied: decorator in /usr/local/lib/python3.6/site-packages (from traitlets>=4.1->jupyter\\_contrib\\_nbextensions) (4.3.0)'\n",
       "\\item 'Requirement already satisfied: ipython in /usr/local/lib/python3.6/site-packages (from jupyter-latex-envs>=1.3.8->jupyter\\_contrib\\_nbextensions) (7.7.0)'\n",
       "\\item 'Requirement already satisfied: prometheus-client in /usr/local/lib/python3.6/site-packages (from notebook>=4.0->jupyter\\_contrib\\_nbextensions) (0.7.1)'\n",
       "\\item 'Requirement already satisfied: pyzmq>=17 in /usr/local/lib/python3.6/site-packages (from notebook>=4.0->jupyter\\_contrib\\_nbextensions) (18.1.0)'\n",
       "\\item 'Requirement already satisfied: jupyter-client>=5.2.0 in /usr/local/lib/python3.6/site-packages (from notebook>=4.0->jupyter\\_contrib\\_nbextensions) (5.3.1)'\n",
       "\\item 'Requirement already satisfied: ipykernel in /usr/local/lib/python3.6/site-packages (from notebook>=4.0->jupyter\\_contrib\\_nbextensions) (5.1.2)'\n",
       "\\item 'Requirement already satisfied: terminado>=0.8.1 in /usr/local/lib/python3.6/site-packages (from notebook>=4.0->jupyter\\_contrib\\_nbextensions) (0.8.2)'\n",
       "\\item 'Requirement already satisfied: Send2Trash in /usr/local/lib/python3.6/site-packages (from notebook>=4.0->jupyter\\_contrib\\_nbextensions) (1.5.0)'\n",
       "\\item 'Requirement already satisfied: MarkupSafe>=0.23 in /usr/local/lib/python3.6/site-packages (from jinja2>=2.4->nbconvert>=4.2->jupyter\\_contrib\\_nbextensions) (1.1.1)'\n",
       "\\item 'Requirement already satisfied: html5lib!=0.9999,!=0.99999,<0.99999999,>=0.999 in /usr/local/lib/python3.6/site-packages (from bleach->nbconvert>=4.2->jupyter\\_contrib\\_nbextensions) (0.9999999)'\n",
       "\\item 'Requirement already satisfied: jsonschema!=2.5.0,>=2.4 in /usr/local/lib/python3.6/site-packages (from nbformat>=4.4->nbconvert>=4.2->jupyter\\_contrib\\_nbextensions) (3.0.2)'\n",
       "\\item 'Requirement already satisfied: backcall in /usr/local/lib/python3.6/site-packages (from ipython->jupyter-latex-envs>=1.3.8->jupyter\\_contrib\\_nbextensions) (0.1.0)'\n",
       "\\item 'Requirement already satisfied: jedi>=0.10 in /usr/local/lib/python3.6/site-packages (from ipython->jupyter-latex-envs>=1.3.8->jupyter\\_contrib\\_nbextensions) (0.15.1)'\n",
       "\\item 'Requirement already satisfied: pickleshare in /usr/local/lib/python3.6/site-packages (from ipython->jupyter-latex-envs>=1.3.8->jupyter\\_contrib\\_nbextensions) (0.7.5)'\n",
       "\\item 'Requirement already satisfied: pexpect; sys\\_platform != \"win32\" in /usr/local/lib/python3.6/site-packages (from ipython->jupyter-latex-envs>=1.3.8->jupyter\\_contrib\\_nbextensions) (4.7.0)'\n",
       "\\item 'Requirement already satisfied: prompt-toolkit<2.1.0,>=2.0.0 in /usr/local/lib/python3.6/site-packages (from ipython->jupyter-latex-envs>=1.3.8->jupyter\\_contrib\\_nbextensions) (2.0.9)'\n",
       "\\item 'Requirement already satisfied: python-dateutil>=2.1 in /usr/local/lib/python3.6/site-packages (from jupyter-client>=5.2.0->notebook>=4.0->jupyter\\_contrib\\_nbextensions) (2.6.1)'\n",
       "\\item 'Requirement already satisfied: ptyprocess; os\\_name != \"nt\" in /usr/local/lib/python3.6/site-packages (from terminado>=0.8.1->notebook>=4.0->jupyter\\_contrib\\_nbextensions) (0.6.0)'\n",
       "\\item 'Requirement already satisfied: pyrsistent>=0.14.0 in /usr/local/lib/python3.6/site-packages (from jsonschema!=2.5.0,>=2.4->nbformat>=4.4->nbconvert>=4.2->jupyter\\_contrib\\_nbextensions) (0.15.4)'\n",
       "\\item 'Requirement already satisfied: attrs>=17.4.0 in /usr/local/lib/python3.6/site-packages (from jsonschema!=2.5.0,>=2.4->nbformat>=4.4->nbconvert>=4.2->jupyter\\_contrib\\_nbextensions) (19.1.0)'\n",
       "\\item 'Requirement already satisfied: parso>=0.5.0 in /usr/local/lib/python3.6/site-packages (from jedi>=0.10->ipython->jupyter-latex-envs>=1.3.8->jupyter\\_contrib\\_nbextensions) (0.5.1)'\n",
       "\\item 'Requirement already satisfied: wcwidth in /usr/local/lib/python3.6/site-packages (from prompt-toolkit<2.1.0,>=2.0.0->ipython->jupyter-latex-envs>=1.3.8->jupyter\\_contrib\\_nbextensions) (0.1.7)'\n",
       "\\item 'You are using pip version 19.0.1, however version 19.3.1 is available.'\n",
       "\\item 'You should consider upgrading via the \\textbackslash{}'pip install --upgrade pip\\textbackslash{}' command.'\n",
       "\\end{enumerate*}\n"
      ],
      "text/markdown": [
       "1. 'The directory \\'/home/jupyter-user/.cache/pip/http\\' or its parent directory is not owned by the current user and the cache has been disabled. Please check the permissions and owner of that directory. If executing pip with sudo, you may want sudo\\'s -H flag.'\n",
       "2. 'The directory \\'/home/jupyter-user/.cache/pip\\' or its parent directory is not owned by the current user and caching wheels has been disabled. check the permissions and owner of that directory. If executing pip with sudo, you may want sudo\\'s -H flag.'\n",
       "3. 'Requirement already satisfied: jupyter_contrib_nbextensions in /usr/local/lib/python3.6/site-packages (0.5.1)'\n",
       "4. 'Requirement already satisfied: jupyter-contrib-core&gt;=0.3.3 in /usr/local/lib/python3.6/site-packages (from jupyter_contrib_nbextensions) (0.3.3)'\n",
       "5. 'Requirement already satisfied: pyyaml in /usr/local/lib/python3.6/site-packages (from jupyter_contrib_nbextensions) (3.12)'\n",
       "6. 'Requirement already satisfied: nbconvert&gt;=4.2 in /usr/local/lib/python3.6/site-packages (from jupyter_contrib_nbextensions) (5.6.0)'\n",
       "7. 'Requirement already satisfied: traitlets&gt;=4.1 in /usr/local/lib/python3.6/site-packages (from jupyter_contrib_nbextensions) (4.3.2)'\n",
       "8. 'Requirement already satisfied: jupyter-highlight-selected-word&gt;=0.1.1 in /usr/local/lib/python3.6/site-packages (from jupyter_contrib_nbextensions) (0.2.0)'\n",
       "9. 'Requirement already satisfied: ipython-genutils in /usr/local/lib/python3.6/site-packages (from jupyter_contrib_nbextensions) (0.2.0)'\n",
       "10. 'Requirement already satisfied: jupyter-core in /usr/local/lib/python3.6/site-packages (from jupyter_contrib_nbextensions) (4.5.0)'\n",
       "11. 'Requirement already satisfied: tornado in /usr/local/lib/python3.6/site-packages (from jupyter_contrib_nbextensions) (4.5.3)'\n",
       "12. 'Requirement already satisfied: lxml in /usr/local/lib/python3.6/site-packages (from jupyter_contrib_nbextensions) (4.4.1)'\n",
       "13. 'Requirement already satisfied: jupyter-latex-envs&gt;=1.3.8 in /usr/local/lib/python3.6/site-packages (from jupyter_contrib_nbextensions) (1.4.6)'\n",
       "14. 'Requirement already satisfied: jupyter-nbextensions-configurator&gt;=0.4.0 in /usr/local/lib/python3.6/site-packages (from jupyter_contrib_nbextensions) (0.4.1)'\n",
       "15. 'Requirement already satisfied: notebook&gt;=4.0 in /usr/local/lib/python3.6/site-packages (from jupyter_contrib_nbextensions) (5.7.8)'\n",
       "16. 'Requirement already satisfied: setuptools in /usr/local/lib/python3.6/site-packages (from jupyter-contrib-core&gt;=0.3.3-&gt;jupyter_contrib_nbextensions) (36.4.0)'\n",
       "17. 'Requirement already satisfied: pygments in /usr/local/lib/python3.6/site-packages (from nbconvert&gt;=4.2-&gt;jupyter_contrib_nbextensions) (2.4.2)'\n",
       "18. 'Requirement already satisfied: pandocfilters&gt;=1.4.1 in /usr/local/lib/python3.6/site-packages (from nbconvert&gt;=4.2-&gt;jupyter_contrib_nbextensions) (1.4.2)'\n",
       "19. 'Requirement already satisfied: defusedxml in /usr/local/lib/python3.6/site-packages (from nbconvert&gt;=4.2-&gt;jupyter_contrib_nbextensions) (0.6.0)'\n",
       "20. 'Requirement already satisfied: entrypoints&gt;=0.2.2 in /usr/local/lib/python3.6/site-packages (from nbconvert&gt;=4.2-&gt;jupyter_contrib_nbextensions) (0.3)'\n",
       "21. 'Requirement already satisfied: jinja2&gt;=2.4 in /usr/local/lib/python3.6/site-packages (from nbconvert&gt;=4.2-&gt;jupyter_contrib_nbextensions) (2.10.1)'\n",
       "22. 'Requirement already satisfied: bleach in /usr/local/lib/python3.6/site-packages (from nbconvert&gt;=4.2-&gt;jupyter_contrib_nbextensions) (1.5.0)'\n",
       "23. 'Requirement already satisfied: nbformat&gt;=4.4 in /usr/local/lib/python3.6/site-packages (from nbconvert&gt;=4.2-&gt;jupyter_contrib_nbextensions) (4.4.0)'\n",
       "24. 'Requirement already satisfied: testpath in /usr/local/lib/python3.6/site-packages (from nbconvert&gt;=4.2-&gt;jupyter_contrib_nbextensions) (0.4.2)'\n",
       "25. 'Requirement already satisfied: mistune&lt;2,&gt;=0.8.1 in /usr/local/lib/python3.6/site-packages (from nbconvert&gt;=4.2-&gt;jupyter_contrib_nbextensions) (0.8.4)'\n",
       "26. 'Requirement already satisfied: six in /home/jupyter-user/.local/lib/python3.6/site-packages (from traitlets&gt;=4.1-&gt;jupyter_contrib_nbextensions) (1.13.0)'\n",
       "27. 'Requirement already satisfied: decorator in /usr/local/lib/python3.6/site-packages (from traitlets&gt;=4.1-&gt;jupyter_contrib_nbextensions) (4.3.0)'\n",
       "28. 'Requirement already satisfied: ipython in /usr/local/lib/python3.6/site-packages (from jupyter-latex-envs&gt;=1.3.8-&gt;jupyter_contrib_nbextensions) (7.7.0)'\n",
       "29. 'Requirement already satisfied: prometheus-client in /usr/local/lib/python3.6/site-packages (from notebook&gt;=4.0-&gt;jupyter_contrib_nbextensions) (0.7.1)'\n",
       "30. 'Requirement already satisfied: pyzmq&gt;=17 in /usr/local/lib/python3.6/site-packages (from notebook&gt;=4.0-&gt;jupyter_contrib_nbextensions) (18.1.0)'\n",
       "31. 'Requirement already satisfied: jupyter-client&gt;=5.2.0 in /usr/local/lib/python3.6/site-packages (from notebook&gt;=4.0-&gt;jupyter_contrib_nbextensions) (5.3.1)'\n",
       "32. 'Requirement already satisfied: ipykernel in /usr/local/lib/python3.6/site-packages (from notebook&gt;=4.0-&gt;jupyter_contrib_nbextensions) (5.1.2)'\n",
       "33. 'Requirement already satisfied: terminado&gt;=0.8.1 in /usr/local/lib/python3.6/site-packages (from notebook&gt;=4.0-&gt;jupyter_contrib_nbextensions) (0.8.2)'\n",
       "34. 'Requirement already satisfied: Send2Trash in /usr/local/lib/python3.6/site-packages (from notebook&gt;=4.0-&gt;jupyter_contrib_nbextensions) (1.5.0)'\n",
       "35. 'Requirement already satisfied: MarkupSafe&gt;=0.23 in /usr/local/lib/python3.6/site-packages (from jinja2&gt;=2.4-&gt;nbconvert&gt;=4.2-&gt;jupyter_contrib_nbextensions) (1.1.1)'\n",
       "36. 'Requirement already satisfied: html5lib!=0.9999,!=0.99999,&lt;0.99999999,&gt;=0.999 in /usr/local/lib/python3.6/site-packages (from bleach-&gt;nbconvert&gt;=4.2-&gt;jupyter_contrib_nbextensions) (0.9999999)'\n",
       "37. 'Requirement already satisfied: jsonschema!=2.5.0,&gt;=2.4 in /usr/local/lib/python3.6/site-packages (from nbformat&gt;=4.4-&gt;nbconvert&gt;=4.2-&gt;jupyter_contrib_nbextensions) (3.0.2)'\n",
       "38. 'Requirement already satisfied: backcall in /usr/local/lib/python3.6/site-packages (from ipython-&gt;jupyter-latex-envs&gt;=1.3.8-&gt;jupyter_contrib_nbextensions) (0.1.0)'\n",
       "39. 'Requirement already satisfied: jedi&gt;=0.10 in /usr/local/lib/python3.6/site-packages (from ipython-&gt;jupyter-latex-envs&gt;=1.3.8-&gt;jupyter_contrib_nbextensions) (0.15.1)'\n",
       "40. 'Requirement already satisfied: pickleshare in /usr/local/lib/python3.6/site-packages (from ipython-&gt;jupyter-latex-envs&gt;=1.3.8-&gt;jupyter_contrib_nbextensions) (0.7.5)'\n",
       "41. 'Requirement already satisfied: pexpect; sys_platform != \"win32\" in /usr/local/lib/python3.6/site-packages (from ipython-&gt;jupyter-latex-envs&gt;=1.3.8-&gt;jupyter_contrib_nbextensions) (4.7.0)'\n",
       "42. 'Requirement already satisfied: prompt-toolkit&lt;2.1.0,&gt;=2.0.0 in /usr/local/lib/python3.6/site-packages (from ipython-&gt;jupyter-latex-envs&gt;=1.3.8-&gt;jupyter_contrib_nbextensions) (2.0.9)'\n",
       "43. 'Requirement already satisfied: python-dateutil&gt;=2.1 in /usr/local/lib/python3.6/site-packages (from jupyter-client&gt;=5.2.0-&gt;notebook&gt;=4.0-&gt;jupyter_contrib_nbextensions) (2.6.1)'\n",
       "44. 'Requirement already satisfied: ptyprocess; os_name != \"nt\" in /usr/local/lib/python3.6/site-packages (from terminado&gt;=0.8.1-&gt;notebook&gt;=4.0-&gt;jupyter_contrib_nbextensions) (0.6.0)'\n",
       "45. 'Requirement already satisfied: pyrsistent&gt;=0.14.0 in /usr/local/lib/python3.6/site-packages (from jsonschema!=2.5.0,&gt;=2.4-&gt;nbformat&gt;=4.4-&gt;nbconvert&gt;=4.2-&gt;jupyter_contrib_nbextensions) (0.15.4)'\n",
       "46. 'Requirement already satisfied: attrs&gt;=17.4.0 in /usr/local/lib/python3.6/site-packages (from jsonschema!=2.5.0,&gt;=2.4-&gt;nbformat&gt;=4.4-&gt;nbconvert&gt;=4.2-&gt;jupyter_contrib_nbextensions) (19.1.0)'\n",
       "47. 'Requirement already satisfied: parso&gt;=0.5.0 in /usr/local/lib/python3.6/site-packages (from jedi&gt;=0.10-&gt;ipython-&gt;jupyter-latex-envs&gt;=1.3.8-&gt;jupyter_contrib_nbextensions) (0.5.1)'\n",
       "48. 'Requirement already satisfied: wcwidth in /usr/local/lib/python3.6/site-packages (from prompt-toolkit&lt;2.1.0,&gt;=2.0.0-&gt;ipython-&gt;jupyter-latex-envs&gt;=1.3.8-&gt;jupyter_contrib_nbextensions) (0.1.7)'\n",
       "49. 'You are using pip version 19.0.1, however version 19.3.1 is available.'\n",
       "50. 'You should consider upgrading via the \\'pip install --upgrade pip\\' command.'\n",
       "\n",
       "\n"
      ],
      "text/plain": [
       " [1] \"The directory '/home/jupyter-user/.cache/pip/http' or its parent directory is not owned by the current user and the cache has been disabled. Please check the permissions and owner of that directory. If executing pip with sudo, you may want sudo's -H flag.\"\n",
       " [2] \"The directory '/home/jupyter-user/.cache/pip' or its parent directory is not owned by the current user and caching wheels has been disabled. check the permissions and owner of that directory. If executing pip with sudo, you may want sudo's -H flag.\"       \n",
       " [3] \"Requirement already satisfied: jupyter_contrib_nbextensions in /usr/local/lib/python3.6/site-packages (0.5.1)\"                                                                                                                                                  \n",
       " [4] \"Requirement already satisfied: jupyter-contrib-core>=0.3.3 in /usr/local/lib/python3.6/site-packages (from jupyter_contrib_nbextensions) (0.3.3)\"                                                                                                               \n",
       " [5] \"Requirement already satisfied: pyyaml in /usr/local/lib/python3.6/site-packages (from jupyter_contrib_nbextensions) (3.12)\"                                                                                                                                     \n",
       " [6] \"Requirement already satisfied: nbconvert>=4.2 in /usr/local/lib/python3.6/site-packages (from jupyter_contrib_nbextensions) (5.6.0)\"                                                                                                                            \n",
       " [7] \"Requirement already satisfied: traitlets>=4.1 in /usr/local/lib/python3.6/site-packages (from jupyter_contrib_nbextensions) (4.3.2)\"                                                                                                                            \n",
       " [8] \"Requirement already satisfied: jupyter-highlight-selected-word>=0.1.1 in /usr/local/lib/python3.6/site-packages (from jupyter_contrib_nbextensions) (0.2.0)\"                                                                                                    \n",
       " [9] \"Requirement already satisfied: ipython-genutils in /usr/local/lib/python3.6/site-packages (from jupyter_contrib_nbextensions) (0.2.0)\"                                                                                                                          \n",
       "[10] \"Requirement already satisfied: jupyter-core in /usr/local/lib/python3.6/site-packages (from jupyter_contrib_nbextensions) (4.5.0)\"                                                                                                                              \n",
       "[11] \"Requirement already satisfied: tornado in /usr/local/lib/python3.6/site-packages (from jupyter_contrib_nbextensions) (4.5.3)\"                                                                                                                                   \n",
       "[12] \"Requirement already satisfied: lxml in /usr/local/lib/python3.6/site-packages (from jupyter_contrib_nbextensions) (4.4.1)\"                                                                                                                                      \n",
       "[13] \"Requirement already satisfied: jupyter-latex-envs>=1.3.8 in /usr/local/lib/python3.6/site-packages (from jupyter_contrib_nbextensions) (1.4.6)\"                                                                                                                 \n",
       "[14] \"Requirement already satisfied: jupyter-nbextensions-configurator>=0.4.0 in /usr/local/lib/python3.6/site-packages (from jupyter_contrib_nbextensions) (0.4.1)\"                                                                                                  \n",
       "[15] \"Requirement already satisfied: notebook>=4.0 in /usr/local/lib/python3.6/site-packages (from jupyter_contrib_nbextensions) (5.7.8)\"                                                                                                                             \n",
       "[16] \"Requirement already satisfied: setuptools in /usr/local/lib/python3.6/site-packages (from jupyter-contrib-core>=0.3.3->jupyter_contrib_nbextensions) (36.4.0)\"                                                                                                  \n",
       "[17] \"Requirement already satisfied: pygments in /usr/local/lib/python3.6/site-packages (from nbconvert>=4.2->jupyter_contrib_nbextensions) (2.4.2)\"                                                                                                                  \n",
       "[18] \"Requirement already satisfied: pandocfilters>=1.4.1 in /usr/local/lib/python3.6/site-packages (from nbconvert>=4.2->jupyter_contrib_nbextensions) (1.4.2)\"                                                                                                      \n",
       "[19] \"Requirement already satisfied: defusedxml in /usr/local/lib/python3.6/site-packages (from nbconvert>=4.2->jupyter_contrib_nbextensions) (0.6.0)\"                                                                                                                \n",
       "[20] \"Requirement already satisfied: entrypoints>=0.2.2 in /usr/local/lib/python3.6/site-packages (from nbconvert>=4.2->jupyter_contrib_nbextensions) (0.3)\"                                                                                                          \n",
       "[21] \"Requirement already satisfied: jinja2>=2.4 in /usr/local/lib/python3.6/site-packages (from nbconvert>=4.2->jupyter_contrib_nbextensions) (2.10.1)\"                                                                                                              \n",
       "[22] \"Requirement already satisfied: bleach in /usr/local/lib/python3.6/site-packages (from nbconvert>=4.2->jupyter_contrib_nbextensions) (1.5.0)\"                                                                                                                    \n",
       "[23] \"Requirement already satisfied: nbformat>=4.4 in /usr/local/lib/python3.6/site-packages (from nbconvert>=4.2->jupyter_contrib_nbextensions) (4.4.0)\"                                                                                                             \n",
       "[24] \"Requirement already satisfied: testpath in /usr/local/lib/python3.6/site-packages (from nbconvert>=4.2->jupyter_contrib_nbextensions) (0.4.2)\"                                                                                                                  \n",
       "[25] \"Requirement already satisfied: mistune<2,>=0.8.1 in /usr/local/lib/python3.6/site-packages (from nbconvert>=4.2->jupyter_contrib_nbextensions) (0.8.4)\"                                                                                                         \n",
       "[26] \"Requirement already satisfied: six in /home/jupyter-user/.local/lib/python3.6/site-packages (from traitlets>=4.1->jupyter_contrib_nbextensions) (1.13.0)\"                                                                                                       \n",
       "[27] \"Requirement already satisfied: decorator in /usr/local/lib/python3.6/site-packages (from traitlets>=4.1->jupyter_contrib_nbextensions) (4.3.0)\"                                                                                                                 \n",
       "[28] \"Requirement already satisfied: ipython in /usr/local/lib/python3.6/site-packages (from jupyter-latex-envs>=1.3.8->jupyter_contrib_nbextensions) (7.7.0)\"                                                                                                        \n",
       "[29] \"Requirement already satisfied: prometheus-client in /usr/local/lib/python3.6/site-packages (from notebook>=4.0->jupyter_contrib_nbextensions) (0.7.1)\"                                                                                                          \n",
       "[30] \"Requirement already satisfied: pyzmq>=17 in /usr/local/lib/python3.6/site-packages (from notebook>=4.0->jupyter_contrib_nbextensions) (18.1.0)\"                                                                                                                 \n",
       "[31] \"Requirement already satisfied: jupyter-client>=5.2.0 in /usr/local/lib/python3.6/site-packages (from notebook>=4.0->jupyter_contrib_nbextensions) (5.3.1)\"                                                                                                      \n",
       "[32] \"Requirement already satisfied: ipykernel in /usr/local/lib/python3.6/site-packages (from notebook>=4.0->jupyter_contrib_nbextensions) (5.1.2)\"                                                                                                                  \n",
       "[33] \"Requirement already satisfied: terminado>=0.8.1 in /usr/local/lib/python3.6/site-packages (from notebook>=4.0->jupyter_contrib_nbextensions) (0.8.2)\"                                                                                                           \n",
       "[34] \"Requirement already satisfied: Send2Trash in /usr/local/lib/python3.6/site-packages (from notebook>=4.0->jupyter_contrib_nbextensions) (1.5.0)\"                                                                                                                 \n",
       "[35] \"Requirement already satisfied: MarkupSafe>=0.23 in /usr/local/lib/python3.6/site-packages (from jinja2>=2.4->nbconvert>=4.2->jupyter_contrib_nbextensions) (1.1.1)\"                                                                                             \n",
       "[36] \"Requirement already satisfied: html5lib!=0.9999,!=0.99999,<0.99999999,>=0.999 in /usr/local/lib/python3.6/site-packages (from bleach->nbconvert>=4.2->jupyter_contrib_nbextensions) (0.9999999)\"                                                                \n",
       "[37] \"Requirement already satisfied: jsonschema!=2.5.0,>=2.4 in /usr/local/lib/python3.6/site-packages (from nbformat>=4.4->nbconvert>=4.2->jupyter_contrib_nbextensions) (3.0.2)\"                                                                                    \n",
       "[38] \"Requirement already satisfied: backcall in /usr/local/lib/python3.6/site-packages (from ipython->jupyter-latex-envs>=1.3.8->jupyter_contrib_nbextensions) (0.1.0)\"                                                                                              \n",
       "[39] \"Requirement already satisfied: jedi>=0.10 in /usr/local/lib/python3.6/site-packages (from ipython->jupyter-latex-envs>=1.3.8->jupyter_contrib_nbextensions) (0.15.1)\"                                                                                           \n",
       "[40] \"Requirement already satisfied: pickleshare in /usr/local/lib/python3.6/site-packages (from ipython->jupyter-latex-envs>=1.3.8->jupyter_contrib_nbextensions) (0.7.5)\"                                                                                           \n",
       "[41] \"Requirement already satisfied: pexpect; sys_platform != \\\"win32\\\" in /usr/local/lib/python3.6/site-packages (from ipython->jupyter-latex-envs>=1.3.8->jupyter_contrib_nbextensions) (4.7.0)\"                                                                    \n",
       "[42] \"Requirement already satisfied: prompt-toolkit<2.1.0,>=2.0.0 in /usr/local/lib/python3.6/site-packages (from ipython->jupyter-latex-envs>=1.3.8->jupyter_contrib_nbextensions) (2.0.9)\"                                                                          \n",
       "[43] \"Requirement already satisfied: python-dateutil>=2.1 in /usr/local/lib/python3.6/site-packages (from jupyter-client>=5.2.0->notebook>=4.0->jupyter_contrib_nbextensions) (2.6.1)\"                                                                                \n",
       "[44] \"Requirement already satisfied: ptyprocess; os_name != \\\"nt\\\" in /usr/local/lib/python3.6/site-packages (from terminado>=0.8.1->notebook>=4.0->jupyter_contrib_nbextensions) (0.6.0)\"                                                                            \n",
       "[45] \"Requirement already satisfied: pyrsistent>=0.14.0 in /usr/local/lib/python3.6/site-packages (from jsonschema!=2.5.0,>=2.4->nbformat>=4.4->nbconvert>=4.2->jupyter_contrib_nbextensions) (0.15.4)\"                                                               \n",
       "[46] \"Requirement already satisfied: attrs>=17.4.0 in /usr/local/lib/python3.6/site-packages (from jsonschema!=2.5.0,>=2.4->nbformat>=4.4->nbconvert>=4.2->jupyter_contrib_nbextensions) (19.1.0)\"                                                                    \n",
       "[47] \"Requirement already satisfied: parso>=0.5.0 in /usr/local/lib/python3.6/site-packages (from jedi>=0.10->ipython->jupyter-latex-envs>=1.3.8->jupyter_contrib_nbextensions) (0.5.1)\"                                                                              \n",
       "[48] \"Requirement already satisfied: wcwidth in /usr/local/lib/python3.6/site-packages (from prompt-toolkit<2.1.0,>=2.0.0->ipython->jupyter-latex-envs>=1.3.8->jupyter_contrib_nbextensions) (0.1.7)\"                                                                 \n",
       "[49] \"You are using pip version 19.0.1, however version 19.3.1 is available.\"                                                                                                                                                                                         \n",
       "[50] \"You should consider upgrading via the 'pip install --upgrade pip' command.\"                                                                                                                                                                                     "
      ]
     },
     "metadata": {},
     "output_type": "display_data"
    }
   ],
   "source": [
    "# TODO Remove this after https://github.com/DataBiosphere/leonardo/issues/404\n",
    "system('pip install jupyter_contrib_nbextensions 2>&1', intern = TRUE)"
   ]
  },
  {
   "cell_type": "code",
   "execution_count": 4,
   "metadata": {},
   "outputs": [
    {
     "data": {
      "text/html": [
       "'/usr/local/lib/python3.6/site-packages'"
      ],
      "text/latex": [
       "'/usr/local/lib/python3.6/site-packages'"
      ],
      "text/markdown": [
       "'/usr/local/lib/python3.6/site-packages'"
      ],
      "text/plain": [
       "[1] \"/usr/local/lib/python3.6/site-packages\""
      ]
     },
     "metadata": {},
     "output_type": "display_data"
    }
   ],
   "source": [
    "LOCATION <- system('pip show jupyter_contrib_nbextensions | grep Location | awk \\'{print $2}\\'', intern = TRUE)\n",
    "LOCATION"
   ]
  },
  {
   "cell_type": "markdown",
   "metadata": {},
   "source": [
    "## Code folding extension"
   ]
  },
  {
   "cell_type": "code",
   "execution_count": 5,
   "metadata": {},
   "outputs": [
    {
     "data": {
      "text/html": [
       "<ol class=list-inline>\n",
       "\t<li>'Up to date: /home/jupyter-user/.local/share/jupyter/nbextensions/codefolding/magic-unfolded.png'</li>\n",
       "\t<li>'Up to date: /home/jupyter-user/.local/share/jupyter/nbextensions/codefolding/codefolding_indent_folded_2.png'</li>\n",
       "\t<li>'Up to date: /home/jupyter-user/.local/share/jupyter/nbextensions/codefolding/readme.md'</li>\n",
       "\t<li>'Up to date: /home/jupyter-user/.local/share/jupyter/nbextensions/codefolding/magic-fold.js'</li>\n",
       "\t<li>'Up to date: /home/jupyter-user/.local/share/jupyter/nbextensions/codefolding/foldgutter.css'</li>\n",
       "\t<li>'Up to date: /home/jupyter-user/.local/share/jupyter/nbextensions/codefolding/codefolding.yaml'</li>\n",
       "\t<li>'Up to date: /home/jupyter-user/.local/share/jupyter/nbextensions/codefolding/codefolding_indent_unfolded.png'</li>\n",
       "\t<li>'Up to date: /home/jupyter-user/.local/share/jupyter/nbextensions/codefolding/codefolding_editor.yaml'</li>\n",
       "\t<li>'Up to date: /home/jupyter-user/.local/share/jupyter/nbextensions/codefolding/codefolding_firstline_folded.png'</li>\n",
       "\t<li>'Up to date: /home/jupyter-user/.local/share/jupyter/nbextensions/codefolding/main.js'</li>\n",
       "\t<li>'Up to date: /home/jupyter-user/.local/share/jupyter/nbextensions/codefolding/magic-folded.png'</li>\n",
       "\t<li>'Up to date: /home/jupyter-user/.local/share/jupyter/nbextensions/codefolding/firstline-fold.js'</li>\n",
       "\t<li>'Up to date: /home/jupyter-user/.local/share/jupyter/nbextensions/codefolding/codefolding_indent_folded_1.png'</li>\n",
       "\t<li>'Up to date: /home/jupyter-user/.local/share/jupyter/nbextensions/codefolding/codefolding_editor.png'</li>\n",
       "\t<li>'Up to date: /home/jupyter-user/.local/share/jupyter/nbextensions/codefolding/edit.js'</li>\n",
       "\t<li>'Up to date: /home/jupyter-user/.local/share/jupyter/nbextensions/codefolding/icon.png'</li>\n",
       "\t<li>'Up to date: /home/jupyter-user/.local/share/jupyter/nbextensions/codefolding/codefolding_firstline_unfolded.png'</li>\n",
       "\t<li>''</li>\n",
       "\t<li><span style=white-space:pre-wrap>'    To initialize this nbextension in the browser every time the notebook (or other app) loads:'</span></li>\n",
       "\t<li><span style=white-space:pre-wrap>'    '</span></li>\n",
       "\t<li><span style=white-space:pre-wrap>'          jupyter nbextension enable &lt;the entry point&gt; --user'</span></li>\n",
       "\t<li><span style=white-space:pre-wrap>'    '</span></li>\n",
       "</ol>\n"
      ],
      "text/latex": [
       "\\begin{enumerate*}\n",
       "\\item 'Up to date: /home/jupyter-user/.local/share/jupyter/nbextensions/codefolding/magic-unfolded.png'\n",
       "\\item 'Up to date: /home/jupyter-user/.local/share/jupyter/nbextensions/codefolding/codefolding\\_indent\\_folded\\_2.png'\n",
       "\\item 'Up to date: /home/jupyter-user/.local/share/jupyter/nbextensions/codefolding/readme.md'\n",
       "\\item 'Up to date: /home/jupyter-user/.local/share/jupyter/nbextensions/codefolding/magic-fold.js'\n",
       "\\item 'Up to date: /home/jupyter-user/.local/share/jupyter/nbextensions/codefolding/foldgutter.css'\n",
       "\\item 'Up to date: /home/jupyter-user/.local/share/jupyter/nbextensions/codefolding/codefolding.yaml'\n",
       "\\item 'Up to date: /home/jupyter-user/.local/share/jupyter/nbextensions/codefolding/codefolding\\_indent\\_unfolded.png'\n",
       "\\item 'Up to date: /home/jupyter-user/.local/share/jupyter/nbextensions/codefolding/codefolding\\_editor.yaml'\n",
       "\\item 'Up to date: /home/jupyter-user/.local/share/jupyter/nbextensions/codefolding/codefolding\\_firstline\\_folded.png'\n",
       "\\item 'Up to date: /home/jupyter-user/.local/share/jupyter/nbextensions/codefolding/main.js'\n",
       "\\item 'Up to date: /home/jupyter-user/.local/share/jupyter/nbextensions/codefolding/magic-folded.png'\n",
       "\\item 'Up to date: /home/jupyter-user/.local/share/jupyter/nbextensions/codefolding/firstline-fold.js'\n",
       "\\item 'Up to date: /home/jupyter-user/.local/share/jupyter/nbextensions/codefolding/codefolding\\_indent\\_folded\\_1.png'\n",
       "\\item 'Up to date: /home/jupyter-user/.local/share/jupyter/nbextensions/codefolding/codefolding\\_editor.png'\n",
       "\\item 'Up to date: /home/jupyter-user/.local/share/jupyter/nbextensions/codefolding/edit.js'\n",
       "\\item 'Up to date: /home/jupyter-user/.local/share/jupyter/nbextensions/codefolding/icon.png'\n",
       "\\item 'Up to date: /home/jupyter-user/.local/share/jupyter/nbextensions/codefolding/codefolding\\_firstline\\_unfolded.png'\n",
       "\\item ''\n",
       "\\item '    To initialize this nbextension in the browser every time the notebook (or other app) loads:'\n",
       "\\item '    '\n",
       "\\item '          jupyter nbextension enable <the entry point> --user'\n",
       "\\item '    '\n",
       "\\end{enumerate*}\n"
      ],
      "text/markdown": [
       "1. 'Up to date: /home/jupyter-user/.local/share/jupyter/nbextensions/codefolding/magic-unfolded.png'\n",
       "2. 'Up to date: /home/jupyter-user/.local/share/jupyter/nbextensions/codefolding/codefolding_indent_folded_2.png'\n",
       "3. 'Up to date: /home/jupyter-user/.local/share/jupyter/nbextensions/codefolding/readme.md'\n",
       "4. 'Up to date: /home/jupyter-user/.local/share/jupyter/nbextensions/codefolding/magic-fold.js'\n",
       "5. 'Up to date: /home/jupyter-user/.local/share/jupyter/nbextensions/codefolding/foldgutter.css'\n",
       "6. 'Up to date: /home/jupyter-user/.local/share/jupyter/nbextensions/codefolding/codefolding.yaml'\n",
       "7. 'Up to date: /home/jupyter-user/.local/share/jupyter/nbextensions/codefolding/codefolding_indent_unfolded.png'\n",
       "8. 'Up to date: /home/jupyter-user/.local/share/jupyter/nbextensions/codefolding/codefolding_editor.yaml'\n",
       "9. 'Up to date: /home/jupyter-user/.local/share/jupyter/nbextensions/codefolding/codefolding_firstline_folded.png'\n",
       "10. 'Up to date: /home/jupyter-user/.local/share/jupyter/nbextensions/codefolding/main.js'\n",
       "11. 'Up to date: /home/jupyter-user/.local/share/jupyter/nbextensions/codefolding/magic-folded.png'\n",
       "12. 'Up to date: /home/jupyter-user/.local/share/jupyter/nbextensions/codefolding/firstline-fold.js'\n",
       "13. 'Up to date: /home/jupyter-user/.local/share/jupyter/nbextensions/codefolding/codefolding_indent_folded_1.png'\n",
       "14. 'Up to date: /home/jupyter-user/.local/share/jupyter/nbextensions/codefolding/codefolding_editor.png'\n",
       "15. 'Up to date: /home/jupyter-user/.local/share/jupyter/nbextensions/codefolding/edit.js'\n",
       "16. 'Up to date: /home/jupyter-user/.local/share/jupyter/nbextensions/codefolding/icon.png'\n",
       "17. 'Up to date: /home/jupyter-user/.local/share/jupyter/nbextensions/codefolding/codefolding_firstline_unfolded.png'\n",
       "18. ''\n",
       "19. <span style=white-space:pre-wrap>'    To initialize this nbextension in the browser every time the notebook (or other app) loads:'</span>\n",
       "20. <span style=white-space:pre-wrap>'    '</span>\n",
       "21. <span style=white-space:pre-wrap>'          jupyter nbextension enable &lt;the entry point&gt; --user'</span>\n",
       "22. <span style=white-space:pre-wrap>'    '</span>\n",
       "\n",
       "\n"
      ],
      "text/plain": [
       " [1] \"Up to date: /home/jupyter-user/.local/share/jupyter/nbextensions/codefolding/magic-unfolded.png\"                \n",
       " [2] \"Up to date: /home/jupyter-user/.local/share/jupyter/nbextensions/codefolding/codefolding_indent_folded_2.png\"   \n",
       " [3] \"Up to date: /home/jupyter-user/.local/share/jupyter/nbextensions/codefolding/readme.md\"                         \n",
       " [4] \"Up to date: /home/jupyter-user/.local/share/jupyter/nbextensions/codefolding/magic-fold.js\"                     \n",
       " [5] \"Up to date: /home/jupyter-user/.local/share/jupyter/nbextensions/codefolding/foldgutter.css\"                    \n",
       " [6] \"Up to date: /home/jupyter-user/.local/share/jupyter/nbextensions/codefolding/codefolding.yaml\"                  \n",
       " [7] \"Up to date: /home/jupyter-user/.local/share/jupyter/nbextensions/codefolding/codefolding_indent_unfolded.png\"   \n",
       " [8] \"Up to date: /home/jupyter-user/.local/share/jupyter/nbextensions/codefolding/codefolding_editor.yaml\"           \n",
       " [9] \"Up to date: /home/jupyter-user/.local/share/jupyter/nbextensions/codefolding/codefolding_firstline_folded.png\"  \n",
       "[10] \"Up to date: /home/jupyter-user/.local/share/jupyter/nbextensions/codefolding/main.js\"                           \n",
       "[11] \"Up to date: /home/jupyter-user/.local/share/jupyter/nbextensions/codefolding/magic-folded.png\"                  \n",
       "[12] \"Up to date: /home/jupyter-user/.local/share/jupyter/nbextensions/codefolding/firstline-fold.js\"                 \n",
       "[13] \"Up to date: /home/jupyter-user/.local/share/jupyter/nbextensions/codefolding/codefolding_indent_folded_1.png\"   \n",
       "[14] \"Up to date: /home/jupyter-user/.local/share/jupyter/nbextensions/codefolding/codefolding_editor.png\"            \n",
       "[15] \"Up to date: /home/jupyter-user/.local/share/jupyter/nbextensions/codefolding/edit.js\"                           \n",
       "[16] \"Up to date: /home/jupyter-user/.local/share/jupyter/nbextensions/codefolding/icon.png\"                          \n",
       "[17] \"Up to date: /home/jupyter-user/.local/share/jupyter/nbextensions/codefolding/codefolding_firstline_unfolded.png\"\n",
       "[18] \"\"                                                                                                               \n",
       "[19] \"    To initialize this nbextension in the browser every time the notebook (or other app) loads:\"                \n",
       "[20] \"    \"                                                                                                           \n",
       "[21] \"          jupyter nbextension enable <the entry point> --user\"                                                  \n",
       "[22] \"    \"                                                                                                           "
      ]
     },
     "metadata": {},
     "output_type": "display_data"
    },
    {
     "data": {
      "text/html": [
       "<ol class=list-inline>\n",
       "\t<li>'Enabling notebook extension codefolding/main...'</li>\n",
       "\t<li><span style=white-space:pre-wrap>'      - Validating: \\033[32mOK\\033[0m'</span></li>\n",
       "</ol>\n"
      ],
      "text/latex": [
       "\\begin{enumerate*}\n",
       "\\item 'Enabling notebook extension codefolding/main...'\n",
       "\\item '      - Validating: \\textbackslash{}033{[}32mOK\\textbackslash{}033{[}0m'\n",
       "\\end{enumerate*}\n"
      ],
      "text/markdown": [
       "1. 'Enabling notebook extension codefolding/main...'\n",
       "2. <span style=white-space:pre-wrap>'      - Validating: \\033[32mOK\\033[0m'</span>\n",
       "\n",
       "\n"
      ],
      "text/plain": [
       "[1] \"Enabling notebook extension codefolding/main...\"\n",
       "[2] \"      - Validating: \\033[32mOK\\033[0m\"          "
      ]
     },
     "metadata": {},
     "output_type": "display_data"
    }
   ],
   "source": [
    "system(stringr::str_glue('jupyter nbextension install {LOCATION}/jupyter_contrib_nbextensions/nbextensions/codefolding --user 2>&1'),\n",
    "       intern = TRUE)\n",
    "system('jupyter nbextension enable codefolding/main 2>&1', intern=TRUE)"
   ]
  },
  {
   "cell_type": "markdown",
   "metadata": {},
   "source": [
    "## Collapsible headings extension"
   ]
  },
  {
   "cell_type": "code",
   "execution_count": 6,
   "metadata": {},
   "outputs": [
    {
     "data": {
      "text/html": [
       "<ol class=list-inline>\n",
       "\t<li>'Up to date: /home/jupyter-user/.local/share/jupyter/nbextensions/collapsible_headings/readme.md'</li>\n",
       "\t<li>'Up to date: /home/jupyter-user/.local/share/jupyter/nbextensions/collapsible_headings/main.css'</li>\n",
       "\t<li>'Up to date: /home/jupyter-user/.local/share/jupyter/nbextensions/collapsible_headings/screenshot.png'</li>\n",
       "\t<li>'Up to date: /home/jupyter-user/.local/share/jupyter/nbextensions/collapsible_headings/collapsible_headings.yaml'</li>\n",
       "\t<li>'Up to date: /home/jupyter-user/.local/share/jupyter/nbextensions/collapsible_headings/main.js'</li>\n",
       "\t<li>'Up to date: /home/jupyter-user/.local/share/jupyter/nbextensions/collapsible_headings/icon.png'</li>\n",
       "\t<li>''</li>\n",
       "\t<li><span style=white-space:pre-wrap>'    To initialize this nbextension in the browser every time the notebook (or other app) loads:'</span></li>\n",
       "\t<li><span style=white-space:pre-wrap>'    '</span></li>\n",
       "\t<li><span style=white-space:pre-wrap>'          jupyter nbextension enable &lt;the entry point&gt; --user'</span></li>\n",
       "\t<li><span style=white-space:pre-wrap>'    '</span></li>\n",
       "</ol>\n"
      ],
      "text/latex": [
       "\\begin{enumerate*}\n",
       "\\item 'Up to date: /home/jupyter-user/.local/share/jupyter/nbextensions/collapsible\\_headings/readme.md'\n",
       "\\item 'Up to date: /home/jupyter-user/.local/share/jupyter/nbextensions/collapsible\\_headings/main.css'\n",
       "\\item 'Up to date: /home/jupyter-user/.local/share/jupyter/nbextensions/collapsible\\_headings/screenshot.png'\n",
       "\\item 'Up to date: /home/jupyter-user/.local/share/jupyter/nbextensions/collapsible\\_headings/collapsible\\_headings.yaml'\n",
       "\\item 'Up to date: /home/jupyter-user/.local/share/jupyter/nbextensions/collapsible\\_headings/main.js'\n",
       "\\item 'Up to date: /home/jupyter-user/.local/share/jupyter/nbextensions/collapsible\\_headings/icon.png'\n",
       "\\item ''\n",
       "\\item '    To initialize this nbextension in the browser every time the notebook (or other app) loads:'\n",
       "\\item '    '\n",
       "\\item '          jupyter nbextension enable <the entry point> --user'\n",
       "\\item '    '\n",
       "\\end{enumerate*}\n"
      ],
      "text/markdown": [
       "1. 'Up to date: /home/jupyter-user/.local/share/jupyter/nbextensions/collapsible_headings/readme.md'\n",
       "2. 'Up to date: /home/jupyter-user/.local/share/jupyter/nbextensions/collapsible_headings/main.css'\n",
       "3. 'Up to date: /home/jupyter-user/.local/share/jupyter/nbextensions/collapsible_headings/screenshot.png'\n",
       "4. 'Up to date: /home/jupyter-user/.local/share/jupyter/nbextensions/collapsible_headings/collapsible_headings.yaml'\n",
       "5. 'Up to date: /home/jupyter-user/.local/share/jupyter/nbextensions/collapsible_headings/main.js'\n",
       "6. 'Up to date: /home/jupyter-user/.local/share/jupyter/nbextensions/collapsible_headings/icon.png'\n",
       "7. ''\n",
       "8. <span style=white-space:pre-wrap>'    To initialize this nbextension in the browser every time the notebook (or other app) loads:'</span>\n",
       "9. <span style=white-space:pre-wrap>'    '</span>\n",
       "10. <span style=white-space:pre-wrap>'          jupyter nbextension enable &lt;the entry point&gt; --user'</span>\n",
       "11. <span style=white-space:pre-wrap>'    '</span>\n",
       "\n",
       "\n"
      ],
      "text/plain": [
       " [1] \"Up to date: /home/jupyter-user/.local/share/jupyter/nbextensions/collapsible_headings/readme.md\"                \n",
       " [2] \"Up to date: /home/jupyter-user/.local/share/jupyter/nbextensions/collapsible_headings/main.css\"                 \n",
       " [3] \"Up to date: /home/jupyter-user/.local/share/jupyter/nbextensions/collapsible_headings/screenshot.png\"           \n",
       " [4] \"Up to date: /home/jupyter-user/.local/share/jupyter/nbextensions/collapsible_headings/collapsible_headings.yaml\"\n",
       " [5] \"Up to date: /home/jupyter-user/.local/share/jupyter/nbextensions/collapsible_headings/main.js\"                  \n",
       " [6] \"Up to date: /home/jupyter-user/.local/share/jupyter/nbextensions/collapsible_headings/icon.png\"                 \n",
       " [7] \"\"                                                                                                               \n",
       " [8] \"    To initialize this nbextension in the browser every time the notebook (or other app) loads:\"                \n",
       " [9] \"    \"                                                                                                           \n",
       "[10] \"          jupyter nbextension enable <the entry point> --user\"                                                  \n",
       "[11] \"    \"                                                                                                           "
      ]
     },
     "metadata": {},
     "output_type": "display_data"
    },
    {
     "data": {
      "text/html": [
       "<ol class=list-inline>\n",
       "\t<li>'Enabling notebook extension collapsible_headings/main...'</li>\n",
       "\t<li><span style=white-space:pre-wrap>'      - Validating: \\033[32mOK\\033[0m'</span></li>\n",
       "</ol>\n"
      ],
      "text/latex": [
       "\\begin{enumerate*}\n",
       "\\item 'Enabling notebook extension collapsible\\_headings/main...'\n",
       "\\item '      - Validating: \\textbackslash{}033{[}32mOK\\textbackslash{}033{[}0m'\n",
       "\\end{enumerate*}\n"
      ],
      "text/markdown": [
       "1. 'Enabling notebook extension collapsible_headings/main...'\n",
       "2. <span style=white-space:pre-wrap>'      - Validating: \\033[32mOK\\033[0m'</span>\n",
       "\n",
       "\n"
      ],
      "text/plain": [
       "[1] \"Enabling notebook extension collapsible_headings/main...\"\n",
       "[2] \"      - Validating: \\033[32mOK\\033[0m\"                   "
      ]
     },
     "metadata": {},
     "output_type": "display_data"
    }
   ],
   "source": [
    "system(stringr::str_glue('jupyter nbextension install {LOCATION}/jupyter_contrib_nbextensions/nbextensions/collapsible_headings --user 2>&1'),\n",
    "       intern = TRUE)\n",
    "system('jupyter nbextension enable collapsible_headings/main 2>&1', intern=TRUE)"
   ]
  },
  {
   "cell_type": "markdown",
   "metadata": {},
   "source": [
    "# Confirm that the R packages load properly"
   ]
  },
  {
   "cell_type": "code",
   "execution_count": 7,
   "metadata": {},
   "outputs": [
    {
     "name": "stderr",
     "output_type": "stream",
     "text": [
      "Loading required package: viridisLite\n",
      "\n",
      "\n",
      "Attaching package: ‘scales’\n",
      "\n",
      "\n",
      "The following object is masked from ‘package:viridis’:\n",
      "\n",
      "    viridis_pal\n",
      "\n",
      "\n",
      "\n",
      "Attaching package: ‘skimr’\n",
      "\n",
      "\n",
      "The following object is masked from ‘package:testthat’:\n",
      "\n",
      "    matches\n",
      "\n",
      "\n",
      "── \u001b[1mAttaching packages\u001b[22m ─────────────────────────────────────── tidyverse 1.2.1 ──\n",
      "\n",
      "\u001b[32m✔\u001b[39m \u001b[34mggplot2\u001b[39m 3.2.1     \u001b[32m✔\u001b[39m \u001b[34mpurrr  \u001b[39m 0.3.2\n",
      "\u001b[32m✔\u001b[39m \u001b[34mtibble \u001b[39m 2.1.3     \u001b[32m✔\u001b[39m \u001b[34mdplyr  \u001b[39m 0.8.3\n",
      "\u001b[32m✔\u001b[39m \u001b[34mtidyr  \u001b[39m 1.0.0     \u001b[32m✔\u001b[39m \u001b[34mstringr\u001b[39m 1.4.0\n",
      "\u001b[32m✔\u001b[39m \u001b[34mreadr  \u001b[39m 1.3.1     \u001b[32m✔\u001b[39m \u001b[34mforcats\u001b[39m 0.4.0\n",
      "\n",
      "── \u001b[1mConflicts\u001b[22m ────────────────────────────────────────── tidyverse_conflicts() ──\n",
      "\u001b[31m✖\u001b[39m \u001b[34mreadr\u001b[39m::\u001b[32mcol_factor()\u001b[39m masks \u001b[34mscales\u001b[39m::col_factor()\n",
      "\u001b[31m✖\u001b[39m \u001b[34mpurrr\u001b[39m::\u001b[32mcompose()\u001b[39m    masks \u001b[34mpryr\u001b[39m::compose()\n",
      "\u001b[31m✖\u001b[39m \u001b[34mpurrr\u001b[39m::\u001b[32mdiscard()\u001b[39m    masks \u001b[34mscales\u001b[39m::discard()\n",
      "\u001b[31m✖\u001b[39m \u001b[34mdplyr\u001b[39m::\u001b[32mfilter()\u001b[39m     masks \u001b[34mstats\u001b[39m::filter()\n",
      "\u001b[31m✖\u001b[39m \u001b[34mtibble\u001b[39m::\u001b[32mhas_name()\u001b[39m  masks \u001b[34massertthat\u001b[39m::has_name()\n",
      "\u001b[31m✖\u001b[39m \u001b[34mpurrr\u001b[39m::\u001b[32mis_null()\u001b[39m    masks \u001b[34mtestthat\u001b[39m::is_null()\n",
      "\u001b[31m✖\u001b[39m \u001b[34mdplyr\u001b[39m::\u001b[32mlag()\u001b[39m        masks \u001b[34mstats\u001b[39m::lag()\n",
      "\u001b[31m✖\u001b[39m \u001b[34mdplyr\u001b[39m::\u001b[32mmatches()\u001b[39m    masks \u001b[34mtidyr\u001b[39m::matches(), \u001b[34mskimr\u001b[39m::matches(), \u001b[34mtestthat\u001b[39m::matches()\n",
      "\u001b[31m✖\u001b[39m \u001b[34mpurrr\u001b[39m::\u001b[32mpartial()\u001b[39m    masks \u001b[34mpryr\u001b[39m::partial()\n",
      "\n"
     ]
    }
   ],
   "source": [
    "library(qwraps2)    # Function summary_table() is the replacement for output formating for the Table1 Macro.\n",
    "library(viridis)    # A nice color scheme for plots.\n",
    "library(ggthemes)   # Common themes to change the look and feel of plots.\n",
    "library(scales)     # Graphical scales map data to aesthetics in plots.\n",
    "library(testthat)   # Testing functions.\n",
    "library(assertthat) # Assertion functions.\n",
    "library(pryr)       # Memory usage functions.\n",
    "library(skimr)      # Summary statistics for dataframes.\n",
    "library(bigrquery)  # BigQuery R client.\n",
    "library(tidyverse)  # Data wrangling packages.\n",
    "library(reticulate) # Python R client."
   ]
  },
  {
   "cell_type": "markdown",
   "metadata": {},
   "source": [
    "# Troubleshooting\n",
    "\n",
    "This notebook installs the most recent versions of R packages from [CRAN](https://cran.r-project.org/) and Python packages from [pip](https://pypi.org/project/pip/) on to your VM. Additionally, some packages come from [GitHub](https://github.com/) or [Cloud Source Repositories](https://cloud.google.com/source-repositories/).\n",
    "\n",
    "1. If you encounter any errors, first just try `Kernel -> Restart & Run All`.\n",
    "1. If an R package still fails to install:\n",
    " 1. open a terminal by clicking on the terminal icon next to 'Notebook Runtime' in the upper top right corner of the window\n",
    " 1. type `R` to start R in the terminal\n",
    " 1. type `install.packages(\"qwraps2\")` to get a more detailed error message. Replace `qwraps2` with the name of which ever package is failing to install.\n",
    "1. If that error message tells you what you need to do to resolve the issue, great! If not, copy and paste the error message into Google Search for more help. "
   ]
  },
  {
   "cell_type": "markdown",
   "metadata": {},
   "source": [
    "# Provenance"
   ]
  },
  {
   "cell_type": "code",
   "execution_count": 8,
   "metadata": {},
   "outputs": [
    {
     "data": {
      "text/plain": [
       "─ Session info ───────────────────────────────────────────────────────────────\n",
       " setting  value                       \n",
       " version  R version 3.5.2 (2018-12-20)\n",
       " os       Debian GNU/Linux 9 (stretch)\n",
       " system   x86_64, linux-gnu           \n",
       " ui       X11                         \n",
       " language (EN)                        \n",
       " collate  en_US.UTF-8                 \n",
       " ctype    en_US.UTF-8                 \n",
       " tz       Etc/UTC                     \n",
       " date     2020-01-13                  \n",
       "\n",
       "─ Packages ───────────────────────────────────────────────────────────────────\n",
       " package     * version    date       lib source                            \n",
       " assertthat  * 0.2.1      2019-03-21 [2] CRAN (R 3.5.2)                    \n",
       " backports     1.1.5      2019-10-02 [1] CRAN (R 3.5.2)                    \n",
       " base64enc     0.1-3      2015-07-28 [2] CRAN (R 3.5.2)                    \n",
       " bigrquery   * 1.2.0      2019-07-02 [2] CRAN (R 3.5.2)                    \n",
       " bit           1.1-14     2018-05-29 [2] CRAN (R 3.5.2)                    \n",
       " bit64         0.9-7      2017-05-08 [2] CRAN (R 3.5.2)                    \n",
       " broom         0.5.2      2019-04-07 [2] CRAN (R 3.5.2)                    \n",
       " callr         3.3.1      2019-07-18 [2] CRAN (R 3.5.2)                    \n",
       " cellranger    1.1.0      2016-07-27 [2] CRAN (R 3.5.2)                    \n",
       " cli           1.1.0      2019-03-19 [2] CRAN (R 3.5.2)                    \n",
       " codetools     0.2-16     2018-12-24 [1] CRAN (R 3.5.2)                    \n",
       " colorspace    1.4-1      2019-03-18 [2] CRAN (R 3.5.2)                    \n",
       " crayon        1.3.4      2017-09-16 [2] CRAN (R 3.5.2)                    \n",
       " DBI           1.0.0      2018-05-02 [2] CRAN (R 3.5.2)                    \n",
       " desc          1.2.0      2018-05-01 [2] CRAN (R 3.5.2)                    \n",
       " devtools      2.1.0      2019-07-06 [2] CRAN (R 3.5.2)                    \n",
       " digest        0.6.20     2019-07-04 [2] CRAN (R 3.5.2)                    \n",
       " dplyr       * 0.8.3      2019-07-04 [2] CRAN (R 3.5.2)                    \n",
       " evaluate      0.14       2019-05-28 [2] CRAN (R 3.5.2)                    \n",
       " forcats     * 0.4.0      2019-02-17 [2] CRAN (R 3.5.2)                    \n",
       " fs            1.3.1      2019-05-06 [2] CRAN (R 3.5.2)                    \n",
       " generics      0.0.2      2018-11-29 [2] CRAN (R 3.5.2)                    \n",
       " ggplot2     * 3.2.1      2019-08-10 [2] CRAN (R 3.5.2)                    \n",
       " ggthemes    * 4.2.0      2019-05-13 [1] CRAN (R 3.5.2)                    \n",
       " glue          1.3.1      2019-03-12 [2] CRAN (R 3.5.2)                    \n",
       " gridExtra     2.3        2017-09-09 [1] CRAN (R 3.5.2)                    \n",
       " gtable        0.3.0      2019-03-25 [2] CRAN (R 3.5.2)                    \n",
       " haven         2.1.1      2019-07-04 [2] CRAN (R 3.5.2)                    \n",
       " hms           0.5.0      2019-07-09 [2] CRAN (R 3.5.2)                    \n",
       " htmltools     0.3.6      2017-04-28 [2] CRAN (R 3.5.2)                    \n",
       " httr          1.4.1      2019-08-05 [2] CRAN (R 3.5.2)                    \n",
       " IRdisplay     0.7.0      2018-11-29 [2] CRAN (R 3.5.2)                    \n",
       " IRkernel      1.0.2.9000 2019-08-23 [2] Github (IRkernel/IRkernel@d7f0b08)\n",
       " jsonlite      1.6        2018-12-07 [2] CRAN (R 3.5.2)                    \n",
       " knitr         1.24       2019-08-08 [2] CRAN (R 3.5.2)                    \n",
       " lattice       0.20-38    2018-11-04 [2] CRAN (R 3.5.2)                    \n",
       " lazyeval      0.2.2      2019-03-15 [2] CRAN (R 3.5.2)                    \n",
       " lifecycle     0.1.0      2019-08-01 [1] CRAN (R 3.5.2)                    \n",
       " lubridate     1.7.4      2018-04-11 [2] CRAN (R 3.5.2)                    \n",
       " magrittr      1.5        2014-11-22 [2] CRAN (R 3.5.2)                    \n",
       " memoise       1.1.0      2017-04-21 [2] CRAN (R 3.5.2)                    \n",
       " modelr        0.1.5      2019-08-08 [2] CRAN (R 3.5.2)                    \n",
       " munsell       0.5.0      2018-06-12 [2] CRAN (R 3.5.2)                    \n",
       " nlme          3.1-141    2019-08-01 [2] CRAN (R 3.5.2)                    \n",
       " pbdZMQ        0.3-3      2018-05-05 [2] CRAN (R 3.5.2)                    \n",
       " pillar        1.4.2      2019-06-29 [2] CRAN (R 3.5.2)                    \n",
       " pkgbuild      1.0.4      2019-08-05 [2] CRAN (R 3.5.2)                    \n",
       " pkgconfig     2.0.2      2018-08-16 [2] CRAN (R 3.5.2)                    \n",
       " pkgload       1.0.2      2018-10-29 [2] CRAN (R 3.5.2)                    \n",
       " prettyunits   1.0.2      2015-07-13 [2] CRAN (R 3.5.2)                    \n",
       " processx      3.4.1      2019-07-18 [2] CRAN (R 3.5.2)                    \n",
       " pryr        * 0.1.4      2018-02-18 [1] CRAN (R 3.5.2)                    \n",
       " ps            1.3.0      2018-12-21 [2] CRAN (R 3.5.2)                    \n",
       " purrr       * 0.3.2      2019-03-15 [2] CRAN (R 3.5.2)                    \n",
       " qwraps2     * 0.4.2      2019-12-02 [1] CRAN (R 3.5.2)                    \n",
       " R6            2.4.1      2019-11-12 [1] CRAN (R 3.5.2)                    \n",
       " Rcpp          1.0.2      2019-07-25 [2] CRAN (R 3.5.2)                    \n",
       " readr       * 1.3.1      2018-12-21 [2] CRAN (R 3.5.2)                    \n",
       " readxl        1.3.1      2019-03-13 [2] CRAN (R 3.5.2)                    \n",
       " remotes       2.1.0      2019-06-24 [2] CRAN (R 3.5.2)                    \n",
       " repr          1.0.1      2019-05-14 [2] CRAN (R 3.5.2)                    \n",
       " reticulate  * 1.14       2019-12-17 [1] CRAN (R 3.5.2)                    \n",
       " rlang         0.4.0      2019-06-25 [2] CRAN (R 3.5.2)                    \n",
       " rprojroot     1.3-2      2018-01-03 [2] CRAN (R 3.5.2)                    \n",
       " rstudioapi    0.10       2019-03-19 [2] CRAN (R 3.5.2)                    \n",
       " rvest         0.3.4      2019-05-15 [2] CRAN (R 3.5.2)                    \n",
       " scales      * 1.0.0      2018-08-09 [2] CRAN (R 3.5.2)                    \n",
       " sessioninfo   1.1.1      2018-11-05 [2] CRAN (R 3.5.2)                    \n",
       " skimr       * 2.0.2      2019-11-26 [1] CRAN (R 3.5.2)                    \n",
       " stringi       1.4.3      2019-03-12 [2] CRAN (R 3.5.2)                    \n",
       " stringr     * 1.4.0      2019-02-10 [2] CRAN (R 3.5.2)                    \n",
       " testthat    * 2.2.1      2019-07-25 [2] CRAN (R 3.5.2)                    \n",
       " tibble      * 2.1.3      2019-06-06 [2] CRAN (R 3.5.2)                    \n",
       " tidyr       * 1.0.0      2019-09-11 [1] CRAN (R 3.5.2)                    \n",
       " tidyselect    0.2.5      2018-10-11 [2] CRAN (R 3.5.2)                    \n",
       " tidyverse   * 1.2.1      2017-11-14 [2] CRAN (R 3.5.2)                    \n",
       " usethis       1.5.1      2019-07-04 [2] CRAN (R 3.5.2)                    \n",
       " uuid          0.1-2      2015-07-28 [2] CRAN (R 3.5.2)                    \n",
       " vctrs         0.2.0      2019-07-05 [2] CRAN (R 3.5.2)                    \n",
       " viridis     * 0.5.1      2018-03-29 [1] CRAN (R 3.5.2)                    \n",
       " viridisLite * 0.3.0      2018-02-01 [2] CRAN (R 3.5.2)                    \n",
       " withr         2.1.2      2018-03-15 [2] CRAN (R 3.5.2)                    \n",
       " xfun          0.9        2019-08-21 [2] CRAN (R 3.5.2)                    \n",
       " xml2          1.2.2      2019-08-09 [2] CRAN (R 3.5.2)                    \n",
       " zeallot       0.1.0      2018-01-28 [2] CRAN (R 3.5.2)                    \n",
       "\n",
       "[1] /home/jupyter-user/.rpackages\n",
       "[2] /usr/local/lib/R/site-library\n",
       "[3] /usr/lib/R/site-library\n",
       "[4] /usr/lib/R/library"
      ]
     },
     "metadata": {},
     "output_type": "display_data"
    }
   ],
   "source": [
    "devtools::session_info()"
   ]
  },
  {
   "cell_type": "markdown",
   "metadata": {},
   "source": [
    "Copyright 2018 The Broad Institute, Inc., Verily Life Sciences, LLC All rights reserved.\n",
    "\n",
    "This software may be modified and distributed under the terms of the BSD license. See the LICENSE file for details."
   ]
  }
 ],
 "metadata": {
  "kernelspec": {
   "display_name": "R",
   "language": "R",
   "name": "ir"
  },
  "language_info": {
   "codemirror_mode": "r",
   "file_extension": ".r",
   "mimetype": "text/x-r-source",
   "name": "R",
   "pygments_lexer": "r",
   "version": "3.5.2"
  },
  "toc": {
   "base_numbering": 1,
   "nav_menu": {},
   "number_sections": true,
   "sideBar": true,
   "skip_h1_title": false,
   "title_cell": "Table of Contents",
   "title_sidebar": "Contents",
   "toc_cell": false,
   "toc_position": {},
   "toc_section_display": true,
   "toc_window_display": true
  }
 },
 "nbformat": 4,
 "nbformat_minor": 2
}
