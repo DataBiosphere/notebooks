{
 "cells": [
  {
   "cell_type": "markdown",
   "metadata": {},
   "source": [
    "# How to pull in reusable code from source control\n",
    "\n",
    "This notebook demonstrates several different ways to incorporate R code from source control into a notebook."
   ]
  },
  {
   "cell_type": "markdown",
   "metadata": {},
   "source": [
    "## Setup\n",
    "\n",
    "First, be sure to run notebook **`R environment setup`** in this workspace."
   ]
  },
  {
   "cell_type": "code",
   "execution_count": 1,
   "metadata": {},
   "outputs": [],
   "source": [
    "library(devtools)\n",
    "library(bigrquery)"
   ]
  },
  {
   "cell_type": "code",
   "execution_count": 2,
   "metadata": {},
   "outputs": [],
   "source": [
    "# BigQuery billing project name.\n",
    "BILLING_PROJECT_ID <- Sys.getenv('GOOGLE_PROJECT')\n",
    "bigrquery::set_service_token(Ronaldo::getServiceAccountKey())"
   ]
  },
  {
   "cell_type": "markdown",
   "metadata": {},
   "source": [
    "# Install a package from GitHub\n",
    "\n",
    "You can see the GitHub repository here: https://github.com/r-lib/gargle"
   ]
  },
  {
   "cell_type": "code",
   "execution_count": 3,
   "metadata": {},
   "outputs": [
    {
     "name": "stderr",
     "output_type": "stream",
     "text": [
      "Skipping install of 'gargle' from a github remote, the SHA1 (1832e689) has not changed since last install.\n",
      "  Use `force = TRUE` to force installation\n"
     ]
    }
   ],
   "source": [
    "# Install a particular version of the code.\n",
    "devtools::install_github('r-lib/gargle', ref = '1832e689a051f1f0a8ea69fba0e7bc713825cfba')"
   ]
  },
  {
   "cell_type": "code",
   "execution_count": 4,
   "metadata": {},
   "outputs": [],
   "source": [
    "# Load the code.\n",
    "library(gargle)"
   ]
  },
  {
   "cell_type": "code",
   "execution_count": 5,
   "metadata": {},
   "outputs": [
    {
     "data": {
      "text/html": [
       "<ol class=list-inline>\n",
       "\t<li>'default'</li>\n",
       "\t<li>'pet-110502112294304402890@fc-product-demo.iam.gserviceaccount.com'</li>\n",
       "</ol>\n"
      ],
      "text/latex": [
       "\\begin{enumerate*}\n",
       "\\item 'default'\n",
       "\\item 'pet-110502112294304402890@fc-product-demo.iam.gserviceaccount.com'\n",
       "\\end{enumerate*}\n"
      ],
      "text/markdown": [
       "1. 'default'\n",
       "2. 'pet-110502112294304402890@fc-product-demo.iam.gserviceaccount.com'\n",
       "\n",
       "\n"
      ],
      "text/plain": [
       "[1] \"default\"                                                          \n",
       "[2] \"pet-110502112294304402890@fc-product-demo.iam.gserviceaccount.com\""
      ]
     },
     "metadata": {},
     "output_type": "display_data"
    }
   ],
   "source": [
    "# Use the code.\n",
    "\n",
    "# Use three colons to gain access to this function\n",
    "# which is not currently exported from the package for some reason.\n",
    "gargle:::list_service_accounts()"
   ]
  },
  {
   "cell_type": "markdown",
   "metadata": {},
   "source": [
    "Just FYI, similarly we can install Python packages from GitHub like so:\n",
    "\n",
    "`pip install git+https://github.com/verilylifesciences/analysis-py-utils.git@v0.1.0`"
   ]
  },
  {
   "cell_type": "markdown",
   "metadata": {},
   "source": [
    "# Install a package from a Cloud Source Repository\n",
    "\n",
    "If you have permission to view this repository, you can see the source code for this package here: https://source.cloud.google.com/terra-resources/rterra\n",
    "\n",
    "For more detail, see https://cloud.google.com/source-repositories/"
   ]
  },
  {
   "cell_type": "code",
   "execution_count": 6,
   "metadata": {},
   "outputs": [
    {
     "data": {
      "text/html": [],
      "text/latex": [],
      "text/markdown": [],
      "text/plain": [
       "character(0)"
      ]
     },
     "metadata": {},
     "output_type": "display_data"
    }
   ],
   "source": [
    "# Clone the code repository.\n",
    "system('gcloud source repos clone rterra --project=terra-resources', intern=TRUE)"
   ]
  },
  {
   "cell_type": "code",
   "execution_count": 7,
   "metadata": {},
   "outputs": [
    {
     "name": "stdout",
     "output_type": "stream",
     "text": [
      "\u001b[32m✔\u001b[39m  \u001b[90mchecking for file ‘/home/jupyter-user/Terra Notebooks Playground deflaux copy 20190429/rterra/DESCRIPTION’\u001b[39m\u001b[36m\u001b[39m\n",
      "\u001b[90m─\u001b[39m\u001b[90m  \u001b[39m\u001b[90mpreparing ‘rterra’:\u001b[39m\u001b[36m\u001b[39m\n",
      "\u001b[32m✔\u001b[39m  \u001b[90mchecking DESCRIPTION meta-information\u001b[39m\u001b[36m\u001b[39m\n",
      "\u001b[90m─\u001b[39m\u001b[90m  \u001b[39m\u001b[90mchecking for LF line-endings in source and make files and shell scripts\u001b[39m\u001b[36m\u001b[39m\n",
      "\u001b[90m─\u001b[39m\u001b[90m  \u001b[39m\u001b[90mchecking for empty or unneeded directories\u001b[39m\u001b[36m\u001b[39m\n",
      "\u001b[90m─\u001b[39m\u001b[90m  \u001b[39m\u001b[90mbuilding ‘rterra_0.1.0.tar.gz’\u001b[39m\u001b[36m\u001b[39m\n",
      "   \n",
      "Running /usr/lib/R/bin/R CMD INSTALL /tmp/RtmpxjKWKS/rterra_0.1.0.tar.gz \\\n",
      "  --install-tests \n",
      "\u001b[31m* installing to library ‘/home/jupyter-user/.rpackages’\n",
      "\u001b[39m\u001b[31m* installing *source* package ‘rterra’ ...\n",
      "\u001b[39m\u001b[31m** R\n",
      "\u001b[39m\u001b[31m** byte-compile and prepare package for lazy loading\n",
      "\u001b[39m\u001b[31m** help\n",
      "\u001b[39m\u001b[31m*** installing help indices\n",
      "\u001b[39m\u001b[31m** building package indices\n",
      "\u001b[39m\u001b[31m** testing if installed package can be loaded\n",
      "\u001b[39m\u001b[31m* DONE (rterra)\n",
      "\u001b[39m"
     ]
    }
   ],
   "source": [
    "# Install the R package.\n",
    "devtools::install('rterra')"
   ]
  },
  {
   "cell_type": "code",
   "execution_count": 8,
   "metadata": {},
   "outputs": [],
   "source": [
    "# Load the R package.\n",
    "library(rterra)"
   ]
  },
  {
   "cell_type": "code",
   "execution_count": 9,
   "metadata": {},
   "outputs": [
    {
     "name": "stderr",
     "output_type": "stream",
     "text": [
      "Hello world!\n",
      "You can try out source control by adding more to this message.\n",
      "Hello from deflaux 2019-02-11.\n",
      "Goodbye!\n"
     ]
    },
    {
     "data": {
      "text/html": [
       "<ol class=list-inline>\n",
       "\t<li>'Hello world!'</li>\n",
       "\t<li>'You can try out source control by adding more to this message.'</li>\n",
       "\t<li>'Hello from deflaux 2019-02-11.'</li>\n",
       "\t<li>'Goodbye!'</li>\n",
       "</ol>\n"
      ],
      "text/latex": [
       "\\begin{enumerate*}\n",
       "\\item 'Hello world!'\n",
       "\\item 'You can try out source control by adding more to this message.'\n",
       "\\item 'Hello from deflaux 2019-02-11.'\n",
       "\\item 'Goodbye!'\n",
       "\\end{enumerate*}\n"
      ],
      "text/markdown": [
       "1. 'Hello world!'\n",
       "2. 'You can try out source control by adding more to this message.'\n",
       "3. 'Hello from deflaux 2019-02-11.'\n",
       "4. 'Goodbye!'\n",
       "\n",
       "\n"
      ],
      "text/plain": [
       "[1] \"Hello world!\"                                                  \n",
       "[2] \"You can try out source control by adding more to this message.\"\n",
       "[3] \"Hello from deflaux 2019-02-11.\"                                \n",
       "[4] \"Goodbye!\"                                                      "
      ]
     },
     "metadata": {},
     "output_type": "display_data"
    }
   ],
   "source": [
    "# Use the R package.\n",
    "hello()"
   ]
  },
  {
   "cell_type": "markdown",
   "metadata": {},
   "source": [
    "Just FYI, similarly for Python we can install local Python packages via:\n",
    "\n",
    "`pip install -e <DIRECTORY>`"
   ]
  },
  {
   "cell_type": "markdown",
   "metadata": {},
   "source": [
    "# Provenance"
   ]
  },
  {
   "cell_type": "code",
   "execution_count": 10,
   "metadata": {},
   "outputs": [
    {
     "data": {
      "text/plain": [
       "─ Session info ───────────────────────────────────────────────────────────────\n",
       " setting  value                       \n",
       " version  R version 3.5.2 (2018-12-20)\n",
       " os       Debian GNU/Linux 9 (stretch)\n",
       " system   x86_64, linux-gnu           \n",
       " ui       X11                         \n",
       " language (EN)                        \n",
       " collate  en_US.UTF-8                 \n",
       " ctype    en_US.UTF-8                 \n",
       " tz       Etc/UTC                     \n",
       " date     2019-04-29                  \n",
       "\n",
       "─ Packages ───────────────────────────────────────────────────────────────────\n",
       " package     * version     date       lib\n",
       " askpass       1.1         2019-01-13 [2]\n",
       " assertthat    0.2.1       2019-03-21 [2]\n",
       " backports     1.1.4       2019-04-10 [1]\n",
       " base64enc     0.1-3       2015-07-28 [2]\n",
       " bigrquery   * 1.1.0       2019-02-05 [2]\n",
       " bit           1.1-14      2018-05-29 [2]\n",
       " bit64         0.9-7       2017-05-08 [2]\n",
       " callr         3.2.0       2019-03-15 [2]\n",
       " cli           1.1.0       2019-03-19 [2]\n",
       " crayon        1.3.4       2017-09-16 [2]\n",
       " curl          3.3         2019-01-10 [2]\n",
       " DBI           1.0.0       2018-05-02 [2]\n",
       " debugme       1.1.0       2017-10-22 [1]\n",
       " desc          1.2.0       2018-05-01 [2]\n",
       " devtools    * 2.0.1       2018-10-26 [2]\n",
       " digest        0.6.18      2018-10-10 [2]\n",
       " evaluate      0.13        2019-02-12 [2]\n",
       " fs            1.2.7       2019-03-19 [2]\n",
       " gargle      * 0.0.0.9000  2019-04-29 [1]\n",
       " glue          1.3.1       2019-03-12 [2]\n",
       " htmltools     0.3.6       2017-04-28 [2]\n",
       " httr          1.4.0       2018-12-11 [2]\n",
       " IRdisplay     0.7.0       2018-11-29 [2]\n",
       " IRkernel      0.8.15.9000 2019-04-05 [2]\n",
       " jsonlite      1.6         2018-12-07 [2]\n",
       " magrittr      1.5         2014-11-22 [2]\n",
       " memoise       1.1.0       2017-04-21 [2]\n",
       " openssl       1.3         2019-03-22 [2]\n",
       " pbdZMQ        0.3-3       2018-05-05 [2]\n",
       " pillar        1.3.1       2018-12-15 [2]\n",
       " pkgbuild      1.0.3       2019-03-20 [2]\n",
       " pkgconfig     2.0.2       2018-08-16 [2]\n",
       " pkgload       1.0.2       2018-10-29 [2]\n",
       " prettyunits   1.0.2       2015-07-13 [2]\n",
       " processx      3.3.0       2019-03-10 [2]\n",
       " ps            1.3.0       2018-12-21 [2]\n",
       " R6            2.4.0       2019-02-14 [2]\n",
       " Rcpp          1.0.1       2019-03-17 [2]\n",
       " remotes       2.0.2       2018-10-30 [2]\n",
       " repr          0.19.2      2019-02-06 [2]\n",
       " rlang         0.3.3       2019-03-29 [2]\n",
       " Ronaldo       0.1.0       2019-04-05 [2]\n",
       " rprojroot     1.3-2       2018-01-03 [2]\n",
       " rterra      * 0.1.0       2019-04-29 [1]\n",
       " sessioninfo   1.1.1       2018-11-05 [2]\n",
       " tibble        2.1.1       2019-03-16 [2]\n",
       " usethis     * 1.4.0       2018-08-14 [2]\n",
       " uuid          0.1-2       2015-07-28 [2]\n",
       " withr         2.1.2       2018-03-15 [2]\n",
       " source                                \n",
       " CRAN (R 3.5.2)                        \n",
       " CRAN (R 3.5.2)                        \n",
       " CRAN (R 3.5.2)                        \n",
       " CRAN (R 3.5.2)                        \n",
       " CRAN (R 3.5.2)                        \n",
       " CRAN (R 3.5.2)                        \n",
       " CRAN (R 3.5.2)                        \n",
       " CRAN (R 3.5.2)                        \n",
       " CRAN (R 3.5.2)                        \n",
       " CRAN (R 3.5.2)                        \n",
       " CRAN (R 3.5.2)                        \n",
       " CRAN (R 3.5.2)                        \n",
       " CRAN (R 3.5.2)                        \n",
       " CRAN (R 3.5.2)                        \n",
       " CRAN (R 3.5.2)                        \n",
       " CRAN (R 3.5.2)                        \n",
       " CRAN (R 3.5.2)                        \n",
       " CRAN (R 3.5.2)                        \n",
       " Github (r-lib/gargle@1832e68)         \n",
       " CRAN (R 3.5.2)                        \n",
       " CRAN (R 3.5.2)                        \n",
       " CRAN (R 3.5.2)                        \n",
       " CRAN (R 3.5.2)                        \n",
       " Github (IRkernel/IRkernel@dbe3a10)    \n",
       " CRAN (R 3.5.2)                        \n",
       " CRAN (R 3.5.2)                        \n",
       " CRAN (R 3.5.2)                        \n",
       " CRAN (R 3.5.2)                        \n",
       " CRAN (R 3.5.2)                        \n",
       " CRAN (R 3.5.2)                        \n",
       " CRAN (R 3.5.2)                        \n",
       " CRAN (R 3.5.2)                        \n",
       " CRAN (R 3.5.2)                        \n",
       " CRAN (R 3.5.2)                        \n",
       " CRAN (R 3.5.2)                        \n",
       " CRAN (R 3.5.2)                        \n",
       " CRAN (R 3.5.2)                        \n",
       " CRAN (R 3.5.2)                        \n",
       " CRAN (R 3.5.2)                        \n",
       " CRAN (R 3.5.2)                        \n",
       " CRAN (R 3.5.2)                        \n",
       " Github (DataBiosphere/Ronaldo@426459f)\n",
       " CRAN (R 3.5.2)                        \n",
       " local                                 \n",
       " CRAN (R 3.5.2)                        \n",
       " CRAN (R 3.5.2)                        \n",
       " CRAN (R 3.5.2)                        \n",
       " CRAN (R 3.5.2)                        \n",
       " CRAN (R 3.5.2)                        \n",
       "\n",
       "[1] /home/jupyter-user/.rpackages\n",
       "[2] /usr/local/lib/R/site-library\n",
       "[3] /usr/lib/R/site-library\n",
       "[4] /usr/lib/R/library"
      ]
     },
     "metadata": {},
     "output_type": "display_data"
    }
   ],
   "source": [
    "devtools::session_info()"
   ]
  },
  {
   "cell_type": "markdown",
   "metadata": {},
   "source": [
    "Copyright 2018 The Broad Institute, Inc., Verily Life Sciences, LLC All rights reserved.\n",
    "\n",
    "This software may be modified and distributed under the terms of the BSD license. See the LICENSE file for details."
   ]
  }
 ],
 "metadata": {
  "kernelspec": {
   "display_name": "R",
   "language": "R",
   "name": "ir"
  },
  "language_info": {
   "codemirror_mode": "r",
   "file_extension": ".r",
   "mimetype": "text/x-r-source",
   "name": "R",
   "pygments_lexer": "r",
   "version": "3.5.2"
  },
  "toc": {
   "base_numbering": 1,
   "nav_menu": {},
   "number_sections": true,
   "sideBar": true,
   "skip_h1_title": false,
   "title_cell": "Table of Contents",
   "title_sidebar": "Contents",
   "toc_cell": false,
   "toc_position": {
    "height": "calc(100% - 180px)",
    "left": "10px",
    "top": "150px",
    "width": "256.761px"
   },
   "toc_section_display": true,
   "toc_window_display": true
  }
 },
 "nbformat": 4,
 "nbformat_minor": 2
}
