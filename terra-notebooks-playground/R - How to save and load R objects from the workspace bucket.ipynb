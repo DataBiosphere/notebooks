{
 "cells": [
  {
   "cell_type": "markdown",
   "metadata": {},
   "source": [
    "# How to save and load R objects from the workspace bucket\n",
    "\n",
    "R users like to save intermediate work in R's native format for rapid loading.\n",
    "\n",
    "See also [Notebooks 101 - How not to lose data output files or collaborator edits](https://broadinstitute.zendesk.com/hc/en-us/articles/360027300571-Notebooks-101-How-not-to-lose-data-output-files-or-collaborator-edits)."
   ]
  },
  {
   "cell_type": "markdown",
   "metadata": {},
   "source": [
    "## Setup\n",
    "\n",
    "First, be sure to run notebook **`R environment setup`** in this workspace."
   ]
  },
  {
   "cell_type": "code",
   "execution_count": 1,
   "metadata": {},
   "outputs": [
    {
     "name": "stderr",
     "output_type": "stream",
     "text": [
      "\n",
      "Attaching package: ‘lubridate’\n",
      "\n",
      "The following object is masked from ‘package:base’:\n",
      "\n",
      "    date\n",
      "\n",
      "── \u001b[1mAttaching packages\u001b[22m ─────────────────────────────────────── tidyverse 1.2.1 ──\n",
      "\u001b[32m✔\u001b[39m \u001b[34mggplot2\u001b[39m 3.1.0       \u001b[32m✔\u001b[39m \u001b[34mpurrr  \u001b[39m 0.3.2  \n",
      "\u001b[32m✔\u001b[39m \u001b[34mtibble \u001b[39m 2.1.1       \u001b[32m✔\u001b[39m \u001b[34mdplyr  \u001b[39m 0.8.0.\u001b[31m1\u001b[39m\n",
      "\u001b[32m✔\u001b[39m \u001b[34mtidyr  \u001b[39m 0.8.3       \u001b[32m✔\u001b[39m \u001b[34mstringr\u001b[39m 1.4.0  \n",
      "\u001b[32m✔\u001b[39m \u001b[34mreadr  \u001b[39m 1.3.1       \u001b[32m✔\u001b[39m \u001b[34mforcats\u001b[39m 0.4.0  \n",
      "── \u001b[1mConflicts\u001b[22m ────────────────────────────────────────── tidyverse_conflicts() ──\n",
      "\u001b[31m✖\u001b[39m \u001b[34mlubridate\u001b[39m::\u001b[32mas.difftime()\u001b[39m masks \u001b[34mbase\u001b[39m::as.difftime()\n",
      "\u001b[31m✖\u001b[39m \u001b[34mlubridate\u001b[39m::\u001b[32mdate()\u001b[39m        masks \u001b[34mbase\u001b[39m::date()\n",
      "\u001b[31m✖\u001b[39m \u001b[34mdplyr\u001b[39m::\u001b[32mfilter()\u001b[39m          masks \u001b[34mstats\u001b[39m::filter()\n",
      "\u001b[31m✖\u001b[39m \u001b[34mlubridate\u001b[39m::\u001b[32mintersect()\u001b[39m   masks \u001b[34mbase\u001b[39m::intersect()\n",
      "\u001b[31m✖\u001b[39m \u001b[34mdplyr\u001b[39m::\u001b[32mlag()\u001b[39m             masks \u001b[34mstats\u001b[39m::lag()\n",
      "\u001b[31m✖\u001b[39m \u001b[34mlubridate\u001b[39m::\u001b[32msetdiff()\u001b[39m     masks \u001b[34mbase\u001b[39m::setdiff()\n",
      "\u001b[31m✖\u001b[39m \u001b[34mlubridate\u001b[39m::\u001b[32munion()\u001b[39m       masks \u001b[34mbase\u001b[39m::union()\n"
     ]
    }
   ],
   "source": [
    "library(lubridate)\n",
    "library(tidyverse)\n",
    "library(stringr)"
   ]
  },
  {
   "cell_type": "markdown",
   "metadata": {},
   "source": [
    "Get the Cloud Storage bucket associated with this workspace."
   ]
  },
  {
   "cell_type": "code",
   "execution_count": 2,
   "metadata": {},
   "outputs": [
    {
     "data": {
      "text/html": [
       "'gs://fc-9b460d40-2985-49b5-a228-cdcf639e8c40'"
      ],
      "text/latex": [
       "'gs://fc-9b460d40-2985-49b5-a228-cdcf639e8c40'"
      ],
      "text/markdown": [
       "'gs://fc-9b460d40-2985-49b5-a228-cdcf639e8c40'"
      ],
      "text/plain": [
       "[1] \"gs://fc-9b460d40-2985-49b5-a228-cdcf639e8c40\""
      ]
     },
     "metadata": {},
     "output_type": "display_data"
    }
   ],
   "source": [
    "(WORKSPACE_BUCKET <- Sys.getenv('WORKSPACE_BUCKET'))"
   ]
  },
  {
   "cell_type": "code",
   "execution_count": 3,
   "metadata": {},
   "outputs": [
    {
     "data": {
      "text/html": [
       "'thousand_genomes_20190429-210705.rda'"
      ],
      "text/latex": [
       "'thousand\\_genomes\\_20190429-210705.rda'"
      ],
      "text/markdown": [
       "'thousand_genomes_20190429-210705.rda'"
      ],
      "text/plain": [
       "thousand_genomes_20190429-210705.rda"
      ]
     },
     "metadata": {},
     "output_type": "display_data"
    }
   ],
   "source": [
    "TIMESTAMP <- strftime(now(), '%Y%m%d-%H%M%S')\n",
    "(RDA_FILE <- str_glue('thousand_genomes_{TIMESTAMP}.rda'))"
   ]
  },
  {
   "cell_type": "markdown",
   "metadata": {},
   "source": [
    "## Read some data from Cloud Storage.\n",
    "Let’s retrieve the sample information for [1000 Genomes](http://www.internationalgenome.org/data \"1000 Genomes\").\n",
    "\n",
    "This approach uses `gsutil cat` to transfer the contents of the CSV file since we want to load the whole thing. \n",
    "\n",
    "If you instead want to load a subset of columns or a subset of rows, instead retrieve the data from BigQuery table [bigquery-public-data.human_genome_variants.1000_genomes_sample_info](https://bigquery.cloud.google.com/table/bigquery-public-data:human_genome_variants.1000_genomes_sample_info)."
   ]
  },
  {
   "cell_type": "code",
   "execution_count": 4,
   "metadata": {},
   "outputs": [
    {
     "name": "stderr",
     "output_type": "stream",
     "text": [
      "Parsed with column specification:\n",
      "cols(\n",
      "  .default = col_character(),\n",
      "  In_Low_Coverage_Pilot = \u001b[32mcol_double()\u001b[39m,\n",
      "  In_High_Coverage_Pilot = \u001b[32mcol_double()\u001b[39m,\n",
      "  In_Exon_Targetted_Pilot = \u001b[32mcol_double()\u001b[39m,\n",
      "  Has_Sequence_in_Phase1 = \u001b[32mcol_double()\u001b[39m,\n",
      "  In_Phase1_Integrated_Variant_Set = \u001b[32mcol_double()\u001b[39m,\n",
      "  Has_Phase1_chrY_SNPS = \u001b[32mcol_double()\u001b[39m,\n",
      "  Has_phase1_chrY_Deletions = \u001b[32mcol_double()\u001b[39m,\n",
      "  Has_phase1_chrMT_SNPs = \u001b[32mcol_double()\u001b[39m,\n",
      "  Total_LC_Sequence = \u001b[32mcol_double()\u001b[39m,\n",
      "  LC_Non_Duplicated_Aligned_Coverage = \u001b[32mcol_double()\u001b[39m,\n",
      "  Total_Exome_Sequence = \u001b[32mcol_double()\u001b[39m,\n",
      "  X_Targets_Covered_to_20x_or_greater = \u001b[32mcol_double()\u001b[39m,\n",
      "  VerifyBam_E_Omni_Free = \u001b[32mcol_double()\u001b[39m,\n",
      "  VerifyBam_E_Affy_Free = \u001b[32mcol_double()\u001b[39m,\n",
      "  VerifyBam_E_Omni_Chip = \u001b[32mcol_double()\u001b[39m,\n",
      "  VerifyBam_E_Affy_Chip = \u001b[32mcol_double()\u001b[39m,\n",
      "  VerifyBam_LC_Omni_Free = \u001b[32mcol_double()\u001b[39m,\n",
      "  VerifyBam_LC_Affy_Free = \u001b[32mcol_double()\u001b[39m,\n",
      "  VerifyBam_LC_Omni_Chip = \u001b[32mcol_double()\u001b[39m,\n",
      "  VerifyBam_LC_Affy_Chip = \u001b[32mcol_double()\u001b[39m\n",
      "  # ... with 11 more columns\n",
      ")\n",
      "See spec(...) for full column specifications.\n"
     ]
    }
   ],
   "source": [
    "df <- read_csv(pipe('gsutil cat gs://genomics-public-data/1000-genomes/other/sample_info/sample_info.csv'),\n",
    "               guess_max = 5000)"
   ]
  },
  {
   "cell_type": "markdown",
   "metadata": {},
   "source": [
    "## Save the object(s) to a local file."
   ]
  },
  {
   "cell_type": "code",
   "execution_count": 5,
   "metadata": {},
   "outputs": [],
   "source": [
    "save(df, file = RDA_FILE)"
   ]
  },
  {
   "cell_type": "markdown",
   "metadata": {},
   "source": [
    "## Transfer the file to the workspace bucket"
   ]
  },
  {
   "cell_type": "code",
   "execution_count": 6,
   "metadata": {},
   "outputs": [
    {
     "data": {
      "text/html": [
       "<ol class=list-inline>\n",
       "\t<li>'Copying file://thousand_genomes_20190429-210705.rda [Content-Type=application/octet-stream]...'</li>\n",
       "\t<li><span style=white-space:pre-wrap>'/ [0 files][    0.0 B/172.9 KiB]                                                \\r/ [1 files][172.9 KiB/172.9 KiB]                                                \\r'</span></li>\n",
       "\t<li><span style=white-space:pre-wrap>'Operation completed over 1 objects/172.9 KiB.                                    '</span></li>\n",
       "</ol>\n"
      ],
      "text/latex": [
       "\\begin{enumerate*}\n",
       "\\item 'Copying file://thousand\\_genomes\\_20190429-210705.rda {[}Content-Type=application/octet-stream{]}...'\n",
       "\\item '/ {[}0 files{]}{[}    0.0 B/172.9 KiB{]}                                                \\textbackslash{}r/ {[}1 files{]}{[}172.9 KiB/172.9 KiB{]}                                                \\textbackslash{}r'\n",
       "\\item 'Operation completed over 1 objects/172.9 KiB.                                    '\n",
       "\\end{enumerate*}\n"
      ],
      "text/markdown": [
       "1. 'Copying file://thousand_genomes_20190429-210705.rda [Content-Type=application/octet-stream]...'\n",
       "2. <span style=white-space:pre-wrap>'/ [0 files][    0.0 B/172.9 KiB]                                                \\r/ [1 files][172.9 KiB/172.9 KiB]                                                \\r'</span>\n",
       "3. <span style=white-space:pre-wrap>'Operation completed over 1 objects/172.9 KiB.                                    '</span>\n",
       "\n",
       "\n"
      ],
      "text/plain": [
       "[1] \"Copying file://thousand_genomes_20190429-210705.rda [Content-Type=application/octet-stream]...\"                                                                      \n",
       "[2] \"/ [0 files][    0.0 B/172.9 KiB]                                                \\r/ [1 files][172.9 KiB/172.9 KiB]                                                \\r\"\n",
       "[3] \"Operation completed over 1 objects/172.9 KiB.                                    \"                                                                                   "
      ]
     },
     "metadata": {},
     "output_type": "display_data"
    }
   ],
   "source": [
    "system(str_glue('gsutil cp {RDA_FILE} {WORKSPACE_BUCKET}/r-objects/ 2>&1'), intern = TRUE)"
   ]
  },
  {
   "cell_type": "markdown",
   "metadata": {},
   "source": [
    "## Now, load that object from the native format file in Cloud Storage"
   ]
  },
  {
   "cell_type": "code",
   "execution_count": 7,
   "metadata": {},
   "outputs": [
    {
     "data": {
      "text/html": [
       "<table>\n",
       "<thead><tr><th scope=col>Sample</th><th scope=col>Family_ID</th><th scope=col>Population</th><th scope=col>Population_Description</th><th scope=col>Gender</th><th scope=col>Relationship</th><th scope=col>Unexpected_Parent_Child</th><th scope=col>Non_Paternity</th><th scope=col>Siblings</th><th scope=col>Grandparents</th><th scope=col>⋯</th><th scope=col>In_Final_Phase_Variant_Calling</th><th scope=col>Has_Omni_Genotypes</th><th scope=col>Has_Axiom_Genotypes</th><th scope=col>Has_Affy_6_0_Genotypes</th><th scope=col>Has_Exome_LOF_Genotypes</th><th scope=col>EBV_Coverage</th><th scope=col>DNA_Source_from_Coriell</th><th scope=col>Has_Sequence_from_Blood_in_Index</th><th scope=col>Super_Population</th><th scope=col>Super_Population_Description</th></tr></thead>\n",
       "<tbody>\n",
       "\t<tr><td>HG00096                        </td><td>HG00096                        </td><td>GBR                            </td><td>British in England and Scotland</td><td>male                           </td><td>NA                             </td><td>NA                             </td><td>NA                             </td><td>NA                             </td><td>NA                             </td><td>⋯                              </td><td> 1                             </td><td>1                              </td><td>NA                             </td><td>NA                             </td><td>1                              </td><td> 20.31                         </td><td>NA                             </td><td>NA                             </td><td>EUR                            </td><td>European                       </td></tr>\n",
       "\t<tr><td>HG00097                        </td><td>HG00097                        </td><td>GBR                            </td><td>British in England and Scotland</td><td>female                         </td><td>NA                             </td><td>NA                             </td><td>NA                             </td><td>NA                             </td><td>NA                             </td><td>⋯                              </td><td> 1                             </td><td>1                              </td><td>NA                             </td><td>NA                             </td><td>1                              </td><td>169.49                         </td><td>NA                             </td><td>NA                             </td><td>EUR                            </td><td>European                       </td></tr>\n",
       "\t<tr><td>HG00098                        </td><td>HG00098                        </td><td>GBR                            </td><td>British in England and Scotland</td><td>male                           </td><td>NA                             </td><td>NA                             </td><td>NA                             </td><td>NA                             </td><td>NA                             </td><td>⋯                              </td><td>NA                             </td><td>1                              </td><td>NA                             </td><td>NA                             </td><td>1                              </td><td>    NA                         </td><td>NA                             </td><td>NA                             </td><td>EUR                            </td><td>European                       </td></tr>\n",
       "\t<tr><td>HG00099                        </td><td>HG00099                        </td><td>GBR                            </td><td>British in England and Scotland</td><td>female                         </td><td>NA                             </td><td>NA                             </td><td>NA                             </td><td>NA                             </td><td>NA                             </td><td>⋯                              </td><td> 1                             </td><td>1                              </td><td>NA                             </td><td>NA                             </td><td>1                              </td><td> 23.04                         </td><td>NA                             </td><td>NA                             </td><td>EUR                            </td><td>European                       </td></tr>\n",
       "\t<tr><td>HG00100                        </td><td>HG00100                        </td><td>GBR                            </td><td>British in England and Scotland</td><td>female                         </td><td>NA                             </td><td>NA                             </td><td>NA                             </td><td>NA                             </td><td>NA                             </td><td>⋯                              </td><td> 1                             </td><td>1                              </td><td>NA                             </td><td>NA                             </td><td>1                              </td><td>116.22                         </td><td>NA                             </td><td>NA                             </td><td>EUR                            </td><td>European                       </td></tr>\n",
       "\t<tr><td>HG00101                        </td><td>HG00101                        </td><td>GBR                            </td><td>British in England and Scotland</td><td>male                           </td><td>NA                             </td><td>NA                             </td><td>NA                             </td><td>NA                             </td><td>NA                             </td><td>⋯                              </td><td> 1                             </td><td>1                              </td><td>NA                             </td><td>NA                             </td><td>1                              </td><td> 82.00                         </td><td>NA                             </td><td>NA                             </td><td>EUR                            </td><td>European                       </td></tr>\n",
       "</tbody>\n",
       "</table>\n"
      ],
      "text/latex": [
       "\\begin{tabular}{r|llllllllllllllllllllllllllllllllllllllllllllllllllllllllllllll}\n",
       " Sample & Family\\_ID & Population & Population\\_Description & Gender & Relationship & Unexpected\\_Parent\\_Child & Non\\_Paternity & Siblings & Grandparents & ⋯ & In\\_Final\\_Phase\\_Variant\\_Calling & Has\\_Omni\\_Genotypes & Has\\_Axiom\\_Genotypes & Has\\_Affy\\_6\\_0\\_Genotypes & Has\\_Exome\\_LOF\\_Genotypes & EBV\\_Coverage & DNA\\_Source\\_from\\_Coriell & Has\\_Sequence\\_from\\_Blood\\_in\\_Index & Super\\_Population & Super\\_Population\\_Description\\\\\n",
       "\\hline\n",
       "\t HG00096                         & HG00096                         & GBR                             & British in England and Scotland & male                            & NA                              & NA                              & NA                              & NA                              & NA                              & ⋯                               &  1                              & 1                               & NA                              & NA                              & 1                               &  20.31                          & NA                              & NA                              & EUR                             & European                       \\\\\n",
       "\t HG00097                         & HG00097                         & GBR                             & British in England and Scotland & female                          & NA                              & NA                              & NA                              & NA                              & NA                              & ⋯                               &  1                              & 1                               & NA                              & NA                              & 1                               & 169.49                          & NA                              & NA                              & EUR                             & European                       \\\\\n",
       "\t HG00098                         & HG00098                         & GBR                             & British in England and Scotland & male                            & NA                              & NA                              & NA                              & NA                              & NA                              & ⋯                               & NA                              & 1                               & NA                              & NA                              & 1                               &     NA                          & NA                              & NA                              & EUR                             & European                       \\\\\n",
       "\t HG00099                         & HG00099                         & GBR                             & British in England and Scotland & female                          & NA                              & NA                              & NA                              & NA                              & NA                              & ⋯                               &  1                              & 1                               & NA                              & NA                              & 1                               &  23.04                          & NA                              & NA                              & EUR                             & European                       \\\\\n",
       "\t HG00100                         & HG00100                         & GBR                             & British in England and Scotland & female                          & NA                              & NA                              & NA                              & NA                              & NA                              & ⋯                               &  1                              & 1                               & NA                              & NA                              & 1                               & 116.22                          & NA                              & NA                              & EUR                             & European                       \\\\\n",
       "\t HG00101                         & HG00101                         & GBR                             & British in England and Scotland & male                            & NA                              & NA                              & NA                              & NA                              & NA                              & ⋯                               &  1                              & 1                               & NA                              & NA                              & 1                               &  82.00                          & NA                              & NA                              & EUR                             & European                       \\\\\n",
       "\\end{tabular}\n"
      ],
      "text/markdown": [
       "\n",
       "| Sample | Family_ID | Population | Population_Description | Gender | Relationship | Unexpected_Parent_Child | Non_Paternity | Siblings | Grandparents | ⋯ | In_Final_Phase_Variant_Calling | Has_Omni_Genotypes | Has_Axiom_Genotypes | Has_Affy_6_0_Genotypes | Has_Exome_LOF_Genotypes | EBV_Coverage | DNA_Source_from_Coriell | Has_Sequence_from_Blood_in_Index | Super_Population | Super_Population_Description |\n",
       "|---|---|---|---|---|---|---|---|---|---|---|---|---|---|---|---|---|---|---|---|---|\n",
       "| HG00096                         | HG00096                         | GBR                             | British in England and Scotland | male                            | NA                              | NA                              | NA                              | NA                              | NA                              | ⋯                               |  1                              | 1                               | NA                              | NA                              | 1                               |  20.31                          | NA                              | NA                              | EUR                             | European                        |\n",
       "| HG00097                         | HG00097                         | GBR                             | British in England and Scotland | female                          | NA                              | NA                              | NA                              | NA                              | NA                              | ⋯                               |  1                              | 1                               | NA                              | NA                              | 1                               | 169.49                          | NA                              | NA                              | EUR                             | European                        |\n",
       "| HG00098                         | HG00098                         | GBR                             | British in England and Scotland | male                            | NA                              | NA                              | NA                              | NA                              | NA                              | ⋯                               | NA                              | 1                               | NA                              | NA                              | 1                               |     NA                          | NA                              | NA                              | EUR                             | European                        |\n",
       "| HG00099                         | HG00099                         | GBR                             | British in England and Scotland | female                          | NA                              | NA                              | NA                              | NA                              | NA                              | ⋯                               |  1                              | 1                               | NA                              | NA                              | 1                               |  23.04                          | NA                              | NA                              | EUR                             | European                        |\n",
       "| HG00100                         | HG00100                         | GBR                             | British in England and Scotland | female                          | NA                              | NA                              | NA                              | NA                              | NA                              | ⋯                               |  1                              | 1                               | NA                              | NA                              | 1                               | 116.22                          | NA                              | NA                              | EUR                             | European                        |\n",
       "| HG00101                         | HG00101                         | GBR                             | British in England and Scotland | male                            | NA                              | NA                              | NA                              | NA                              | NA                              | ⋯                               |  1                              | 1                               | NA                              | NA                              | 1                               |  82.00                          | NA                              | NA                              | EUR                             | European                        |\n",
       "\n"
      ],
      "text/plain": [
       "  Sample  Family_ID Population Population_Description          Gender\n",
       "1 HG00096 HG00096   GBR        British in England and Scotland male  \n",
       "2 HG00097 HG00097   GBR        British in England and Scotland female\n",
       "3 HG00098 HG00098   GBR        British in England and Scotland male  \n",
       "4 HG00099 HG00099   GBR        British in England and Scotland female\n",
       "5 HG00100 HG00100   GBR        British in England and Scotland female\n",
       "6 HG00101 HG00101   GBR        British in England and Scotland male  \n",
       "  Relationship Unexpected_Parent_Child Non_Paternity Siblings Grandparents ⋯\n",
       "1 NA           NA                      NA            NA       NA           ⋯\n",
       "2 NA           NA                      NA            NA       NA           ⋯\n",
       "3 NA           NA                      NA            NA       NA           ⋯\n",
       "4 NA           NA                      NA            NA       NA           ⋯\n",
       "5 NA           NA                      NA            NA       NA           ⋯\n",
       "6 NA           NA                      NA            NA       NA           ⋯\n",
       "  In_Final_Phase_Variant_Calling Has_Omni_Genotypes Has_Axiom_Genotypes\n",
       "1  1                             1                  NA                 \n",
       "2  1                             1                  NA                 \n",
       "3 NA                             1                  NA                 \n",
       "4  1                             1                  NA                 \n",
       "5  1                             1                  NA                 \n",
       "6  1                             1                  NA                 \n",
       "  Has_Affy_6_0_Genotypes Has_Exome_LOF_Genotypes EBV_Coverage\n",
       "1 NA                     1                        20.31      \n",
       "2 NA                     1                       169.49      \n",
       "3 NA                     1                           NA      \n",
       "4 NA                     1                        23.04      \n",
       "5 NA                     1                       116.22      \n",
       "6 NA                     1                        82.00      \n",
       "  DNA_Source_from_Coriell Has_Sequence_from_Blood_in_Index Super_Population\n",
       "1 NA                      NA                               EUR             \n",
       "2 NA                      NA                               EUR             \n",
       "3 NA                      NA                               EUR             \n",
       "4 NA                      NA                               EUR             \n",
       "5 NA                      NA                               EUR             \n",
       "6 NA                      NA                               EUR             \n",
       "  Super_Population_Description\n",
       "1 European                    \n",
       "2 European                    \n",
       "3 European                    \n",
       "4 European                    \n",
       "5 European                    \n",
       "6 European                    "
      ]
     },
     "metadata": {},
     "output_type": "display_data"
    }
   ],
   "source": [
    "# The object exists in memory.\n",
    "head(df)"
   ]
  },
  {
   "cell_type": "code",
   "execution_count": 8,
   "metadata": {},
   "outputs": [],
   "source": [
    "# Go ahead and delete it.\n",
    "rm(df)"
   ]
  },
  {
   "cell_type": "code",
   "execution_count": 9,
   "metadata": {},
   "outputs": [
    {
     "data": {
      "text/plain": [
       "                                              \n",
       "1 function (x, df1, df2, ncp, log = FALSE)    \n",
       "2 {                                           \n",
       "3     if (missing(ncp))                       \n",
       "4         .Call(C_df, x, df1, df2, log)       \n",
       "5     else .Call(C_dnf, x, df1, df2, ncp, log)\n",
       "6 }                                           "
      ]
     },
     "metadata": {},
     "output_type": "display_data"
    }
   ],
   "source": [
    "# Okay, its gone.\n",
    "head(df)"
   ]
  },
  {
   "cell_type": "code",
   "execution_count": 10,
   "metadata": {},
   "outputs": [],
   "source": [
    "load(pipe(str_glue('gsutil cat {WORKSPACE_BUCKET}/r-objects/{RDA_FILE}')))"
   ]
  },
  {
   "cell_type": "code",
   "execution_count": 11,
   "metadata": {},
   "outputs": [
    {
     "data": {
      "text/html": [
       "<table>\n",
       "<thead><tr><th scope=col>Sample</th><th scope=col>Family_ID</th><th scope=col>Population</th><th scope=col>Population_Description</th><th scope=col>Gender</th><th scope=col>Relationship</th><th scope=col>Unexpected_Parent_Child</th><th scope=col>Non_Paternity</th><th scope=col>Siblings</th><th scope=col>Grandparents</th><th scope=col>⋯</th><th scope=col>In_Final_Phase_Variant_Calling</th><th scope=col>Has_Omni_Genotypes</th><th scope=col>Has_Axiom_Genotypes</th><th scope=col>Has_Affy_6_0_Genotypes</th><th scope=col>Has_Exome_LOF_Genotypes</th><th scope=col>EBV_Coverage</th><th scope=col>DNA_Source_from_Coriell</th><th scope=col>Has_Sequence_from_Blood_in_Index</th><th scope=col>Super_Population</th><th scope=col>Super_Population_Description</th></tr></thead>\n",
       "<tbody>\n",
       "\t<tr><td>HG00096                        </td><td>HG00096                        </td><td>GBR                            </td><td>British in England and Scotland</td><td>male                           </td><td>NA                             </td><td>NA                             </td><td>NA                             </td><td>NA                             </td><td>NA                             </td><td>⋯                              </td><td> 1                             </td><td>1                              </td><td>NA                             </td><td>NA                             </td><td>1                              </td><td> 20.31                         </td><td>NA                             </td><td>NA                             </td><td>EUR                            </td><td>European                       </td></tr>\n",
       "\t<tr><td>HG00097                        </td><td>HG00097                        </td><td>GBR                            </td><td>British in England and Scotland</td><td>female                         </td><td>NA                             </td><td>NA                             </td><td>NA                             </td><td>NA                             </td><td>NA                             </td><td>⋯                              </td><td> 1                             </td><td>1                              </td><td>NA                             </td><td>NA                             </td><td>1                              </td><td>169.49                         </td><td>NA                             </td><td>NA                             </td><td>EUR                            </td><td>European                       </td></tr>\n",
       "\t<tr><td>HG00098                        </td><td>HG00098                        </td><td>GBR                            </td><td>British in England and Scotland</td><td>male                           </td><td>NA                             </td><td>NA                             </td><td>NA                             </td><td>NA                             </td><td>NA                             </td><td>⋯                              </td><td>NA                             </td><td>1                              </td><td>NA                             </td><td>NA                             </td><td>1                              </td><td>    NA                         </td><td>NA                             </td><td>NA                             </td><td>EUR                            </td><td>European                       </td></tr>\n",
       "\t<tr><td>HG00099                        </td><td>HG00099                        </td><td>GBR                            </td><td>British in England and Scotland</td><td>female                         </td><td>NA                             </td><td>NA                             </td><td>NA                             </td><td>NA                             </td><td>NA                             </td><td>⋯                              </td><td> 1                             </td><td>1                              </td><td>NA                             </td><td>NA                             </td><td>1                              </td><td> 23.04                         </td><td>NA                             </td><td>NA                             </td><td>EUR                            </td><td>European                       </td></tr>\n",
       "\t<tr><td>HG00100                        </td><td>HG00100                        </td><td>GBR                            </td><td>British in England and Scotland</td><td>female                         </td><td>NA                             </td><td>NA                             </td><td>NA                             </td><td>NA                             </td><td>NA                             </td><td>⋯                              </td><td> 1                             </td><td>1                              </td><td>NA                             </td><td>NA                             </td><td>1                              </td><td>116.22                         </td><td>NA                             </td><td>NA                             </td><td>EUR                            </td><td>European                       </td></tr>\n",
       "\t<tr><td>HG00101                        </td><td>HG00101                        </td><td>GBR                            </td><td>British in England and Scotland</td><td>male                           </td><td>NA                             </td><td>NA                             </td><td>NA                             </td><td>NA                             </td><td>NA                             </td><td>⋯                              </td><td> 1                             </td><td>1                              </td><td>NA                             </td><td>NA                             </td><td>1                              </td><td> 82.00                         </td><td>NA                             </td><td>NA                             </td><td>EUR                            </td><td>European                       </td></tr>\n",
       "</tbody>\n",
       "</table>\n"
      ],
      "text/latex": [
       "\\begin{tabular}{r|llllllllllllllllllllllllllllllllllllllllllllllllllllllllllllll}\n",
       " Sample & Family\\_ID & Population & Population\\_Description & Gender & Relationship & Unexpected\\_Parent\\_Child & Non\\_Paternity & Siblings & Grandparents & ⋯ & In\\_Final\\_Phase\\_Variant\\_Calling & Has\\_Omni\\_Genotypes & Has\\_Axiom\\_Genotypes & Has\\_Affy\\_6\\_0\\_Genotypes & Has\\_Exome\\_LOF\\_Genotypes & EBV\\_Coverage & DNA\\_Source\\_from\\_Coriell & Has\\_Sequence\\_from\\_Blood\\_in\\_Index & Super\\_Population & Super\\_Population\\_Description\\\\\n",
       "\\hline\n",
       "\t HG00096                         & HG00096                         & GBR                             & British in England and Scotland & male                            & NA                              & NA                              & NA                              & NA                              & NA                              & ⋯                               &  1                              & 1                               & NA                              & NA                              & 1                               &  20.31                          & NA                              & NA                              & EUR                             & European                       \\\\\n",
       "\t HG00097                         & HG00097                         & GBR                             & British in England and Scotland & female                          & NA                              & NA                              & NA                              & NA                              & NA                              & ⋯                               &  1                              & 1                               & NA                              & NA                              & 1                               & 169.49                          & NA                              & NA                              & EUR                             & European                       \\\\\n",
       "\t HG00098                         & HG00098                         & GBR                             & British in England and Scotland & male                            & NA                              & NA                              & NA                              & NA                              & NA                              & ⋯                               & NA                              & 1                               & NA                              & NA                              & 1                               &     NA                          & NA                              & NA                              & EUR                             & European                       \\\\\n",
       "\t HG00099                         & HG00099                         & GBR                             & British in England and Scotland & female                          & NA                              & NA                              & NA                              & NA                              & NA                              & ⋯                               &  1                              & 1                               & NA                              & NA                              & 1                               &  23.04                          & NA                              & NA                              & EUR                             & European                       \\\\\n",
       "\t HG00100                         & HG00100                         & GBR                             & British in England and Scotland & female                          & NA                              & NA                              & NA                              & NA                              & NA                              & ⋯                               &  1                              & 1                               & NA                              & NA                              & 1                               & 116.22                          & NA                              & NA                              & EUR                             & European                       \\\\\n",
       "\t HG00101                         & HG00101                         & GBR                             & British in England and Scotland & male                            & NA                              & NA                              & NA                              & NA                              & NA                              & ⋯                               &  1                              & 1                               & NA                              & NA                              & 1                               &  82.00                          & NA                              & NA                              & EUR                             & European                       \\\\\n",
       "\\end{tabular}\n"
      ],
      "text/markdown": [
       "\n",
       "| Sample | Family_ID | Population | Population_Description | Gender | Relationship | Unexpected_Parent_Child | Non_Paternity | Siblings | Grandparents | ⋯ | In_Final_Phase_Variant_Calling | Has_Omni_Genotypes | Has_Axiom_Genotypes | Has_Affy_6_0_Genotypes | Has_Exome_LOF_Genotypes | EBV_Coverage | DNA_Source_from_Coriell | Has_Sequence_from_Blood_in_Index | Super_Population | Super_Population_Description |\n",
       "|---|---|---|---|---|---|---|---|---|---|---|---|---|---|---|---|---|---|---|---|---|\n",
       "| HG00096                         | HG00096                         | GBR                             | British in England and Scotland | male                            | NA                              | NA                              | NA                              | NA                              | NA                              | ⋯                               |  1                              | 1                               | NA                              | NA                              | 1                               |  20.31                          | NA                              | NA                              | EUR                             | European                        |\n",
       "| HG00097                         | HG00097                         | GBR                             | British in England and Scotland | female                          | NA                              | NA                              | NA                              | NA                              | NA                              | ⋯                               |  1                              | 1                               | NA                              | NA                              | 1                               | 169.49                          | NA                              | NA                              | EUR                             | European                        |\n",
       "| HG00098                         | HG00098                         | GBR                             | British in England and Scotland | male                            | NA                              | NA                              | NA                              | NA                              | NA                              | ⋯                               | NA                              | 1                               | NA                              | NA                              | 1                               |     NA                          | NA                              | NA                              | EUR                             | European                        |\n",
       "| HG00099                         | HG00099                         | GBR                             | British in England and Scotland | female                          | NA                              | NA                              | NA                              | NA                              | NA                              | ⋯                               |  1                              | 1                               | NA                              | NA                              | 1                               |  23.04                          | NA                              | NA                              | EUR                             | European                        |\n",
       "| HG00100                         | HG00100                         | GBR                             | British in England and Scotland | female                          | NA                              | NA                              | NA                              | NA                              | NA                              | ⋯                               |  1                              | 1                               | NA                              | NA                              | 1                               | 116.22                          | NA                              | NA                              | EUR                             | European                        |\n",
       "| HG00101                         | HG00101                         | GBR                             | British in England and Scotland | male                            | NA                              | NA                              | NA                              | NA                              | NA                              | ⋯                               |  1                              | 1                               | NA                              | NA                              | 1                               |  82.00                          | NA                              | NA                              | EUR                             | European                        |\n",
       "\n"
      ],
      "text/plain": [
       "  Sample  Family_ID Population Population_Description          Gender\n",
       "1 HG00096 HG00096   GBR        British in England and Scotland male  \n",
       "2 HG00097 HG00097   GBR        British in England and Scotland female\n",
       "3 HG00098 HG00098   GBR        British in England and Scotland male  \n",
       "4 HG00099 HG00099   GBR        British in England and Scotland female\n",
       "5 HG00100 HG00100   GBR        British in England and Scotland female\n",
       "6 HG00101 HG00101   GBR        British in England and Scotland male  \n",
       "  Relationship Unexpected_Parent_Child Non_Paternity Siblings Grandparents ⋯\n",
       "1 NA           NA                      NA            NA       NA           ⋯\n",
       "2 NA           NA                      NA            NA       NA           ⋯\n",
       "3 NA           NA                      NA            NA       NA           ⋯\n",
       "4 NA           NA                      NA            NA       NA           ⋯\n",
       "5 NA           NA                      NA            NA       NA           ⋯\n",
       "6 NA           NA                      NA            NA       NA           ⋯\n",
       "  In_Final_Phase_Variant_Calling Has_Omni_Genotypes Has_Axiom_Genotypes\n",
       "1  1                             1                  NA                 \n",
       "2  1                             1                  NA                 \n",
       "3 NA                             1                  NA                 \n",
       "4  1                             1                  NA                 \n",
       "5  1                             1                  NA                 \n",
       "6  1                             1                  NA                 \n",
       "  Has_Affy_6_0_Genotypes Has_Exome_LOF_Genotypes EBV_Coverage\n",
       "1 NA                     1                        20.31      \n",
       "2 NA                     1                       169.49      \n",
       "3 NA                     1                           NA      \n",
       "4 NA                     1                        23.04      \n",
       "5 NA                     1                       116.22      \n",
       "6 NA                     1                        82.00      \n",
       "  DNA_Source_from_Coriell Has_Sequence_from_Blood_in_Index Super_Population\n",
       "1 NA                      NA                               EUR             \n",
       "2 NA                      NA                               EUR             \n",
       "3 NA                      NA                               EUR             \n",
       "4 NA                      NA                               EUR             \n",
       "5 NA                      NA                               EUR             \n",
       "6 NA                      NA                               EUR             \n",
       "  Super_Population_Description\n",
       "1 European                    \n",
       "2 European                    \n",
       "3 European                    \n",
       "4 European                    \n",
       "5 European                    \n",
       "6 European                    "
      ]
     },
     "metadata": {},
     "output_type": "display_data"
    }
   ],
   "source": [
    "# The object exists in memory again!\n",
    "head(df)"
   ]
  },
  {
   "cell_type": "markdown",
   "metadata": {},
   "source": [
    "# Provenance"
   ]
  },
  {
   "cell_type": "code",
   "execution_count": 12,
   "metadata": {},
   "outputs": [
    {
     "data": {
      "text/plain": [
       "─ Session info ───────────────────────────────────────────────────────────────\n",
       " setting  value                       \n",
       " version  R version 3.5.2 (2018-12-20)\n",
       " os       Debian GNU/Linux 9 (stretch)\n",
       " system   x86_64, linux-gnu           \n",
       " ui       X11                         \n",
       " language (EN)                        \n",
       " collate  en_US.UTF-8                 \n",
       " ctype    en_US.UTF-8                 \n",
       " tz       Etc/UTC                     \n",
       " date     2019-04-29                  \n",
       "\n",
       "─ Packages ───────────────────────────────────────────────────────────────────\n",
       " package     * version     date       lib source                            \n",
       " assertthat    0.2.1       2019-03-21 [2] CRAN (R 3.5.2)                    \n",
       " backports     1.1.3       2018-12-14 [2] CRAN (R 3.5.2)                    \n",
       " base64enc     0.1-3       2015-07-28 [2] CRAN (R 3.5.2)                    \n",
       " broom         0.5.1       2018-12-05 [2] CRAN (R 3.5.2)                    \n",
       " callr         3.2.0       2019-03-15 [2] CRAN (R 3.5.2)                    \n",
       " cellranger    1.1.0       2016-07-27 [2] CRAN (R 3.5.2)                    \n",
       " cli           1.1.0       2019-03-19 [2] CRAN (R 3.5.2)                    \n",
       " colorspace    1.4-1       2019-03-18 [2] CRAN (R 3.5.2)                    \n",
       " crayon        1.3.4       2017-09-16 [2] CRAN (R 3.5.2)                    \n",
       " desc          1.2.0       2018-05-01 [2] CRAN (R 3.5.2)                    \n",
       " devtools      2.0.1       2018-10-26 [2] CRAN (R 3.5.2)                    \n",
       " digest        0.6.18      2018-10-10 [2] CRAN (R 3.5.2)                    \n",
       " dplyr       * 0.8.0.1     2019-02-15 [2] CRAN (R 3.5.2)                    \n",
       " evaluate      0.13        2019-02-12 [2] CRAN (R 3.5.2)                    \n",
       " forcats     * 0.4.0       2019-02-17 [2] CRAN (R 3.5.2)                    \n",
       " fs            1.2.7       2019-03-19 [2] CRAN (R 3.5.2)                    \n",
       " generics      0.0.2       2018-11-29 [2] CRAN (R 3.5.2)                    \n",
       " ggplot2     * 3.1.0       2018-10-25 [2] CRAN (R 3.5.2)                    \n",
       " glue          1.3.1       2019-03-12 [2] CRAN (R 3.5.2)                    \n",
       " gtable        0.3.0       2019-03-25 [2] CRAN (R 3.5.2)                    \n",
       " haven         2.1.0       2019-02-19 [2] CRAN (R 3.5.2)                    \n",
       " hms           0.4.2       2018-03-10 [2] CRAN (R 3.5.2)                    \n",
       " htmltools     0.3.6       2017-04-28 [2] CRAN (R 3.5.2)                    \n",
       " httr          1.4.0       2018-12-11 [2] CRAN (R 3.5.2)                    \n",
       " IRdisplay     0.7.0       2018-11-29 [2] CRAN (R 3.5.2)                    \n",
       " IRkernel      0.8.15.9000 2019-04-05 [2] Github (IRkernel/IRkernel@dbe3a10)\n",
       " jsonlite      1.6         2018-12-07 [2] CRAN (R 3.5.2)                    \n",
       " lattice       0.20-38     2018-11-04 [4] CRAN (R 3.5.2)                    \n",
       " lazyeval      0.2.2       2019-03-15 [2] CRAN (R 3.5.2)                    \n",
       " lubridate   * 1.7.4       2018-04-11 [2] CRAN (R 3.5.2)                    \n",
       " magrittr      1.5         2014-11-22 [2] CRAN (R 3.5.2)                    \n",
       " memoise       1.1.0       2017-04-21 [2] CRAN (R 3.5.2)                    \n",
       " modelr        0.1.4       2019-02-18 [2] CRAN (R 3.5.2)                    \n",
       " munsell       0.5.0       2018-06-12 [2] CRAN (R 3.5.2)                    \n",
       " nlme          3.1-137     2018-04-07 [4] CRAN (R 3.5.2)                    \n",
       " pbdZMQ        0.3-3       2018-05-05 [2] CRAN (R 3.5.2)                    \n",
       " pillar        1.3.1       2018-12-15 [2] CRAN (R 3.5.2)                    \n",
       " pkgbuild      1.0.3       2019-03-20 [2] CRAN (R 3.5.2)                    \n",
       " pkgconfig     2.0.2       2018-08-16 [2] CRAN (R 3.5.2)                    \n",
       " pkgload       1.0.2       2018-10-29 [2] CRAN (R 3.5.2)                    \n",
       " plyr          1.8.4       2016-06-08 [2] CRAN (R 3.5.2)                    \n",
       " prettyunits   1.0.2       2015-07-13 [2] CRAN (R 3.5.2)                    \n",
       " processx      3.3.0       2019-03-10 [2] CRAN (R 3.5.2)                    \n",
       " ps            1.3.0       2018-12-21 [2] CRAN (R 3.5.2)                    \n",
       " purrr       * 0.3.2       2019-03-15 [2] CRAN (R 3.5.2)                    \n",
       " R6            2.4.0       2019-02-14 [2] CRAN (R 3.5.2)                    \n",
       " Rcpp          1.0.1       2019-03-17 [2] CRAN (R 3.5.2)                    \n",
       " readr       * 1.3.1       2018-12-21 [2] CRAN (R 3.5.2)                    \n",
       " readxl        1.3.1       2019-03-13 [2] CRAN (R 3.5.2)                    \n",
       " remotes       2.0.2       2018-10-30 [2] CRAN (R 3.5.2)                    \n",
       " repr          0.19.2      2019-02-06 [2] CRAN (R 3.5.2)                    \n",
       " rlang         0.3.3       2019-03-29 [2] CRAN (R 3.5.2)                    \n",
       " rprojroot     1.3-2       2018-01-03 [2] CRAN (R 3.5.2)                    \n",
       " rstudioapi    0.10        2019-03-19 [2] CRAN (R 3.5.2)                    \n",
       " rvest         0.3.2       2016-06-17 [2] CRAN (R 3.5.2)                    \n",
       " scales        1.0.0       2018-08-09 [2] CRAN (R 3.5.2)                    \n",
       " sessioninfo   1.1.1       2018-11-05 [2] CRAN (R 3.5.2)                    \n",
       " stringi       1.4.3       2019-03-12 [2] CRAN (R 3.5.2)                    \n",
       " stringr     * 1.4.0       2019-02-10 [2] CRAN (R 3.5.2)                    \n",
       " tibble      * 2.1.1       2019-03-16 [2] CRAN (R 3.5.2)                    \n",
       " tidyr       * 0.8.3       2019-03-01 [2] CRAN (R 3.5.2)                    \n",
       " tidyselect    0.2.5       2018-10-11 [2] CRAN (R 3.5.2)                    \n",
       " tidyverse   * 1.2.1       2017-11-14 [2] CRAN (R 3.5.2)                    \n",
       " usethis       1.4.0       2018-08-14 [2] CRAN (R 3.5.2)                    \n",
       " uuid          0.1-2       2015-07-28 [2] CRAN (R 3.5.2)                    \n",
       " withr         2.1.2       2018-03-15 [2] CRAN (R 3.5.2)                    \n",
       " xml2          1.2.0       2018-01-24 [2] CRAN (R 3.5.2)                    \n",
       "\n",
       "[1] /home/jupyter-user/.rpackages\n",
       "[2] /usr/local/lib/R/site-library\n",
       "[3] /usr/lib/R/site-library\n",
       "[4] /usr/lib/R/library"
      ]
     },
     "metadata": {},
     "output_type": "display_data"
    }
   ],
   "source": [
    "devtools::session_info()"
   ]
  },
  {
   "cell_type": "markdown",
   "metadata": {},
   "source": [
    "Copyright 2018 The Broad Institute, Inc., Verily Life Sciences, LLC All rights reserved.\n",
    "\n",
    "This software may be modified and distributed under the terms of the BSD license. See the LICENSE file for details."
   ]
  }
 ],
 "metadata": {
  "kernelspec": {
   "display_name": "R",
   "language": "R",
   "name": "ir"
  },
  "language_info": {
   "codemirror_mode": "r",
   "file_extension": ".r",
   "mimetype": "text/x-r-source",
   "name": "R",
   "pygments_lexer": "r",
   "version": "3.5.2"
  },
  "toc": {
   "base_numbering": 1,
   "nav_menu": {},
   "number_sections": true,
   "sideBar": true,
   "skip_h1_title": false,
   "title_cell": "Table of Contents",
   "title_sidebar": "Contents",
   "toc_cell": false,
   "toc_position": {
    "height": "calc(100% - 180px)",
    "left": "10px",
    "top": "150px",
    "width": "357.72522px"
   },
   "toc_section_display": true,
   "toc_window_display": true
  }
 },
 "nbformat": 4,
 "nbformat_minor": 2
}
