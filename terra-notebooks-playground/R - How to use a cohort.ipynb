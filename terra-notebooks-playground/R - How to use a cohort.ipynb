{
 "cells": [
  {
   "cell_type": "markdown",
   "metadata": {},
   "source": [
    "# How to use a cohort\n",
    "This notebook shows how to use a cohort saved from Data Explorer.\n",
    "\n",
    "It uses a cohort saved in the [Terra Notebooks Playground workspace](https://app.terra.bio/#workspaces/help-gatk/Terra%20Notebooks%20Playground/data)."
   ]
  },
  {
   "cell_type": "markdown",
   "metadata": {},
   "source": [
    "# Setup\n",
    "\n",
    "First, be sure to run notebook **`R environment setup`** in this workspace.\n",
    "\n",
    "Then in this section we:\n",
    "\n",
    "1. load the needed R packages\n",
    "2. set the project id of the cloud project to bill for queries to BigQuery\n",
    "3. authorize our bigquery client library to issue requests"
   ]
  },
  {
   "cell_type": "code",
   "execution_count": 1,
   "metadata": {},
   "outputs": [],
   "source": [
    "library(reticulate)\n",
    "library(bigrquery)\n",
    "library(ggplot2)"
   ]
  },
  {
   "cell_type": "code",
   "execution_count": 2,
   "metadata": {},
   "outputs": [],
   "source": [
    "# Authorize bigrquery client\n",
    "BILLING_PROJECT_ID <- Sys.getenv('GOOGLE_PROJECT')"
   ]
  },
  {
   "cell_type": "markdown",
   "metadata": {},
   "source": [
    "# Get the cohort query"
   ]
  },
  {
   "cell_type": "markdown",
   "metadata": {},
   "source": [
    "If you look at the data tab in workspace [Terra Notebooks Playground](https://app.terra.bio/#workspaces/help-gatk/Terra%20Notebooks%20Playground/data) you can see that someone used [data explorer web user interface](https://test-data-explorer.appspot.com/) to define and create a cohort containing a subset of the samples in the 1,000 Genomes dataset.\n",
    "\n",
    "In this notebook we use the [firecloud api](https://api.firecloud.org/) to programmatically retrieve the definition of that cohort. This returns an auto generated SQL query which was the result of the users interaction with Data Explorer.\n"
   ]
  },
  {
   "cell_type": "code",
   "execution_count": 3,
   "metadata": {},
   "outputs": [],
   "source": [
    "fapi <- import(\"firecloud.api\")"
   ]
  },
  {
   "cell_type": "code",
   "execution_count": 4,
   "metadata": {},
   "outputs": [
    {
     "name": "stdout",
     "output_type": "stream",
     "text": [
      "[1] \"SELECT DISTINCT t1.participant_id FROM (SELECT participant_id FROM `verily-public-data.human_genome_variants.1000_genomes_participant_info` WHERE  ((Super_Population_Description = \\\"American\\\"))) t1\"\n"
     ]
    }
   ],
   "source": [
    "# Hard-code instead of use WORKSPACE_NAMESPACE/WORKSPACE_NAME, since other workspaces\n",
    "# won't have the 1000g_americans cohort.\n",
    "ws_namespace <- 'help-gatk'\n",
    "ws_name <- 'Terra Notebooks Playground'\n",
    "\n",
    "cohort_query <- fapi$get_entity(ws_namespace, ws_name, 'cohort', '1000g_americans')$json()$attributes$query\n",
    "print(cohort_query)"
   ]
  },
  {
   "cell_type": "markdown",
   "metadata": {},
   "source": [
    "# Call BigQuery"
   ]
  },
  {
   "cell_type": "markdown",
   "metadata": {},
   "source": [
    "We then use the query from the cohort."
   ]
  },
  {
   "cell_type": "code",
   "execution_count": 5,
   "metadata": {},
   "outputs": [
    {
     "data": {
      "text/html": [
       "<ol class=list-inline>\n",
       "\t<li>535</li>\n",
       "\t<li>1</li>\n",
       "</ol>\n"
      ],
      "text/latex": [
       "\\begin{enumerate*}\n",
       "\\item 535\n",
       "\\item 1\n",
       "\\end{enumerate*}\n"
      ],
      "text/markdown": [
       "1. 535\n",
       "2. 1\n",
       "\n",
       "\n"
      ],
      "text/plain": [
       "[1] 535   1"
      ]
     },
     "metadata": {},
     "output_type": "display_data"
    }
   ],
   "source": [
    "cohort_table <- bigrquery::bq_project_query(\n",
    "    BILLING_PROJECT_ID,\n",
    "    cohort_query\n",
    ")\n",
    "cohort_df <- bigrquery::bq_table_download(cohort_table)\n",
    "dim(cohort_df)"
   ]
  },
  {
   "cell_type": "code",
   "execution_count": 6,
   "metadata": {},
   "outputs": [
    {
     "data": {
      "text/html": [
       "<table>\n",
       "<caption>A tibble: 6 × 1</caption>\n",
       "<thead>\n",
       "\t<tr><th scope=col>participant_id</th></tr>\n",
       "\t<tr><th scope=col>&lt;chr&gt;</th></tr>\n",
       "</thead>\n",
       "<tbody>\n",
       "\t<tr><td>HG01433</td></tr>\n",
       "\t<tr><td>HG01445</td></tr>\n",
       "\t<tr><td>HG01452</td></tr>\n",
       "\t<tr><td>HG01473</td></tr>\n",
       "\t<tr><td>HG01482</td></tr>\n",
       "\t<tr><td>HG01126</td></tr>\n",
       "</tbody>\n",
       "</table>\n"
      ],
      "text/latex": [
       "A tibble: 6 × 1\n",
       "\\begin{tabular}{r|l}\n",
       " participant\\_id\\\\\n",
       " <chr>\\\\\n",
       "\\hline\n",
       "\t HG01433\\\\\n",
       "\t HG01445\\\\\n",
       "\t HG01452\\\\\n",
       "\t HG01473\\\\\n",
       "\t HG01482\\\\\n",
       "\t HG01126\\\\\n",
       "\\end{tabular}\n"
      ],
      "text/markdown": [
       "\n",
       "A tibble: 6 × 1\n",
       "\n",
       "| participant_id &lt;chr&gt; |\n",
       "|---|\n",
       "| HG01433 |\n",
       "| HG01445 |\n",
       "| HG01452 |\n",
       "| HG01473 |\n",
       "| HG01482 |\n",
       "| HG01126 |\n",
       "\n"
      ],
      "text/plain": [
       "  participant_id\n",
       "1 HG01433       \n",
       "2 HG01445       \n",
       "3 HG01452       \n",
       "4 HG01473       \n",
       "5 HG01482       \n",
       "6 HG01126       "
      ]
     },
     "metadata": {},
     "output_type": "display_data"
    }
   ],
   "source": [
    "head(cohort_df)"
   ]
  },
  {
   "cell_type": "markdown",
   "metadata": {},
   "source": [
    "# Join with another table"
   ]
  },
  {
   "cell_type": "code",
   "execution_count": 7,
   "metadata": {},
   "outputs": [
    {
     "data": {
      "text/html": [
       "<ol class=list-inline>\n",
       "\t<li>3500</li>\n",
       "\t<li>2</li>\n",
       "</ol>\n"
      ],
      "text/latex": [
       "\\begin{enumerate*}\n",
       "\\item 3500\n",
       "\\item 2\n",
       "\\end{enumerate*}\n"
      ],
      "text/markdown": [
       "1. 3500\n",
       "2. 2\n",
       "\n",
       "\n"
      ],
      "text/plain": [
       "[1] 3500    2"
      ]
     },
     "metadata": {},
     "output_type": "display_data"
    }
   ],
   "source": [
    "query <- '\n",
    "SELECT\n",
    "    DISTINCT participant_id,\n",
    "    Gender\n",
    "FROM\n",
    "    `verily-public-data.human_genome_variants.1000_genomes_participant_info`\n",
    "'\n",
    "cohort_info_table <- bigrquery::bq_project_query(\n",
    "    BILLING_PROJECT_ID,\n",
    "    query\n",
    ")\n",
    "cohort_info_df <- bigrquery::bq_table_download(cohort_info_table)\n",
    "dim(cohort_info_df)"
   ]
  },
  {
   "cell_type": "code",
   "execution_count": 8,
   "metadata": {},
   "outputs": [
    {
     "data": {
      "text/html": [
       "<ol class=list-inline>\n",
       "\t<li>535</li>\n",
       "\t<li>2</li>\n",
       "</ol>\n"
      ],
      "text/latex": [
       "\\begin{enumerate*}\n",
       "\\item 535\n",
       "\\item 2\n",
       "\\end{enumerate*}\n"
      ],
      "text/markdown": [
       "1. 535\n",
       "2. 2\n",
       "\n",
       "\n"
      ],
      "text/plain": [
       "[1] 535   2"
      ]
     },
     "metadata": {},
     "output_type": "display_data"
    }
   ],
   "source": [
    "merged_df <- merge(x = cohort_df, y = cohort_info_df, by = 'participant_id', all.x = TRUE)\n",
    "dim(merged_df)"
   ]
  },
  {
   "cell_type": "markdown",
   "metadata": {},
   "source": [
    "# Plot"
   ]
  },
  {
   "cell_type": "code",
   "execution_count": 9,
   "metadata": {},
   "outputs": [
    {
     "data": {
      "text/plain": [
       "\n",
       "female   male \n",
       "   293    242 "
      ]
     },
     "metadata": {},
     "output_type": "display_data"
    }
   ],
   "source": [
    "table(merged_df$Gender)"
   ]
  },
  {
   "cell_type": "code",
   "execution_count": 10,
   "metadata": {},
   "outputs": [
    {
     "data": {
      "image/png": "[encoded data removed]",
      "text/plain": [
       "plot without title"
      ]
     },
     "metadata": {
      "image/png": {
       "height": 420,
       "width": 420
      },
      "text/plain": {
       "height": 420,
       "width": 420
      }
     },
     "output_type": "display_data"
    }
   ],
   "source": [
    "ggplot(merged_df, aes(Gender)) + geom_bar()"
   ]
  },
  {
   "cell_type": "markdown",
   "metadata": {},
   "source": [
    "# Provenance"
   ]
  },
  {
   "cell_type": "code",
   "execution_count": 11,
   "metadata": {},
   "outputs": [
    {
     "data": {
      "text/plain": [
       "─ Session info ───────────────────────────────────────────────────────────────\n",
       " setting  value                       \n",
       " version  R version 3.5.2 (2018-12-20)\n",
       " os       Debian GNU/Linux 9 (stretch)\n",
       " system   x86_64, linux-gnu           \n",
       " ui       X11                         \n",
       " language (EN)                        \n",
       " collate  en_US.UTF-8                 \n",
       " ctype    en_US.UTF-8                 \n",
       " tz       Etc/UTC                     \n",
       " date     2020-01-13                  \n",
       "\n",
       "─ Packages ───────────────────────────────────────────────────────────────────\n",
       " package     * version    date       lib source                            \n",
       " assertthat    0.2.1      2019-03-21 [2] CRAN (R 3.5.2)                    \n",
       " backports     1.1.5      2019-10-02 [1] CRAN (R 3.5.2)                    \n",
       " base64enc     0.1-3      2015-07-28 [2] CRAN (R 3.5.2)                    \n",
       " bigrquery   * 1.2.0      2019-07-02 [2] CRAN (R 3.5.2)                    \n",
       " bit           1.1-14     2018-05-29 [2] CRAN (R 3.5.2)                    \n",
       " bit64         0.9-7      2017-05-08 [2] CRAN (R 3.5.2)                    \n",
       " callr         3.3.1      2019-07-18 [2] CRAN (R 3.5.2)                    \n",
       " cli           1.1.0      2019-03-19 [2] CRAN (R 3.5.2)                    \n",
       " colorspace    1.4-1      2019-03-18 [2] CRAN (R 3.5.2)                    \n",
       " crayon        1.3.4      2017-09-16 [2] CRAN (R 3.5.2)                    \n",
       " curl          4.3        2019-12-02 [1] CRAN (R 3.5.2)                    \n",
       " DBI           1.0.0      2018-05-02 [2] CRAN (R 3.5.2)                    \n",
       " desc          1.2.0      2018-05-01 [2] CRAN (R 3.5.2)                    \n",
       " devtools      2.1.0      2019-07-06 [2] CRAN (R 3.5.2)                    \n",
       " digest        0.6.20     2019-07-04 [2] CRAN (R 3.5.2)                    \n",
       " dplyr         0.8.3      2019-07-04 [2] CRAN (R 3.5.2)                    \n",
       " evaluate      0.14       2019-05-28 [2] CRAN (R 3.5.2)                    \n",
       " fs            1.3.1      2019-05-06 [2] CRAN (R 3.5.2)                    \n",
       " gargle        0.4.0      2019-10-04 [1] CRAN (R 3.5.2)                    \n",
       " ggplot2     * 3.2.1      2019-08-10 [2] CRAN (R 3.5.2)                    \n",
       " glue          1.3.1      2019-03-12 [2] CRAN (R 3.5.2)                    \n",
       " gtable        0.3.0      2019-03-25 [2] CRAN (R 3.5.2)                    \n",
       " htmltools     0.3.6      2017-04-28 [2] CRAN (R 3.5.2)                    \n",
       " httr          1.4.1      2019-08-05 [2] CRAN (R 3.5.2)                    \n",
       " IRdisplay     0.7.0      2018-11-29 [2] CRAN (R 3.5.2)                    \n",
       " IRkernel      1.0.2.9000 2019-08-23 [2] Github (IRkernel/IRkernel@d7f0b08)\n",
       " jsonlite      1.6        2018-12-07 [2] CRAN (R 3.5.2)                    \n",
       " labeling      0.3        2014-08-23 [2] CRAN (R 3.5.2)                    \n",
       " lazyeval      0.2.2      2019-03-15 [2] CRAN (R 3.5.2)                    \n",
       " magrittr      1.5        2014-11-22 [2] CRAN (R 3.5.2)                    \n",
       " memoise       1.1.0      2017-04-21 [2] CRAN (R 3.5.2)                    \n",
       " munsell       0.5.0      2018-06-12 [2] CRAN (R 3.5.2)                    \n",
       " pbdZMQ        0.3-3      2018-05-05 [2] CRAN (R 3.5.2)                    \n",
       " pillar        1.4.2      2019-06-29 [2] CRAN (R 3.5.2)                    \n",
       " pkgbuild      1.0.4      2019-08-05 [2] CRAN (R 3.5.2)                    \n",
       " pkgconfig     2.0.2      2018-08-16 [2] CRAN (R 3.5.2)                    \n",
       " pkgload       1.0.2      2018-10-29 [2] CRAN (R 3.5.2)                    \n",
       " prettyunits   1.0.2      2015-07-13 [2] CRAN (R 3.5.2)                    \n",
       " processx      3.4.1      2019-07-18 [2] CRAN (R 3.5.2)                    \n",
       " ps            1.3.0      2018-12-21 [2] CRAN (R 3.5.2)                    \n",
       " purrr         0.3.2      2019-03-15 [2] CRAN (R 3.5.2)                    \n",
       " R6            2.4.1      2019-11-12 [1] CRAN (R 3.5.2)                    \n",
       " rappdirs      0.3.1      2016-03-28 [1] CRAN (R 3.5.2)                    \n",
       " Rcpp          1.0.2      2019-07-25 [2] CRAN (R 3.5.2)                    \n",
       " remotes       2.1.0      2019-06-24 [2] CRAN (R 3.5.2)                    \n",
       " repr          1.0.1      2019-05-14 [2] CRAN (R 3.5.2)                    \n",
       " reticulate  * 1.14       2019-12-17 [1] CRAN (R 3.5.2)                    \n",
       " rlang         0.4.0      2019-06-25 [2] CRAN (R 3.5.2)                    \n",
       " rprojroot     1.3-2      2018-01-03 [2] CRAN (R 3.5.2)                    \n",
       " scales        1.0.0      2018-08-09 [2] CRAN (R 3.5.2)                    \n",
       " sessioninfo   1.1.1      2018-11-05 [2] CRAN (R 3.5.2)                    \n",
       " testthat      2.2.1      2019-07-25 [2] CRAN (R 3.5.2)                    \n",
       " tibble        2.1.3      2019-06-06 [2] CRAN (R 3.5.2)                    \n",
       " tidyselect    0.2.5      2018-10-11 [2] CRAN (R 3.5.2)                    \n",
       " usethis       1.5.1      2019-07-04 [2] CRAN (R 3.5.2)                    \n",
       " uuid          0.1-2      2015-07-28 [2] CRAN (R 3.5.2)                    \n",
       " vctrs         0.2.0      2019-07-05 [2] CRAN (R 3.5.2)                    \n",
       " withr         2.1.2      2018-03-15 [2] CRAN (R 3.5.2)                    \n",
       " zeallot       0.1.0      2018-01-28 [2] CRAN (R 3.5.2)                    \n",
       "\n",
       "[1] /home/jupyter-user/.rpackages\n",
       "[2] /usr/local/lib/R/site-library\n",
       "[3] /usr/lib/R/site-library\n",
       "[4] /usr/lib/R/library"
      ]
     },
     "metadata": {},
     "output_type": "display_data"
    }
   ],
   "source": [
    "devtools::session_info()"
   ]
  },
  {
   "cell_type": "markdown",
   "metadata": {},
   "source": [
    "Copyright 2019 The Broad Institute, Inc., Verily Life Sciences, LLC All rights reserved.\n",
    "\n",
    "This software may be modified and distributed under the terms of the BSD license. See the LICENSE file for details."
   ]
  }
 ],
 "metadata": {
  "kernelspec": {
   "display_name": "R",
   "language": "R",
   "name": "ir"
  },
  "language_info": {
   "codemirror_mode": "r",
   "file_extension": ".r",
   "mimetype": "text/x-r-source",
   "name": "R",
   "pygments_lexer": "r",
   "version": "3.5.2"
  },
  "toc": {
   "base_numbering": 1,
   "nav_menu": {},
   "number_sections": true,
   "sideBar": true,
   "skip_h1_title": false,
   "title_cell": "Table of Contents",
   "title_sidebar": "Contents",
   "toc_cell": false,
   "toc_position": {
    "height": "838.969px",
    "left": "112.797px",
    "top": "141.266px",
    "width": "311.997px"
   },
   "toc_section_display": true,
   "toc_window_display": true
  }
 },
 "nbformat": 4,
 "nbformat_minor": 2
}
