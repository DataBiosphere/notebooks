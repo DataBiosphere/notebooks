{
 "cells": [
  {
   "cell_type": "markdown",
   "metadata": {},
   "source": [
    "# How to emit markdown from code cells\n",
    "\n",
    "The code in this notebook is based on https://cran.r-project.org/web/packages/qwraps2/vignettes/summary-statistics.html It is a convenient way to create nicely formatted summary statistics.\n",
    "\n",
    "Due to Jupyter's [security model](https://ipython.org/ipython-doc/3/notebook/security.html) we have to take a few extra steps to have results from a code cell be displayed as markdown.\n",
    "* The Jupyter extension Python Markdown https://stackoverflow.com/a/43913035/4138705 can be added and that works but the results are only transient. When someone else opens the notebook, the code in the markdown cell is not run because the notebook is 'not trusted' and the reader just sees 'undefined'.\n",
    "* Using `IRdisplay::display_markdown` behaves similarly and that is what we use in this notebook.\n",
    "* For more detail, see https://ipython.org/ipython-doc/3/notebook/security.html"
   ]
  },
  {
   "cell_type": "markdown",
   "metadata": {},
   "source": [
    "## Setup"
   ]
  },
  {
   "cell_type": "code",
   "execution_count": 1,
   "metadata": {},
   "outputs": [
    {
     "name": "stderr",
     "output_type": "stream",
     "text": [
      "Installing package into ‘/home/jupyter-user/notebooks/packages’\n",
      "(as ‘lib’ is unspecified)\n",
      "\n"
     ]
    },
    {
     "data": {
      "text/html": [
       "<ol>\n",
       "\t<li>NULL</li>\n",
       "</ol>\n"
      ],
      "text/latex": [
       "\\begin{enumerate}\n",
       "\\item NULL\n",
       "\\end{enumerate}\n"
      ],
      "text/markdown": [
       "1. NULL\n",
       "\n",
       "\n"
      ],
      "text/plain": [
       "[[1]]\n",
       "NULL\n"
      ]
     },
     "metadata": {},
     "output_type": "display_data"
    }
   ],
   "source": [
    "lapply(c('qwraps2'),\n",
    "       function(pkg) { if(! pkg %in% installed.packages()) { install.packages(pkg)} } )"
   ]
  },
  {
   "cell_type": "code",
   "execution_count": 2,
   "metadata": {},
   "outputs": [
    {
     "name": "stderr",
     "output_type": "stream",
     "text": [
      "── \u001b[1mAttaching packages\u001b[22m ─────────────────────────────────────── tidyverse 1.3.1 ──\n",
      "\n",
      "\u001b[32m✔\u001b[39m \u001b[34mggplot2\u001b[39m 3.3.3     \u001b[32m✔\u001b[39m \u001b[34mpurrr  \u001b[39m 0.3.4\n",
      "\u001b[32m✔\u001b[39m \u001b[34mtibble \u001b[39m 3.1.1     \u001b[32m✔\u001b[39m \u001b[34mdplyr  \u001b[39m 1.0.6\n",
      "\u001b[32m✔\u001b[39m \u001b[34mtidyr  \u001b[39m 1.1.3     \u001b[32m✔\u001b[39m \u001b[34mstringr\u001b[39m 1.4.0\n",
      "\u001b[32m✔\u001b[39m \u001b[34mreadr  \u001b[39m 1.4.0     \u001b[32m✔\u001b[39m \u001b[34mforcats\u001b[39m 0.5.1\n",
      "\n",
      "── \u001b[1mConflicts\u001b[22m ────────────────────────────────────────── tidyverse_conflicts() ──\n",
      "\u001b[31m✖\u001b[39m \u001b[34mdplyr\u001b[39m::\u001b[32mfilter()\u001b[39m masks \u001b[34mstats\u001b[39m::filter()\n",
      "\u001b[31m✖\u001b[39m \u001b[34mdplyr\u001b[39m::\u001b[32mlag()\u001b[39m    masks \u001b[34mstats\u001b[39m::lag()\n",
      "\n"
     ]
    }
   ],
   "source": [
    "library(qwraps2)\n",
    "library(tidyverse)"
   ]
  },
  {
   "cell_type": "markdown",
   "metadata": {},
   "source": [
    "# mtcars example"
   ]
  },
  {
   "cell_type": "code",
   "execution_count": 3,
   "metadata": {},
   "outputs": [],
   "source": [
    "data(mtcars)"
   ]
  },
  {
   "cell_type": "code",
   "execution_count": 4,
   "metadata": {},
   "outputs": [],
   "source": [
    "mtcars2 <-\n",
    "  dplyr::mutate(mtcars,\n",
    "                cyl_factor = factor(cyl,\n",
    "                                    levels = c(6, 4, 8),\n",
    "                                    labels = paste(c(6, 4, 8), \"cylinders\")),\n",
    "                cyl_character = paste(cyl, \"cylinders\"))"
   ]
  },
  {
   "cell_type": "code",
   "execution_count": 5,
   "metadata": {},
   "outputs": [],
   "source": [
    "our_summary1 <-\n",
    "  list(\"Miles Per Gallon\" =\n",
    "       list(\"min\" = ~ min(mpg),\n",
    "            \"max\" = ~ max(mpg),\n",
    "            \"mean (sd)\" = ~ qwraps2::mean_sd(mpg)),\n",
    "       \"Displacement\" =\n",
    "       list(\"min\" = ~ min(disp),\n",
    "            \"max\" = ~ max(disp),\n",
    "            \"mean (sd)\" = ~ qwraps2::mean_sd(disp)),\n",
    "       \"Weight (1000 lbs)\" =\n",
    "       list(\"min\" = ~ min(wt),\n",
    "            \"max\" = ~ max(wt),\n",
    "            \"mean (sd)\" = ~ qwraps2::mean_sd(wt)),\n",
    "       \"Forward Gears\" =\n",
    "       list(\"Three\" = ~ qwraps2::n_perc0(gear == 3),\n",
    "            \"Four\"  = ~ qwraps2::n_perc0(gear == 4),\n",
    "            \"Five\"  = ~ qwraps2::n_perc0(gear == 5))\n",
    "       )\n",
    "\n",
    "table1 <- summary_table(mtcars2, our_summary1)"
   ]
  },
  {
   "cell_type": "markdown",
   "metadata": {},
   "source": [
    "**If you do not see the table in the next cell**, click on the 'Not Trusted' button in the upper right hand corner of the screen."
   ]
  },
  {
   "cell_type": "code",
   "execution_count": 6,
   "metadata": {},
   "outputs": [
    {
     "data": {
      "text/markdown": [
       "\n",
       "\n",
       "|TABLE 1                |mtcars2 (N = 32)    |\n",
       "|:----------------------|:-------------------|\n",
       "|**Miles Per Gallon**   |&nbsp;&nbsp;        |\n",
       "|&nbsp;&nbsp; min       |10.4                |\n",
       "|&nbsp;&nbsp; max       |33.9                |\n",
       "|&nbsp;&nbsp; mean (sd) |20.09 $\\pm$ 6.03    |\n",
       "|**Displacement**       |&nbsp;&nbsp;        |\n",
       "|&nbsp;&nbsp; min       |71.1                |\n",
       "|&nbsp;&nbsp; max       |472                 |\n",
       "|&nbsp;&nbsp; mean (sd) |230.72 $\\pm$ 123.94 |\n",
       "|**Weight (1000 lbs)**  |&nbsp;&nbsp;        |\n",
       "|&nbsp;&nbsp; min       |1.513               |\n",
       "|&nbsp;&nbsp; max       |5.424               |\n",
       "|&nbsp;&nbsp; mean (sd) |3.22 $\\pm$ 0.98     |\n",
       "|**Forward Gears**      |&nbsp;&nbsp;        |\n",
       "|&nbsp;&nbsp; Three     |15 (47)             |\n",
       "|&nbsp;&nbsp; Four      |12 (38)             |\n",
       "|&nbsp;&nbsp; Five      |5 (16)              |"
      ]
     },
     "metadata": {},
     "output_type": "display_data"
    }
   ],
   "source": [
    "IRdisplay::display_markdown(str_c(capture.output(print(summary_table(mtcars2, our_summary1), rtitle = 'TABLE 1', markup = 'markdown')),\n",
    "                                           collapse = '\\n'))"
   ]
  },
  {
   "cell_type": "markdown",
   "metadata": {},
   "source": [
    "# 1000 Genomes metadata example"
   ]
  },
  {
   "cell_type": "code",
   "execution_count": 7,
   "metadata": {},
   "outputs": [
    {
     "name": "stderr",
     "output_type": "stream",
     "text": [
      "\n",
      "\u001b[36m──\u001b[39m \u001b[1m\u001b[1mColumn specification\u001b[1m\u001b[22m \u001b[36m────────────────────────────────────────────────────────\u001b[39m\n",
      "cols(\n",
      "  .default = col_character(),\n",
      "  In_Low_Coverage_Pilot = \u001b[32mcol_double()\u001b[39m,\n",
      "  In_High_Coverage_Pilot = \u001b[32mcol_double()\u001b[39m,\n",
      "  In_Exon_Targetted_Pilot = \u001b[32mcol_double()\u001b[39m,\n",
      "  Has_Sequence_in_Phase1 = \u001b[32mcol_double()\u001b[39m,\n",
      "  In_Phase1_Integrated_Variant_Set = \u001b[32mcol_double()\u001b[39m,\n",
      "  Has_Phase1_chrY_SNPS = \u001b[32mcol_double()\u001b[39m,\n",
      "  Has_phase1_chrY_Deletions = \u001b[32mcol_double()\u001b[39m,\n",
      "  Has_phase1_chrMT_SNPs = \u001b[32mcol_double()\u001b[39m,\n",
      "  Total_LC_Sequence = \u001b[32mcol_double()\u001b[39m,\n",
      "  LC_Non_Duplicated_Aligned_Coverage = \u001b[32mcol_double()\u001b[39m,\n",
      "  Total_Exome_Sequence = \u001b[32mcol_double()\u001b[39m,\n",
      "  X_Targets_Covered_to_20x_or_greater = \u001b[32mcol_double()\u001b[39m,\n",
      "  VerifyBam_E_Omni_Free = \u001b[32mcol_double()\u001b[39m,\n",
      "  VerifyBam_E_Affy_Free = \u001b[32mcol_double()\u001b[39m,\n",
      "  VerifyBam_E_Omni_Chip = \u001b[32mcol_double()\u001b[39m,\n",
      "  VerifyBam_E_Affy_Chip = \u001b[32mcol_double()\u001b[39m,\n",
      "  VerifyBam_LC_Omni_Free = \u001b[32mcol_double()\u001b[39m,\n",
      "  VerifyBam_LC_Affy_Free = \u001b[32mcol_double()\u001b[39m,\n",
      "  VerifyBam_LC_Omni_Chip = \u001b[32mcol_double()\u001b[39m,\n",
      "  VerifyBam_LC_Affy_Chip = \u001b[32mcol_double()\u001b[39m\n",
      "  # ... with 11 more columns\n",
      ")\n",
      "\u001b[36mℹ\u001b[39m Use \u001b[30m\u001b[47m\u001b[30m\u001b[47m`spec()`\u001b[47m\u001b[30m\u001b[49m\u001b[39m for the full column specifications.\n",
      "\n",
      "\n"
     ]
    },
    {
     "data": {
      "text/html": [
       "<style>\n",
       ".list-inline {list-style: none; margin:0; padding: 0}\n",
       ".list-inline>li {display: inline-block}\n",
       ".list-inline>li:not(:last-child)::after {content: \"\\00b7\"; padding: 0 .5ex}\n",
       "</style>\n",
       "<ol class=list-inline><li>3500</li><li>62</li></ol>\n"
      ],
      "text/latex": [
       "\\begin{enumerate*}\n",
       "\\item 3500\n",
       "\\item 62\n",
       "\\end{enumerate*}\n"
      ],
      "text/markdown": [
       "1. 3500\n",
       "2. 62\n",
       "\n",
       "\n"
      ],
      "text/plain": [
       "[1] 3500   62"
      ]
     },
     "metadata": {},
     "output_type": "display_data"
    }
   ],
   "source": [
    "sampleData <- read_csv(\n",
    "    \"http://storage.googleapis.com/genomics-public-data/1000-genomes/other/sample_info/sample_info.csv\",\n",
    "    guess_max = 3000)\n",
    "\n",
    "dim(sampleData)"
   ]
  },
  {
   "cell_type": "code",
   "execution_count": 8,
   "metadata": {},
   "outputs": [],
   "source": [
    "super_populations <- sampleData %>% \n",
    "    group_by(Super_Population) %>%\n",
    "    mutate(mean_Total_LC_Sequence = mean(Total_LC_Sequence, na.rm=TRUE))"
   ]
  },
  {
   "cell_type": "code",
   "execution_count": 9,
   "metadata": {},
   "outputs": [],
   "source": [
    "our_summary2 <-\n",
    "  list(\"Total Low Coverage Sequence\" =\n",
    "       list(\"min\" = ~ min(mean_Total_LC_Sequence, na.rm=TRUE),\n",
    "            \"max\" = ~ max(mean_Total_LC_Sequence, na.rm=TRUE),\n",
    "            \"mean (sd)\" = ~ qwraps2::mean_sd(mean_Total_LC_Sequence, na_rm=TRUE)))"
   ]
  },
  {
   "cell_type": "markdown",
   "metadata": {},
   "source": [
    "**If you do not see the table in the next cell**, click on the 'Not Trusted' button in the upper right hand corner of the screen."
   ]
  },
  {
   "cell_type": "code",
   "execution_count": 10,
   "metadata": {},
   "outputs": [
    {
     "data": {
      "text/markdown": [
       "\n",
       "\n",
       "|TABLE 1                         |AFR (N = 1018)               |AMR (N = 535)                |EAS (N = 617)                |EUR (N = 669)                |SAS (N = 661)                |\n",
       "|:-------------------------------|:----------------------------|:----------------------------|:----------------------------|:----------------------------|:----------------------------|\n",
       "|**Total Low Coverage Sequence** |&nbsp;&nbsp;                 |&nbsp;&nbsp;                 |&nbsp;&nbsp;                 |&nbsp;&nbsp;                 |&nbsp;&nbsp;                 |\n",
       "|&nbsp;&nbsp; min                |24252715425.9287             |23801378357.6676             |23181023724.3233             |22412145451.5541             |23485012905.6379             |\n",
       "|&nbsp;&nbsp; max                |24252715425.9287             |23801378357.6676             |23181023724.3233             |22412145451.5541             |23485012905.6379             |\n",
       "|&nbsp;&nbsp; mean (sd)          |24,252,715,425.93 $\\pm$ 0.00 |23,801,378,357.67 $\\pm$ 0.00 |23,181,023,724.32 $\\pm$ 0.00 |22,412,145,451.55 $\\pm$ 0.00 |23,485,012,905.64 $\\pm$ 0.00 |"
      ]
     },
     "metadata": {},
     "output_type": "display_data"
    }
   ],
   "source": [
    "IRdisplay::display_markdown(str_c(capture.output(print(summary_table(super_populations, our_summary2),\n",
    "                                                      rtitle = 'TABLE 1', markup = 'markdown')),\n",
    "                                  collapse = '\\n'))"
   ]
  },
  {
   "cell_type": "markdown",
   "metadata": {},
   "source": [
    "# Provenance"
   ]
  },
  {
   "cell_type": "code",
   "execution_count": 11,
   "metadata": {},
   "outputs": [
    {
     "data": {
      "text/plain": [
       "─ Session info ───────────────────────────────────────────────────────────────\n",
       " setting  value                       \n",
       " version  R version 4.0.5 (2021-03-31)\n",
       " os       Ubuntu 18.04.5 LTS          \n",
       " system   x86_64, linux-gnu           \n",
       " ui       X11                         \n",
       " language (EN)                        \n",
       " collate  en_US.UTF-8                 \n",
       " ctype    en_US.UTF-8                 \n",
       " tz       Etc/UTC                     \n",
       " date     2021-05-19                  \n",
       "\n",
       "─ Packages ───────────────────────────────────────────────────────────────────\n",
       " package     * version date       lib source        \n",
       " assertthat    0.2.1   2019-03-21 [2] CRAN (R 4.0.5)\n",
       " backports     1.2.1   2020-12-09 [2] CRAN (R 4.0.5)\n",
       " base64enc     0.1-3   2015-07-28 [2] CRAN (R 4.0.5)\n",
       " broom         0.7.6   2021-04-05 [2] CRAN (R 4.0.5)\n",
       " cachem        1.0.4   2021-02-13 [2] CRAN (R 4.0.5)\n",
       " callr         3.7.0   2021-04-20 [2] CRAN (R 4.0.5)\n",
       " cellranger    1.1.0   2016-07-27 [2] CRAN (R 4.0.5)\n",
       " cli           2.5.0   2021-04-26 [2] CRAN (R 4.0.5)\n",
       " colorspace    2.0-1   2021-05-04 [2] CRAN (R 4.0.5)\n",
       " crayon        1.4.1   2021-02-08 [2] CRAN (R 4.0.5)\n",
       " curl          4.3.1   2021-04-30 [2] CRAN (R 4.0.5)\n",
       " DBI           1.1.1   2021-01-15 [2] CRAN (R 4.0.5)\n",
       " dbplyr        2.1.1   2021-04-06 [2] CRAN (R 4.0.5)\n",
       " desc          1.3.0   2021-03-05 [2] CRAN (R 4.0.5)\n",
       " devtools      2.4.1   2021-05-05 [2] CRAN (R 4.0.5)\n",
       " digest        0.6.27  2020-10-24 [2] CRAN (R 4.0.5)\n",
       " dplyr       * 1.0.6   2021-05-05 [2] CRAN (R 4.0.5)\n",
       " ellipsis      0.3.2   2021-04-29 [2] CRAN (R 4.0.5)\n",
       " evaluate      0.14    2019-05-28 [2] CRAN (R 4.0.5)\n",
       " fansi         0.4.2   2021-01-15 [2] CRAN (R 4.0.5)\n",
       " fastmap       1.1.0   2021-01-25 [2] CRAN (R 4.0.5)\n",
       " forcats     * 0.5.1   2021-01-27 [2] CRAN (R 4.0.5)\n",
       " fs            1.5.0   2020-07-31 [2] CRAN (R 4.0.5)\n",
       " generics      0.1.0   2020-10-31 [2] CRAN (R 4.0.5)\n",
       " ggplot2     * 3.3.3   2020-12-30 [2] CRAN (R 4.0.5)\n",
       " glue          1.4.2   2020-08-27 [2] CRAN (R 4.0.5)\n",
       " gtable        0.3.0   2019-03-25 [2] CRAN (R 4.0.5)\n",
       " haven         2.4.1   2021-04-23 [2] CRAN (R 4.0.5)\n",
       " highr         0.9     2021-04-16 [2] CRAN (R 4.0.5)\n",
       " hms           1.0.0   2021-01-13 [2] CRAN (R 4.0.5)\n",
       " htmltools     0.5.1.1 2021-01-22 [2] CRAN (R 4.0.5)\n",
       " httr          1.4.2   2020-07-20 [2] CRAN (R 4.0.5)\n",
       " IRdisplay     1.0     2021-01-20 [2] CRAN (R 4.0.5)\n",
       " IRkernel      1.1.1   2020-07-20 [2] CRAN (R 4.0.5)\n",
       " jsonlite      1.7.2   2020-12-09 [2] CRAN (R 4.0.5)\n",
       " knitr         1.33    2021-04-24 [2] CRAN (R 4.0.5)\n",
       " lifecycle     1.0.0   2021-02-15 [2] CRAN (R 4.0.5)\n",
       " lubridate     1.7.10  2021-02-26 [2] CRAN (R 4.0.5)\n",
       " magrittr      2.0.1   2020-11-17 [2] CRAN (R 4.0.5)\n",
       " memoise       2.0.0   2021-01-26 [2] CRAN (R 4.0.5)\n",
       " modelr        0.1.8   2020-05-19 [2] CRAN (R 4.0.5)\n",
       " munsell       0.5.0   2018-06-12 [2] CRAN (R 4.0.5)\n",
       " pbdZMQ        0.3-5   2021-02-10 [2] CRAN (R 4.0.5)\n",
       " pillar        1.6.0   2021-04-13 [2] CRAN (R 4.0.5)\n",
       " pkgbuild      1.2.0   2020-12-15 [2] CRAN (R 4.0.5)\n",
       " pkgconfig     2.0.3   2019-09-22 [2] CRAN (R 4.0.5)\n",
       " pkgload       1.2.1   2021-04-06 [2] CRAN (R 4.0.5)\n",
       " prettyunits   1.1.1   2020-01-24 [2] CRAN (R 4.0.5)\n",
       " processx      3.5.2   2021-04-30 [2] CRAN (R 4.0.5)\n",
       " ps            1.6.0   2021-02-28 [2] CRAN (R 4.0.5)\n",
       " purrr       * 0.3.4   2020-04-17 [2] CRAN (R 4.0.5)\n",
       " qwraps2     * 0.5.2   2021-03-07 [1] CRAN (R 4.0.5)\n",
       " R6            2.5.0   2020-10-28 [2] CRAN (R 4.0.5)\n",
       " Rcpp          1.0.6   2021-01-15 [2] CRAN (R 4.0.5)\n",
       " readr       * 1.4.0   2020-10-05 [2] CRAN (R 4.0.5)\n",
       " readxl        1.3.1   2019-03-13 [2] CRAN (R 4.0.5)\n",
       " remotes       2.3.0   2021-04-01 [2] CRAN (R 4.0.5)\n",
       " repr          1.1.3   2021-01-21 [2] CRAN (R 4.0.5)\n",
       " reprex        2.0.0   2021-04-02 [2] CRAN (R 4.0.5)\n",
       " rlang         0.4.11  2021-04-30 [2] CRAN (R 4.0.5)\n",
       " rprojroot     2.0.2   2020-11-15 [2] CRAN (R 4.0.5)\n",
       " rstudioapi    0.13    2020-11-12 [2] CRAN (R 4.0.5)\n",
       " rvest         1.0.0   2021-03-09 [2] CRAN (R 4.0.5)\n",
       " scales        1.1.1   2020-05-11 [2] CRAN (R 4.0.5)\n",
       " sessioninfo   1.1.1   2018-11-05 [2] CRAN (R 4.0.5)\n",
       " stringi       1.5.3   2020-09-09 [2] CRAN (R 4.0.5)\n",
       " stringr     * 1.4.0   2019-02-10 [2] CRAN (R 4.0.5)\n",
       " testthat      3.0.2   2021-02-14 [2] CRAN (R 4.0.5)\n",
       " tibble      * 3.1.1   2021-04-18 [2] CRAN (R 4.0.5)\n",
       " tidyr       * 1.1.3   2021-03-03 [2] CRAN (R 4.0.5)\n",
       " tidyselect    1.1.1   2021-04-30 [2] CRAN (R 4.0.5)\n",
       " tidyverse   * 1.3.1   2021-04-15 [2] CRAN (R 4.0.5)\n",
       " usethis       2.0.1   2021-02-10 [2] CRAN (R 4.0.5)\n",
       " utf8          1.2.1   2021-03-12 [2] CRAN (R 4.0.5)\n",
       " uuid          0.1-4   2020-02-26 [2] CRAN (R 4.0.5)\n",
       " vctrs         0.3.8   2021-04-29 [2] CRAN (R 4.0.5)\n",
       " withr         2.4.2   2021-04-18 [2] CRAN (R 4.0.5)\n",
       " xfun          0.22    2021-03-11 [2] CRAN (R 4.0.5)\n",
       " xml2          1.3.2   2020-04-23 [2] CRAN (R 4.0.5)\n",
       "\n",
       "[1] /home/jupyter-user/notebooks/packages\n",
       "[2] /usr/local/lib/R/site-library\n",
       "[3] /usr/lib/R/site-library\n",
       "[4] /usr/lib/R/library"
      ]
     },
     "metadata": {},
     "output_type": "display_data"
    }
   ],
   "source": [
    "devtools::session_info()"
   ]
  },
  {
   "cell_type": "markdown",
   "metadata": {},
   "source": [
    "Copyright 2018 The Broad Institute, Inc., Verily Life Sciences, LLC All rights reserved.\n",
    "\n",
    "This software may be modified and distributed under the terms of the BSD license. See the LICENSE file for details."
   ]
  }
 ],
 "metadata": {
  "kernelspec": {
   "display_name": "R",
   "language": "R",
   "name": "ir"
  },
  "language_info": {
   "codemirror_mode": "r",
   "file_extension": ".r",
   "mimetype": "text/x-r-source",
   "name": "R",
   "pygments_lexer": "r",
   "version": "4.0.5"
  },
  "toc": {
   "base_numbering": 1,
   "nav_menu": {},
   "number_sections": true,
   "sideBar": true,
   "skip_h1_title": false,
   "title_cell": "Table of Contents",
   "title_sidebar": "Contents",
   "toc_cell": false,
   "toc_position": {
    "height": "883.33322px",
    "left": "34px",
    "top": "162px",
    "width": "268.969px"
   },
   "toc_section_display": true,
   "toc_window_display": true
  }
 },
 "nbformat": 4,
 "nbformat_minor": 2
}
